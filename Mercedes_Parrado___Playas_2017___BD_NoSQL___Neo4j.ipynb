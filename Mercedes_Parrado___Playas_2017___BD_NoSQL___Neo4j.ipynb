{
 "cells": [
  {
   "cell_type": "markdown",
   "metadata": {},
   "source": [
    "# --------------------------------------------------------------------------------------------------------------\n",
    "# PLAYAS de ESPAÑA 2017 : Neo4j\n",
    "# --------------------------------------------------------------------------------------------------------------"
   ]
  },
  {
   "cell_type": "markdown",
   "metadata": {},
   "source": [
    "## Inicializaciones previas"
   ]
  },
  {
   "cell_type": "markdown",
   "metadata": {},
   "source": [
    "### a) Carga de librerías"
   ]
  },
  {
   "cell_type": "code",
   "execution_count": 1,
   "metadata": {
    "collapsed": true
   },
   "outputs": [],
   "source": [
    "import pandas as pd\n",
    "import datetime\n",
    "import json\n",
    "\n",
    "# The py2neo.database package contains classes and functions required to interact with a Neo4j server. \n",
    "# The most important of these is the Graph class which represents a Neo4j graph database instance and \n",
    "# provides access to a large portion of the most commonly used py2neo API.\n",
    "\n",
    "from py2neo import Graph, Node, Relationship "
   ]
  },
  {
   "cell_type": "markdown",
   "metadata": {},
   "source": [
    "# A) Carga de datos desde Excel a un DataFrame de PANDAS"
   ]
  },
  {
   "cell_type": "markdown",
   "metadata": {},
   "source": [
    "Leemos los datos desde el fichero Excel y los desnormalizamos : leemos las 2 hojas del fichero Excel en un **mismo** DataFrame de Pandas para guardarlo todo junto."
   ]
  },
  {
   "cell_type": "code",
   "execution_count": 2,
   "metadata": {
    "collapsed": false
   },
   "outputs": [],
   "source": [
    "df_excel_provincias = pd.read_excel(\"./data/playas_2017.xlsx\", sheetname= \"HOJA_PROVINCIAS\")\n",
    "df_excel_playas     = pd.read_excel(\"./data/playas_2017.xlsx\", sheetname= \"HOJA_PLAYAS\")"
   ]
  },
  {
   "cell_type": "code",
   "execution_count": 3,
   "metadata": {
    "collapsed": false
   },
   "outputs": [
    {
     "name": "stdout",
     "output_type": "stream",
     "text": [
      "<class 'pandas.core.frame.DataFrame'>\n",
      "Int64Index: 3511 entries, 0 to 3510\n",
      "Data columns (total 12 columns):\n",
      "id_provincia       3511 non-null int64\n",
      "nom_provincia      3511 non-null object\n",
      "comunidad          3511 non-null object\n",
      "cod_playa          3511 non-null int64\n",
      "nom_playa          3511 non-null object\n",
      "localidad          3511 non-null object\n",
      "clave_nom_playa    3511 non-null object\n",
      "longitud           3511 non-null int64\n",
      "longitud_txt       3511 non-null object\n",
      "arena              3511 non-null object\n",
      "nudista            3511 non-null object\n",
      "bandera_azul       3511 non-null object\n",
      "dtypes: int64(3), object(9)\n",
      "memory usage: 356.6+ KB\n"
     ]
    }
   ],
   "source": [
    "df_neo4j = pd.merge(df_excel_provincias, df_excel_playas, on = ['id_provincia'], how = 'inner')\n",
    "df_neo4j.info()"
   ]
  },
  {
   "cell_type": "markdown",
   "metadata": {},
   "source": [
    "## B.1) Conexión a la BD de Neo4j"
   ]
  },
  {
   "cell_type": "markdown",
   "metadata": {},
   "source": [
    "# B) BD de Neo4j"
   ]
  },
  {
   "cell_type": "markdown",
   "metadata": {},
   "source": [
    "### B.1.1) Carga de CYPHER"
   ]
  },
  {
   "cell_type": "code",
   "execution_count": 4,
   "metadata": {
    "collapsed": false
   },
   "outputs": [],
   "source": [
    "%load_ext cypher"
   ]
  },
  {
   "cell_type": "markdown",
   "metadata": {},
   "source": [
    "### B.1.2) Conexión con Neo4j"
   ]
  },
  {
   "cell_type": "code",
   "execution_count": 5,
   "metadata": {
    "collapsed": false
   },
   "outputs": [],
   "source": [
    "graph_N = Graph()"
   ]
  },
  {
   "cell_type": "markdown",
   "metadata": {},
   "source": [
    "### B.1.3) Borrado de datos"
   ]
  },
  {
   "cell_type": "code",
   "execution_count": 6,
   "metadata": {
    "collapsed": true
   },
   "outputs": [],
   "source": [
    "# Borrado de todos los nodos y relaciones\n",
    "graph_N.delete_all()"
   ]
  },
  {
   "cell_type": "markdown",
   "metadata": {},
   "source": [
    "# C) Carga de datos en Neo4j"
   ]
  },
  {
   "cell_type": "markdown",
   "metadata": {},
   "source": [
    "## C.1) Transformaciones previas"
   ]
  },
  {
   "cell_type": "markdown",
   "metadata": {},
   "source": [
    "La carga se realizará en Neo a partir de la lista de datos en formato JSON, generados con Pandas"
   ]
  },
  {
   "cell_type": "code",
   "execution_count": 7,
   "metadata": {
    "collapsed": false
   },
   "outputs": [],
   "source": [
    "json_string = df_neo4j.to_json(orient = 'records')\n",
    "json_list = json.loads(json_string)"
   ]
  },
  {
   "cell_type": "markdown",
   "metadata": {},
   "source": [
    "En Neo se van a crear **3 tipos de nodos** y **2 tipos de relaciones** :"
   ]
  },
  {
   "cell_type": "markdown",
   "metadata": {},
   "source": [
    "<br><br> \n",
    "\n",
    "<img src=\"images/Modelo_BD___Neo4j.JPG\",width=600,height=500>\n",
    "\n",
    "<br><br> "
   ]
  },
  {
   "cell_type": "markdown",
   "metadata": {},
   "source": [
    "### Definimos los siguientes **NODOS** y sus **atributos** :\n",
    "\n",
    "**1) Nodo Playa**\n",
    "   + Nombre de la playa\n",
    "   + Código de la playa\n",
    "   + localidad de la playa\n",
    "   + Identificación completa de la playa : playa (localidad)\n",
    "   + longitud (en número) de la playa\n",
    "   + longitud (en texto)  de la playa\n",
    "   + Tipo de arena de la playa\n",
    "   + Si es una playa nudista\n",
    "   + Si es una playa con bandera azul   \n",
    "   \n",
    "   \n",
    "**2) Nodo Provincia**\n",
    "   + Nombre de la provincia\n",
    "\n",
    "\n",
    "**3) Nodo Comunidad Autónoma**\n",
    "   + Nombre de la Comunidad Autónoma\n",
    "\n",
    "\n",
    "\n",
    "### Definimos las siguientes **RELACIONES** (sin **atributos**) :\n",
    "\n",
    "**1) Relación UBICADA** : en qué **provincia** está ubicada una determinada **playa**.\n",
    "\n",
    "**2) Relación PERTENECE** : a qué **comunidad autónoma** pertenece una determinada **provincia**."
   ]
  },
  {
   "cell_type": "markdown",
   "metadata": {},
   "source": [
    "## C.2) Inserción de los datos en Neo4j"
   ]
  },
  {
   "cell_type": "markdown",
   "metadata": {},
   "source": [
    "Creamos los **nodos** y las **relaciones** en Neo4j simplemente iterando sobre la lista JSON."
   ]
  },
  {
   "cell_type": "code",
   "execution_count": 8,
   "metadata": {
    "collapsed": false
   },
   "outputs": [
    {
     "name": "stdout",
     "output_type": "stream",
     "text": [
      "0\n",
      "500\n",
      "1000\n",
      "1500\n",
      "2000\n",
      "2500\n",
      "3000\n",
      "3500\n"
     ]
    }
   ],
   "source": [
    "\n",
    "for index, playa_json in enumerate(json_list):\n",
    "    \n",
    "    #-----------------------------------------------------------------------\n",
    "    # NODOS : definición\n",
    "    #-----------------------------------------------------------------------\n",
    "    var_playa     = Node(\"nodo_playa\", \n",
    "                         np_nombre          = playa_json[\"nom_playa\"],\n",
    "                         np_cod_playa       = playa_json[\"cod_playa\"],\n",
    "                         np_localidad       = playa_json[\"localidad\"],\n",
    "                         np_clave_nom_playa = playa_json[\"clave_nom_playa\"],\n",
    "                         np_longitud        = playa_json[\"longitud\"],\n",
    "                         np_longitud_txt    = playa_json[\"longitud_txt\"],\n",
    "                         np_arena           = playa_json[\"arena\"],\n",
    "                         np_nudista         = playa_json[\"nudista\"],\n",
    "                         np_bandera_azul    = playa_json[\"bandera_azul\"],\n",
    "                        )\n",
    "    var_provincia = Node(\"nodo_provincia\", \n",
    "                         nv_nombre = playa_json[\"nom_provincia\"]\n",
    "                        )\n",
    "    var_comunidad = Node(\"nodo_comunidad\", \n",
    "                         nc_nombre = playa_json[\"comunidad\"]\n",
    "                        )\n",
    "    \n",
    "    #-----------------------------------------------------------------------\n",
    "    # RELACIONES : definición\n",
    "    #-----------------------------------------------------------------------         \n",
    "    rel_playa_provincia     = Relationship(var_playa,      \"UBICADA\",   var_provincia)\n",
    "    rel_provincia_comunidad = Relationship(var_provincia,  \"PERTENECE\", var_comunidad)\n",
    "\n",
    "    \n",
    "    #-----------------------------------------------------------------------\n",
    "    # Creación de NODOS y RELACIONES\n",
    "    #-----------------------------------------------------------------------       \n",
    "    graph_N.merge(var_playa | var_provincia | var_comunidad | rel_playa_provincia | rel_provincia_comunidad )   \n",
    "    \n",
    "    if index % 500 == 0:\n",
    "        print index\n",
    "        "
   ]
  },
  {
   "cell_type": "markdown",
   "metadata": {},
   "source": [
    "### Para evitar problemas de acentos y caracteres raros ...\n",
    "\n",
    "**NOTA** : lo pongo aquí, porque si lo pongo antes del bucle \"for\" anterior (el de carga de datos) no va imprimiendo el valor de \"index\" (no sé por qué razón)."
   ]
  },
  {
   "cell_type": "code",
   "execution_count": 9,
   "metadata": {
    "collapsed": false
   },
   "outputs": [],
   "source": [
    "# Para eliminar probemas de acentos y demás caracteres raros\n",
    "\n",
    "import sys\n",
    "reload (sys)\n",
    "\n",
    "sys.setdefaultencoding('utf-8')"
   ]
  },
  {
   "cell_type": "markdown",
   "metadata": {},
   "source": [
    "### Comprobaciones previas ..."
   ]
  },
  {
   "cell_type": "markdown",
   "metadata": {},
   "source": [
    "Número de playas ..."
   ]
  },
  {
   "cell_type": "code",
   "execution_count": 10,
   "metadata": {
    "collapsed": false
   },
   "outputs": [
    {
     "data": {
      "text/html": [
       "<table>\n",
       "    <tr>\n",
       "        <th>count(*)</th>\n",
       "    </tr>\n",
       "    <tr>\n",
       "        <td>3511</td>\n",
       "    </tr>\n",
       "</table>"
      ],
      "text/plain": [
       "[[3511]]"
      ]
     },
     "execution_count": 10,
     "metadata": {},
     "output_type": "execute_result"
    }
   ],
   "source": [
    "%%cypher\n",
    "\n",
    "MATCH (:nodo_playa)\n",
    "RETURN count(*)"
   ]
  },
  {
   "cell_type": "markdown",
   "metadata": {},
   "source": [
    "Número de provincias ..."
   ]
  },
  {
   "cell_type": "code",
   "execution_count": 11,
   "metadata": {
    "collapsed": false
   },
   "outputs": [
    {
     "data": {
      "text/html": [
       "<table>\n",
       "    <tr>\n",
       "        <th>count(*)</th>\n",
       "    </tr>\n",
       "    <tr>\n",
       "        <td>24</td>\n",
       "    </tr>\n",
       "</table>"
      ],
      "text/plain": [
       "[[24]]"
      ]
     },
     "execution_count": 11,
     "metadata": {},
     "output_type": "execute_result"
    }
   ],
   "source": [
    "%%cypher\n",
    "\n",
    "MATCH (:nodo_provincia)\n",
    "RETURN count(*)"
   ]
  },
  {
   "cell_type": "markdown",
   "metadata": {},
   "source": [
    "Número de comunidades ..."
   ]
  },
  {
   "cell_type": "code",
   "execution_count": 12,
   "metadata": {
    "collapsed": false
   },
   "outputs": [
    {
     "data": {
      "text/html": [
       "<table>\n",
       "    <tr>\n",
       "        <th>count(*)</th>\n",
       "    </tr>\n",
       "    <tr>\n",
       "        <td>12</td>\n",
       "    </tr>\n",
       "</table>"
      ],
      "text/plain": [
       "[[12]]"
      ]
     },
     "execution_count": 12,
     "metadata": {},
     "output_type": "execute_result"
    }
   ],
   "source": [
    "%%cypher\n",
    "\n",
    "MATCH (:nodo_comunidad)\n",
    "RETURN count(*)"
   ]
  },
  {
   "cell_type": "markdown",
   "metadata": {},
   "source": [
    "All good!"
   ]
  },
  {
   "cell_type": "markdown",
   "metadata": {},
   "source": [
    "# ------------------------------------------------------------------------------\n",
    "# QUERYS   (Neo4j)\n",
    "# ------------------------------------------------------------------------------"
   ]
  },
  {
   "cell_type": "markdown",
   "metadata": {},
   "source": [
    "Todas las **QUERYS** se pueden ejecutar de **3 formas** diferentes :\n",
    "\n",
    " 1. Con **CYPHER** directamente.\n",
    " 2. Con **graph.run()** convirtiendo su resultado **\"py2neo.database.Cursor\"** en un **DataFrame** de PANDAS (mediante una función definida ad hoc).\n",
    " 3. Con **CYPHER** convirtiendo su resultado **\"cypher.run.ResultSet\"** en un **DataFrame** de PANDAS (mediante el método **\"get_dataframe()\"**).\n",
    "\n",
    "\n",
    "\n",
    "Vamos a necesitar las siguientes **FUNCIONES** :"
   ]
  },
  {
   "cell_type": "markdown",
   "metadata": {},
   "source": [
    "#### 1) Función para convertir RESULTADOS (necesaria para la ejecución de tipo 2) :\n",
    "\n",
    "   + Utilizaremos la función **graph.run()** que nod devuelve un cursor a los datos que nos devuelve la BD.\n",
    "\n",
    "   + La siguiente función **convierte** ese **resultado devuelto por la base de datos** en un **DataFrame** de Pandas."
   ]
  },
  {
   "cell_type": "code",
   "execution_count": 13,
   "metadata": {
    "collapsed": true
   },
   "outputs": [],
   "source": [
    "def fun_convertir_cursorBD_a_dataframe(data):\n",
    "    df = pd.DataFrame(list(data), columns = data.keys())\n",
    "    return df"
   ]
  },
  {
   "cell_type": "markdown",
   "metadata": {},
   "source": [
    "#### 2) Función para convertir FECHAS (necesaria para las ejecuciones de tipo 2 y 3, las de DataFrames)  : \n",
    "\n",
    "+ Neo4j, en su versión actual, no puede guardar datos de tipo fecha en los atributos, por lo que se almacena en formato TIMESTAMP de Unix (el formato original).  \n",
    "\n",
    "+ La siguiente función **convierte** una columna de un **DataFrame** en formato **TIMESTAMP a Fecha**."
   ]
  },
  {
   "cell_type": "code",
   "execution_count": 14,
   "metadata": {
    "collapsed": false
   },
   "outputs": [],
   "source": [
    "def transform_date(df, column_name):\n",
    "    if column_name in df.columns:\n",
    "        # Las fechas están en formato UNIX TIMESTAMP. Las volvemos a convertir a formato Date...\n",
    "        df[column_name] = pd.to_datetime(df[column_name], unit = 'ms')\n",
    "        \n",
    "    return df"
   ]
  },
  {
   "cell_type": "markdown",
   "metadata": {},
   "source": [
    "### QUERY_1) Las 10 playas más largas (incluída la provincia)¶"
   ]
  },
  {
   "cell_type": "markdown",
   "metadata": {},
   "source": [
    "#### 1.1) Con CYPHER"
   ]
  },
  {
   "cell_type": "code",
   "execution_count": 15,
   "metadata": {
    "collapsed": false
   },
   "outputs": [
    {
     "data": {
      "text/html": [
       "<table>\n",
       "    <tr>\n",
       "        <th>PROVINCIA</th>\n",
       "        <th>PLAYA</th>\n",
       "        <th>LOCALIDAD</th>\n",
       "        <th>CLAVE_NOM_PLAYA</th>\n",
       "        <th>LONGITUD</th>\n",
       "        <th>LONGITUD_TXT</th>\n",
       "        <th>ARENA</th>\n",
       "        <th>NUDISTA</th>\n",
       "        <th>BANDERA_AZUL</th>\n",
       "    </tr>\n",
       "    <tr>\n",
       "        <td>Huelva</td>\n",
       "        <td>Doñana</td>\n",
       "        <td>Almonte</td>\n",
       "        <td>Almonte (Doñana)</td>\n",
       "        <td>28000</td>\n",
       "        <td>28.000 metros</td>\n",
       "        <td>Dorada</td>\n",
       "        <td>No</td>\n",
       "        <td>No</td>\n",
       "    </tr>\n",
       "    <tr>\n",
       "        <td>Huelva</td>\n",
       "        <td>Castilla</td>\n",
       "        <td>Almonte</td>\n",
       "        <td>Almonte (Castilla)</td>\n",
       "        <td>17000</td>\n",
       "        <td>17.000 metros</td>\n",
       "        <td>Dorada</td>\n",
       "        <td>No</td>\n",
       "        <td>No</td>\n",
       "    </tr>\n",
       "    <tr>\n",
       "        <td>Las Palmas</td>\n",
       "        <td>El Cofete</td>\n",
       "        <td>Pájara</td>\n",
       "        <td>Pájara (El Cofete)</td>\n",
       "        <td>13700</td>\n",
       "        <td>13.700 metros</td>\n",
       "        <td>Dorada</td>\n",
       "        <td>Sí</td>\n",
       "        <td>No</td>\n",
       "    </tr>\n",
       "    <tr>\n",
       "        <td>Huelva</td>\n",
       "        <td>Nueva Umbría</td>\n",
       "        <td>Lepe</td>\n",
       "        <td>Lepe (Nueva Umbría)</td>\n",
       "        <td>12000</td>\n",
       "        <td>12.000 metros</td>\n",
       "        <td>Dorada</td>\n",
       "        <td>Sí</td>\n",
       "        <td>No</td>\n",
       "    </tr>\n",
       "    <tr>\n",
       "        <td>Huelva</td>\n",
       "        <td>Mazagón</td>\n",
       "        <td>Palos de la Frontera</td>\n",
       "        <td>Palos de la Frontera (Mazagón)</td>\n",
       "        <td>9000</td>\n",
       "        <td>9.000 metros</td>\n",
       "        <td>Dorada</td>\n",
       "        <td>No</td>\n",
       "        <td>No</td>\n",
       "    </tr>\n",
       "    <tr>\n",
       "        <td>Almería</td>\n",
       "        <td>Punta Entinas Sabinar</td>\n",
       "        <td>El Ejido</td>\n",
       "        <td>El Ejido (Punta Entinas Sabinar)</td>\n",
       "        <td>6500</td>\n",
       "        <td>6.500 metros</td>\n",
       "        <td>Oscura</td>\n",
       "        <td>No</td>\n",
       "        <td>No</td>\n",
       "    </tr>\n",
       "    <tr>\n",
       "        <td>Tarragona</td>\n",
       "        <td>Punta del Fangar</td>\n",
       "        <td>Deltebre</td>\n",
       "        <td>Deltebre (Punta del Fangar)</td>\n",
       "        <td>6500</td>\n",
       "        <td>6.500 metros</td>\n",
       "        <td>Dorada</td>\n",
       "        <td>Sí</td>\n",
       "        <td>No</td>\n",
       "    </tr>\n",
       "    <tr>\n",
       "        <td>Girona</td>\n",
       "        <td>Sant Pere Pescador</td>\n",
       "        <td>Sant Pere Pescador</td>\n",
       "        <td>Sant Pere Pescador (Sant Pere Pescador)</td>\n",
       "        <td>6400</td>\n",
       "        <td>6400 metros</td>\n",
       "        <td>Dorada</td>\n",
       "        <td>Sí</td>\n",
       "        <td>No</td>\n",
       "    </tr>\n",
       "    <tr>\n",
       "        <td>Tarragona</td>\n",
       "        <td>El Trabucador</td>\n",
       "        <td>Sant Carles de la Ràpita</td>\n",
       "        <td>Sant Carles de la Ràpita (El Trabucador)</td>\n",
       "        <td>6165</td>\n",
       "        <td>6.165 metros</td>\n",
       "        <td>Dorada</td>\n",
       "        <td>No</td>\n",
       "        <td>No</td>\n",
       "    </tr>\n",
       "    <tr>\n",
       "        <td>A Coruña</td>\n",
       "        <td>Carnota</td>\n",
       "        <td>Carnota</td>\n",
       "        <td>Carnota (Carnota)</td>\n",
       "        <td>5600</td>\n",
       "        <td>5.600 metros</td>\n",
       "        <td>Blanca</td>\n",
       "        <td>No</td>\n",
       "        <td>No</td>\n",
       "    </tr>\n",
       "</table>"
      ],
      "text/plain": [
       "[[u'Huelva',\n",
       "  u'Do\\xf1ana',\n",
       "  u'Almonte',\n",
       "  u'Almonte (Do\\xf1ana)',\n",
       "  28000,\n",
       "  u'28.000 metros',\n",
       "  u'Dorada',\n",
       "  u'No',\n",
       "  u'No'],\n",
       " [u'Huelva',\n",
       "  u'Castilla',\n",
       "  u'Almonte',\n",
       "  u'Almonte (Castilla)',\n",
       "  17000,\n",
       "  u'17.000 metros',\n",
       "  u'Dorada',\n",
       "  u'No',\n",
       "  u'No'],\n",
       " [u'Las Palmas',\n",
       "  u'El Cofete',\n",
       "  u'P\\xe1jara',\n",
       "  u'P\\xe1jara (El Cofete)',\n",
       "  13700,\n",
       "  u'13.700 metros',\n",
       "  u'Dorada',\n",
       "  u'S\\xed',\n",
       "  u'No'],\n",
       " [u'Huelva',\n",
       "  u'Nueva Umbr\\xeda',\n",
       "  u'Lepe',\n",
       "  u'Lepe (Nueva Umbr\\xeda)',\n",
       "  12000,\n",
       "  u'12.000 metros',\n",
       "  u'Dorada',\n",
       "  u'S\\xed',\n",
       "  u'No'],\n",
       " [u'Huelva',\n",
       "  u'Mazag\\xf3n',\n",
       "  u'Palos de la Frontera',\n",
       "  u'Palos de la Frontera (Mazag\\xf3n)',\n",
       "  9000,\n",
       "  u'9.000 metros',\n",
       "  u'Dorada',\n",
       "  u'No',\n",
       "  u'No'],\n",
       " [u'Almer\\xeda',\n",
       "  u'Punta Entinas Sabinar',\n",
       "  u'El Ejido',\n",
       "  u'El Ejido (Punta Entinas Sabinar)',\n",
       "  6500,\n",
       "  u'6.500 metros',\n",
       "  u'Oscura',\n",
       "  u'No',\n",
       "  u'No'],\n",
       " [u'Tarragona',\n",
       "  u'Punta del Fangar',\n",
       "  u'Deltebre',\n",
       "  u'Deltebre (Punta del Fangar)',\n",
       "  6500,\n",
       "  u'6.500 metros',\n",
       "  u'Dorada',\n",
       "  u'S\\xed',\n",
       "  u'No'],\n",
       " [u'Girona',\n",
       "  u'Sant Pere Pescador',\n",
       "  u'Sant Pere Pescador',\n",
       "  u'Sant Pere Pescador (Sant Pere Pescador)',\n",
       "  6400,\n",
       "  u'6400 metros',\n",
       "  u'Dorada',\n",
       "  u'S\\xed',\n",
       "  u'No'],\n",
       " [u'Tarragona',\n",
       "  u'El Trabucador',\n",
       "  u'Sant Carles de la R\\xe0pita',\n",
       "  u'Sant Carles de la R\\xe0pita (El Trabucador)',\n",
       "  6165,\n",
       "  u'6.165 metros',\n",
       "  u'Dorada',\n",
       "  u'No',\n",
       "  u'No'],\n",
       " [u'A Coru\\xf1a',\n",
       "  u'Carnota',\n",
       "  u'Carnota',\n",
       "  u'Carnota (Carnota)',\n",
       "  5600,\n",
       "  u'5.600 metros',\n",
       "  u'Blanca',\n",
       "  u'No',\n",
       "  u'No']]"
      ]
     },
     "execution_count": 15,
     "metadata": {},
     "output_type": "execute_result"
    }
   ],
   "source": [
    "%%cypher\n",
    "\n",
    "MATCH (playa:nodo_playa)-[:UBICADA]-(provincia:nodo_provincia)-[:PERTENECE]-(comunidad:nodo_comunidad)\n",
    "RETURN \n",
    "       provincia.nv_nombre       AS PROVINCIA,\n",
    "       playa.np_nombre           AS PLAYA, \n",
    "       playa.np_localidad        AS LOCALIDAD,\n",
    "       playa.np_clave_nom_playa  AS CLAVE_NOM_PLAYA,\n",
    "       playa.np_longitud         AS LONGITUD,\n",
    "       playa.np_longitud_txt     AS LONGITUD_TXT,\n",
    "       playa.np_arena            AS ARENA,\n",
    "       playa.np_nudista          AS NUDISTA,\n",
    "       playa.np_bandera_azul     AS BANDERA_AZUL\n",
    "ORDER BY playa.np_longitud DESC\n",
    "LIMIT 10"
   ]
  },
  {
   "cell_type": "markdown",
   "metadata": {},
   "source": [
    "#### 1.2) Con \"graph.run()\" convirtiendo su resultado en un DataFrame"
   ]
  },
  {
   "cell_type": "code",
   "execution_count": 16,
   "metadata": {
    "collapsed": false
   },
   "outputs": [
    {
     "data": {
      "text/plain": [
       "py2neo.database.Cursor"
      ]
     },
     "execution_count": 16,
     "metadata": {},
     "output_type": "execute_result"
    }
   ],
   "source": [
    "query = \"\"\"\n",
    "MATCH (playa:nodo_playa)-[:UBICADA]-(provincia:nodo_provincia)-[:PERTENECE]-(comunidad:nodo_comunidad)\n",
    "RETURN \n",
    "       provincia.nv_nombre       AS PROVINCIA,\n",
    "       playa.np_nombre           AS PLAYA, \n",
    "       playa.np_localidad        AS LOCALIDAD,\n",
    "       playa.np_clave_nom_playa  AS CLAVE_NOM_PLAYA,\n",
    "       playa.np_longitud         AS LONGITUD,\n",
    "       playa.np_longitud_txt     AS LONGITUD_TXT,\n",
    "       playa.np_arena            AS ARENA,\n",
    "       playa.np_nudista          AS NUDISTA,\n",
    "       playa.np_bandera_azul     AS BANDERA_AZUL\n",
    "ORDER BY playa.np_longitud DESC\n",
    "LIMIT 10\n",
    "\"\"\" \n",
    "\n",
    "data = graph_N.run(query)\n",
    "type(data)"
   ]
  },
  {
   "cell_type": "code",
   "execution_count": 17,
   "metadata": {
    "collapsed": false
   },
   "outputs": [
    {
     "data": {
      "text/html": [
       "<div>\n",
       "<style>\n",
       "    .dataframe thead tr:only-child th {\n",
       "        text-align: right;\n",
       "    }\n",
       "\n",
       "    .dataframe thead th {\n",
       "        text-align: left;\n",
       "    }\n",
       "\n",
       "    .dataframe tbody tr th {\n",
       "        vertical-align: top;\n",
       "    }\n",
       "</style>\n",
       "<table border=\"1\" class=\"dataframe\">\n",
       "  <thead>\n",
       "    <tr style=\"text-align: right;\">\n",
       "      <th></th>\n",
       "      <th>PROVINCIA</th>\n",
       "      <th>PLAYA</th>\n",
       "      <th>LOCALIDAD</th>\n",
       "      <th>CLAVE_NOM_PLAYA</th>\n",
       "      <th>LONGITUD</th>\n",
       "      <th>LONGITUD_TXT</th>\n",
       "      <th>ARENA</th>\n",
       "      <th>NUDISTA</th>\n",
       "      <th>BANDERA_AZUL</th>\n",
       "    </tr>\n",
       "  </thead>\n",
       "  <tbody>\n",
       "    <tr>\n",
       "      <th>0</th>\n",
       "      <td>Huelva</td>\n",
       "      <td>Doñana</td>\n",
       "      <td>Almonte</td>\n",
       "      <td>Almonte (Doñana)</td>\n",
       "      <td>28000</td>\n",
       "      <td>28.000 metros</td>\n",
       "      <td>Dorada</td>\n",
       "      <td>No</td>\n",
       "      <td>No</td>\n",
       "    </tr>\n",
       "    <tr>\n",
       "      <th>1</th>\n",
       "      <td>Huelva</td>\n",
       "      <td>Castilla</td>\n",
       "      <td>Almonte</td>\n",
       "      <td>Almonte (Castilla)</td>\n",
       "      <td>17000</td>\n",
       "      <td>17.000 metros</td>\n",
       "      <td>Dorada</td>\n",
       "      <td>No</td>\n",
       "      <td>No</td>\n",
       "    </tr>\n",
       "    <tr>\n",
       "      <th>2</th>\n",
       "      <td>Las Palmas</td>\n",
       "      <td>El Cofete</td>\n",
       "      <td>Pájara</td>\n",
       "      <td>Pájara (El Cofete)</td>\n",
       "      <td>13700</td>\n",
       "      <td>13.700 metros</td>\n",
       "      <td>Dorada</td>\n",
       "      <td>Sí</td>\n",
       "      <td>No</td>\n",
       "    </tr>\n",
       "    <tr>\n",
       "      <th>3</th>\n",
       "      <td>Huelva</td>\n",
       "      <td>Nueva Umbría</td>\n",
       "      <td>Lepe</td>\n",
       "      <td>Lepe (Nueva Umbría)</td>\n",
       "      <td>12000</td>\n",
       "      <td>12.000 metros</td>\n",
       "      <td>Dorada</td>\n",
       "      <td>Sí</td>\n",
       "      <td>No</td>\n",
       "    </tr>\n",
       "    <tr>\n",
       "      <th>4</th>\n",
       "      <td>Huelva</td>\n",
       "      <td>Mazagón</td>\n",
       "      <td>Palos de la Frontera</td>\n",
       "      <td>Palos de la Frontera (Mazagón)</td>\n",
       "      <td>9000</td>\n",
       "      <td>9.000 metros</td>\n",
       "      <td>Dorada</td>\n",
       "      <td>No</td>\n",
       "      <td>No</td>\n",
       "    </tr>\n",
       "    <tr>\n",
       "      <th>5</th>\n",
       "      <td>Almería</td>\n",
       "      <td>Punta Entinas Sabinar</td>\n",
       "      <td>El Ejido</td>\n",
       "      <td>El Ejido (Punta Entinas Sabinar)</td>\n",
       "      <td>6500</td>\n",
       "      <td>6.500 metros</td>\n",
       "      <td>Oscura</td>\n",
       "      <td>No</td>\n",
       "      <td>No</td>\n",
       "    </tr>\n",
       "    <tr>\n",
       "      <th>6</th>\n",
       "      <td>Tarragona</td>\n",
       "      <td>Punta del Fangar</td>\n",
       "      <td>Deltebre</td>\n",
       "      <td>Deltebre (Punta del Fangar)</td>\n",
       "      <td>6500</td>\n",
       "      <td>6.500 metros</td>\n",
       "      <td>Dorada</td>\n",
       "      <td>Sí</td>\n",
       "      <td>No</td>\n",
       "    </tr>\n",
       "    <tr>\n",
       "      <th>7</th>\n",
       "      <td>Girona</td>\n",
       "      <td>Sant Pere Pescador</td>\n",
       "      <td>Sant Pere Pescador</td>\n",
       "      <td>Sant Pere Pescador (Sant Pere Pescador)</td>\n",
       "      <td>6400</td>\n",
       "      <td>6400 metros</td>\n",
       "      <td>Dorada</td>\n",
       "      <td>Sí</td>\n",
       "      <td>No</td>\n",
       "    </tr>\n",
       "    <tr>\n",
       "      <th>8</th>\n",
       "      <td>Tarragona</td>\n",
       "      <td>El Trabucador</td>\n",
       "      <td>Sant Carles de la Ràpita</td>\n",
       "      <td>Sant Carles de la Ràpita (El Trabucador)</td>\n",
       "      <td>6165</td>\n",
       "      <td>6.165 metros</td>\n",
       "      <td>Dorada</td>\n",
       "      <td>No</td>\n",
       "      <td>No</td>\n",
       "    </tr>\n",
       "    <tr>\n",
       "      <th>9</th>\n",
       "      <td>A Coruña</td>\n",
       "      <td>Carnota</td>\n",
       "      <td>Carnota</td>\n",
       "      <td>Carnota (Carnota)</td>\n",
       "      <td>5600</td>\n",
       "      <td>5.600 metros</td>\n",
       "      <td>Blanca</td>\n",
       "      <td>No</td>\n",
       "      <td>No</td>\n",
       "    </tr>\n",
       "  </tbody>\n",
       "</table>\n",
       "</div>"
      ],
      "text/plain": [
       "    PROVINCIA                  PLAYA                 LOCALIDAD  \\\n",
       "0      Huelva                 Do��ana                   Almonte   \n",
       "1      Huelva               Castilla                   Almonte   \n",
       "2  Las Palmas              El Cofete                    P��jara   \n",
       "3      Huelva           Nueva Umbr��a                      Lepe   \n",
       "4      Huelva                Mazag��n      Palos de la Frontera   \n",
       "5     Almer��a  Punta Entinas Sabinar                  El Ejido   \n",
       "6   Tarragona       Punta del Fangar                  Deltebre   \n",
       "7      Girona     Sant Pere Pescador        Sant Pere Pescador   \n",
       "8   Tarragona          El Trabucador  Sant Carles de la R��pita   \n",
       "9    A Coru��a                Carnota                   Carnota   \n",
       "\n",
       "                            CLAVE_NOM_PLAYA  LONGITUD   LONGITUD_TXT   ARENA  \\\n",
       "0                          Almonte (Do��ana)     28000  28.000 metros  Dorada   \n",
       "1                        Almonte (Castilla)     17000  17.000 metros  Dorada   \n",
       "2                        P��jara (El Cofete)     13700  13.700 metros  Dorada   \n",
       "3                       Lepe (Nueva Umbr��a)     12000  12.000 metros  Dorada   \n",
       "4            Palos de la Frontera (Mazag��n)      9000   9.000 metros  Dorada   \n",
       "5          El Ejido (Punta Entinas Sabinar)      6500   6.500 metros  Oscura   \n",
       "6               Deltebre (Punta del Fangar)      6500   6.500 metros  Dorada   \n",
       "7   Sant Pere Pescador (Sant Pere Pescador)      6400    6400 metros  Dorada   \n",
       "8  Sant Carles de la R��pita (El Trabucador)      6165   6.165 metros  Dorada   \n",
       "9                         Carnota (Carnota)      5600   5.600 metros  Blanca   \n",
       "\n",
       "  NUDISTA BANDERA_AZUL  \n",
       "0      No           No  \n",
       "1      No           No  \n",
       "2      S��           No  \n",
       "3      S��           No  \n",
       "4      No           No  \n",
       "5      No           No  \n",
       "6      S��           No  \n",
       "7      S��           No  \n",
       "8      No           No  \n",
       "9      No           No  "
      ]
     },
     "execution_count": 17,
     "metadata": {},
     "output_type": "execute_result"
    }
   ],
   "source": [
    "df = fun_convertir_cursorBD_a_dataframe(data)\n",
    "df"
   ]
  },
  {
   "cell_type": "markdown",
   "metadata": {},
   "source": [
    "#### 1.3) Con **CYPHER** convirtiendo su resultado en un DataFrame"
   ]
  },
  {
   "cell_type": "code",
   "execution_count": 18,
   "metadata": {
    "collapsed": false
   },
   "outputs": [
    {
     "data": {
      "text/plain": [
       "cypher.run.ResultSet"
      ]
     },
     "execution_count": 18,
     "metadata": {},
     "output_type": "execute_result"
    }
   ],
   "source": [
    "res = %cypher MATCH (playa:nodo_playa)-[:UBICADA]-(provincia:nodo_provincia)-[:PERTENECE]-(comunidad:nodo_comunidad) \\\n",
    "              RETURN                                                  \\\n",
    "                     provincia.nv_nombre       AS PROVINCIA,          \\\n",
    "                     playa.np_nombre           AS PLAYA,              \\\n",
    "                     playa.np_localidad        AS LOCALIDAD,          \\\n",
    "                     playa.np_clave_nom_playa  AS CLAVE_NOM_PLAYA,    \\\n",
    "                     playa.np_longitud         AS LONGITUD,           \\\n",
    "                     playa.np_longitud_txt     AS LONGITUD_TXT,       \\\n",
    "                     playa.np_arena            AS ARENA,              \\\n",
    "                     playa.np_nudista          AS NUDISTA,            \\\n",
    "                     playa.np_bandera_azul     AS BANDERA_AZUL        \\\n",
    "              ORDER BY playa.np_longitud DESC                         \\\n",
    "              LIMIT 10\n",
    "\n",
    "            \n",
    "type(res)"
   ]
  },
  {
   "cell_type": "code",
   "execution_count": 19,
   "metadata": {
    "collapsed": false
   },
   "outputs": [
    {
     "data": {
      "text/html": [
       "<div>\n",
       "<style>\n",
       "    .dataframe thead tr:only-child th {\n",
       "        text-align: right;\n",
       "    }\n",
       "\n",
       "    .dataframe thead th {\n",
       "        text-align: left;\n",
       "    }\n",
       "\n",
       "    .dataframe tbody tr th {\n",
       "        vertical-align: top;\n",
       "    }\n",
       "</style>\n",
       "<table border=\"1\" class=\"dataframe\">\n",
       "  <thead>\n",
       "    <tr style=\"text-align: right;\">\n",
       "      <th></th>\n",
       "      <th>PROVINCIA</th>\n",
       "      <th>PLAYA</th>\n",
       "      <th>LOCALIDAD</th>\n",
       "      <th>CLAVE_NOM_PLAYA</th>\n",
       "      <th>LONGITUD</th>\n",
       "      <th>LONGITUD_TXT</th>\n",
       "      <th>ARENA</th>\n",
       "      <th>NUDISTA</th>\n",
       "      <th>BANDERA_AZUL</th>\n",
       "    </tr>\n",
       "  </thead>\n",
       "  <tbody>\n",
       "    <tr>\n",
       "      <th>0</th>\n",
       "      <td>Huelva</td>\n",
       "      <td>Doñana</td>\n",
       "      <td>Almonte</td>\n",
       "      <td>Almonte (Doñana)</td>\n",
       "      <td>28000</td>\n",
       "      <td>28.000 metros</td>\n",
       "      <td>Dorada</td>\n",
       "      <td>No</td>\n",
       "      <td>No</td>\n",
       "    </tr>\n",
       "    <tr>\n",
       "      <th>1</th>\n",
       "      <td>Huelva</td>\n",
       "      <td>Castilla</td>\n",
       "      <td>Almonte</td>\n",
       "      <td>Almonte (Castilla)</td>\n",
       "      <td>17000</td>\n",
       "      <td>17.000 metros</td>\n",
       "      <td>Dorada</td>\n",
       "      <td>No</td>\n",
       "      <td>No</td>\n",
       "    </tr>\n",
       "    <tr>\n",
       "      <th>2</th>\n",
       "      <td>Las Palmas</td>\n",
       "      <td>El Cofete</td>\n",
       "      <td>Pájara</td>\n",
       "      <td>Pájara (El Cofete)</td>\n",
       "      <td>13700</td>\n",
       "      <td>13.700 metros</td>\n",
       "      <td>Dorada</td>\n",
       "      <td>Sí</td>\n",
       "      <td>No</td>\n",
       "    </tr>\n",
       "    <tr>\n",
       "      <th>3</th>\n",
       "      <td>Huelva</td>\n",
       "      <td>Nueva Umbría</td>\n",
       "      <td>Lepe</td>\n",
       "      <td>Lepe (Nueva Umbría)</td>\n",
       "      <td>12000</td>\n",
       "      <td>12.000 metros</td>\n",
       "      <td>Dorada</td>\n",
       "      <td>Sí</td>\n",
       "      <td>No</td>\n",
       "    </tr>\n",
       "    <tr>\n",
       "      <th>4</th>\n",
       "      <td>Huelva</td>\n",
       "      <td>Mazagón</td>\n",
       "      <td>Palos de la Frontera</td>\n",
       "      <td>Palos de la Frontera (Mazagón)</td>\n",
       "      <td>9000</td>\n",
       "      <td>9.000 metros</td>\n",
       "      <td>Dorada</td>\n",
       "      <td>No</td>\n",
       "      <td>No</td>\n",
       "    </tr>\n",
       "    <tr>\n",
       "      <th>5</th>\n",
       "      <td>Almería</td>\n",
       "      <td>Punta Entinas Sabinar</td>\n",
       "      <td>El Ejido</td>\n",
       "      <td>El Ejido (Punta Entinas Sabinar)</td>\n",
       "      <td>6500</td>\n",
       "      <td>6.500 metros</td>\n",
       "      <td>Oscura</td>\n",
       "      <td>No</td>\n",
       "      <td>No</td>\n",
       "    </tr>\n",
       "    <tr>\n",
       "      <th>6</th>\n",
       "      <td>Tarragona</td>\n",
       "      <td>Punta del Fangar</td>\n",
       "      <td>Deltebre</td>\n",
       "      <td>Deltebre (Punta del Fangar)</td>\n",
       "      <td>6500</td>\n",
       "      <td>6.500 metros</td>\n",
       "      <td>Dorada</td>\n",
       "      <td>Sí</td>\n",
       "      <td>No</td>\n",
       "    </tr>\n",
       "    <tr>\n",
       "      <th>7</th>\n",
       "      <td>Girona</td>\n",
       "      <td>Sant Pere Pescador</td>\n",
       "      <td>Sant Pere Pescador</td>\n",
       "      <td>Sant Pere Pescador (Sant Pere Pescador)</td>\n",
       "      <td>6400</td>\n",
       "      <td>6400 metros</td>\n",
       "      <td>Dorada</td>\n",
       "      <td>Sí</td>\n",
       "      <td>No</td>\n",
       "    </tr>\n",
       "    <tr>\n",
       "      <th>8</th>\n",
       "      <td>Tarragona</td>\n",
       "      <td>El Trabucador</td>\n",
       "      <td>Sant Carles de la Ràpita</td>\n",
       "      <td>Sant Carles de la Ràpita (El Trabucador)</td>\n",
       "      <td>6165</td>\n",
       "      <td>6.165 metros</td>\n",
       "      <td>Dorada</td>\n",
       "      <td>No</td>\n",
       "      <td>No</td>\n",
       "    </tr>\n",
       "    <tr>\n",
       "      <th>9</th>\n",
       "      <td>A Coruña</td>\n",
       "      <td>Carnota</td>\n",
       "      <td>Carnota</td>\n",
       "      <td>Carnota (Carnota)</td>\n",
       "      <td>5600</td>\n",
       "      <td>5.600 metros</td>\n",
       "      <td>Blanca</td>\n",
       "      <td>No</td>\n",
       "      <td>No</td>\n",
       "    </tr>\n",
       "  </tbody>\n",
       "</table>\n",
       "</div>"
      ],
      "text/plain": [
       "    PROVINCIA                  PLAYA                 LOCALIDAD  \\\n",
       "0      Huelva                 Do��ana                   Almonte   \n",
       "1      Huelva               Castilla                   Almonte   \n",
       "2  Las Palmas              El Cofete                    P��jara   \n",
       "3      Huelva           Nueva Umbr��a                      Lepe   \n",
       "4      Huelva                Mazag��n      Palos de la Frontera   \n",
       "5     Almer��a  Punta Entinas Sabinar                  El Ejido   \n",
       "6   Tarragona       Punta del Fangar                  Deltebre   \n",
       "7      Girona     Sant Pere Pescador        Sant Pere Pescador   \n",
       "8   Tarragona          El Trabucador  Sant Carles de la R��pita   \n",
       "9    A Coru��a                Carnota                   Carnota   \n",
       "\n",
       "                            CLAVE_NOM_PLAYA  LONGITUD   LONGITUD_TXT   ARENA  \\\n",
       "0                          Almonte (Do��ana)     28000  28.000 metros  Dorada   \n",
       "1                        Almonte (Castilla)     17000  17.000 metros  Dorada   \n",
       "2                        P��jara (El Cofete)     13700  13.700 metros  Dorada   \n",
       "3                       Lepe (Nueva Umbr��a)     12000  12.000 metros  Dorada   \n",
       "4            Palos de la Frontera (Mazag��n)      9000   9.000 metros  Dorada   \n",
       "5          El Ejido (Punta Entinas Sabinar)      6500   6.500 metros  Oscura   \n",
       "6               Deltebre (Punta del Fangar)      6500   6.500 metros  Dorada   \n",
       "7   Sant Pere Pescador (Sant Pere Pescador)      6400    6400 metros  Dorada   \n",
       "8  Sant Carles de la R��pita (El Trabucador)      6165   6.165 metros  Dorada   \n",
       "9                         Carnota (Carnota)      5600   5.600 metros  Blanca   \n",
       "\n",
       "  NUDISTA BANDERA_AZUL  \n",
       "0      No           No  \n",
       "1      No           No  \n",
       "2      S��           No  \n",
       "3      S��           No  \n",
       "4      No           No  \n",
       "5      No           No  \n",
       "6      S��           No  \n",
       "7      S��           No  \n",
       "8      No           No  \n",
       "9      No           No  "
      ]
     },
     "execution_count": 19,
     "metadata": {},
     "output_type": "execute_result"
    }
   ],
   "source": [
    "res.get_dataframe()"
   ]
  },
  {
   "cell_type": "markdown",
   "metadata": {},
   "source": [
    "### QUERY_2) Las 10 playas más largas de una cierta provincia (incluído el nombre de la provincia)"
   ]
  },
  {
   "cell_type": "markdown",
   "metadata": {},
   "source": [
    "#### 2.1) Con CYPHER"
   ]
  },
  {
   "cell_type": "code",
   "execution_count": 20,
   "metadata": {
    "collapsed": false
   },
   "outputs": [
    {
     "data": {
      "text/html": [
       "<table>\n",
       "    <tr>\n",
       "        <th>PLAYA</th>\n",
       "        <th>LONGITUD</th>\n",
       "        <th>PROVINCIA</th>\n",
       "        <th>COMUNIDAD</th>\n",
       "    </tr>\n",
       "    <tr>\n",
       "        <td>Carnota</td>\n",
       "        <td>5600</td>\n",
       "        <td>A Coruña</td>\n",
       "        <td>Galicia</td>\n",
       "    </tr>\n",
       "    <tr>\n",
       "        <td>Baldaio</td>\n",
       "        <td>4000</td>\n",
       "        <td>A Coruña</td>\n",
       "        <td>Galicia</td>\n",
       "    </tr>\n",
       "    <tr>\n",
       "        <td>A Frouxeira</td>\n",
       "        <td>3000</td>\n",
       "        <td>A Coruña</td>\n",
       "        <td>Galicia</td>\n",
       "    </tr>\n",
       "    <tr>\n",
       "        <td>Vilar</td>\n",
       "        <td>2900</td>\n",
       "        <td>A Coruña</td>\n",
       "        <td>Galicia</td>\n",
       "    </tr>\n",
       "    <tr>\n",
       "        <td>Morouzos</td>\n",
       "        <td>2800</td>\n",
       "        <td>A Coruña</td>\n",
       "        <td>Galicia</td>\n",
       "    </tr>\n",
       "    <tr>\n",
       "        <td>Traba</td>\n",
       "        <td>2650</td>\n",
       "        <td>A Coruña</td>\n",
       "        <td>Galicia</td>\n",
       "    </tr>\n",
       "    <tr>\n",
       "        <td>Barraña</td>\n",
       "        <td>2150</td>\n",
       "        <td>A Coruña</td>\n",
       "        <td>Galicia</td>\n",
       "    </tr>\n",
       "    <tr>\n",
       "        <td>Areas Longas</td>\n",
       "        <td>2100</td>\n",
       "        <td>A Coruña</td>\n",
       "        <td>Galicia</td>\n",
       "    </tr>\n",
       "    <tr>\n",
       "        <td>Carragueiros</td>\n",
       "        <td>2000</td>\n",
       "        <td>A Coruña</td>\n",
       "        <td>Galicia</td>\n",
       "    </tr>\n",
       "    <tr>\n",
       "        <td>Langosteira</td>\n",
       "        <td>1970</td>\n",
       "        <td>A Coruña</td>\n",
       "        <td>Galicia</td>\n",
       "    </tr>\n",
       "</table>"
      ],
      "text/plain": [
       "[[u'Carnota', 5600, u'A Coru\\xf1a', u'Galicia'],\n",
       " [u'Baldaio', 4000, u'A Coru\\xf1a', u'Galicia'],\n",
       " [u'A Frouxeira', 3000, u'A Coru\\xf1a', u'Galicia'],\n",
       " [u'Vilar', 2900, u'A Coru\\xf1a', u'Galicia'],\n",
       " [u'Morouzos', 2800, u'A Coru\\xf1a', u'Galicia'],\n",
       " [u'Traba', 2650, u'A Coru\\xf1a', u'Galicia'],\n",
       " [u'Barra\\xf1a', 2150, u'A Coru\\xf1a', u'Galicia'],\n",
       " [u'Areas Longas', 2100, u'A Coru\\xf1a', u'Galicia'],\n",
       " [u'Carragueiros', 2000, u'A Coru\\xf1a', u'Galicia'],\n",
       " [u'Langosteira', 1970, u'A Coru\\xf1a', u'Galicia']]"
      ]
     },
     "execution_count": 20,
     "metadata": {},
     "output_type": "execute_result"
    }
   ],
   "source": [
    "%%cypher\n",
    "\n",
    "MATCH (playa:nodo_playa)-[:UBICADA]-(provincia:nodo_provincia)-[:PERTENECE]-(comunidad:nodo_comunidad)\n",
    "WHERE provincia.nv_nombre = \"A Coruña\"\n",
    "RETURN \n",
    "       playa.np_nombre         AS PLAYA, \n",
    "       playa.np_longitud       AS LONGITUD,\n",
    "       provincia.nv_nombre     AS PROVINCIA,\n",
    "       comunidad.nc_nombre     AS COMUNIDAD\n",
    "ORDER BY playa.np_longitud DESC\n",
    "LIMIT 10"
   ]
  },
  {
   "cell_type": "markdown",
   "metadata": {},
   "source": [
    "#### 2.2) Con \"graph.run()\" convirtiendo su resultado en un DataFrame"
   ]
  },
  {
   "cell_type": "code",
   "execution_count": 21,
   "metadata": {
    "collapsed": false
   },
   "outputs": [
    {
     "data": {
      "text/html": [
       "<div>\n",
       "<style>\n",
       "    .dataframe thead tr:only-child th {\n",
       "        text-align: right;\n",
       "    }\n",
       "\n",
       "    .dataframe thead th {\n",
       "        text-align: left;\n",
       "    }\n",
       "\n",
       "    .dataframe tbody tr th {\n",
       "        vertical-align: top;\n",
       "    }\n",
       "</style>\n",
       "<table border=\"1\" class=\"dataframe\">\n",
       "  <thead>\n",
       "    <tr style=\"text-align: right;\">\n",
       "      <th></th>\n",
       "      <th>PLAYA</th>\n",
       "      <th>LONGITUD</th>\n",
       "      <th>PROVINCIA</th>\n",
       "      <th>COMUNIDAD</th>\n",
       "    </tr>\n",
       "  </thead>\n",
       "  <tbody>\n",
       "    <tr>\n",
       "      <th>0</th>\n",
       "      <td>Carnota</td>\n",
       "      <td>5600</td>\n",
       "      <td>A Coruña</td>\n",
       "      <td>Galicia</td>\n",
       "    </tr>\n",
       "    <tr>\n",
       "      <th>1</th>\n",
       "      <td>Baldaio</td>\n",
       "      <td>4000</td>\n",
       "      <td>A Coruña</td>\n",
       "      <td>Galicia</td>\n",
       "    </tr>\n",
       "    <tr>\n",
       "      <th>2</th>\n",
       "      <td>A Frouxeira</td>\n",
       "      <td>3000</td>\n",
       "      <td>A Coruña</td>\n",
       "      <td>Galicia</td>\n",
       "    </tr>\n",
       "    <tr>\n",
       "      <th>3</th>\n",
       "      <td>Vilar</td>\n",
       "      <td>2900</td>\n",
       "      <td>A Coruña</td>\n",
       "      <td>Galicia</td>\n",
       "    </tr>\n",
       "    <tr>\n",
       "      <th>4</th>\n",
       "      <td>Morouzos</td>\n",
       "      <td>2800</td>\n",
       "      <td>A Coruña</td>\n",
       "      <td>Galicia</td>\n",
       "    </tr>\n",
       "    <tr>\n",
       "      <th>5</th>\n",
       "      <td>Traba</td>\n",
       "      <td>2650</td>\n",
       "      <td>A Coruña</td>\n",
       "      <td>Galicia</td>\n",
       "    </tr>\n",
       "    <tr>\n",
       "      <th>6</th>\n",
       "      <td>Barraña</td>\n",
       "      <td>2150</td>\n",
       "      <td>A Coruña</td>\n",
       "      <td>Galicia</td>\n",
       "    </tr>\n",
       "    <tr>\n",
       "      <th>7</th>\n",
       "      <td>Areas Longas</td>\n",
       "      <td>2100</td>\n",
       "      <td>A Coruña</td>\n",
       "      <td>Galicia</td>\n",
       "    </tr>\n",
       "    <tr>\n",
       "      <th>8</th>\n",
       "      <td>Carragueiros</td>\n",
       "      <td>2000</td>\n",
       "      <td>A Coruña</td>\n",
       "      <td>Galicia</td>\n",
       "    </tr>\n",
       "    <tr>\n",
       "      <th>9</th>\n",
       "      <td>Langosteira</td>\n",
       "      <td>1970</td>\n",
       "      <td>A Coruña</td>\n",
       "      <td>Galicia</td>\n",
       "    </tr>\n",
       "  </tbody>\n",
       "</table>\n",
       "</div>"
      ],
      "text/plain": [
       "          PLAYA  LONGITUD PROVINCIA COMUNIDAD\n",
       "0       Carnota      5600  A Coru��a   Galicia\n",
       "1       Baldaio      4000  A Coru��a   Galicia\n",
       "2   A Frouxeira      3000  A Coru��a   Galicia\n",
       "3         Vilar      2900  A Coru��a   Galicia\n",
       "4      Morouzos      2800  A Coru��a   Galicia\n",
       "5         Traba      2650  A Coru��a   Galicia\n",
       "6       Barra��a      2150  A Coru��a   Galicia\n",
       "7  Areas Longas      2100  A Coru��a   Galicia\n",
       "8  Carragueiros      2000  A Coru��a   Galicia\n",
       "9   Langosteira      1970  A Coru��a   Galicia"
      ]
     },
     "execution_count": 21,
     "metadata": {},
     "output_type": "execute_result"
    }
   ],
   "source": [
    "query = \"\"\"\n",
    "MATCH (playa:nodo_playa)-[:UBICADA]-(provincia:nodo_provincia)-[:PERTENECE]-(comunidad:nodo_comunidad)\n",
    "WHERE provincia.nv_nombre = 'A Coruña'\n",
    "RETURN \n",
    "       playa.np_nombre         AS PLAYA, \n",
    "       playa.np_longitud       AS LONGITUD,\n",
    "       provincia.nv_nombre     AS PROVINCIA,\n",
    "       comunidad.nc_nombre     AS COMUNIDAD\n",
    "ORDER BY playa.np_longitud DESC\n",
    "LIMIT 10\n",
    "\"\"\" \n",
    "\n",
    "data = graph_N.run(query)\n",
    "df = fun_convertir_cursorBD_a_dataframe(data)\n",
    "df"
   ]
  },
  {
   "cell_type": "markdown",
   "metadata": {},
   "source": [
    "#### 2.3) Con **CYPHER** convirtiendo su resultado en un DataFrame"
   ]
  },
  {
   "cell_type": "code",
   "execution_count": 22,
   "metadata": {
    "collapsed": false
   },
   "outputs": [
    {
     "data": {
      "text/html": [
       "<div>\n",
       "<style>\n",
       "    .dataframe thead tr:only-child th {\n",
       "        text-align: right;\n",
       "    }\n",
       "\n",
       "    .dataframe thead th {\n",
       "        text-align: left;\n",
       "    }\n",
       "\n",
       "    .dataframe tbody tr th {\n",
       "        vertical-align: top;\n",
       "    }\n",
       "</style>\n",
       "<table border=\"1\" class=\"dataframe\">\n",
       "  <thead>\n",
       "    <tr style=\"text-align: right;\">\n",
       "      <th></th>\n",
       "      <th>PLAYA</th>\n",
       "      <th>LONGITUD</th>\n",
       "      <th>PROVINCIA</th>\n",
       "      <th>COMUNIDAD</th>\n",
       "    </tr>\n",
       "  </thead>\n",
       "  <tbody>\n",
       "    <tr>\n",
       "      <th>0</th>\n",
       "      <td>Carnota</td>\n",
       "      <td>5600</td>\n",
       "      <td>A Coruña</td>\n",
       "      <td>Galicia</td>\n",
       "    </tr>\n",
       "    <tr>\n",
       "      <th>1</th>\n",
       "      <td>Baldaio</td>\n",
       "      <td>4000</td>\n",
       "      <td>A Coruña</td>\n",
       "      <td>Galicia</td>\n",
       "    </tr>\n",
       "    <tr>\n",
       "      <th>2</th>\n",
       "      <td>A Frouxeira</td>\n",
       "      <td>3000</td>\n",
       "      <td>A Coruña</td>\n",
       "      <td>Galicia</td>\n",
       "    </tr>\n",
       "    <tr>\n",
       "      <th>3</th>\n",
       "      <td>Vilar</td>\n",
       "      <td>2900</td>\n",
       "      <td>A Coruña</td>\n",
       "      <td>Galicia</td>\n",
       "    </tr>\n",
       "    <tr>\n",
       "      <th>4</th>\n",
       "      <td>Morouzos</td>\n",
       "      <td>2800</td>\n",
       "      <td>A Coruña</td>\n",
       "      <td>Galicia</td>\n",
       "    </tr>\n",
       "    <tr>\n",
       "      <th>5</th>\n",
       "      <td>Traba</td>\n",
       "      <td>2650</td>\n",
       "      <td>A Coruña</td>\n",
       "      <td>Galicia</td>\n",
       "    </tr>\n",
       "    <tr>\n",
       "      <th>6</th>\n",
       "      <td>Barraña</td>\n",
       "      <td>2150</td>\n",
       "      <td>A Coruña</td>\n",
       "      <td>Galicia</td>\n",
       "    </tr>\n",
       "    <tr>\n",
       "      <th>7</th>\n",
       "      <td>Areas Longas</td>\n",
       "      <td>2100</td>\n",
       "      <td>A Coruña</td>\n",
       "      <td>Galicia</td>\n",
       "    </tr>\n",
       "    <tr>\n",
       "      <th>8</th>\n",
       "      <td>Carragueiros</td>\n",
       "      <td>2000</td>\n",
       "      <td>A Coruña</td>\n",
       "      <td>Galicia</td>\n",
       "    </tr>\n",
       "    <tr>\n",
       "      <th>9</th>\n",
       "      <td>Langosteira</td>\n",
       "      <td>1970</td>\n",
       "      <td>A Coruña</td>\n",
       "      <td>Galicia</td>\n",
       "    </tr>\n",
       "  </tbody>\n",
       "</table>\n",
       "</div>"
      ],
      "text/plain": [
       "          PLAYA  LONGITUD PROVINCIA COMUNIDAD\n",
       "0       Carnota      5600  A Coru��a   Galicia\n",
       "1       Baldaio      4000  A Coru��a   Galicia\n",
       "2   A Frouxeira      3000  A Coru��a   Galicia\n",
       "3         Vilar      2900  A Coru��a   Galicia\n",
       "4      Morouzos      2800  A Coru��a   Galicia\n",
       "5         Traba      2650  A Coru��a   Galicia\n",
       "6       Barra��a      2150  A Coru��a   Galicia\n",
       "7  Areas Longas      2100  A Coru��a   Galicia\n",
       "8  Carragueiros      2000  A Coru��a   Galicia\n",
       "9   Langosteira      1970  A Coru��a   Galicia"
      ]
     },
     "execution_count": 22,
     "metadata": {},
     "output_type": "execute_result"
    }
   ],
   "source": [
    "res = %cypher MATCH (playa:nodo_playa)-[:UBICADA]-(provincia:nodo_provincia)-[:PERTENECE]-(comunidad:nodo_comunidad) \\\n",
    "              WHERE provincia.nv_nombre = 'A Coruña'            \\\n",
    "              RETURN                                            \\\n",
    "                     playa.np_nombre         AS PLAYA,          \\\n",
    "                     playa.np_longitud       AS LONGITUD,       \\\n",
    "                     provincia.nv_nombre     AS PROVINCIA,      \\\n",
    "                     comunidad.nc_nombre     AS COMUNIDAD       \\\n",
    "              ORDER BY playa.np_longitud DESC                   \\\n",
    "              LIMIT 10\n",
    "\n",
    "            \n",
    "res.get_dataframe()"
   ]
  },
  {
   "cell_type": "markdown",
   "metadata": {},
   "source": [
    "### QUERY_3) Las playas de una comunidad autónoma concreta (ordenadas por longitud)"
   ]
  },
  {
   "cell_type": "markdown",
   "metadata": {},
   "source": [
    "#### 3.1) Con CYPHER"
   ]
  },
  {
   "cell_type": "code",
   "execution_count": 23,
   "metadata": {
    "collapsed": false
   },
   "outputs": [
    {
     "data": {
      "text/html": [
       "<table>\n",
       "    <tr>\n",
       "        <th>PLAYA</th>\n",
       "        <th>LONGITUD</th>\n",
       "        <th>PROVINCIA</th>\n",
       "        <th>COMUNIDAD</th>\n",
       "    </tr>\n",
       "    <tr>\n",
       "        <td>Carnota</td>\n",
       "        <td>5600</td>\n",
       "        <td>A Coruña</td>\n",
       "        <td>Galicia</td>\n",
       "    </tr>\n",
       "    <tr>\n",
       "        <td>Baldaio</td>\n",
       "        <td>4000</td>\n",
       "        <td>A Coruña</td>\n",
       "        <td>Galicia</td>\n",
       "    </tr>\n",
       "    <tr>\n",
       "        <td>A Frouxeira</td>\n",
       "        <td>3000</td>\n",
       "        <td>A Coruña</td>\n",
       "        <td>Galicia</td>\n",
       "    </tr>\n",
       "    <tr>\n",
       "        <td>Vilar</td>\n",
       "        <td>2900</td>\n",
       "        <td>A Coruña</td>\n",
       "        <td>Galicia</td>\n",
       "    </tr>\n",
       "    <tr>\n",
       "        <td>Morouzos</td>\n",
       "        <td>2800</td>\n",
       "        <td>A Coruña</td>\n",
       "        <td>Galicia</td>\n",
       "    </tr>\n",
       "    <tr>\n",
       "        <td>Traba</td>\n",
       "        <td>2650</td>\n",
       "        <td>A Coruña</td>\n",
       "        <td>Galicia</td>\n",
       "    </tr>\n",
       "    <tr>\n",
       "        <td>Da Punta</td>\n",
       "        <td>2400</td>\n",
       "        <td>Pontevedra</td>\n",
       "        <td>Galicia</td>\n",
       "    </tr>\n",
       "    <tr>\n",
       "        <td>A Lanzada</td>\n",
       "        <td>2400</td>\n",
       "        <td>Pontevedra</td>\n",
       "        <td>Galicia</td>\n",
       "    </tr>\n",
       "    <tr>\n",
       "        <td>Barraña</td>\n",
       "        <td>2150</td>\n",
       "        <td>A Coruña</td>\n",
       "        <td>Galicia</td>\n",
       "    </tr>\n",
       "    <tr>\n",
       "        <td>Areas Longas</td>\n",
       "        <td>2100</td>\n",
       "        <td>A Coruña</td>\n",
       "        <td>Galicia</td>\n",
       "    </tr>\n",
       "</table>"
      ],
      "text/plain": [
       "[[u'Carnota', 5600, u'A Coru\\xf1a', u'Galicia'],\n",
       " [u'Baldaio', 4000, u'A Coru\\xf1a', u'Galicia'],\n",
       " [u'A Frouxeira', 3000, u'A Coru\\xf1a', u'Galicia'],\n",
       " [u'Vilar', 2900, u'A Coru\\xf1a', u'Galicia'],\n",
       " [u'Morouzos', 2800, u'A Coru\\xf1a', u'Galicia'],\n",
       " [u'Traba', 2650, u'A Coru\\xf1a', u'Galicia'],\n",
       " [u'Da Punta', 2400, u'Pontevedra', u'Galicia'],\n",
       " [u'A Lanzada', 2400, u'Pontevedra', u'Galicia'],\n",
       " [u'Barra\\xf1a', 2150, u'A Coru\\xf1a', u'Galicia'],\n",
       " [u'Areas Longas', 2100, u'A Coru\\xf1a', u'Galicia']]"
      ]
     },
     "execution_count": 23,
     "metadata": {},
     "output_type": "execute_result"
    }
   ],
   "source": [
    "%%cypher\n",
    "\n",
    "MATCH (playa:nodo_playa)-[:UBICADA]-(provincia:nodo_provincia)-[:PERTENECE]-(comunidad:nodo_comunidad)\n",
    "WHERE comunidad.nc_nombre = 'Galicia'\n",
    "RETURN \n",
    "       playa.np_nombre         AS PLAYA, \n",
    "       playa.np_longitud       AS LONGITUD,\n",
    "       provincia.nv_nombre     AS PROVINCIA,\n",
    "       comunidad.nc_nombre     AS COMUNIDAD\n",
    "ORDER BY playa.np_longitud DESC\n",
    "LIMIT 10"
   ]
  },
  {
   "cell_type": "markdown",
   "metadata": {},
   "source": [
    "#### 3.2) Con \"graph.run()\" convirtiendo su resultado en un DataFrame"
   ]
  },
  {
   "cell_type": "code",
   "execution_count": 24,
   "metadata": {
    "collapsed": false
   },
   "outputs": [
    {
     "data": {
      "text/html": [
       "<div>\n",
       "<style>\n",
       "    .dataframe thead tr:only-child th {\n",
       "        text-align: right;\n",
       "    }\n",
       "\n",
       "    .dataframe thead th {\n",
       "        text-align: left;\n",
       "    }\n",
       "\n",
       "    .dataframe tbody tr th {\n",
       "        vertical-align: top;\n",
       "    }\n",
       "</style>\n",
       "<table border=\"1\" class=\"dataframe\">\n",
       "  <thead>\n",
       "    <tr style=\"text-align: right;\">\n",
       "      <th></th>\n",
       "      <th>PLAYA</th>\n",
       "      <th>LONGITUD</th>\n",
       "      <th>PROVINCIA</th>\n",
       "      <th>COMUNIDAD</th>\n",
       "    </tr>\n",
       "  </thead>\n",
       "  <tbody>\n",
       "    <tr>\n",
       "      <th>0</th>\n",
       "      <td>Carnota</td>\n",
       "      <td>5600</td>\n",
       "      <td>A Coruña</td>\n",
       "      <td>Galicia</td>\n",
       "    </tr>\n",
       "    <tr>\n",
       "      <th>1</th>\n",
       "      <td>Baldaio</td>\n",
       "      <td>4000</td>\n",
       "      <td>A Coruña</td>\n",
       "      <td>Galicia</td>\n",
       "    </tr>\n",
       "    <tr>\n",
       "      <th>2</th>\n",
       "      <td>A Frouxeira</td>\n",
       "      <td>3000</td>\n",
       "      <td>A Coruña</td>\n",
       "      <td>Galicia</td>\n",
       "    </tr>\n",
       "    <tr>\n",
       "      <th>3</th>\n",
       "      <td>Vilar</td>\n",
       "      <td>2900</td>\n",
       "      <td>A Coruña</td>\n",
       "      <td>Galicia</td>\n",
       "    </tr>\n",
       "    <tr>\n",
       "      <th>4</th>\n",
       "      <td>Morouzos</td>\n",
       "      <td>2800</td>\n",
       "      <td>A Coruña</td>\n",
       "      <td>Galicia</td>\n",
       "    </tr>\n",
       "    <tr>\n",
       "      <th>5</th>\n",
       "      <td>Traba</td>\n",
       "      <td>2650</td>\n",
       "      <td>A Coruña</td>\n",
       "      <td>Galicia</td>\n",
       "    </tr>\n",
       "    <tr>\n",
       "      <th>6</th>\n",
       "      <td>Da Punta</td>\n",
       "      <td>2400</td>\n",
       "      <td>Pontevedra</td>\n",
       "      <td>Galicia</td>\n",
       "    </tr>\n",
       "    <tr>\n",
       "      <th>7</th>\n",
       "      <td>A Lanzada</td>\n",
       "      <td>2400</td>\n",
       "      <td>Pontevedra</td>\n",
       "      <td>Galicia</td>\n",
       "    </tr>\n",
       "    <tr>\n",
       "      <th>8</th>\n",
       "      <td>Barraña</td>\n",
       "      <td>2150</td>\n",
       "      <td>A Coruña</td>\n",
       "      <td>Galicia</td>\n",
       "    </tr>\n",
       "    <tr>\n",
       "      <th>9</th>\n",
       "      <td>Areas Longas</td>\n",
       "      <td>2100</td>\n",
       "      <td>A Coruña</td>\n",
       "      <td>Galicia</td>\n",
       "    </tr>\n",
       "  </tbody>\n",
       "</table>\n",
       "</div>"
      ],
      "text/plain": [
       "          PLAYA  LONGITUD   PROVINCIA COMUNIDAD\n",
       "0       Carnota      5600    A Coru��a   Galicia\n",
       "1       Baldaio      4000    A Coru��a   Galicia\n",
       "2   A Frouxeira      3000    A Coru��a   Galicia\n",
       "3         Vilar      2900    A Coru��a   Galicia\n",
       "4      Morouzos      2800    A Coru��a   Galicia\n",
       "5         Traba      2650    A Coru��a   Galicia\n",
       "6      Da Punta      2400  Pontevedra   Galicia\n",
       "7     A Lanzada      2400  Pontevedra   Galicia\n",
       "8       Barra��a      2150    A Coru��a   Galicia\n",
       "9  Areas Longas      2100    A Coru��a   Galicia"
      ]
     },
     "execution_count": 24,
     "metadata": {},
     "output_type": "execute_result"
    }
   ],
   "source": [
    "query = \"\"\"\n",
    "MATCH (playa:nodo_playa)-[:UBICADA]-(provincia:nodo_provincia)-[:PERTENECE]-(comunidad:nodo_comunidad)\n",
    "WHERE comunidad.nc_nombre = 'Galicia'\n",
    "RETURN \n",
    "       playa.np_nombre         AS PLAYA, \n",
    "       playa.np_longitud       AS LONGITUD,\n",
    "       provincia.nv_nombre     AS PROVINCIA,\n",
    "       comunidad.nc_nombre     AS COMUNIDAD\n",
    "ORDER BY playa.np_longitud DESC\n",
    "LIMIT 10\n",
    "\"\"\" \n",
    "\n",
    "data = graph_N.run(query)\n",
    "df = fun_convertir_cursorBD_a_dataframe(data)\n",
    "df"
   ]
  },
  {
   "cell_type": "markdown",
   "metadata": {},
   "source": [
    "#### 3.3) Con **CYPHER** convirtiendo su resultado en un DataFrame"
   ]
  },
  {
   "cell_type": "code",
   "execution_count": 25,
   "metadata": {
    "collapsed": false
   },
   "outputs": [
    {
     "data": {
      "text/html": [
       "<div>\n",
       "<style>\n",
       "    .dataframe thead tr:only-child th {\n",
       "        text-align: right;\n",
       "    }\n",
       "\n",
       "    .dataframe thead th {\n",
       "        text-align: left;\n",
       "    }\n",
       "\n",
       "    .dataframe tbody tr th {\n",
       "        vertical-align: top;\n",
       "    }\n",
       "</style>\n",
       "<table border=\"1\" class=\"dataframe\">\n",
       "  <thead>\n",
       "    <tr style=\"text-align: right;\">\n",
       "      <th></th>\n",
       "      <th>PLAYA</th>\n",
       "      <th>LONGITUD</th>\n",
       "      <th>PROVINCIA</th>\n",
       "      <th>COMUNIDAD</th>\n",
       "    </tr>\n",
       "  </thead>\n",
       "  <tbody>\n",
       "    <tr>\n",
       "      <th>0</th>\n",
       "      <td>Carnota</td>\n",
       "      <td>5600</td>\n",
       "      <td>A Coruña</td>\n",
       "      <td>Galicia</td>\n",
       "    </tr>\n",
       "    <tr>\n",
       "      <th>1</th>\n",
       "      <td>Baldaio</td>\n",
       "      <td>4000</td>\n",
       "      <td>A Coruña</td>\n",
       "      <td>Galicia</td>\n",
       "    </tr>\n",
       "    <tr>\n",
       "      <th>2</th>\n",
       "      <td>A Frouxeira</td>\n",
       "      <td>3000</td>\n",
       "      <td>A Coruña</td>\n",
       "      <td>Galicia</td>\n",
       "    </tr>\n",
       "    <tr>\n",
       "      <th>3</th>\n",
       "      <td>Vilar</td>\n",
       "      <td>2900</td>\n",
       "      <td>A Coruña</td>\n",
       "      <td>Galicia</td>\n",
       "    </tr>\n",
       "    <tr>\n",
       "      <th>4</th>\n",
       "      <td>Morouzos</td>\n",
       "      <td>2800</td>\n",
       "      <td>A Coruña</td>\n",
       "      <td>Galicia</td>\n",
       "    </tr>\n",
       "    <tr>\n",
       "      <th>5</th>\n",
       "      <td>Traba</td>\n",
       "      <td>2650</td>\n",
       "      <td>A Coruña</td>\n",
       "      <td>Galicia</td>\n",
       "    </tr>\n",
       "    <tr>\n",
       "      <th>6</th>\n",
       "      <td>Da Punta</td>\n",
       "      <td>2400</td>\n",
       "      <td>Pontevedra</td>\n",
       "      <td>Galicia</td>\n",
       "    </tr>\n",
       "    <tr>\n",
       "      <th>7</th>\n",
       "      <td>A Lanzada</td>\n",
       "      <td>2400</td>\n",
       "      <td>Pontevedra</td>\n",
       "      <td>Galicia</td>\n",
       "    </tr>\n",
       "    <tr>\n",
       "      <th>8</th>\n",
       "      <td>Barraña</td>\n",
       "      <td>2150</td>\n",
       "      <td>A Coruña</td>\n",
       "      <td>Galicia</td>\n",
       "    </tr>\n",
       "    <tr>\n",
       "      <th>9</th>\n",
       "      <td>Areas Longas</td>\n",
       "      <td>2100</td>\n",
       "      <td>A Coruña</td>\n",
       "      <td>Galicia</td>\n",
       "    </tr>\n",
       "  </tbody>\n",
       "</table>\n",
       "</div>"
      ],
      "text/plain": [
       "          PLAYA  LONGITUD   PROVINCIA COMUNIDAD\n",
       "0       Carnota      5600    A Coru��a   Galicia\n",
       "1       Baldaio      4000    A Coru��a   Galicia\n",
       "2   A Frouxeira      3000    A Coru��a   Galicia\n",
       "3         Vilar      2900    A Coru��a   Galicia\n",
       "4      Morouzos      2800    A Coru��a   Galicia\n",
       "5         Traba      2650    A Coru��a   Galicia\n",
       "6      Da Punta      2400  Pontevedra   Galicia\n",
       "7     A Lanzada      2400  Pontevedra   Galicia\n",
       "8       Barra��a      2150    A Coru��a   Galicia\n",
       "9  Areas Longas      2100    A Coru��a   Galicia"
      ]
     },
     "execution_count": 25,
     "metadata": {},
     "output_type": "execute_result"
    }
   ],
   "source": [
    "res = %cypher MATCH (playa:nodo_playa)-[:UBICADA]-(provincia:nodo_provincia)-[:PERTENECE]-(comunidad:nodo_comunidad) \\\n",
    "              WHERE comunidad.nc_nombre = 'Galicia'             \\\n",
    "              RETURN                                            \\\n",
    "                     playa.np_nombre         AS PLAYA,          \\\n",
    "                     playa.np_longitud       AS LONGITUD,       \\\n",
    "                     provincia.nv_nombre     AS PROVINCIA,      \\\n",
    "                     comunidad.nc_nombre     AS COMUNIDAD       \\\n",
    "              ORDER BY playa.np_longitud DESC                   \\\n",
    "              LIMIT 10\n",
    "            \n",
    "res.get_dataframe()"
   ]
  },
  {
   "cell_type": "markdown",
   "metadata": {},
   "source": [
    "### QUERY_4) Las 10 provincias que mas metros de playa tienen¶"
   ]
  },
  {
   "cell_type": "markdown",
   "metadata": {},
   "source": [
    "#### 4.1) Con CYPHER"
   ]
  },
  {
   "cell_type": "code",
   "execution_count": 26,
   "metadata": {
    "collapsed": false
   },
   "outputs": [
    {
     "data": {
      "text/html": [
       "<table>\n",
       "    <tr>\n",
       "        <th>PROVINCIA</th>\n",
       "        <th>metros_de_playa</th>\n",
       "    </tr>\n",
       "    <tr>\n",
       "        <td>A Coruña</td>\n",
       "        <td>157040</td>\n",
       "    </tr>\n",
       "    <tr>\n",
       "        <td>Cádiz</td>\n",
       "        <td>138473</td>\n",
       "    </tr>\n",
       "    <tr>\n",
       "        <td>Las Palmas</td>\n",
       "        <td>137337</td>\n",
       "    </tr>\n",
       "    <tr>\n",
       "        <td>Málaga</td>\n",
       "        <td>136720</td>\n",
       "    </tr>\n",
       "    <tr>\n",
       "        <td>Almería</td>\n",
       "        <td>120765</td>\n",
       "    </tr>\n",
       "    <tr>\n",
       "        <td>Alicante/Alacant</td>\n",
       "        <td>118148</td>\n",
       "    </tr>\n",
       "    <tr>\n",
       "        <td>Illes Balears</td>\n",
       "        <td>117767</td>\n",
       "    </tr>\n",
       "    <tr>\n",
       "        <td>Huelva</td>\n",
       "        <td>113720</td>\n",
       "    </tr>\n",
       "    <tr>\n",
       "        <td>Murcia</td>\n",
       "        <td>102431</td>\n",
       "    </tr>\n",
       "    <tr>\n",
       "        <td>Tarragona</td>\n",
       "        <td>99015</td>\n",
       "    </tr>\n",
       "</table>"
      ],
      "text/plain": [
       "[[u'A Coru\\xf1a', 157040],\n",
       " [u'C\\xe1diz', 138473],\n",
       " [u'Las Palmas', 137337],\n",
       " [u'M\\xe1laga', 136720],\n",
       " [u'Almer\\xeda', 120765],\n",
       " [u'Alicante/Alacant', 118148],\n",
       " [u'Illes Balears', 117767],\n",
       " [u'Huelva', 113720],\n",
       " [u'Murcia', 102431],\n",
       " [u'Tarragona', 99015]]"
      ]
     },
     "execution_count": 26,
     "metadata": {},
     "output_type": "execute_result"
    }
   ],
   "source": [
    "%%cypher\n",
    "\n",
    "\n",
    "MATCH (playa:nodo_playa)-[:UBICADA]-(provincia:nodo_provincia)-[:PERTENECE]-(comunidad:nodo_comunidad)\n",
    "RETURN \n",
    "       provincia.nv_nombre     AS PROVINCIA,\n",
    "       sum(playa.np_longitud)  AS metros_de_playa\n",
    "ORDER BY metros_de_playa DESC\n",
    "LIMIT 10"
   ]
  },
  {
   "cell_type": "markdown",
   "metadata": {},
   "source": [
    "#### 4.2) Con \"graph.run()\" convirtiendo su resultado en un DataFrame"
   ]
  },
  {
   "cell_type": "code",
   "execution_count": 27,
   "metadata": {
    "collapsed": false
   },
   "outputs": [
    {
     "data": {
      "text/html": [
       "<div>\n",
       "<style>\n",
       "    .dataframe thead tr:only-child th {\n",
       "        text-align: right;\n",
       "    }\n",
       "\n",
       "    .dataframe thead th {\n",
       "        text-align: left;\n",
       "    }\n",
       "\n",
       "    .dataframe tbody tr th {\n",
       "        vertical-align: top;\n",
       "    }\n",
       "</style>\n",
       "<table border=\"1\" class=\"dataframe\">\n",
       "  <thead>\n",
       "    <tr style=\"text-align: right;\">\n",
       "      <th></th>\n",
       "      <th>PROVINCIA</th>\n",
       "      <th>metros_de_playa</th>\n",
       "    </tr>\n",
       "  </thead>\n",
       "  <tbody>\n",
       "    <tr>\n",
       "      <th>0</th>\n",
       "      <td>A Coruña</td>\n",
       "      <td>157040</td>\n",
       "    </tr>\n",
       "    <tr>\n",
       "      <th>1</th>\n",
       "      <td>Cádiz</td>\n",
       "      <td>138473</td>\n",
       "    </tr>\n",
       "    <tr>\n",
       "      <th>2</th>\n",
       "      <td>Las Palmas</td>\n",
       "      <td>137337</td>\n",
       "    </tr>\n",
       "    <tr>\n",
       "      <th>3</th>\n",
       "      <td>Málaga</td>\n",
       "      <td>136720</td>\n",
       "    </tr>\n",
       "    <tr>\n",
       "      <th>4</th>\n",
       "      <td>Almería</td>\n",
       "      <td>120765</td>\n",
       "    </tr>\n",
       "    <tr>\n",
       "      <th>5</th>\n",
       "      <td>Alicante/Alacant</td>\n",
       "      <td>118148</td>\n",
       "    </tr>\n",
       "    <tr>\n",
       "      <th>6</th>\n",
       "      <td>Illes Balears</td>\n",
       "      <td>117767</td>\n",
       "    </tr>\n",
       "    <tr>\n",
       "      <th>7</th>\n",
       "      <td>Huelva</td>\n",
       "      <td>113720</td>\n",
       "    </tr>\n",
       "    <tr>\n",
       "      <th>8</th>\n",
       "      <td>Murcia</td>\n",
       "      <td>102431</td>\n",
       "    </tr>\n",
       "    <tr>\n",
       "      <th>9</th>\n",
       "      <td>Tarragona</td>\n",
       "      <td>99015</td>\n",
       "    </tr>\n",
       "  </tbody>\n",
       "</table>\n",
       "</div>"
      ],
      "text/plain": [
       "          PROVINCIA  metros_de_playa\n",
       "0          A Coru��a           157040\n",
       "1             C��diz           138473\n",
       "2        Las Palmas           137337\n",
       "3            M��laga           136720\n",
       "4           Almer��a           120765\n",
       "5  Alicante/Alacant           118148\n",
       "6     Illes Balears           117767\n",
       "7            Huelva           113720\n",
       "8            Murcia           102431\n",
       "9         Tarragona            99015"
      ]
     },
     "execution_count": 27,
     "metadata": {},
     "output_type": "execute_result"
    }
   ],
   "source": [
    "query = \"\"\"\n",
    "MATCH (playa:nodo_playa)-[:UBICADA]-(provincia:nodo_provincia)-[:PERTENECE]-(comunidad:nodo_comunidad)\n",
    "RETURN \n",
    "       provincia.nv_nombre     AS PROVINCIA,\n",
    "       sum(playa.np_longitud)  AS metros_de_playa\n",
    "ORDER BY metros_de_playa DESC\n",
    "LIMIT 10\n",
    "\"\"\" \n",
    "\n",
    "data = graph_N.run(query)\n",
    "df = fun_convertir_cursorBD_a_dataframe(data)\n",
    "df"
   ]
  },
  {
   "cell_type": "markdown",
   "metadata": {},
   "source": [
    "#### 4.3) Con **CYPHER** convirtiendo su resultado en un DataFrame"
   ]
  },
  {
   "cell_type": "code",
   "execution_count": 28,
   "metadata": {
    "collapsed": false
   },
   "outputs": [
    {
     "data": {
      "text/html": [
       "<div>\n",
       "<style>\n",
       "    .dataframe thead tr:only-child th {\n",
       "        text-align: right;\n",
       "    }\n",
       "\n",
       "    .dataframe thead th {\n",
       "        text-align: left;\n",
       "    }\n",
       "\n",
       "    .dataframe tbody tr th {\n",
       "        vertical-align: top;\n",
       "    }\n",
       "</style>\n",
       "<table border=\"1\" class=\"dataframe\">\n",
       "  <thead>\n",
       "    <tr style=\"text-align: right;\">\n",
       "      <th></th>\n",
       "      <th>PROVINCIA</th>\n",
       "      <th>metros_de_playa</th>\n",
       "    </tr>\n",
       "  </thead>\n",
       "  <tbody>\n",
       "    <tr>\n",
       "      <th>0</th>\n",
       "      <td>A Coruña</td>\n",
       "      <td>157040</td>\n",
       "    </tr>\n",
       "    <tr>\n",
       "      <th>1</th>\n",
       "      <td>Cádiz</td>\n",
       "      <td>138473</td>\n",
       "    </tr>\n",
       "    <tr>\n",
       "      <th>2</th>\n",
       "      <td>Las Palmas</td>\n",
       "      <td>137337</td>\n",
       "    </tr>\n",
       "    <tr>\n",
       "      <th>3</th>\n",
       "      <td>Málaga</td>\n",
       "      <td>136720</td>\n",
       "    </tr>\n",
       "    <tr>\n",
       "      <th>4</th>\n",
       "      <td>Almería</td>\n",
       "      <td>120765</td>\n",
       "    </tr>\n",
       "    <tr>\n",
       "      <th>5</th>\n",
       "      <td>Alicante/Alacant</td>\n",
       "      <td>118148</td>\n",
       "    </tr>\n",
       "    <tr>\n",
       "      <th>6</th>\n",
       "      <td>Illes Balears</td>\n",
       "      <td>117767</td>\n",
       "    </tr>\n",
       "    <tr>\n",
       "      <th>7</th>\n",
       "      <td>Huelva</td>\n",
       "      <td>113720</td>\n",
       "    </tr>\n",
       "    <tr>\n",
       "      <th>8</th>\n",
       "      <td>Murcia</td>\n",
       "      <td>102431</td>\n",
       "    </tr>\n",
       "    <tr>\n",
       "      <th>9</th>\n",
       "      <td>Tarragona</td>\n",
       "      <td>99015</td>\n",
       "    </tr>\n",
       "  </tbody>\n",
       "</table>\n",
       "</div>"
      ],
      "text/plain": [
       "          PROVINCIA  metros_de_playa\n",
       "0          A Coru��a           157040\n",
       "1             C��diz           138473\n",
       "2        Las Palmas           137337\n",
       "3            M��laga           136720\n",
       "4           Almer��a           120765\n",
       "5  Alicante/Alacant           118148\n",
       "6     Illes Balears           117767\n",
       "7            Huelva           113720\n",
       "8            Murcia           102431\n",
       "9         Tarragona            99015"
      ]
     },
     "execution_count": 28,
     "metadata": {},
     "output_type": "execute_result"
    }
   ],
   "source": [
    "res = %cypher MATCH (playa:nodo_playa)-[:UBICADA]-(provincia:nodo_provincia)-[:PERTENECE]-(comunidad:nodo_comunidad) \\\n",
    "              RETURN                                            \\\n",
    "                     provincia.nv_nombre     AS PROVINCIA,      \\\n",
    "                     sum(playa.np_longitud)  AS metros_de_playa \\\n",
    "              ORDER BY metros_de_playa DESC                     \\\n",
    "              LIMIT 10\n",
    "            \n",
    "res.get_dataframe()"
   ]
  },
  {
   "cell_type": "markdown",
   "metadata": {},
   "source": [
    "### QUERY_5) Metros de playa de una cierta Comunidad Autónoma agrupados por provincia¶"
   ]
  },
  {
   "cell_type": "markdown",
   "metadata": {},
   "source": [
    "#### 5.1) Con CYPHER"
   ]
  },
  {
   "cell_type": "code",
   "execution_count": 29,
   "metadata": {
    "collapsed": false
   },
   "outputs": [
    {
     "data": {
      "text/html": [
       "<table>\n",
       "    <tr>\n",
       "        <th>COMUNIDAD</th>\n",
       "        <th>PROVINCIA</th>\n",
       "        <th>metros_de_playa</th>\n",
       "    </tr>\n",
       "    <tr>\n",
       "        <td>Galicia</td>\n",
       "        <td>A Coruña</td>\n",
       "        <td>157040</td>\n",
       "    </tr>\n",
       "    <tr>\n",
       "        <td>Galicia</td>\n",
       "        <td>Pontevedra</td>\n",
       "        <td>93552</td>\n",
       "    </tr>\n",
       "    <tr>\n",
       "        <td>Galicia</td>\n",
       "        <td>Lugo</td>\n",
       "        <td>27217</td>\n",
       "    </tr>\n",
       "</table>"
      ],
      "text/plain": [
       "[[u'Galicia', u'A Coru\\xf1a', 157040],\n",
       " [u'Galicia', u'Pontevedra', 93552],\n",
       " [u'Galicia', u'Lugo', 27217]]"
      ]
     },
     "execution_count": 29,
     "metadata": {},
     "output_type": "execute_result"
    }
   ],
   "source": [
    "%%cypher\n",
    "\n",
    "MATCH (playa:nodo_playa)-[:UBICADA]-(provincia:nodo_provincia)-[:PERTENECE]-(comunidad:nodo_comunidad)\n",
    "WHERE comunidad.nc_nombre = \"Galicia\"\n",
    "RETURN \n",
    "       comunidad.nc_nombre     AS COMUNIDAD,\n",
    "       provincia.nv_nombre     AS PROVINCIA,\n",
    "       sum(playa.np_longitud)  AS metros_de_playa\n",
    "ORDER BY metros_de_playa DESC\n",
    "LIMIT 10"
   ]
  },
  {
   "cell_type": "markdown",
   "metadata": {},
   "source": [
    "#### 5.2) Con \"graph.run()\" convirtiendo su resultado en un DataFrame"
   ]
  },
  {
   "cell_type": "code",
   "execution_count": 30,
   "metadata": {
    "collapsed": false
   },
   "outputs": [
    {
     "data": {
      "text/html": [
       "<div>\n",
       "<style>\n",
       "    .dataframe thead tr:only-child th {\n",
       "        text-align: right;\n",
       "    }\n",
       "\n",
       "    .dataframe thead th {\n",
       "        text-align: left;\n",
       "    }\n",
       "\n",
       "    .dataframe tbody tr th {\n",
       "        vertical-align: top;\n",
       "    }\n",
       "</style>\n",
       "<table border=\"1\" class=\"dataframe\">\n",
       "  <thead>\n",
       "    <tr style=\"text-align: right;\">\n",
       "      <th></th>\n",
       "      <th>COMUNIDAD</th>\n",
       "      <th>PROVINCIA</th>\n",
       "      <th>metros_de_playa</th>\n",
       "    </tr>\n",
       "  </thead>\n",
       "  <tbody>\n",
       "    <tr>\n",
       "      <th>0</th>\n",
       "      <td>Galicia</td>\n",
       "      <td>A Coruña</td>\n",
       "      <td>157040</td>\n",
       "    </tr>\n",
       "    <tr>\n",
       "      <th>1</th>\n",
       "      <td>Galicia</td>\n",
       "      <td>Pontevedra</td>\n",
       "      <td>93552</td>\n",
       "    </tr>\n",
       "    <tr>\n",
       "      <th>2</th>\n",
       "      <td>Galicia</td>\n",
       "      <td>Lugo</td>\n",
       "      <td>27217</td>\n",
       "    </tr>\n",
       "  </tbody>\n",
       "</table>\n",
       "</div>"
      ],
      "text/plain": [
       "  COMUNIDAD   PROVINCIA  metros_de_playa\n",
       "0   Galicia    A Coru��a           157040\n",
       "1   Galicia  Pontevedra            93552\n",
       "2   Galicia        Lugo            27217"
      ]
     },
     "execution_count": 30,
     "metadata": {},
     "output_type": "execute_result"
    }
   ],
   "source": [
    "query = \"\"\"\n",
    "MATCH (playa:nodo_playa)-[:UBICADA]-(provincia:nodo_provincia)-[:PERTENECE]-(comunidad:nodo_comunidad)\n",
    "WHERE comunidad.nc_nombre = \"Galicia\"\n",
    "RETURN \n",
    "       comunidad.nc_nombre     AS COMUNIDAD,\n",
    "       provincia.nv_nombre     AS PROVINCIA,\n",
    "       sum(playa.np_longitud)  AS metros_de_playa\n",
    "ORDER BY metros_de_playa DESC\n",
    "LIMIT 10\n",
    "\"\"\" \n",
    "\n",
    "data = graph_N.run(query)\n",
    "df = fun_convertir_cursorBD_a_dataframe(data)\n",
    "df"
   ]
  },
  {
   "cell_type": "markdown",
   "metadata": {},
   "source": [
    "#### 5.3) Con **CYPHER** convirtiendo su resultado en un DataFrame"
   ]
  },
  {
   "cell_type": "code",
   "execution_count": 31,
   "metadata": {
    "collapsed": false
   },
   "outputs": [
    {
     "data": {
      "text/html": [
       "<div>\n",
       "<style>\n",
       "    .dataframe thead tr:only-child th {\n",
       "        text-align: right;\n",
       "    }\n",
       "\n",
       "    .dataframe thead th {\n",
       "        text-align: left;\n",
       "    }\n",
       "\n",
       "    .dataframe tbody tr th {\n",
       "        vertical-align: top;\n",
       "    }\n",
       "</style>\n",
       "<table border=\"1\" class=\"dataframe\">\n",
       "  <thead>\n",
       "    <tr style=\"text-align: right;\">\n",
       "      <th></th>\n",
       "      <th>COMUNIDAD</th>\n",
       "      <th>PROVINCIA</th>\n",
       "      <th>metros_de_playa</th>\n",
       "    </tr>\n",
       "  </thead>\n",
       "  <tbody>\n",
       "    <tr>\n",
       "      <th>0</th>\n",
       "      <td>Galicia</td>\n",
       "      <td>A Coruña</td>\n",
       "      <td>157040</td>\n",
       "    </tr>\n",
       "    <tr>\n",
       "      <th>1</th>\n",
       "      <td>Galicia</td>\n",
       "      <td>Pontevedra</td>\n",
       "      <td>93552</td>\n",
       "    </tr>\n",
       "    <tr>\n",
       "      <th>2</th>\n",
       "      <td>Galicia</td>\n",
       "      <td>Lugo</td>\n",
       "      <td>27217</td>\n",
       "    </tr>\n",
       "  </tbody>\n",
       "</table>\n",
       "</div>"
      ],
      "text/plain": [
       "  COMUNIDAD   PROVINCIA  metros_de_playa\n",
       "0   Galicia    A Coru��a           157040\n",
       "1   Galicia  Pontevedra            93552\n",
       "2   Galicia        Lugo            27217"
      ]
     },
     "execution_count": 31,
     "metadata": {},
     "output_type": "execute_result"
    }
   ],
   "source": [
    "res = %cypher MATCH (playa:nodo_playa)-[:UBICADA]-(provincia:nodo_provincia)-[:PERTENECE]-(comunidad:nodo_comunidad) \\\n",
    "              WHERE comunidad.nc_nombre = \"Galicia\"             \\\n",
    "              RETURN                                            \\\n",
    "                     comunidad.nc_nombre     AS COMUNIDAD,      \\\n",
    "                     provincia.nv_nombre     AS PROVINCIA,      \\\n",
    "                     sum(playa.np_longitud)  AS metros_de_playa \\\n",
    "              ORDER BY metros_de_playa DESC                     \\\n",
    "              LIMIT 10\n",
    "            \n",
    "res.get_dataframe()"
   ]
  },
  {
   "cell_type": "markdown",
   "metadata": {},
   "source": [
    "### QUERY_6) ¿ Qué Comunidad tiene más metros de playa ?"
   ]
  },
  {
   "cell_type": "markdown",
   "metadata": {},
   "source": [
    "#### 6.1) Con CYPHER"
   ]
  },
  {
   "cell_type": "code",
   "execution_count": 32,
   "metadata": {
    "collapsed": false
   },
   "outputs": [
    {
     "data": {
      "text/html": [
       "<table>\n",
       "    <tr>\n",
       "        <th>COMUNIDAD</th>\n",
       "        <th>metros_de_playa</th>\n",
       "    </tr>\n",
       "    <tr>\n",
       "        <td>Andalucía</td>\n",
       "        <td>545459</td>\n",
       "    </tr>\n",
       "    <tr>\n",
       "        <td>Galicia</td>\n",
       "        <td>277809</td>\n",
       "    </tr>\n",
       "    <tr>\n",
       "        <td>Comunitat Valenciana</td>\n",
       "        <td>276872</td>\n",
       "    </tr>\n",
       "    <tr>\n",
       "        <td>Cataluña/Catalunya</td>\n",
       "        <td>237274</td>\n",
       "    </tr>\n",
       "    <tr>\n",
       "        <td>Canarias</td>\n",
       "        <td>209374</td>\n",
       "    </tr>\n",
       "    <tr>\n",
       "        <td>Illes Balears</td>\n",
       "        <td>117767</td>\n",
       "    </tr>\n",
       "    <tr>\n",
       "        <td>Murcia, Región de</td>\n",
       "        <td>102431</td>\n",
       "    </tr>\n",
       "    <tr>\n",
       "        <td>Asturias, Principado de</td>\n",
       "        <td>70428</td>\n",
       "    </tr>\n",
       "    <tr>\n",
       "        <td>Cantabria</td>\n",
       "        <td>49880</td>\n",
       "    </tr>\n",
       "    <tr>\n",
       "        <td>País Vasco/Euskadi</td>\n",
       "        <td>30715</td>\n",
       "    </tr>\n",
       "    <tr>\n",
       "        <td>Ceuta</td>\n",
       "        <td>5240</td>\n",
       "    </tr>\n",
       "    <tr>\n",
       "        <td>Melilla</td>\n",
       "        <td>2730</td>\n",
       "    </tr>\n",
       "</table>"
      ],
      "text/plain": [
       "[[u'Andaluc\\xeda', 545459],\n",
       " [u'Galicia', 277809],\n",
       " [u'Comunitat Valenciana', 276872],\n",
       " [u'Catalu\\xf1a/Catalunya', 237274],\n",
       " [u'Canarias', 209374],\n",
       " [u'Illes Balears', 117767],\n",
       " [u'Murcia, Regi\\xf3n de', 102431],\n",
       " [u'Asturias, Principado de', 70428],\n",
       " [u'Cantabria', 49880],\n",
       " [u'Pa\\xeds Vasco/Euskadi', 30715],\n",
       " [u'Ceuta', 5240],\n",
       " [u'Melilla', 2730]]"
      ]
     },
     "execution_count": 32,
     "metadata": {},
     "output_type": "execute_result"
    }
   ],
   "source": [
    "%%cypher\n",
    "\n",
    "MATCH (playa:nodo_playa)-[:UBICADA]-(provincia:nodo_provincia)-[:PERTENECE]-(comunidad:nodo_comunidad)\n",
    "RETURN \n",
    "       comunidad.nc_nombre     AS COMUNIDAD,\n",
    "       sum(playa.np_longitud)  AS metros_de_playa\n",
    "ORDER BY metros_de_playa DESC"
   ]
  },
  {
   "cell_type": "markdown",
   "metadata": {},
   "source": [
    "#### 6.2) Con \"graph.run()\" convirtiendo su resultado en un DataFrame"
   ]
  },
  {
   "cell_type": "code",
   "execution_count": 33,
   "metadata": {
    "collapsed": false
   },
   "outputs": [
    {
     "data": {
      "text/html": [
       "<div>\n",
       "<style>\n",
       "    .dataframe thead tr:only-child th {\n",
       "        text-align: right;\n",
       "    }\n",
       "\n",
       "    .dataframe thead th {\n",
       "        text-align: left;\n",
       "    }\n",
       "\n",
       "    .dataframe tbody tr th {\n",
       "        vertical-align: top;\n",
       "    }\n",
       "</style>\n",
       "<table border=\"1\" class=\"dataframe\">\n",
       "  <thead>\n",
       "    <tr style=\"text-align: right;\">\n",
       "      <th></th>\n",
       "      <th>COMUNIDAD</th>\n",
       "      <th>metros_de_playa</th>\n",
       "    </tr>\n",
       "  </thead>\n",
       "  <tbody>\n",
       "    <tr>\n",
       "      <th>0</th>\n",
       "      <td>Andalucía</td>\n",
       "      <td>545459</td>\n",
       "    </tr>\n",
       "    <tr>\n",
       "      <th>1</th>\n",
       "      <td>Galicia</td>\n",
       "      <td>277809</td>\n",
       "    </tr>\n",
       "    <tr>\n",
       "      <th>2</th>\n",
       "      <td>Comunitat Valenciana</td>\n",
       "      <td>276872</td>\n",
       "    </tr>\n",
       "    <tr>\n",
       "      <th>3</th>\n",
       "      <td>Cataluña/Catalunya</td>\n",
       "      <td>237274</td>\n",
       "    </tr>\n",
       "    <tr>\n",
       "      <th>4</th>\n",
       "      <td>Canarias</td>\n",
       "      <td>209374</td>\n",
       "    </tr>\n",
       "    <tr>\n",
       "      <th>5</th>\n",
       "      <td>Illes Balears</td>\n",
       "      <td>117767</td>\n",
       "    </tr>\n",
       "    <tr>\n",
       "      <th>6</th>\n",
       "      <td>Murcia, Región de</td>\n",
       "      <td>102431</td>\n",
       "    </tr>\n",
       "    <tr>\n",
       "      <th>7</th>\n",
       "      <td>Asturias, Principado de</td>\n",
       "      <td>70428</td>\n",
       "    </tr>\n",
       "    <tr>\n",
       "      <th>8</th>\n",
       "      <td>Cantabria</td>\n",
       "      <td>49880</td>\n",
       "    </tr>\n",
       "    <tr>\n",
       "      <th>9</th>\n",
       "      <td>País Vasco/Euskadi</td>\n",
       "      <td>30715</td>\n",
       "    </tr>\n",
       "    <tr>\n",
       "      <th>10</th>\n",
       "      <td>Ceuta</td>\n",
       "      <td>5240</td>\n",
       "    </tr>\n",
       "    <tr>\n",
       "      <th>11</th>\n",
       "      <td>Melilla</td>\n",
       "      <td>2730</td>\n",
       "    </tr>\n",
       "  </tbody>\n",
       "</table>\n",
       "</div>"
      ],
      "text/plain": [
       "                  COMUNIDAD  metros_de_playa\n",
       "0                 Andaluc��a           545459\n",
       "1                   Galicia           277809\n",
       "2      Comunitat Valenciana           276872\n",
       "3        Catalu��a/Catalunya           237274\n",
       "4                  Canarias           209374\n",
       "5             Illes Balears           117767\n",
       "6         Murcia, Regi��n de           102431\n",
       "7   Asturias, Principado de            70428\n",
       "8                 Cantabria            49880\n",
       "9        Pa��s Vasco/Euskadi            30715\n",
       "10                    Ceuta             5240\n",
       "11                  Melilla             2730"
      ]
     },
     "execution_count": 33,
     "metadata": {},
     "output_type": "execute_result"
    }
   ],
   "source": [
    "query = \"\"\"\n",
    "MATCH (playa:nodo_playa)-[:UBICADA]-(provincia:nodo_provincia)-[:PERTENECE]-(comunidad:nodo_comunidad)\n",
    "RETURN \n",
    "       comunidad.nc_nombre     AS COMUNIDAD,\n",
    "       sum(playa.np_longitud)  AS metros_de_playa\n",
    "ORDER BY metros_de_playa DESC\n",
    "\"\"\" \n",
    "\n",
    "data = graph_N.run(query)\n",
    "df = fun_convertir_cursorBD_a_dataframe(data)\n",
    "df"
   ]
  },
  {
   "cell_type": "markdown",
   "metadata": {},
   "source": [
    "#### 6.3) Con **CYPHER** convirtiendo su resultado en un DataFrame"
   ]
  },
  {
   "cell_type": "code",
   "execution_count": 34,
   "metadata": {
    "collapsed": false
   },
   "outputs": [
    {
     "data": {
      "text/html": [
       "<div>\n",
       "<style>\n",
       "    .dataframe thead tr:only-child th {\n",
       "        text-align: right;\n",
       "    }\n",
       "\n",
       "    .dataframe thead th {\n",
       "        text-align: left;\n",
       "    }\n",
       "\n",
       "    .dataframe tbody tr th {\n",
       "        vertical-align: top;\n",
       "    }\n",
       "</style>\n",
       "<table border=\"1\" class=\"dataframe\">\n",
       "  <thead>\n",
       "    <tr style=\"text-align: right;\">\n",
       "      <th></th>\n",
       "      <th>COMUNIDAD</th>\n",
       "      <th>metros_de_playa</th>\n",
       "    </tr>\n",
       "  </thead>\n",
       "  <tbody>\n",
       "    <tr>\n",
       "      <th>0</th>\n",
       "      <td>Andalucía</td>\n",
       "      <td>545459</td>\n",
       "    </tr>\n",
       "    <tr>\n",
       "      <th>1</th>\n",
       "      <td>Galicia</td>\n",
       "      <td>277809</td>\n",
       "    </tr>\n",
       "    <tr>\n",
       "      <th>2</th>\n",
       "      <td>Comunitat Valenciana</td>\n",
       "      <td>276872</td>\n",
       "    </tr>\n",
       "    <tr>\n",
       "      <th>3</th>\n",
       "      <td>Cataluña/Catalunya</td>\n",
       "      <td>237274</td>\n",
       "    </tr>\n",
       "    <tr>\n",
       "      <th>4</th>\n",
       "      <td>Canarias</td>\n",
       "      <td>209374</td>\n",
       "    </tr>\n",
       "    <tr>\n",
       "      <th>5</th>\n",
       "      <td>Illes Balears</td>\n",
       "      <td>117767</td>\n",
       "    </tr>\n",
       "    <tr>\n",
       "      <th>6</th>\n",
       "      <td>Murcia, Región de</td>\n",
       "      <td>102431</td>\n",
       "    </tr>\n",
       "    <tr>\n",
       "      <th>7</th>\n",
       "      <td>Asturias, Principado de</td>\n",
       "      <td>70428</td>\n",
       "    </tr>\n",
       "    <tr>\n",
       "      <th>8</th>\n",
       "      <td>Cantabria</td>\n",
       "      <td>49880</td>\n",
       "    </tr>\n",
       "    <tr>\n",
       "      <th>9</th>\n",
       "      <td>País Vasco/Euskadi</td>\n",
       "      <td>30715</td>\n",
       "    </tr>\n",
       "    <tr>\n",
       "      <th>10</th>\n",
       "      <td>Ceuta</td>\n",
       "      <td>5240</td>\n",
       "    </tr>\n",
       "    <tr>\n",
       "      <th>11</th>\n",
       "      <td>Melilla</td>\n",
       "      <td>2730</td>\n",
       "    </tr>\n",
       "  </tbody>\n",
       "</table>\n",
       "</div>"
      ],
      "text/plain": [
       "                  COMUNIDAD  metros_de_playa\n",
       "0                 Andaluc��a           545459\n",
       "1                   Galicia           277809\n",
       "2      Comunitat Valenciana           276872\n",
       "3        Catalu��a/Catalunya           237274\n",
       "4                  Canarias           209374\n",
       "5             Illes Balears           117767\n",
       "6         Murcia, Regi��n de           102431\n",
       "7   Asturias, Principado de            70428\n",
       "8                 Cantabria            49880\n",
       "9        Pa��s Vasco/Euskadi            30715\n",
       "10                    Ceuta             5240\n",
       "11                  Melilla             2730"
      ]
     },
     "execution_count": 34,
     "metadata": {},
     "output_type": "execute_result"
    }
   ],
   "source": [
    "res = %cypher MATCH (playa:nodo_playa)-[:UBICADA]-(provincia:nodo_provincia)-[:PERTENECE]-(comunidad:nodo_comunidad) \\\n",
    "              RETURN                                            \\\n",
    "                     comunidad.nc_nombre     AS COMUNIDAD,      \\\n",
    "                     sum(playa.np_longitud)  AS metros_de_playa \\\n",
    "              ORDER BY metros_de_playa DESC\n",
    "            \n",
    "res.get_dataframe()"
   ]
  },
  {
   "cell_type": "markdown",
   "metadata": {},
   "source": [
    "### QUERY_7) ¿ Qué provincia tiene más playas ... ?"
   ]
  },
  {
   "cell_type": "markdown",
   "metadata": {},
   "source": [
    "#### QUERY_7.1) ¿ Qué provincia tiene más playas ... en número ?"
   ]
  },
  {
   "cell_type": "code",
   "execution_count": 35,
   "metadata": {
    "collapsed": false
   },
   "outputs": [
    {
     "data": {
      "text/html": [
       "<div>\n",
       "<style>\n",
       "    .dataframe thead tr:only-child th {\n",
       "        text-align: right;\n",
       "    }\n",
       "\n",
       "    .dataframe thead th {\n",
       "        text-align: left;\n",
       "    }\n",
       "\n",
       "    .dataframe tbody tr th {\n",
       "        vertical-align: top;\n",
       "    }\n",
       "</style>\n",
       "<table border=\"1\" class=\"dataframe\">\n",
       "  <thead>\n",
       "    <tr style=\"text-align: right;\">\n",
       "      <th></th>\n",
       "      <th>PLAYA</th>\n",
       "      <th>num_playas</th>\n",
       "    </tr>\n",
       "  </thead>\n",
       "  <tbody>\n",
       "    <tr>\n",
       "      <th>0</th>\n",
       "      <td>A Coruña</td>\n",
       "      <td>410</td>\n",
       "    </tr>\n",
       "    <tr>\n",
       "      <th>1</th>\n",
       "      <td>Pontevedra</td>\n",
       "      <td>370</td>\n",
       "    </tr>\n",
       "    <tr>\n",
       "      <th>2</th>\n",
       "      <td>Illes Balears</td>\n",
       "      <td>346</td>\n",
       "    </tr>\n",
       "    <tr>\n",
       "      <th>3</th>\n",
       "      <td>Las Palmas</td>\n",
       "      <td>322</td>\n",
       "    </tr>\n",
       "    <tr>\n",
       "      <th>4</th>\n",
       "      <td>Santa Cruz de Tenerife</td>\n",
       "      <td>257</td>\n",
       "    </tr>\n",
       "    <tr>\n",
       "      <th>5</th>\n",
       "      <td>Asturias</td>\n",
       "      <td>205</td>\n",
       "    </tr>\n",
       "    <tr>\n",
       "      <th>6</th>\n",
       "      <td>Murcia</td>\n",
       "      <td>199</td>\n",
       "    </tr>\n",
       "    <tr>\n",
       "      <th>7</th>\n",
       "      <td>Girona</td>\n",
       "      <td>183</td>\n",
       "    </tr>\n",
       "    <tr>\n",
       "      <th>8</th>\n",
       "      <td>Alicante/Alacant</td>\n",
       "      <td>173</td>\n",
       "    </tr>\n",
       "    <tr>\n",
       "      <th>9</th>\n",
       "      <td>Málaga</td>\n",
       "      <td>131</td>\n",
       "    </tr>\n",
       "  </tbody>\n",
       "</table>\n",
       "</div>"
      ],
      "text/plain": [
       "                    PLAYA  num_playas\n",
       "0                A Coru��a         410\n",
       "1              Pontevedra         370\n",
       "2           Illes Balears         346\n",
       "3              Las Palmas         322\n",
       "4  Santa Cruz de Tenerife         257\n",
       "5                Asturias         205\n",
       "6                  Murcia         199\n",
       "7                  Girona         183\n",
       "8        Alicante/Alacant         173\n",
       "9                  M��laga         131"
      ]
     },
     "execution_count": 35,
     "metadata": {},
     "output_type": "execute_result"
    }
   ],
   "source": [
    "query = \"\"\"\n",
    "MATCH (playa:nodo_playa)-[:UBICADA]-(provincia:nodo_provincia)-[:PERTENECE]-(comunidad:nodo_comunidad)\n",
    "RETURN \n",
    "       provincia.nv_nombre        AS PLAYA,\n",
    "       count(playa.np_cod_playa)  AS num_playas\n",
    "ORDER BY num_playas DESC\n",
    "LIMIT 10\n",
    "\"\"\" \n",
    "\n",
    "data = graph_N.run(query)\n",
    "df = fun_convertir_cursorBD_a_dataframe(data)\n",
    "df"
   ]
  },
  {
   "cell_type": "markdown",
   "metadata": {},
   "source": [
    "#### QUERY_7.2) ¿ Qué provincia tiene más playas ... con nombres diferentes ?"
   ]
  },
  {
   "cell_type": "code",
   "execution_count": 36,
   "metadata": {
    "collapsed": false
   },
   "outputs": [
    {
     "data": {
      "text/html": [
       "<div>\n",
       "<style>\n",
       "    .dataframe thead tr:only-child th {\n",
       "        text-align: right;\n",
       "    }\n",
       "\n",
       "    .dataframe thead th {\n",
       "        text-align: left;\n",
       "    }\n",
       "\n",
       "    .dataframe tbody tr th {\n",
       "        vertical-align: top;\n",
       "    }\n",
       "</style>\n",
       "<table border=\"1\" class=\"dataframe\">\n",
       "  <thead>\n",
       "    <tr style=\"text-align: right;\">\n",
       "      <th></th>\n",
       "      <th>PLAYA</th>\n",
       "      <th>nombres_de_playas</th>\n",
       "    </tr>\n",
       "  </thead>\n",
       "  <tbody>\n",
       "    <tr>\n",
       "      <th>0</th>\n",
       "      <td>A Coruña</td>\n",
       "      <td>388</td>\n",
       "    </tr>\n",
       "    <tr>\n",
       "      <th>1</th>\n",
       "      <td>Pontevedra</td>\n",
       "      <td>350</td>\n",
       "    </tr>\n",
       "    <tr>\n",
       "      <th>2</th>\n",
       "      <td>Illes Balears</td>\n",
       "      <td>330</td>\n",
       "    </tr>\n",
       "    <tr>\n",
       "      <th>3</th>\n",
       "      <td>Las Palmas</td>\n",
       "      <td>303</td>\n",
       "    </tr>\n",
       "    <tr>\n",
       "      <th>4</th>\n",
       "      <td>Santa Cruz de Tenerife</td>\n",
       "      <td>228</td>\n",
       "    </tr>\n",
       "    <tr>\n",
       "      <th>5</th>\n",
       "      <td>Asturias</td>\n",
       "      <td>199</td>\n",
       "    </tr>\n",
       "    <tr>\n",
       "      <th>6</th>\n",
       "      <td>Murcia</td>\n",
       "      <td>193</td>\n",
       "    </tr>\n",
       "    <tr>\n",
       "      <th>7</th>\n",
       "      <td>Girona</td>\n",
       "      <td>179</td>\n",
       "    </tr>\n",
       "    <tr>\n",
       "      <th>8</th>\n",
       "      <td>Alicante/Alacant</td>\n",
       "      <td>165</td>\n",
       "    </tr>\n",
       "    <tr>\n",
       "      <th>9</th>\n",
       "      <td>Málaga</td>\n",
       "      <td>126</td>\n",
       "    </tr>\n",
       "  </tbody>\n",
       "</table>\n",
       "</div>"
      ],
      "text/plain": [
       "                    PLAYA  nombres_de_playas\n",
       "0                A Coru��a                388\n",
       "1              Pontevedra                350\n",
       "2           Illes Balears                330\n",
       "3              Las Palmas                303\n",
       "4  Santa Cruz de Tenerife                228\n",
       "5                Asturias                199\n",
       "6                  Murcia                193\n",
       "7                  Girona                179\n",
       "8        Alicante/Alacant                165\n",
       "9                  M��laga                126"
      ]
     },
     "execution_count": 36,
     "metadata": {},
     "output_type": "execute_result"
    }
   ],
   "source": [
    "query = \"\"\"\n",
    "MATCH (playa:nodo_playa)-[:UBICADA]-(provincia:nodo_provincia)-[:PERTENECE]-(comunidad:nodo_comunidad)\n",
    "RETURN \n",
    "       provincia.nv_nombre              AS PLAYA,\n",
    "       count(distinct(playa.np_nombre)) AS nombres_de_playas\n",
    "ORDER BY nombres_de_playas DESC\n",
    "LIMIT 10\n",
    "\"\"\" \n",
    " \n",
    "data = graph_N.run(query)\n",
    "df = fun_convertir_cursorBD_a_dataframe(data)\n",
    "df"
   ]
  },
  {
   "cell_type": "markdown",
   "metadata": {},
   "source": [
    "#### QUERY_7.3)  ¿ Qué provincia tiene más playas ... nudistas ?"
   ]
  },
  {
   "cell_type": "code",
   "execution_count": 37,
   "metadata": {
    "collapsed": false
   },
   "outputs": [
    {
     "data": {
      "text/html": [
       "<div>\n",
       "<style>\n",
       "    .dataframe thead tr:only-child th {\n",
       "        text-align: right;\n",
       "    }\n",
       "\n",
       "    .dataframe thead th {\n",
       "        text-align: left;\n",
       "    }\n",
       "\n",
       "    .dataframe tbody tr th {\n",
       "        vertical-align: top;\n",
       "    }\n",
       "</style>\n",
       "<table border=\"1\" class=\"dataframe\">\n",
       "  <thead>\n",
       "    <tr style=\"text-align: right;\">\n",
       "      <th></th>\n",
       "      <th>PLAYA</th>\n",
       "      <th>num_playas_nudistas_puras</th>\n",
       "    </tr>\n",
       "  </thead>\n",
       "  <tbody>\n",
       "    <tr>\n",
       "      <th>0</th>\n",
       "      <td>Las Palmas</td>\n",
       "      <td>146</td>\n",
       "    </tr>\n",
       "    <tr>\n",
       "      <th>1</th>\n",
       "      <td>Illes Balears</td>\n",
       "      <td>79</td>\n",
       "    </tr>\n",
       "    <tr>\n",
       "      <th>2</th>\n",
       "      <td>Santa Cruz de Tenerife</td>\n",
       "      <td>27</td>\n",
       "    </tr>\n",
       "    <tr>\n",
       "      <th>3</th>\n",
       "      <td>Alicante/Alacant</td>\n",
       "      <td>18</td>\n",
       "    </tr>\n",
       "    <tr>\n",
       "      <th>4</th>\n",
       "      <td>A Coruña</td>\n",
       "      <td>17</td>\n",
       "    </tr>\n",
       "    <tr>\n",
       "      <th>5</th>\n",
       "      <td>Girona</td>\n",
       "      <td>16</td>\n",
       "    </tr>\n",
       "    <tr>\n",
       "      <th>6</th>\n",
       "      <td>Gipuzkoa</td>\n",
       "      <td>16</td>\n",
       "    </tr>\n",
       "    <tr>\n",
       "      <th>7</th>\n",
       "      <td>Pontevedra</td>\n",
       "      <td>15</td>\n",
       "    </tr>\n",
       "    <tr>\n",
       "      <th>8</th>\n",
       "      <td>Tarragona</td>\n",
       "      <td>9</td>\n",
       "    </tr>\n",
       "    <tr>\n",
       "      <th>9</th>\n",
       "      <td>Barcelona</td>\n",
       "      <td>8</td>\n",
       "    </tr>\n",
       "  </tbody>\n",
       "</table>\n",
       "</div>"
      ],
      "text/plain": [
       "                    PLAYA  num_playas_nudistas_puras\n",
       "0              Las Palmas                        146\n",
       "1           Illes Balears                         79\n",
       "2  Santa Cruz de Tenerife                         27\n",
       "3        Alicante/Alacant                         18\n",
       "4                A Coru��a                         17\n",
       "5                  Girona                         16\n",
       "6                Gipuzkoa                         16\n",
       "7              Pontevedra                         15\n",
       "8               Tarragona                          9\n",
       "9               Barcelona                          8"
      ]
     },
     "execution_count": 37,
     "metadata": {},
     "output_type": "execute_result"
    }
   ],
   "source": [
    "query = \"\"\"\n",
    "MATCH (playa:nodo_playa)-[:UBICADA]-(provincia:nodo_provincia)-[:PERTENECE]-(comunidad:nodo_comunidad)\n",
    "WHERE playa.np_nudista = 'Sí'\n",
    "RETURN \n",
    "       provincia.nv_nombre        AS PLAYA,\n",
    "       count(playa.np_cod_playa)  AS num_playas_nudistas_puras\n",
    "ORDER BY num_playas_nudistas_puras DESC\n",
    "LIMIT 10\n",
    "\"\"\" \n",
    "\n",
    "data = graph_N.run(query)\n",
    "df = fun_convertir_cursorBD_a_dataframe(data)\n",
    "df"
   ]
  },
  {
   "cell_type": "markdown",
   "metadata": {},
   "source": [
    "#### QUERY_7.4)  ¿ Qué provincia tiene más playas ... con bandera azul ?"
   ]
  },
  {
   "cell_type": "code",
   "execution_count": 38,
   "metadata": {
    "collapsed": false
   },
   "outputs": [
    {
     "data": {
      "text/html": [
       "<div>\n",
       "<style>\n",
       "    .dataframe thead tr:only-child th {\n",
       "        text-align: right;\n",
       "    }\n",
       "\n",
       "    .dataframe thead th {\n",
       "        text-align: left;\n",
       "    }\n",
       "\n",
       "    .dataframe tbody tr th {\n",
       "        vertical-align: top;\n",
       "    }\n",
       "</style>\n",
       "<table border=\"1\" class=\"dataframe\">\n",
       "  <thead>\n",
       "    <tr style=\"text-align: right;\">\n",
       "      <th></th>\n",
       "      <th>PLAYA</th>\n",
       "      <th>num_playas_bandera_azul</th>\n",
       "    </tr>\n",
       "  </thead>\n",
       "  <tbody>\n",
       "    <tr>\n",
       "      <th>0</th>\n",
       "      <td>Alicante/Alacant</td>\n",
       "      <td>62</td>\n",
       "    </tr>\n",
       "    <tr>\n",
       "      <th>1</th>\n",
       "      <td>Pontevedra</td>\n",
       "      <td>57</td>\n",
       "    </tr>\n",
       "    <tr>\n",
       "      <th>2</th>\n",
       "      <td>A Coruña</td>\n",
       "      <td>45</td>\n",
       "    </tr>\n",
       "    <tr>\n",
       "      <th>3</th>\n",
       "      <td>Tarragona</td>\n",
       "      <td>43</td>\n",
       "    </tr>\n",
       "    <tr>\n",
       "      <th>4</th>\n",
       "      <td>Illes Balears</td>\n",
       "      <td>41</td>\n",
       "    </tr>\n",
       "    <tr>\n",
       "      <th>5</th>\n",
       "      <td>Murcia</td>\n",
       "      <td>40</td>\n",
       "    </tr>\n",
       "    <tr>\n",
       "      <th>6</th>\n",
       "      <td>Castellón/Castelló</td>\n",
       "      <td>33</td>\n",
       "    </tr>\n",
       "    <tr>\n",
       "      <th>7</th>\n",
       "      <td>Girona</td>\n",
       "      <td>31</td>\n",
       "    </tr>\n",
       "    <tr>\n",
       "      <th>8</th>\n",
       "      <td>Valencia/València</td>\n",
       "      <td>30</td>\n",
       "    </tr>\n",
       "    <tr>\n",
       "      <th>9</th>\n",
       "      <td>Barcelona</td>\n",
       "      <td>29</td>\n",
       "    </tr>\n",
       "  </tbody>\n",
       "</table>\n",
       "</div>"
      ],
      "text/plain": [
       "                PLAYA  num_playas_bandera_azul\n",
       "0    Alicante/Alacant                       62\n",
       "1          Pontevedra                       57\n",
       "2            A Coru��a                       45\n",
       "3           Tarragona                       43\n",
       "4       Illes Balears                       41\n",
       "5              Murcia                       40\n",
       "6  Castell��n/Castell��                       33\n",
       "7              Girona                       31\n",
       "8   Valencia/Val��ncia                       30\n",
       "9           Barcelona                       29"
      ]
     },
     "execution_count": 38,
     "metadata": {},
     "output_type": "execute_result"
    }
   ],
   "source": [
    "query = \"\"\"\n",
    "MATCH (playa:nodo_playa)-[:UBICADA]-(provincia:nodo_provincia)-[:PERTENECE]-(comunidad:nodo_comunidad)\n",
    "WHERE playa.np_bandera_azul = 'Sí'\n",
    "RETURN \n",
    "       provincia.nv_nombre        AS PLAYA,\n",
    "       count(playa.np_cod_playa)  AS num_playas_bandera_azul\n",
    "ORDER BY num_playas_bandera_azul DESC\n",
    "LIMIT 10\n",
    "\"\"\" \n",
    "\n",
    "data = graph_N.run(query)\n",
    "df = fun_convertir_cursorBD_a_dataframe(data)\n",
    "df"
   ]
  },
  {
   "cell_type": "markdown",
   "metadata": {},
   "source": [
    "# FIN"
   ]
  }
 ],
 "metadata": {
  "kernelspec": {
   "display_name": "Python 2",
   "language": "python",
   "name": "python2"
  },
  "language_info": {
   "codemirror_mode": {
    "name": "ipython",
    "version": 2
   },
   "file_extension": ".py",
   "mimetype": "text/x-python",
   "name": "python",
   "nbconvert_exporter": "python",
   "pygments_lexer": "ipython2",
   "version": "2.7.6"
  }
 },
 "nbformat": 4,
 "nbformat_minor": 0
}
