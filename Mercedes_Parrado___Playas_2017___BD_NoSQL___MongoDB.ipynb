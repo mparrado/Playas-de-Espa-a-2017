{
 "cells": [
  {
   "cell_type": "markdown",
   "metadata": {},
   "source": [
    "# --------------------------------------------------------------------------------------------------------------\n",
    "# PLAYAS de ESPAÑA 2017 : MongoDB\n",
    "# --------------------------------------------------------------------------------------------------------------"
   ]
  },
  {
   "cell_type": "markdown",
   "metadata": {},
   "source": [
    "## Inicializaciones previas"
   ]
  },
  {
   "cell_type": "markdown",
   "metadata": {},
   "source": [
    "### a) Carga de librerías"
   ]
  },
  {
   "cell_type": "code",
   "execution_count": 1,
   "metadata": {
    "collapsed": true
   },
   "outputs": [],
   "source": [
    "import pymongo \n",
    "from pymongo import MongoClient\n",
    "from pymongo.errors import DuplicateKeyError\n",
    "\n",
    "from pprintpp import pprint as pp\n",
    "\n",
    "import pandas as pd\n",
    "import datetime\n",
    "import json"
   ]
  },
  {
   "cell_type": "markdown",
   "metadata": {},
   "source": [
    "# A) Carga de datos desde Excel a un DataFrame de PANDAS"
   ]
  },
  {
   "cell_type": "markdown",
   "metadata": {},
   "source": [
    "Leemos los datos desde el fichero Excel y los desnormalizamos : leemos las 2 hojas del fichero Excel en un **mismo** DataFrame de Pandas para guardarlo todo junto."
   ]
  },
  {
   "cell_type": "code",
   "execution_count": 2,
   "metadata": {
    "collapsed": true
   },
   "outputs": [],
   "source": [
    "df_excel_provincias = pd.read_excel(\"./data/playas_2017.xlsx\", sheetname= \"HOJA_PROVINCIAS\")\n",
    "df_excel_playas     = pd.read_excel(\"./data/playas_2017.xlsx\", sheetname= \"HOJA_PLAYAS\")"
   ]
  },
  {
   "cell_type": "code",
   "execution_count": 3,
   "metadata": {
    "collapsed": false
   },
   "outputs": [
    {
     "name": "stdout",
     "output_type": "stream",
     "text": [
      "<class 'pandas.core.frame.DataFrame'>\n",
      "Int64Index: 3511 entries, 0 to 3510\n",
      "Data columns (total 12 columns):\n",
      "id_provincia       3511 non-null int64\n",
      "nom_provincia      3511 non-null object\n",
      "comunidad          3511 non-null object\n",
      "cod_playa          3511 non-null int64\n",
      "nom_playa          3511 non-null object\n",
      "localidad          3511 non-null object\n",
      "clave_nom_playa    3511 non-null object\n",
      "longitud           3511 non-null int64\n",
      "longitud_txt       3511 non-null object\n",
      "arena              3511 non-null object\n",
      "nudista            3511 non-null object\n",
      "bandera_azul       3511 non-null object\n",
      "dtypes: int64(3), object(9)\n",
      "memory usage: 356.6+ KB\n"
     ]
    }
   ],
   "source": [
    "df_mongoDB = pd.merge(df_excel_provincias, df_excel_playas, on = ['id_provincia'], how = 'inner')\n",
    "df_mongoDB.info()"
   ]
  },
  {
   "cell_type": "markdown",
   "metadata": {},
   "source": [
    "# B) BD de MongoDB"
   ]
  },
  {
   "cell_type": "markdown",
   "metadata": {},
   "source": [
    "## B.1) Conexión a la BD de MongoDB"
   ]
  },
  {
   "cell_type": "markdown",
   "metadata": {},
   "source": [
    "### B.1.1) Conexión"
   ]
  },
  {
   "cell_type": "code",
   "execution_count": 4,
   "metadata": {
    "collapsed": false
   },
   "outputs": [],
   "source": [
    "# connect to database\n",
    "connection_MDB = MongoClient('localhost', 27017)"
   ]
  },
  {
   "cell_type": "code",
   "execution_count": 5,
   "metadata": {
    "collapsed": false
   },
   "outputs": [
    {
     "name": "stdout",
     "output_type": "stream",
     "text": [
      "db version v3.4.2\r\n",
      "git version: 3f76e40c105fc223b3e5aac3e20dcd026b83b38b\r\n",
      "OpenSSL version: OpenSSL 1.0.1f 6 Jan 2014\r\n",
      "allocator: tcmalloc\r\n",
      "modules: none\r\n",
      "build environment:\r\n",
      "    distmod: ubuntu1404\r\n",
      "    distarch: x86_64\r\n",
      "    target_arch: x86_64\r\n"
     ]
    }
   ],
   "source": [
    "!mongod --version"
   ]
  },
  {
   "cell_type": "markdown",
   "metadata": {},
   "source": [
    "### B.1.2) Borrado de la BD (\"playas_2017\")"
   ]
  },
  {
   "cell_type": "code",
   "execution_count": 6,
   "metadata": {
    "collapsed": true
   },
   "outputs": [],
   "source": [
    "# Borramos la base de datos\n",
    "connection_MDB.drop_database('playas_2017')"
   ]
  },
  {
   "cell_type": "markdown",
   "metadata": {},
   "source": [
    "### B.1.3) Creación de la BD (\"playas_2017\")"
   ]
  },
  {
   "cell_type": "code",
   "execution_count": 7,
   "metadata": {
    "collapsed": false
   },
   "outputs": [],
   "source": [
    "# Pymongo permite una sintaxis practicamente igual que la original\n",
    "db_MDB = connection_MDB.playas_2017"
   ]
  },
  {
   "cell_type": "markdown",
   "metadata": {},
   "source": [
    "## B.2) Creamos las COLECCIONES de MongoDB"
   ]
  },
  {
   "cell_type": "markdown",
   "metadata": {},
   "source": [
    "Las **colecciones** se crean en el mismo momento de insertar los datos."
   ]
  },
  {
   "cell_type": "markdown",
   "metadata": {},
   "source": [
    "# C) Carga de datos en MongoDB"
   ]
  },
  {
   "cell_type": "markdown",
   "metadata": {},
   "source": [
    "## C.1) Transformaciones previas"
   ]
  },
  {
   "cell_type": "markdown",
   "metadata": {},
   "source": [
    "Gracias a Pandas convertimos el dataset en formato JSON, que es el que vamos a insertar en MongoDB prácticamente sin cambios."
   ]
  },
  {
   "cell_type": "code",
   "execution_count": 8,
   "metadata": {
    "collapsed": true
   },
   "outputs": [],
   "source": [
    "json_string = df_mongoDB.to_json(orient = 'records')\n",
    "json_list = json.loads(json_string)"
   ]
  },
  {
   "cell_type": "code",
   "execution_count": 9,
   "metadata": {
    "collapsed": false
   },
   "outputs": [
    {
     "name": "stdout",
     "output_type": "stream",
     "text": [
      "{\n",
      "    u'arena': u'Dorada',\n",
      "    u'bandera_azul': u'No',\n",
      "    u'clave_nom_playa': u'Puerto del Rosario (Janubio)',\n",
      "    u'cod_playa': 3001,\n",
      "    u'comunidad': u'Canarias',\n",
      "    u'id_provincia': 16,\n",
      "    u'localidad': u'Puerto del Rosario',\n",
      "    u'longitud': 230,\n",
      "    u'longitud_txt': u'230 metros',\n",
      "    u'nom_playa': u'Janubio',\n",
      "    u'nom_provincia': u'Las Palmas',\n",
      "    u'nudista': u'Sí',\n",
      "}\n"
     ]
    }
   ],
   "source": [
    "pp(json_list[0])"
   ]
  },
  {
   "cell_type": "markdown",
   "metadata": {},
   "source": [
    "En MongoDB vamos a crear una única **colección** (la colección **\"playas\"**) donde vamos a guardar todos los datos desnormalizados:"
   ]
  },
  {
   "cell_type": "markdown",
   "metadata": {},
   "source": [
    "<br><br> \n",
    "\n",
    "<img src=\"images/Modelo_BD___MongoDB.JPG\",width=150,height=50>\n",
    "\n",
    "<br><br>"
   ]
  },
  {
   "cell_type": "markdown",
   "metadata": {},
   "source": [
    "## C.2) Inserción de los datos en MongoDB"
   ]
  },
  {
   "cell_type": "markdown",
   "metadata": {},
   "source": [
    "En la inserción de la información en MongoDB se podrían realizar algunas **tareas de limpieza** tales como :\n",
    "\n",
    "   + **Convertir fechas** a un formato DateTime, de forma que mongo inserte el dato correctamente (en nuestra BD de playas no hay fechas)\n",
    "   + **Eliminar campos** que no queremos tener en el modelo (no eliminamos ninguno por compararlo con el resto de BD)\n",
    "   + **Eliminar campos nulos** (en nuestra BD de playas no hay campos nulos)"
   ]
  },
  {
   "cell_type": "code",
   "execution_count": 10,
   "metadata": {
    "collapsed": false
   },
   "outputs": [],
   "source": [
    "for playa_json in json_list:\n",
    "    \n",
    "    # Convertir fechas\n",
    "    # playa_json['fecha'] = datetime.datetime.fromtimestamp(playa_json['fecha'] / 1e3)\n",
    "    \n",
    "    # Eliminar campos\n",
    "    # del playa_json['arena']\n",
    "\n",
    "    # Eliminar campos nulos\n",
    "    # if  playa_json['comercio'] == None:\n",
    "    #     del playa_json['comercio']\n",
    "    \n",
    "    db_MDB.playas.insert_one(playa_json)   # Creamos en MongoDB la colección \"playas\""
   ]
  },
  {
   "cell_type": "markdown",
   "metadata": {},
   "source": [
    "# ------------------------------------------------------------------------------\n",
    "# QUERYS   (MongoDB)\n",
    "# ------------------------------------------------------------------------------"
   ]
  },
  {
   "cell_type": "markdown",
   "metadata": {},
   "source": [
    "Todas las querys de este caso de uso se pueden resolver directamente por la base de datos ..."
   ]
  },
  {
   "cell_type": "markdown",
   "metadata": {},
   "source": [
    "### QUERY_1) Las 10 playas más largas (incluida la provincia)"
   ]
  },
  {
   "cell_type": "code",
   "execution_count": 11,
   "metadata": {
    "collapsed": false
   },
   "outputs": [],
   "source": [
    "rs = db_MDB.playas.find({},\n",
    "{\n",
    "    \"id_provincia\"    : 1,\n",
    "    \"nom_provincia\"   : 1,\n",
    "    \"localidad\"       : 1,\n",
    "    \"nom_playa\"       : 1,\n",
    "    \"clave_nom_playa\" : 1,\n",
    "    \"longitud\"        : 1,\n",
    "    \"longitud_txt\"    : 1,\n",
    "    \"_id\"             : 0\n",
    "}).limit(10).sort([(\"longitud\", -1)])"
   ]
  },
  {
   "cell_type": "code",
   "execution_count": 12,
   "metadata": {
    "collapsed": false
   },
   "outputs": [
    {
     "data": {
      "text/plain": [
       "pymongo.cursor.Cursor"
      ]
     },
     "execution_count": 12,
     "metadata": {},
     "output_type": "execute_result"
    }
   ],
   "source": [
    "type(rs)"
   ]
  },
  {
   "cell_type": "code",
   "execution_count": 13,
   "metadata": {
    "collapsed": false
   },
   "outputs": [
    {
     "data": {
      "text/html": [
       "<div>\n",
       "<style>\n",
       "    .dataframe thead tr:only-child th {\n",
       "        text-align: right;\n",
       "    }\n",
       "\n",
       "    .dataframe thead th {\n",
       "        text-align: left;\n",
       "    }\n",
       "\n",
       "    .dataframe tbody tr th {\n",
       "        vertical-align: top;\n",
       "    }\n",
       "</style>\n",
       "<table border=\"1\" class=\"dataframe\">\n",
       "  <thead>\n",
       "    <tr style=\"text-align: right;\">\n",
       "      <th></th>\n",
       "      <th>clave_nom_playa</th>\n",
       "      <th>id_provincia</th>\n",
       "      <th>localidad</th>\n",
       "      <th>longitud</th>\n",
       "      <th>longitud_txt</th>\n",
       "      <th>nom_playa</th>\n",
       "      <th>nom_provincia</th>\n",
       "    </tr>\n",
       "  </thead>\n",
       "  <tbody>\n",
       "    <tr>\n",
       "      <th>0</th>\n",
       "      <td>Almonte (Doñana)</td>\n",
       "      <td>14</td>\n",
       "      <td>Almonte</td>\n",
       "      <td>28000</td>\n",
       "      <td>28.000 metros</td>\n",
       "      <td>Doñana</td>\n",
       "      <td>Huelva</td>\n",
       "    </tr>\n",
       "    <tr>\n",
       "      <th>1</th>\n",
       "      <td>Almonte (Castilla)</td>\n",
       "      <td>14</td>\n",
       "      <td>Almonte</td>\n",
       "      <td>17000</td>\n",
       "      <td>17.000 metros</td>\n",
       "      <td>Castilla</td>\n",
       "      <td>Huelva</td>\n",
       "    </tr>\n",
       "    <tr>\n",
       "      <th>2</th>\n",
       "      <td>Pájara (El Cofete)</td>\n",
       "      <td>16</td>\n",
       "      <td>Pájara</td>\n",
       "      <td>13700</td>\n",
       "      <td>13.700 metros</td>\n",
       "      <td>El Cofete</td>\n",
       "      <td>Las Palmas</td>\n",
       "    </tr>\n",
       "    <tr>\n",
       "      <th>3</th>\n",
       "      <td>Lepe (Nueva Umbría)</td>\n",
       "      <td>14</td>\n",
       "      <td>Lepe</td>\n",
       "      <td>12000</td>\n",
       "      <td>12.000 metros</td>\n",
       "      <td>Nueva Umbría</td>\n",
       "      <td>Huelva</td>\n",
       "    </tr>\n",
       "    <tr>\n",
       "      <th>4</th>\n",
       "      <td>Palos de la Frontera (Mazagón)</td>\n",
       "      <td>14</td>\n",
       "      <td>Palos de la Frontera</td>\n",
       "      <td>9000</td>\n",
       "      <td>9.000 metros</td>\n",
       "      <td>Mazagón</td>\n",
       "      <td>Huelva</td>\n",
       "    </tr>\n",
       "    <tr>\n",
       "      <th>5</th>\n",
       "      <td>El Ejido (Punta Entinas Sabinar)</td>\n",
       "      <td>3</td>\n",
       "      <td>El Ejido</td>\n",
       "      <td>6500</td>\n",
       "      <td>6.500 metros</td>\n",
       "      <td>Punta Entinas Sabinar</td>\n",
       "      <td>Almería</td>\n",
       "    </tr>\n",
       "    <tr>\n",
       "      <th>6</th>\n",
       "      <td>Deltebre (Punta del Fangar)</td>\n",
       "      <td>23</td>\n",
       "      <td>Deltebre</td>\n",
       "      <td>6500</td>\n",
       "      <td>6.500 metros</td>\n",
       "      <td>Punta del Fangar</td>\n",
       "      <td>Tarragona</td>\n",
       "    </tr>\n",
       "    <tr>\n",
       "      <th>7</th>\n",
       "      <td>Sant Pere Pescador (Sant Pere Pescador)</td>\n",
       "      <td>12</td>\n",
       "      <td>Sant Pere Pescador</td>\n",
       "      <td>6400</td>\n",
       "      <td>6400 metros</td>\n",
       "      <td>Sant Pere Pescador</td>\n",
       "      <td>Girona</td>\n",
       "    </tr>\n",
       "    <tr>\n",
       "      <th>8</th>\n",
       "      <td>Sant Carles de la Ràpita (El Trabucador)</td>\n",
       "      <td>23</td>\n",
       "      <td>Sant Carles de la Ràpita</td>\n",
       "      <td>6165</td>\n",
       "      <td>6.165 metros</td>\n",
       "      <td>El Trabucador</td>\n",
       "      <td>Tarragona</td>\n",
       "    </tr>\n",
       "    <tr>\n",
       "      <th>9</th>\n",
       "      <td>Carnota (Carnota)</td>\n",
       "      <td>1</td>\n",
       "      <td>Carnota</td>\n",
       "      <td>5600</td>\n",
       "      <td>5.600 metros</td>\n",
       "      <td>Carnota</td>\n",
       "      <td>A Coruña</td>\n",
       "    </tr>\n",
       "  </tbody>\n",
       "</table>\n",
       "</div>"
      ],
      "text/plain": [
       "                            clave_nom_playa  id_provincia  \\\n",
       "0                          Almonte (Doñana)            14   \n",
       "1                        Almonte (Castilla)            14   \n",
       "2                        Pájara (El Cofete)            16   \n",
       "3                       Lepe (Nueva Umbría)            14   \n",
       "4            Palos de la Frontera (Mazagón)            14   \n",
       "5          El Ejido (Punta Entinas Sabinar)             3   \n",
       "6               Deltebre (Punta del Fangar)            23   \n",
       "7   Sant Pere Pescador (Sant Pere Pescador)            12   \n",
       "8  Sant Carles de la Ràpita (El Trabucador)            23   \n",
       "9                         Carnota (Carnota)             1   \n",
       "\n",
       "                  localidad  longitud   longitud_txt              nom_playa  \\\n",
       "0                   Almonte     28000  28.000 metros                 Doñana   \n",
       "1                   Almonte     17000  17.000 metros               Castilla   \n",
       "2                    Pájara     13700  13.700 metros              El Cofete   \n",
       "3                      Lepe     12000  12.000 metros           Nueva Umbría   \n",
       "4      Palos de la Frontera      9000   9.000 metros                Mazagón   \n",
       "5                  El Ejido      6500   6.500 metros  Punta Entinas Sabinar   \n",
       "6                  Deltebre      6500   6.500 metros       Punta del Fangar   \n",
       "7        Sant Pere Pescador      6400    6400 metros     Sant Pere Pescador   \n",
       "8  Sant Carles de la Ràpita      6165   6.165 metros          El Trabucador   \n",
       "9                   Carnota      5600   5.600 metros                Carnota   \n",
       "\n",
       "  nom_provincia  \n",
       "0        Huelva  \n",
       "1        Huelva  \n",
       "2    Las Palmas  \n",
       "3        Huelva  \n",
       "4        Huelva  \n",
       "5       Almería  \n",
       "6     Tarragona  \n",
       "7        Girona  \n",
       "8     Tarragona  \n",
       "9      A Coruña  "
      ]
     },
     "execution_count": 13,
     "metadata": {},
     "output_type": "execute_result"
    }
   ],
   "source": [
    "pd.DataFrame(list(rs))"
   ]
  },
  {
   "cell_type": "markdown",
   "metadata": {},
   "source": [
    "### QUERY_2) Las 10 playas más largas de una cierta provincia (incluído el nombre de la provincia)"
   ]
  },
  {
   "cell_type": "code",
   "execution_count": 14,
   "metadata": {
    "collapsed": false
   },
   "outputs": [
    {
     "data": {
      "text/plain": [
       "pymongo.cursor.Cursor"
      ]
     },
     "execution_count": 14,
     "metadata": {},
     "output_type": "execute_result"
    }
   ],
   "source": [
    "rs = db_MDB.playas.find({\"nom_provincia\" : \"A Coruña\"},\n",
    "{\n",
    "    \"id_provincia\"    : 1,\n",
    "    \"nom_provincia\"   : 1,\n",
    "    \"localidad\"       : 1,\n",
    "    \"nom_playa\"       : 1,\n",
    "    \"clave_nom_playa\" : 1,\n",
    "    \"longitud\"        : 1,\n",
    "    \"longitud_txt\"    : 1,\n",
    "    \"_id\"             : 0\n",
    "}).limit(10).sort([(\"longitud\", -1)])\n",
    "\n",
    "type(rs)"
   ]
  },
  {
   "cell_type": "code",
   "execution_count": 15,
   "metadata": {
    "collapsed": false
   },
   "outputs": [
    {
     "data": {
      "text/html": [
       "<div>\n",
       "<style>\n",
       "    .dataframe thead tr:only-child th {\n",
       "        text-align: right;\n",
       "    }\n",
       "\n",
       "    .dataframe thead th {\n",
       "        text-align: left;\n",
       "    }\n",
       "\n",
       "    .dataframe tbody tr th {\n",
       "        vertical-align: top;\n",
       "    }\n",
       "</style>\n",
       "<table border=\"1\" class=\"dataframe\">\n",
       "  <thead>\n",
       "    <tr style=\"text-align: right;\">\n",
       "      <th></th>\n",
       "      <th>clave_nom_playa</th>\n",
       "      <th>id_provincia</th>\n",
       "      <th>localidad</th>\n",
       "      <th>longitud</th>\n",
       "      <th>longitud_txt</th>\n",
       "      <th>nom_playa</th>\n",
       "      <th>nom_provincia</th>\n",
       "    </tr>\n",
       "  </thead>\n",
       "  <tbody>\n",
       "    <tr>\n",
       "      <th>0</th>\n",
       "      <td>Carnota (Carnota)</td>\n",
       "      <td>1</td>\n",
       "      <td>Carnota</td>\n",
       "      <td>5600</td>\n",
       "      <td>5.600 metros</td>\n",
       "      <td>Carnota</td>\n",
       "      <td>A Coruña</td>\n",
       "    </tr>\n",
       "    <tr>\n",
       "      <th>1</th>\n",
       "      <td>Carballo (Baldaio)</td>\n",
       "      <td>1</td>\n",
       "      <td>Carballo</td>\n",
       "      <td>4000</td>\n",
       "      <td>4.000 metros</td>\n",
       "      <td>Baldaio</td>\n",
       "      <td>A Coruña</td>\n",
       "    </tr>\n",
       "    <tr>\n",
       "      <th>2</th>\n",
       "      <td>Valdoviño (A Frouxeira)</td>\n",
       "      <td>1</td>\n",
       "      <td>Valdoviño</td>\n",
       "      <td>3000</td>\n",
       "      <td>3.000 metros</td>\n",
       "      <td>A Frouxeira</td>\n",
       "      <td>A Coruña</td>\n",
       "    </tr>\n",
       "    <tr>\n",
       "      <th>3</th>\n",
       "      <td>Ribeira (Vilar)</td>\n",
       "      <td>1</td>\n",
       "      <td>Ribeira</td>\n",
       "      <td>2900</td>\n",
       "      <td>2.900 metros</td>\n",
       "      <td>Vilar</td>\n",
       "      <td>A Coruña</td>\n",
       "    </tr>\n",
       "    <tr>\n",
       "      <th>4</th>\n",
       "      <td>Ortigueira (Morouzos)</td>\n",
       "      <td>1</td>\n",
       "      <td>Ortigueira</td>\n",
       "      <td>2800</td>\n",
       "      <td>2.800 metros</td>\n",
       "      <td>Morouzos</td>\n",
       "      <td>A Coruña</td>\n",
       "    </tr>\n",
       "    <tr>\n",
       "      <th>5</th>\n",
       "      <td>Laxe (Traba)</td>\n",
       "      <td>1</td>\n",
       "      <td>Laxe</td>\n",
       "      <td>2650</td>\n",
       "      <td>2.650 metros</td>\n",
       "      <td>Traba</td>\n",
       "      <td>A Coruña</td>\n",
       "    </tr>\n",
       "    <tr>\n",
       "      <th>6</th>\n",
       "      <td>Boiro (Barraña)</td>\n",
       "      <td>1</td>\n",
       "      <td>Boiro</td>\n",
       "      <td>2150</td>\n",
       "      <td>2.150 metros</td>\n",
       "      <td>Barraña</td>\n",
       "      <td>A Coruña</td>\n",
       "    </tr>\n",
       "    <tr>\n",
       "      <th>7</th>\n",
       "      <td>Porto do Son (Areas Longas)</td>\n",
       "      <td>1</td>\n",
       "      <td>Porto do Son</td>\n",
       "      <td>2100</td>\n",
       "      <td>2.100 metros</td>\n",
       "      <td>Areas Longas</td>\n",
       "      <td>A Coruña</td>\n",
       "    </tr>\n",
       "    <tr>\n",
       "      <th>8</th>\n",
       "      <td>Boiro (Carragueiros)</td>\n",
       "      <td>1</td>\n",
       "      <td>Boiro</td>\n",
       "      <td>2000</td>\n",
       "      <td>2.000 metros</td>\n",
       "      <td>Carragueiros</td>\n",
       "      <td>A Coruña</td>\n",
       "    </tr>\n",
       "    <tr>\n",
       "      <th>9</th>\n",
       "      <td>Fisterra (Langosteira)</td>\n",
       "      <td>1</td>\n",
       "      <td>Fisterra</td>\n",
       "      <td>1970</td>\n",
       "      <td>1.970 metros</td>\n",
       "      <td>Langosteira</td>\n",
       "      <td>A Coruña</td>\n",
       "    </tr>\n",
       "  </tbody>\n",
       "</table>\n",
       "</div>"
      ],
      "text/plain": [
       "               clave_nom_playa  id_provincia     localidad  longitud  \\\n",
       "0            Carnota (Carnota)             1       Carnota      5600   \n",
       "1           Carballo (Baldaio)             1      Carballo      4000   \n",
       "2      Valdoviño (A Frouxeira)             1     Valdoviño      3000   \n",
       "3              Ribeira (Vilar)             1       Ribeira      2900   \n",
       "4        Ortigueira (Morouzos)             1    Ortigueira      2800   \n",
       "5                 Laxe (Traba)             1          Laxe      2650   \n",
       "6              Boiro (Barraña)             1         Boiro      2150   \n",
       "7  Porto do Son (Areas Longas)             1  Porto do Son      2100   \n",
       "8         Boiro (Carragueiros)             1         Boiro      2000   \n",
       "9       Fisterra (Langosteira)             1      Fisterra      1970   \n",
       "\n",
       "   longitud_txt     nom_playa nom_provincia  \n",
       "0  5.600 metros       Carnota      A Coruña  \n",
       "1  4.000 metros       Baldaio      A Coruña  \n",
       "2  3.000 metros   A Frouxeira      A Coruña  \n",
       "3  2.900 metros         Vilar      A Coruña  \n",
       "4  2.800 metros      Morouzos      A Coruña  \n",
       "5  2.650 metros         Traba      A Coruña  \n",
       "6  2.150 metros       Barraña      A Coruña  \n",
       "7  2.100 metros  Areas Longas      A Coruña  \n",
       "8  2.000 metros  Carragueiros      A Coruña  \n",
       "9  1.970 metros   Langosteira      A Coruña  "
      ]
     },
     "execution_count": 15,
     "metadata": {},
     "output_type": "execute_result"
    }
   ],
   "source": [
    "pd.DataFrame(list(rs))"
   ]
  },
  {
   "cell_type": "markdown",
   "metadata": {},
   "source": [
    "### QUERY_3) Las playas de una comunidad autónoma concreta (ordenadas por longitud)"
   ]
  },
  {
   "cell_type": "code",
   "execution_count": 16,
   "metadata": {
    "collapsed": false
   },
   "outputs": [
    {
     "data": {
      "text/plain": [
       "pymongo.cursor.Cursor"
      ]
     },
     "execution_count": 16,
     "metadata": {},
     "output_type": "execute_result"
    }
   ],
   "source": [
    "rs = db_MDB.playas.find({\"comunidad\" : \"Galicia\"},\n",
    "{\n",
    "    \"id_provincia\"    : 1,\n",
    "    \"comunidad\"       : 1,\n",
    "    \"nom_provincia\"   : 1,\n",
    "    \"localidad\"       : 1,\n",
    "    \"nom_playa\"       : 1,\n",
    "    \"clave_nom_playa\" : 1,\n",
    "    \"longitud\"        : 1,\n",
    "    \"longitud_txt\"    : 1,\n",
    "    \"_id\"             : 0\n",
    "}).limit(10).sort([(\"longitud\", -1)])\n",
    "\n",
    "type(rs)"
   ]
  },
  {
   "cell_type": "code",
   "execution_count": 17,
   "metadata": {
    "collapsed": false
   },
   "outputs": [
    {
     "data": {
      "text/html": [
       "<div>\n",
       "<style>\n",
       "    .dataframe thead tr:only-child th {\n",
       "        text-align: right;\n",
       "    }\n",
       "\n",
       "    .dataframe thead th {\n",
       "        text-align: left;\n",
       "    }\n",
       "\n",
       "    .dataframe tbody tr th {\n",
       "        vertical-align: top;\n",
       "    }\n",
       "</style>\n",
       "<table border=\"1\" class=\"dataframe\">\n",
       "  <thead>\n",
       "    <tr style=\"text-align: right;\">\n",
       "      <th></th>\n",
       "      <th>clave_nom_playa</th>\n",
       "      <th>comunidad</th>\n",
       "      <th>id_provincia</th>\n",
       "      <th>localidad</th>\n",
       "      <th>longitud</th>\n",
       "      <th>longitud_txt</th>\n",
       "      <th>nom_playa</th>\n",
       "      <th>nom_provincia</th>\n",
       "    </tr>\n",
       "  </thead>\n",
       "  <tbody>\n",
       "    <tr>\n",
       "      <th>0</th>\n",
       "      <td>Carnota (Carnota)</td>\n",
       "      <td>Galicia</td>\n",
       "      <td>1</td>\n",
       "      <td>Carnota</td>\n",
       "      <td>5600</td>\n",
       "      <td>5.600 metros</td>\n",
       "      <td>Carnota</td>\n",
       "      <td>A Coruña</td>\n",
       "    </tr>\n",
       "    <tr>\n",
       "      <th>1</th>\n",
       "      <td>Carballo (Baldaio)</td>\n",
       "      <td>Galicia</td>\n",
       "      <td>1</td>\n",
       "      <td>Carballo</td>\n",
       "      <td>4000</td>\n",
       "      <td>4.000 metros</td>\n",
       "      <td>Baldaio</td>\n",
       "      <td>A Coruña</td>\n",
       "    </tr>\n",
       "    <tr>\n",
       "      <th>2</th>\n",
       "      <td>Valdoviño (A Frouxeira)</td>\n",
       "      <td>Galicia</td>\n",
       "      <td>1</td>\n",
       "      <td>Valdoviño</td>\n",
       "      <td>3000</td>\n",
       "      <td>3.000 metros</td>\n",
       "      <td>A Frouxeira</td>\n",
       "      <td>A Coruña</td>\n",
       "    </tr>\n",
       "    <tr>\n",
       "      <th>3</th>\n",
       "      <td>Ribeira (Vilar)</td>\n",
       "      <td>Galicia</td>\n",
       "      <td>1</td>\n",
       "      <td>Ribeira</td>\n",
       "      <td>2900</td>\n",
       "      <td>2.900 metros</td>\n",
       "      <td>Vilar</td>\n",
       "      <td>A Coruña</td>\n",
       "    </tr>\n",
       "    <tr>\n",
       "      <th>4</th>\n",
       "      <td>Ortigueira (Morouzos)</td>\n",
       "      <td>Galicia</td>\n",
       "      <td>1</td>\n",
       "      <td>Ortigueira</td>\n",
       "      <td>2800</td>\n",
       "      <td>2.800 metros</td>\n",
       "      <td>Morouzos</td>\n",
       "      <td>A Coruña</td>\n",
       "    </tr>\n",
       "    <tr>\n",
       "      <th>5</th>\n",
       "      <td>Laxe (Traba)</td>\n",
       "      <td>Galicia</td>\n",
       "      <td>1</td>\n",
       "      <td>Laxe</td>\n",
       "      <td>2650</td>\n",
       "      <td>2.650 metros</td>\n",
       "      <td>Traba</td>\n",
       "      <td>A Coruña</td>\n",
       "    </tr>\n",
       "    <tr>\n",
       "      <th>6</th>\n",
       "      <td>O Grove (A Lanzada)</td>\n",
       "      <td>Galicia</td>\n",
       "      <td>21</td>\n",
       "      <td>O Grove</td>\n",
       "      <td>2400</td>\n",
       "      <td>2.400 metros</td>\n",
       "      <td>A Lanzada</td>\n",
       "      <td>Pontevedra</td>\n",
       "    </tr>\n",
       "    <tr>\n",
       "      <th>7</th>\n",
       "      <td>Redondela (Da Punta)</td>\n",
       "      <td>Galicia</td>\n",
       "      <td>21</td>\n",
       "      <td>Redondela</td>\n",
       "      <td>2400</td>\n",
       "      <td>2.400 metros</td>\n",
       "      <td>Da Punta</td>\n",
       "      <td>Pontevedra</td>\n",
       "    </tr>\n",
       "    <tr>\n",
       "      <th>8</th>\n",
       "      <td>Boiro (Barraña)</td>\n",
       "      <td>Galicia</td>\n",
       "      <td>1</td>\n",
       "      <td>Boiro</td>\n",
       "      <td>2150</td>\n",
       "      <td>2.150 metros</td>\n",
       "      <td>Barraña</td>\n",
       "      <td>A Coruña</td>\n",
       "    </tr>\n",
       "    <tr>\n",
       "      <th>9</th>\n",
       "      <td>Porto do Son (Areas Longas)</td>\n",
       "      <td>Galicia</td>\n",
       "      <td>1</td>\n",
       "      <td>Porto do Son</td>\n",
       "      <td>2100</td>\n",
       "      <td>2.100 metros</td>\n",
       "      <td>Areas Longas</td>\n",
       "      <td>A Coruña</td>\n",
       "    </tr>\n",
       "  </tbody>\n",
       "</table>\n",
       "</div>"
      ],
      "text/plain": [
       "               clave_nom_playa comunidad  id_provincia     localidad  \\\n",
       "0            Carnota (Carnota)   Galicia             1       Carnota   \n",
       "1           Carballo (Baldaio)   Galicia             1      Carballo   \n",
       "2      Valdoviño (A Frouxeira)   Galicia             1     Valdoviño   \n",
       "3              Ribeira (Vilar)   Galicia             1       Ribeira   \n",
       "4        Ortigueira (Morouzos)   Galicia             1    Ortigueira   \n",
       "5                 Laxe (Traba)   Galicia             1          Laxe   \n",
       "6          O Grove (A Lanzada)   Galicia            21       O Grove   \n",
       "7         Redondela (Da Punta)   Galicia            21     Redondela   \n",
       "8              Boiro (Barraña)   Galicia             1         Boiro   \n",
       "9  Porto do Son (Areas Longas)   Galicia             1  Porto do Son   \n",
       "\n",
       "   longitud  longitud_txt     nom_playa nom_provincia  \n",
       "0      5600  5.600 metros       Carnota      A Coruña  \n",
       "1      4000  4.000 metros       Baldaio      A Coruña  \n",
       "2      3000  3.000 metros   A Frouxeira      A Coruña  \n",
       "3      2900  2.900 metros         Vilar      A Coruña  \n",
       "4      2800  2.800 metros      Morouzos      A Coruña  \n",
       "5      2650  2.650 metros         Traba      A Coruña  \n",
       "6      2400  2.400 metros     A Lanzada    Pontevedra  \n",
       "7      2400  2.400 metros      Da Punta    Pontevedra  \n",
       "8      2150  2.150 metros       Barraña      A Coruña  \n",
       "9      2100  2.100 metros  Areas Longas      A Coruña  "
      ]
     },
     "execution_count": 17,
     "metadata": {},
     "output_type": "execute_result"
    }
   ],
   "source": [
    "pd.DataFrame(list(rs))"
   ]
  },
  {
   "cell_type": "markdown",
   "metadata": {},
   "source": [
    "### QUERY_4) Las 10 provincias que más metros de playa tienen"
   ]
  },
  {
   "cell_type": "markdown",
   "metadata": {},
   "source": [
    "En este caso, al obtener un dato agregado, necesitamos utilizar la función **aggregate()** de mongo"
   ]
  },
  {
   "cell_type": "markdown",
   "metadata": {},
   "source": [
    "#### 4.1) FORMATO_1 "
   ]
  },
  {
   "cell_type": "code",
   "execution_count": 18,
   "metadata": {
    "collapsed": false
   },
   "outputs": [
    {
     "data": {
      "text/plain": [
       "pymongo.command_cursor.CommandCursor"
      ]
     },
     "execution_count": 18,
     "metadata": {},
     "output_type": "execute_result"
    }
   ],
   "source": [
    "rs = db_MDB.playas.aggregate([\n",
    "        {\"$group\" : { \"_id\" : \"$nom_provincia\", \n",
    "                      \"metros_de_playa\" : { \"$sum\" : \"$longitud\"}}},        \n",
    "        {\"$sort\" : {\"metros_de_playa\" : -1}},\n",
    "        {\"$limit\" : 10},\n",
    "        {\"$project\" : {\"_id\"    : 0, \n",
    "                       \"nom_provincia\"   : \"$_id\", \n",
    "                       \"metros_de_playa\" : 1}\n",
    "        }\n",
    "    ])\n",
    "\n",
    "type(rs)"
   ]
  },
  {
   "cell_type": "code",
   "execution_count": 19,
   "metadata": {
    "collapsed": false
   },
   "outputs": [
    {
     "data": {
      "text/html": [
       "<div>\n",
       "<style>\n",
       "    .dataframe thead tr:only-child th {\n",
       "        text-align: right;\n",
       "    }\n",
       "\n",
       "    .dataframe thead th {\n",
       "        text-align: left;\n",
       "    }\n",
       "\n",
       "    .dataframe tbody tr th {\n",
       "        vertical-align: top;\n",
       "    }\n",
       "</style>\n",
       "<table border=\"1\" class=\"dataframe\">\n",
       "  <thead>\n",
       "    <tr style=\"text-align: right;\">\n",
       "      <th></th>\n",
       "      <th>metros_de_playa</th>\n",
       "      <th>nom_provincia</th>\n",
       "    </tr>\n",
       "  </thead>\n",
       "  <tbody>\n",
       "    <tr>\n",
       "      <th>0</th>\n",
       "      <td>157040</td>\n",
       "      <td>A Coruña</td>\n",
       "    </tr>\n",
       "    <tr>\n",
       "      <th>1</th>\n",
       "      <td>138473</td>\n",
       "      <td>Cádiz</td>\n",
       "    </tr>\n",
       "    <tr>\n",
       "      <th>2</th>\n",
       "      <td>137337</td>\n",
       "      <td>Las Palmas</td>\n",
       "    </tr>\n",
       "    <tr>\n",
       "      <th>3</th>\n",
       "      <td>136720</td>\n",
       "      <td>Málaga</td>\n",
       "    </tr>\n",
       "    <tr>\n",
       "      <th>4</th>\n",
       "      <td>120765</td>\n",
       "      <td>Almería</td>\n",
       "    </tr>\n",
       "    <tr>\n",
       "      <th>5</th>\n",
       "      <td>118148</td>\n",
       "      <td>Alicante/Alacant</td>\n",
       "    </tr>\n",
       "    <tr>\n",
       "      <th>6</th>\n",
       "      <td>117767</td>\n",
       "      <td>Illes Balears</td>\n",
       "    </tr>\n",
       "    <tr>\n",
       "      <th>7</th>\n",
       "      <td>113720</td>\n",
       "      <td>Huelva</td>\n",
       "    </tr>\n",
       "    <tr>\n",
       "      <th>8</th>\n",
       "      <td>102431</td>\n",
       "      <td>Murcia</td>\n",
       "    </tr>\n",
       "    <tr>\n",
       "      <th>9</th>\n",
       "      <td>99015</td>\n",
       "      <td>Tarragona</td>\n",
       "    </tr>\n",
       "  </tbody>\n",
       "</table>\n",
       "</div>"
      ],
      "text/plain": [
       "   metros_de_playa     nom_provincia\n",
       "0           157040          A Coruña\n",
       "1           138473             Cádiz\n",
       "2           137337        Las Palmas\n",
       "3           136720            Málaga\n",
       "4           120765           Almería\n",
       "5           118148  Alicante/Alacant\n",
       "6           117767     Illes Balears\n",
       "7           113720            Huelva\n",
       "8           102431            Murcia\n",
       "9            99015         Tarragona"
      ]
     },
     "execution_count": 19,
     "metadata": {},
     "output_type": "execute_result"
    }
   ],
   "source": [
    "df = pd.DataFrame(list(rs))\n",
    "df"
   ]
  },
  {
   "cell_type": "markdown",
   "metadata": {},
   "source": [
    "#### 4.1) FORMATO_2 "
   ]
  },
  {
   "cell_type": "code",
   "execution_count": 20,
   "metadata": {
    "collapsed": false
   },
   "outputs": [
    {
     "data": {
      "text/plain": [
       "pymongo.command_cursor.CommandCursor"
      ]
     },
     "execution_count": 20,
     "metadata": {},
     "output_type": "execute_result"
    }
   ],
   "source": [
    "rs = db_MDB.playas.aggregate([\n",
    "        {\"$group\" : { \"_id\" : \"$nom_provincia\", \n",
    "                      \"longitud\" : { \"$sum\" : \"$longitud\"}}},        \n",
    "        {\"$sort\" : {\"longitud\" : -1}},\n",
    "        {\"$limit\" : 10},\n",
    "        {\"$project\" : {\"_id\"    : 0, \n",
    "                       \"nom_provincia\"   : \"$_id\", \n",
    "                       \"metros_de_playa\" : \"$longitud\"}\n",
    "        }\n",
    "    ])\n",
    "\n",
    "type(rs)"
   ]
  },
  {
   "cell_type": "code",
   "execution_count": 21,
   "metadata": {
    "collapsed": false
   },
   "outputs": [
    {
     "data": {
      "text/html": [
       "<div>\n",
       "<style>\n",
       "    .dataframe thead tr:only-child th {\n",
       "        text-align: right;\n",
       "    }\n",
       "\n",
       "    .dataframe thead th {\n",
       "        text-align: left;\n",
       "    }\n",
       "\n",
       "    .dataframe tbody tr th {\n",
       "        vertical-align: top;\n",
       "    }\n",
       "</style>\n",
       "<table border=\"1\" class=\"dataframe\">\n",
       "  <thead>\n",
       "    <tr style=\"text-align: right;\">\n",
       "      <th></th>\n",
       "      <th>metros_de_playa</th>\n",
       "      <th>nom_provincia</th>\n",
       "    </tr>\n",
       "  </thead>\n",
       "  <tbody>\n",
       "    <tr>\n",
       "      <th>0</th>\n",
       "      <td>157040</td>\n",
       "      <td>A Coruña</td>\n",
       "    </tr>\n",
       "    <tr>\n",
       "      <th>1</th>\n",
       "      <td>138473</td>\n",
       "      <td>Cádiz</td>\n",
       "    </tr>\n",
       "    <tr>\n",
       "      <th>2</th>\n",
       "      <td>137337</td>\n",
       "      <td>Las Palmas</td>\n",
       "    </tr>\n",
       "    <tr>\n",
       "      <th>3</th>\n",
       "      <td>136720</td>\n",
       "      <td>Málaga</td>\n",
       "    </tr>\n",
       "    <tr>\n",
       "      <th>4</th>\n",
       "      <td>120765</td>\n",
       "      <td>Almería</td>\n",
       "    </tr>\n",
       "    <tr>\n",
       "      <th>5</th>\n",
       "      <td>118148</td>\n",
       "      <td>Alicante/Alacant</td>\n",
       "    </tr>\n",
       "    <tr>\n",
       "      <th>6</th>\n",
       "      <td>117767</td>\n",
       "      <td>Illes Balears</td>\n",
       "    </tr>\n",
       "    <tr>\n",
       "      <th>7</th>\n",
       "      <td>113720</td>\n",
       "      <td>Huelva</td>\n",
       "    </tr>\n",
       "    <tr>\n",
       "      <th>8</th>\n",
       "      <td>102431</td>\n",
       "      <td>Murcia</td>\n",
       "    </tr>\n",
       "    <tr>\n",
       "      <th>9</th>\n",
       "      <td>99015</td>\n",
       "      <td>Tarragona</td>\n",
       "    </tr>\n",
       "  </tbody>\n",
       "</table>\n",
       "</div>"
      ],
      "text/plain": [
       "   metros_de_playa     nom_provincia\n",
       "0           157040          A Coruña\n",
       "1           138473             Cádiz\n",
       "2           137337        Las Palmas\n",
       "3           136720            Málaga\n",
       "4           120765           Almería\n",
       "5           118148  Alicante/Alacant\n",
       "6           117767     Illes Balears\n",
       "7           113720            Huelva\n",
       "8           102431            Murcia\n",
       "9            99015         Tarragona"
      ]
     },
     "execution_count": 21,
     "metadata": {},
     "output_type": "execute_result"
    }
   ],
   "source": [
    "df = pd.DataFrame(list(rs))\n",
    "df"
   ]
  },
  {
   "cell_type": "markdown",
   "metadata": {},
   "source": [
    "### QUERY_5) Metros de playa de una cierta Comunidad Autónoma agrupados por provincia"
   ]
  },
  {
   "cell_type": "code",
   "execution_count": 22,
   "metadata": {
    "collapsed": false
   },
   "outputs": [],
   "source": [
    "rs = db_MDB.playas.aggregate([\n",
    "        {\"$match\"   : {\"comunidad\": \"Galicia\"}},\n",
    "        {\"$group\" : { \"_id\" : {\"comunidad\"     : \"$comunidad\", \n",
    "                               \"nom_provincia\" : \"$nom_provincia\"}, \n",
    "                      \"longitud\" : { \"$sum\" : \"$longitud\"}}},    \n",
    "        {\"$sort\" : {\"longitud\" : -1}},\n",
    "        # {\"$limit\" : 10},\n",
    "        {\"$project\" : {\"_id\"             : 0, \n",
    "                       \"comunidad\"       : \"$_id.comunidad\", \n",
    "                       \"nom_provincia\"   : \"$_id.nom_provincia\", \n",
    "                       \"metros_de_playa\" : \"$longitud\"}\n",
    "        }\n",
    "    ])"
   ]
  },
  {
   "cell_type": "code",
   "execution_count": 23,
   "metadata": {
    "collapsed": false
   },
   "outputs": [
    {
     "data": {
      "text/html": [
       "<div>\n",
       "<style>\n",
       "    .dataframe thead tr:only-child th {\n",
       "        text-align: right;\n",
       "    }\n",
       "\n",
       "    .dataframe thead th {\n",
       "        text-align: left;\n",
       "    }\n",
       "\n",
       "    .dataframe tbody tr th {\n",
       "        vertical-align: top;\n",
       "    }\n",
       "</style>\n",
       "<table border=\"1\" class=\"dataframe\">\n",
       "  <thead>\n",
       "    <tr style=\"text-align: right;\">\n",
       "      <th></th>\n",
       "      <th>comunidad</th>\n",
       "      <th>metros_de_playa</th>\n",
       "      <th>nom_provincia</th>\n",
       "    </tr>\n",
       "  </thead>\n",
       "  <tbody>\n",
       "    <tr>\n",
       "      <th>0</th>\n",
       "      <td>Galicia</td>\n",
       "      <td>157040</td>\n",
       "      <td>A Coruña</td>\n",
       "    </tr>\n",
       "    <tr>\n",
       "      <th>1</th>\n",
       "      <td>Galicia</td>\n",
       "      <td>93552</td>\n",
       "      <td>Pontevedra</td>\n",
       "    </tr>\n",
       "    <tr>\n",
       "      <th>2</th>\n",
       "      <td>Galicia</td>\n",
       "      <td>27217</td>\n",
       "      <td>Lugo</td>\n",
       "    </tr>\n",
       "  </tbody>\n",
       "</table>\n",
       "</div>"
      ],
      "text/plain": [
       "  comunidad  metros_de_playa nom_provincia\n",
       "0   Galicia           157040      A Coruña\n",
       "1   Galicia            93552    Pontevedra\n",
       "2   Galicia            27217          Lugo"
      ]
     },
     "execution_count": 23,
     "metadata": {},
     "output_type": "execute_result"
    }
   ],
   "source": [
    "df = pd.DataFrame(list(rs))\n",
    "df"
   ]
  },
  {
   "cell_type": "markdown",
   "metadata": {},
   "source": [
    "### QUERY_6) ¿ Qué Comunidad tiene más metros de playa ?"
   ]
  },
  {
   "cell_type": "code",
   "execution_count": 24,
   "metadata": {
    "collapsed": false
   },
   "outputs": [],
   "source": [
    "rs = db_MDB.playas.aggregate([\n",
    "        {\"$group\" : { \"_id\" : \"$comunidad\",\n",
    "                      \"longitud\" : { \"$sum\" : \"$longitud\"}}},    \n",
    "        {\"$sort\" : {\"longitud\" : -1}},\n",
    "        #  {\"$limit\" : 10},\n",
    "        {\"$project\" : {\"_id\"             : 0, \n",
    "                       \"comunidad\"       : \"$_id\", \n",
    "                       \"metros_de_playa\" : \"$longitud\" }\n",
    "        }\n",
    "    ])"
   ]
  },
  {
   "cell_type": "code",
   "execution_count": 25,
   "metadata": {
    "collapsed": false
   },
   "outputs": [
    {
     "data": {
      "text/html": [
       "<div>\n",
       "<style>\n",
       "    .dataframe thead tr:only-child th {\n",
       "        text-align: right;\n",
       "    }\n",
       "\n",
       "    .dataframe thead th {\n",
       "        text-align: left;\n",
       "    }\n",
       "\n",
       "    .dataframe tbody tr th {\n",
       "        vertical-align: top;\n",
       "    }\n",
       "</style>\n",
       "<table border=\"1\" class=\"dataframe\">\n",
       "  <thead>\n",
       "    <tr style=\"text-align: right;\">\n",
       "      <th></th>\n",
       "      <th>comunidad</th>\n",
       "      <th>metros_de_playa</th>\n",
       "    </tr>\n",
       "  </thead>\n",
       "  <tbody>\n",
       "    <tr>\n",
       "      <th>0</th>\n",
       "      <td>Andalucía</td>\n",
       "      <td>545459</td>\n",
       "    </tr>\n",
       "    <tr>\n",
       "      <th>1</th>\n",
       "      <td>Galicia</td>\n",
       "      <td>277809</td>\n",
       "    </tr>\n",
       "    <tr>\n",
       "      <th>2</th>\n",
       "      <td>Comunitat Valenciana</td>\n",
       "      <td>276872</td>\n",
       "    </tr>\n",
       "    <tr>\n",
       "      <th>3</th>\n",
       "      <td>Cataluña/Catalunya</td>\n",
       "      <td>237274</td>\n",
       "    </tr>\n",
       "    <tr>\n",
       "      <th>4</th>\n",
       "      <td>Canarias</td>\n",
       "      <td>209374</td>\n",
       "    </tr>\n",
       "    <tr>\n",
       "      <th>5</th>\n",
       "      <td>Illes Balears</td>\n",
       "      <td>117767</td>\n",
       "    </tr>\n",
       "    <tr>\n",
       "      <th>6</th>\n",
       "      <td>Murcia, Región de</td>\n",
       "      <td>102431</td>\n",
       "    </tr>\n",
       "    <tr>\n",
       "      <th>7</th>\n",
       "      <td>Asturias, Principado de</td>\n",
       "      <td>70428</td>\n",
       "    </tr>\n",
       "    <tr>\n",
       "      <th>8</th>\n",
       "      <td>Cantabria</td>\n",
       "      <td>49880</td>\n",
       "    </tr>\n",
       "    <tr>\n",
       "      <th>9</th>\n",
       "      <td>País Vasco/Euskadi</td>\n",
       "      <td>30715</td>\n",
       "    </tr>\n",
       "    <tr>\n",
       "      <th>10</th>\n",
       "      <td>Ceuta</td>\n",
       "      <td>5240</td>\n",
       "    </tr>\n",
       "    <tr>\n",
       "      <th>11</th>\n",
       "      <td>Melilla</td>\n",
       "      <td>2730</td>\n",
       "    </tr>\n",
       "  </tbody>\n",
       "</table>\n",
       "</div>"
      ],
      "text/plain": [
       "                  comunidad  metros_de_playa\n",
       "0                 Andalucía           545459\n",
       "1                   Galicia           277809\n",
       "2      Comunitat Valenciana           276872\n",
       "3        Cataluña/Catalunya           237274\n",
       "4                  Canarias           209374\n",
       "5             Illes Balears           117767\n",
       "6         Murcia, Región de           102431\n",
       "7   Asturias, Principado de            70428\n",
       "8                 Cantabria            49880\n",
       "9        País Vasco/Euskadi            30715\n",
       "10                    Ceuta             5240\n",
       "11                  Melilla             2730"
      ]
     },
     "execution_count": 25,
     "metadata": {},
     "output_type": "execute_result"
    }
   ],
   "source": [
    "df = pd.DataFrame(list(rs))\n",
    "df"
   ]
  },
  {
   "cell_type": "markdown",
   "metadata": {},
   "source": [
    "### QUERY_7) ¿ Qué provincia tiene más playas ... ?"
   ]
  },
  {
   "cell_type": "markdown",
   "metadata": {},
   "source": [
    "#### QUERY_7.1) ¿ Qué provincia tiene más playas ... en número ?"
   ]
  },
  {
   "cell_type": "code",
   "execution_count": 26,
   "metadata": {
    "collapsed": false
   },
   "outputs": [
    {
     "data": {
      "text/plain": [
       "pymongo.command_cursor.CommandCursor"
      ]
     },
     "execution_count": 26,
     "metadata": {},
     "output_type": "execute_result"
    }
   ],
   "source": [
    "rs = db_MDB.playas.aggregate([\n",
    "        {\"$group\" : { \"_id\" : \"$nom_provincia\", \n",
    "                      \"contador\":{\"$sum\":1}}},        \n",
    "        {\"$sort\" : {\"contador\" : -1}},\n",
    "        {\"$limit\" : 10},\n",
    "        {\"$project\" : {\"_id\"    : 0, \n",
    "                       \"nom_provincia\"   : \"$_id\", \n",
    "                       \"num_playas\" : \"$contador\"}\n",
    "        }\n",
    "    ])\n",
    "\n",
    "type(rs)"
   ]
  },
  {
   "cell_type": "code",
   "execution_count": 27,
   "metadata": {
    "collapsed": false
   },
   "outputs": [
    {
     "data": {
      "text/html": [
       "<div>\n",
       "<style>\n",
       "    .dataframe thead tr:only-child th {\n",
       "        text-align: right;\n",
       "    }\n",
       "\n",
       "    .dataframe thead th {\n",
       "        text-align: left;\n",
       "    }\n",
       "\n",
       "    .dataframe tbody tr th {\n",
       "        vertical-align: top;\n",
       "    }\n",
       "</style>\n",
       "<table border=\"1\" class=\"dataframe\">\n",
       "  <thead>\n",
       "    <tr style=\"text-align: right;\">\n",
       "      <th></th>\n",
       "      <th>nom_provincia</th>\n",
       "      <th>num_playas</th>\n",
       "    </tr>\n",
       "  </thead>\n",
       "  <tbody>\n",
       "    <tr>\n",
       "      <th>0</th>\n",
       "      <td>A Coruña</td>\n",
       "      <td>410</td>\n",
       "    </tr>\n",
       "    <tr>\n",
       "      <th>1</th>\n",
       "      <td>Pontevedra</td>\n",
       "      <td>370</td>\n",
       "    </tr>\n",
       "    <tr>\n",
       "      <th>2</th>\n",
       "      <td>Illes Balears</td>\n",
       "      <td>346</td>\n",
       "    </tr>\n",
       "    <tr>\n",
       "      <th>3</th>\n",
       "      <td>Las Palmas</td>\n",
       "      <td>322</td>\n",
       "    </tr>\n",
       "    <tr>\n",
       "      <th>4</th>\n",
       "      <td>Santa Cruz de Tenerife</td>\n",
       "      <td>257</td>\n",
       "    </tr>\n",
       "    <tr>\n",
       "      <th>5</th>\n",
       "      <td>Asturias</td>\n",
       "      <td>205</td>\n",
       "    </tr>\n",
       "    <tr>\n",
       "      <th>6</th>\n",
       "      <td>Murcia</td>\n",
       "      <td>199</td>\n",
       "    </tr>\n",
       "    <tr>\n",
       "      <th>7</th>\n",
       "      <td>Girona</td>\n",
       "      <td>183</td>\n",
       "    </tr>\n",
       "    <tr>\n",
       "      <th>8</th>\n",
       "      <td>Alicante/Alacant</td>\n",
       "      <td>173</td>\n",
       "    </tr>\n",
       "    <tr>\n",
       "      <th>9</th>\n",
       "      <td>Málaga</td>\n",
       "      <td>131</td>\n",
       "    </tr>\n",
       "  </tbody>\n",
       "</table>\n",
       "</div>"
      ],
      "text/plain": [
       "            nom_provincia  num_playas\n",
       "0                A Coruña         410\n",
       "1              Pontevedra         370\n",
       "2           Illes Balears         346\n",
       "3              Las Palmas         322\n",
       "4  Santa Cruz de Tenerife         257\n",
       "5                Asturias         205\n",
       "6                  Murcia         199\n",
       "7                  Girona         183\n",
       "8        Alicante/Alacant         173\n",
       "9                  Málaga         131"
      ]
     },
     "execution_count": 27,
     "metadata": {},
     "output_type": "execute_result"
    }
   ],
   "source": [
    "df = pd.DataFrame(list(rs))\n",
    "df"
   ]
  },
  {
   "cell_type": "markdown",
   "metadata": {},
   "source": [
    "#### QUERY_7.2) ¿ Qué provincia tiene más playas ... con nombres diferentes ?"
   ]
  },
  {
   "cell_type": "markdown",
   "metadata": {},
   "source": [
    "Este es un caso especial de agregación, ya que cuenta los distintos. Dentro del flujo de la función se realizan varios pasos para resolver esta query:\n",
    "\n",
    "- Formar un conjunto con los distintos nombres de playas de cada provincia\n",
    "- Desagregar el conjunto\n",
    "- Agrupar las provincias, contanto los distintos elementos de cada conjunto"
   ]
  },
  {
   "cell_type": "code",
   "execution_count": 28,
   "metadata": {
    "collapsed": false
   },
   "outputs": [],
   "source": [
    "rs = db_MDB.playas.aggregate([\n",
    "        {\"$group\"   : { \"_id\" : \"$nom_provincia\", \"aux_playas\" : { \"$addToSet\" : \"$nom_playa\"}}},\n",
    "        {\"$unwind\"  : \"$aux_playas\"},\n",
    "        {\"$group\"   : { \"_id\" : \"$_id\", \"cuenta\" : { \"$sum\" : 1}}},\n",
    "        {\"$sort\"    : {\"cuenta\" : -1}},\n",
    "        {\"$project\" : {\"_id\" : 0, \"nom_provincia\": \"$_id\", \"cuenta\": 1}},\n",
    "        {\"$match\"   : {\"nom_provincia\": { \"$exists\": True, \"$ne\": None }}},\n",
    "        {\"$limit\"   : 10}\n",
    "    ])"
   ]
  },
  {
   "cell_type": "code",
   "execution_count": 29,
   "metadata": {
    "collapsed": false
   },
   "outputs": [
    {
     "data": {
      "text/html": [
       "<div>\n",
       "<style>\n",
       "    .dataframe thead tr:only-child th {\n",
       "        text-align: right;\n",
       "    }\n",
       "\n",
       "    .dataframe thead th {\n",
       "        text-align: left;\n",
       "    }\n",
       "\n",
       "    .dataframe tbody tr th {\n",
       "        vertical-align: top;\n",
       "    }\n",
       "</style>\n",
       "<table border=\"1\" class=\"dataframe\">\n",
       "  <thead>\n",
       "    <tr style=\"text-align: right;\">\n",
       "      <th></th>\n",
       "      <th>cuenta</th>\n",
       "      <th>nom_provincia</th>\n",
       "    </tr>\n",
       "  </thead>\n",
       "  <tbody>\n",
       "    <tr>\n",
       "      <th>0</th>\n",
       "      <td>388</td>\n",
       "      <td>A Coruña</td>\n",
       "    </tr>\n",
       "    <tr>\n",
       "      <th>1</th>\n",
       "      <td>350</td>\n",
       "      <td>Pontevedra</td>\n",
       "    </tr>\n",
       "    <tr>\n",
       "      <th>2</th>\n",
       "      <td>330</td>\n",
       "      <td>Illes Balears</td>\n",
       "    </tr>\n",
       "    <tr>\n",
       "      <th>3</th>\n",
       "      <td>303</td>\n",
       "      <td>Las Palmas</td>\n",
       "    </tr>\n",
       "    <tr>\n",
       "      <th>4</th>\n",
       "      <td>228</td>\n",
       "      <td>Santa Cruz de Tenerife</td>\n",
       "    </tr>\n",
       "    <tr>\n",
       "      <th>5</th>\n",
       "      <td>199</td>\n",
       "      <td>Asturias</td>\n",
       "    </tr>\n",
       "    <tr>\n",
       "      <th>6</th>\n",
       "      <td>193</td>\n",
       "      <td>Murcia</td>\n",
       "    </tr>\n",
       "    <tr>\n",
       "      <th>7</th>\n",
       "      <td>179</td>\n",
       "      <td>Girona</td>\n",
       "    </tr>\n",
       "    <tr>\n",
       "      <th>8</th>\n",
       "      <td>165</td>\n",
       "      <td>Alicante/Alacant</td>\n",
       "    </tr>\n",
       "    <tr>\n",
       "      <th>9</th>\n",
       "      <td>126</td>\n",
       "      <td>Málaga</td>\n",
       "    </tr>\n",
       "  </tbody>\n",
       "</table>\n",
       "</div>"
      ],
      "text/plain": [
       "   cuenta           nom_provincia\n",
       "0     388                A Coruña\n",
       "1     350              Pontevedra\n",
       "2     330           Illes Balears\n",
       "3     303              Las Palmas\n",
       "4     228  Santa Cruz de Tenerife\n",
       "5     199                Asturias\n",
       "6     193                  Murcia\n",
       "7     179                  Girona\n",
       "8     165        Alicante/Alacant\n",
       "9     126                  Málaga"
      ]
     },
     "execution_count": 29,
     "metadata": {},
     "output_type": "execute_result"
    }
   ],
   "source": [
    "df = pd.DataFrame(list(rs))\n",
    "df"
   ]
  },
  {
   "cell_type": "markdown",
   "metadata": {
    "collapsed": true
   },
   "source": [
    "Truco ...\n",
    "\n",
    "En este tipo de querys complicadas podemos ver los resultados parciales ..."
   ]
  },
  {
   "cell_type": "code",
   "execution_count": 30,
   "metadata": {
    "collapsed": false
   },
   "outputs": [
    {
     "data": {
      "text/html": [
       "<div>\n",
       "<style>\n",
       "    .dataframe thead tr:only-child th {\n",
       "        text-align: right;\n",
       "    }\n",
       "\n",
       "    .dataframe thead th {\n",
       "        text-align: left;\n",
       "    }\n",
       "\n",
       "    .dataframe tbody tr th {\n",
       "        vertical-align: top;\n",
       "    }\n",
       "</style>\n",
       "<table border=\"1\" class=\"dataframe\">\n",
       "  <thead>\n",
       "    <tr style=\"text-align: right;\">\n",
       "      <th></th>\n",
       "      <th>_id</th>\n",
       "      <th>aux_playas</th>\n",
       "    </tr>\n",
       "  </thead>\n",
       "  <tbody>\n",
       "    <tr>\n",
       "      <th>0</th>\n",
       "      <td>Melilla</td>\n",
       "      <td>Hipódromo</td>\n",
       "    </tr>\n",
       "    <tr>\n",
       "      <th>1</th>\n",
       "      <td>Melilla</td>\n",
       "      <td>Los Cárabos</td>\n",
       "    </tr>\n",
       "    <tr>\n",
       "      <th>2</th>\n",
       "      <td>Melilla</td>\n",
       "      <td>La Hípica</td>\n",
       "    </tr>\n",
       "    <tr>\n",
       "      <th>3</th>\n",
       "      <td>Melilla</td>\n",
       "      <td>Horcas Coloradas</td>\n",
       "    </tr>\n",
       "    <tr>\n",
       "      <th>4</th>\n",
       "      <td>Melilla</td>\n",
       "      <td>San Lorenzo</td>\n",
       "    </tr>\n",
       "    <tr>\n",
       "      <th>5</th>\n",
       "      <td>Melilla</td>\n",
       "      <td>Trápana</td>\n",
       "    </tr>\n",
       "    <tr>\n",
       "      <th>6</th>\n",
       "      <td>Melilla</td>\n",
       "      <td>Ensenada de los Galápagos</td>\n",
       "    </tr>\n",
       "    <tr>\n",
       "      <th>7</th>\n",
       "      <td>Melilla</td>\n",
       "      <td>Alcazaba</td>\n",
       "    </tr>\n",
       "    <tr>\n",
       "      <th>8</th>\n",
       "      <td>Granada</td>\n",
       "      <td>Melicena</td>\n",
       "    </tr>\n",
       "    <tr>\n",
       "      <th>9</th>\n",
       "      <td>Granada</td>\n",
       "      <td>El Gaiterillo</td>\n",
       "    </tr>\n",
       "  </tbody>\n",
       "</table>\n",
       "</div>"
      ],
      "text/plain": [
       "       _id                 aux_playas\n",
       "0  Melilla                  Hipódromo\n",
       "1  Melilla                Los Cárabos\n",
       "2  Melilla                  La Hípica\n",
       "3  Melilla           Horcas Coloradas\n",
       "4  Melilla                San Lorenzo\n",
       "5  Melilla                    Trápana\n",
       "6  Melilla  Ensenada de los Galápagos\n",
       "7  Melilla                   Alcazaba\n",
       "8  Granada                   Melicena\n",
       "9  Granada              El Gaiterillo"
      ]
     },
     "execution_count": 30,
     "metadata": {},
     "output_type": "execute_result"
    }
   ],
   "source": [
    "rs = db_MDB.playas.aggregate([\n",
    "        {\"$group\"   : { \"_id\" : \"$nom_provincia\", \"aux_playas\" : { \"$addToSet\" : \"$nom_playa\"}}},\n",
    "        {\"$unwind\"  : \"$aux_playas\"},\n",
    "    ])\n",
    "\n",
    "pd.DataFrame(list(rs)).head(10)"
   ]
  },
  {
   "cell_type": "markdown",
   "metadata": {},
   "source": [
    "#### QUERY_7.3)  ¿ Qué provincia tiene más playas ... nudistas ?"
   ]
  },
  {
   "cell_type": "code",
   "execution_count": 31,
   "metadata": {
    "collapsed": false
   },
   "outputs": [
    {
     "data": {
      "text/plain": [
       "pymongo.command_cursor.CommandCursor"
      ]
     },
     "execution_count": 31,
     "metadata": {},
     "output_type": "execute_result"
    }
   ],
   "source": [
    "rs = db_MDB.playas.aggregate([\n",
    "        {\"$match\"   : {\"nudista\": u\"Sí\"}},\n",
    "        {\"$group\" : { \"_id\" : \"$nom_provincia\", \n",
    "                      \"contador\":{\"$sum\":1}}},        \n",
    "        {\"$sort\" : {\"contador\" : -1}},\n",
    "        {\"$limit\" : 10},\n",
    "        {\"$project\" : {\"_id\"    : 0, \n",
    "                       \"nom_provincia\"             : \"$_id\", \n",
    "                       \"num_playas_nudistas_puras\" : \"$contador\"}\n",
    "        }\n",
    "    ])\n",
    "\n",
    "type(rs)"
   ]
  },
  {
   "cell_type": "code",
   "execution_count": 32,
   "metadata": {
    "collapsed": false
   },
   "outputs": [
    {
     "data": {
      "text/html": [
       "<div>\n",
       "<style>\n",
       "    .dataframe thead tr:only-child th {\n",
       "        text-align: right;\n",
       "    }\n",
       "\n",
       "    .dataframe thead th {\n",
       "        text-align: left;\n",
       "    }\n",
       "\n",
       "    .dataframe tbody tr th {\n",
       "        vertical-align: top;\n",
       "    }\n",
       "</style>\n",
       "<table border=\"1\" class=\"dataframe\">\n",
       "  <thead>\n",
       "    <tr style=\"text-align: right;\">\n",
       "      <th></th>\n",
       "      <th>nom_provincia</th>\n",
       "      <th>num_playas_nudistas_puras</th>\n",
       "    </tr>\n",
       "  </thead>\n",
       "  <tbody>\n",
       "    <tr>\n",
       "      <th>0</th>\n",
       "      <td>Las Palmas</td>\n",
       "      <td>146</td>\n",
       "    </tr>\n",
       "    <tr>\n",
       "      <th>1</th>\n",
       "      <td>Illes Balears</td>\n",
       "      <td>79</td>\n",
       "    </tr>\n",
       "    <tr>\n",
       "      <th>2</th>\n",
       "      <td>Santa Cruz de Tenerife</td>\n",
       "      <td>27</td>\n",
       "    </tr>\n",
       "    <tr>\n",
       "      <th>3</th>\n",
       "      <td>Alicante/Alacant</td>\n",
       "      <td>18</td>\n",
       "    </tr>\n",
       "    <tr>\n",
       "      <th>4</th>\n",
       "      <td>A Coruña</td>\n",
       "      <td>17</td>\n",
       "    </tr>\n",
       "    <tr>\n",
       "      <th>5</th>\n",
       "      <td>Girona</td>\n",
       "      <td>16</td>\n",
       "    </tr>\n",
       "    <tr>\n",
       "      <th>6</th>\n",
       "      <td>Gipuzkoa</td>\n",
       "      <td>16</td>\n",
       "    </tr>\n",
       "    <tr>\n",
       "      <th>7</th>\n",
       "      <td>Pontevedra</td>\n",
       "      <td>15</td>\n",
       "    </tr>\n",
       "    <tr>\n",
       "      <th>8</th>\n",
       "      <td>Tarragona</td>\n",
       "      <td>9</td>\n",
       "    </tr>\n",
       "    <tr>\n",
       "      <th>9</th>\n",
       "      <td>Barcelona</td>\n",
       "      <td>8</td>\n",
       "    </tr>\n",
       "  </tbody>\n",
       "</table>\n",
       "</div>"
      ],
      "text/plain": [
       "            nom_provincia  num_playas_nudistas_puras\n",
       "0              Las Palmas                        146\n",
       "1           Illes Balears                         79\n",
       "2  Santa Cruz de Tenerife                         27\n",
       "3        Alicante/Alacant                         18\n",
       "4                A Coruña                         17\n",
       "5                  Girona                         16\n",
       "6                Gipuzkoa                         16\n",
       "7              Pontevedra                         15\n",
       "8               Tarragona                          9\n",
       "9               Barcelona                          8"
      ]
     },
     "execution_count": 32,
     "metadata": {},
     "output_type": "execute_result"
    }
   ],
   "source": [
    "df = pd.DataFrame(list(rs))\n",
    "df"
   ]
  },
  {
   "cell_type": "markdown",
   "metadata": {},
   "source": [
    "#### QUERY_7.4)  ¿ Qué provincia tiene más playas ... con bandera azul ?"
   ]
  },
  {
   "cell_type": "code",
   "execution_count": 33,
   "metadata": {
    "collapsed": false
   },
   "outputs": [
    {
     "data": {
      "text/plain": [
       "pymongo.command_cursor.CommandCursor"
      ]
     },
     "execution_count": 33,
     "metadata": {},
     "output_type": "execute_result"
    }
   ],
   "source": [
    "rs = db_MDB.playas.aggregate([\n",
    "        {\"$match\"   : {\"bandera_azul\": u\"Sí\"}},\n",
    "        {\"$group\" : { \"_id\" : \"$nom_provincia\", \n",
    "                      \"contador\":{\"$sum\":1}}},        \n",
    "        {\"$sort\" : {\"contador\" : -1}},\n",
    "        {\"$limit\" : 10},\n",
    "        {\"$project\" : {\"_id\"    : 0, \n",
    "                       \"nom_provincia\"           : \"$_id\", \n",
    "                       \"num_playas_bandera_azul\" : \"$contador\"}\n",
    "        }\n",
    "    ])\n",
    "\n",
    "type(rs)"
   ]
  },
  {
   "cell_type": "code",
   "execution_count": 34,
   "metadata": {
    "collapsed": false
   },
   "outputs": [
    {
     "data": {
      "text/html": [
       "<div>\n",
       "<style>\n",
       "    .dataframe thead tr:only-child th {\n",
       "        text-align: right;\n",
       "    }\n",
       "\n",
       "    .dataframe thead th {\n",
       "        text-align: left;\n",
       "    }\n",
       "\n",
       "    .dataframe tbody tr th {\n",
       "        vertical-align: top;\n",
       "    }\n",
       "</style>\n",
       "<table border=\"1\" class=\"dataframe\">\n",
       "  <thead>\n",
       "    <tr style=\"text-align: right;\">\n",
       "      <th></th>\n",
       "      <th>nom_provincia</th>\n",
       "      <th>num_playas_bandera_azul</th>\n",
       "    </tr>\n",
       "  </thead>\n",
       "  <tbody>\n",
       "    <tr>\n",
       "      <th>0</th>\n",
       "      <td>Alicante/Alacant</td>\n",
       "      <td>62</td>\n",
       "    </tr>\n",
       "    <tr>\n",
       "      <th>1</th>\n",
       "      <td>Pontevedra</td>\n",
       "      <td>57</td>\n",
       "    </tr>\n",
       "    <tr>\n",
       "      <th>2</th>\n",
       "      <td>A Coruña</td>\n",
       "      <td>45</td>\n",
       "    </tr>\n",
       "    <tr>\n",
       "      <th>3</th>\n",
       "      <td>Tarragona</td>\n",
       "      <td>43</td>\n",
       "    </tr>\n",
       "    <tr>\n",
       "      <th>4</th>\n",
       "      <td>Illes Balears</td>\n",
       "      <td>41</td>\n",
       "    </tr>\n",
       "    <tr>\n",
       "      <th>5</th>\n",
       "      <td>Murcia</td>\n",
       "      <td>40</td>\n",
       "    </tr>\n",
       "    <tr>\n",
       "      <th>6</th>\n",
       "      <td>Castellón/Castelló</td>\n",
       "      <td>33</td>\n",
       "    </tr>\n",
       "    <tr>\n",
       "      <th>7</th>\n",
       "      <td>Girona</td>\n",
       "      <td>31</td>\n",
       "    </tr>\n",
       "    <tr>\n",
       "      <th>8</th>\n",
       "      <td>Valencia/València</td>\n",
       "      <td>30</td>\n",
       "    </tr>\n",
       "    <tr>\n",
       "      <th>9</th>\n",
       "      <td>Barcelona</td>\n",
       "      <td>29</td>\n",
       "    </tr>\n",
       "  </tbody>\n",
       "</table>\n",
       "</div>"
      ],
      "text/plain": [
       "        nom_provincia  num_playas_bandera_azul\n",
       "0    Alicante/Alacant                       62\n",
       "1          Pontevedra                       57\n",
       "2            A Coruña                       45\n",
       "3           Tarragona                       43\n",
       "4       Illes Balears                       41\n",
       "5              Murcia                       40\n",
       "6  Castellón/Castelló                       33\n",
       "7              Girona                       31\n",
       "8   Valencia/València                       30\n",
       "9           Barcelona                       29"
      ]
     },
     "execution_count": 34,
     "metadata": {},
     "output_type": "execute_result"
    }
   ],
   "source": [
    "df = pd.DataFrame(list(rs))\n",
    "df"
   ]
  },
  {
   "cell_type": "markdown",
   "metadata": {
    "collapsed": true
   },
   "source": [
    "# FIN"
   ]
  }
 ],
 "metadata": {
  "kernelspec": {
   "display_name": "Python 2",
   "language": "python",
   "name": "python2"
  },
  "language_info": {
   "codemirror_mode": {
    "name": "ipython",
    "version": 2
   },
   "file_extension": ".py",
   "mimetype": "text/x-python",
   "name": "python",
   "nbconvert_exporter": "python",
   "pygments_lexer": "ipython2",
   "version": "2.7.6"
  }
 },
 "nbformat": 4,
 "nbformat_minor": 0
}
