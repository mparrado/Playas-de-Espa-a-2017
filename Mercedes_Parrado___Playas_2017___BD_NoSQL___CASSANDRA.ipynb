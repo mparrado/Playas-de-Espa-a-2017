{
 "cells": [
  {
   "cell_type": "markdown",
   "metadata": {},
   "source": [
    "# --------------------------------------------------------------------------------------------------------------\n",
    "# PLAYAS de ESPAÑA 2017 : CASSANDRA\n",
    "# --------------------------------------------------------------------------------------------------------------"
   ]
  },
  {
   "cell_type": "markdown",
   "metadata": {},
   "source": [
    "## Inicializaciones previas"
   ]
  },
  {
   "cell_type": "markdown",
   "metadata": {},
   "source": [
    "### a) Carga de librerías"
   ]
  },
  {
   "cell_type": "code",
   "execution_count": 1,
   "metadata": {
    "collapsed": true
   },
   "outputs": [],
   "source": [
    "import pandas as pd"
   ]
  },
  {
   "cell_type": "markdown",
   "metadata": {},
   "source": [
    "# A) Carga de datos desde Excel a un DataFrame de PANDAS"
   ]
  },
  {
   "cell_type": "markdown",
   "metadata": {},
   "source": [
    "Leemos los datos desde el fichero Excel y los desnormalizamos : leemos las 2 hojas del fichero Excel en un **mismo** DataFrame de Pandas para guardarlo todo junto."
   ]
  },
  {
   "cell_type": "code",
   "execution_count": 2,
   "metadata": {
    "collapsed": true
   },
   "outputs": [],
   "source": [
    "df_excel_provincias = pd.read_excel(\"./data/playas_2017.xlsx\", sheetname= \"HOJA_PROVINCIAS\")\n",
    "df_excel_playas     = pd.read_excel(\"./data/playas_2017.xlsx\", sheetname= \"HOJA_PLAYAS\")"
   ]
  },
  {
   "cell_type": "code",
   "execution_count": 3,
   "metadata": {
    "collapsed": false
   },
   "outputs": [
    {
     "name": "stdout",
     "output_type": "stream",
     "text": [
      "<class 'pandas.core.frame.DataFrame'>\n",
      "Int64Index: 3511 entries, 0 to 3510\n",
      "Data columns (total 12 columns):\n",
      "id_provincia       3511 non-null int64\n",
      "nom_provincia      3511 non-null object\n",
      "comunidad          3511 non-null object\n",
      "cod_playa          3511 non-null int64\n",
      "nom_playa          3511 non-null object\n",
      "localidad          3511 non-null object\n",
      "clave_nom_playa    3511 non-null object\n",
      "longitud           3511 non-null int64\n",
      "longitud_txt       3511 non-null object\n",
      "arena              3511 non-null object\n",
      "nudista            3511 non-null object\n",
      "bandera_azul       3511 non-null object\n",
      "dtypes: int64(3), object(9)\n",
      "memory usage: 356.6+ KB\n"
     ]
    }
   ],
   "source": [
    "df_cassandra = pd.merge(df_excel_provincias, df_excel_playas, on = ['id_provincia'], how = 'inner')\n",
    "df_cassandra.info()"
   ]
  },
  {
   "cell_type": "markdown",
   "metadata": {},
   "source": [
    "# B) BD de CASSANDRA"
   ]
  },
  {
   "cell_type": "markdown",
   "metadata": {},
   "source": [
    "## B.1) Conexión a la BD de CASSANDRA"
   ]
  },
  {
   "cell_type": "markdown",
   "metadata": {},
   "source": [
    "### B.1.1) Carga de CQL"
   ]
  },
  {
   "cell_type": "code",
   "execution_count": 4,
   "metadata": {
    "collapsed": false
   },
   "outputs": [],
   "source": [
    "%load_ext cql"
   ]
  },
  {
   "cell_type": "markdown",
   "metadata": {},
   "source": [
    "### B.1.2) Borrado de la BD (\"playas_2017\")"
   ]
  },
  {
   "cell_type": "code",
   "execution_count": 5,
   "metadata": {
    "collapsed": false
   },
   "outputs": [
    {
     "data": {
      "text/plain": [
       "'No results.'"
      ]
     },
     "execution_count": 5,
     "metadata": {},
     "output_type": "execute_result"
    }
   ],
   "source": [
    "%%cql\n",
    "DROP KEYSPACE playas_2017;"
   ]
  },
  {
   "cell_type": "markdown",
   "metadata": {},
   "source": [
    "### B.1.3) Creación de la BD (\"playas_2017\")"
   ]
  },
  {
   "cell_type": "code",
   "execution_count": 6,
   "metadata": {
    "collapsed": false
   },
   "outputs": [
    {
     "data": {
      "text/plain": [
       "'No results.'"
      ]
     },
     "execution_count": 6,
     "metadata": {},
     "output_type": "execute_result"
    }
   ],
   "source": [
    "%%cql\n",
    "CREATE KEYSPACE playas_2017\n",
    "WITH replication = {'class':'SimpleStrategy', 'replication_factor': 1};"
   ]
  },
  {
   "cell_type": "markdown",
   "metadata": {},
   "source": [
    "### B.1.4) Conexión a la BD (\"playas_2017\")"
   ]
  },
  {
   "cell_type": "code",
   "execution_count": 7,
   "metadata": {
    "collapsed": false
   },
   "outputs": [
    {
     "data": {
      "text/plain": [
       "'No results.'"
      ]
     },
     "execution_count": 7,
     "metadata": {},
     "output_type": "execute_result"
    }
   ],
   "source": [
    "%cql USE playas_2017;"
   ]
  },
  {
   "cell_type": "markdown",
   "metadata": {},
   "source": [
    "## B.2) Creamos las TABLAS de CASSANDRA"
   ]
  },
  {
   "cell_type": "markdown",
   "metadata": {},
   "source": [
    "### B.2.1) Modelo de BD de CASSANDRA"
   ]
  },
  {
   "cell_type": "markdown",
   "metadata": {},
   "source": [
    "Para almacenar la información se van a crear 2 tablas :\n",
    "\n",
    " + Tabla de **playas**             :  contiene las playas de España y sus características en formato desnormalizado. La PK será el cod_playa que viene en el dataset de partida.\n",
    " + Tabla de **acum_longitud_prov** :  contiene la longitd de playas acumulada por provincia."
   ]
  },
  {
   "cell_type": "markdown",
   "metadata": {},
   "source": [
    "También tenemos una tabla auxiliar, creada gracias a la funcionalidad que nos da la base de datos de VISTAS MATERIALIZADAS, que vamos a utilizar para facilitar otros patrones distintos de acceso a la información."
   ]
  },
  {
   "cell_type": "markdown",
   "metadata": {},
   "source": [
    "<br><br> \n",
    "\n",
    "<img src=\"images/Modelo_BD___CASSANDRA.JPG\",width=700,height=600>\n",
    "\n",
    "\n",
    "<br><br>"
   ]
  },
  {
   "cell_type": "markdown",
   "metadata": {},
   "source": [
    "### B.2.2) Borrado de las tablas"
   ]
  },
  {
   "cell_type": "markdown",
   "metadata": {},
   "source": [
    "No aplica, ya que en pasos anteriores la BD se ha **borrado** (DROP KEYSPACE playas_2017;) y **creado** (CREATE KEYSPACE playas_2017 ...)."
   ]
  },
  {
   "cell_type": "markdown",
   "metadata": {},
   "source": [
    "### B.2.3) Creación de las tablas"
   ]
  },
  {
   "cell_type": "markdown",
   "metadata": {},
   "source": [
    "#### B.2.3.1) TABLA \"acum_longitud_prov\""
   ]
  },
  {
   "cell_type": "code",
   "execution_count": 8,
   "metadata": {
    "collapsed": false
   },
   "outputs": [
    {
     "data": {
      "text/plain": [
       "'No results.'"
      ]
     },
     "execution_count": 8,
     "metadata": {},
     "output_type": "execute_result"
    }
   ],
   "source": [
    "%%cql \n",
    "\n",
    "CREATE TABLE acum_longitud_prov (\n",
    "    acu_nombre_prov     text,\n",
    "    acu_longitud_prov   counter,\n",
    "    PRIMARY KEY (acu_nombre_prov)\n",
    ")"
   ]
  },
  {
   "cell_type": "markdown",
   "metadata": {},
   "source": [
    "#### B.2.3.2) TABLA \"playas\""
   ]
  },
  {
   "cell_type": "markdown",
   "metadata": {},
   "source": [
    "** NOTA : ** Como señalamos anteriormente, en la tabla de **playas**, la PK será el cod_playa que viene en el dataset de partida. En caso de que no hubiese PK, se podría utilizar como PK un tipo UUID (marca temporal única) donde se guarda un TIMESTAMP con la hora de creación del registro."
   ]
  },
  {
   "cell_type": "code",
   "execution_count": 9,
   "metadata": {
    "collapsed": false
   },
   "outputs": [
    {
     "data": {
      "text/plain": [
       "'No results.'"
      ]
     },
     "execution_count": 9,
     "metadata": {},
     "output_type": "execute_result"
    }
   ],
   "source": [
    "%%cql \n",
    "\n",
    "\n",
    "CREATE TABLE playas (\n",
    "    id_provincia    int,\n",
    "    nom_provincia   text,\n",
    "    comunidad       text,\n",
    "    cod_playa       int,\n",
    "    nom_playa       text,\n",
    "    localidad       text,\n",
    "    clave_nom_playa text,\n",
    "    longitud        int,\n",
    "    longitud_txt    text,\n",
    "    arena           text,\n",
    "    nudista         text,\n",
    "    bandera_azul    text,\n",
    "    PRIMARY KEY ((cod_playa), longitud, comunidad, nom_provincia, nom_playa, localidad, clave_nom_playa)\n",
    ")\n",
    "WITH CLUSTERING ORDER BY (longitud DESC);"
   ]
  },
  {
   "cell_type": "markdown",
   "metadata": {},
   "source": [
    "#### B.2.3.3) Vistas materializadas"
   ]
  },
  {
   "cell_type": "markdown",
   "metadata": {},
   "source": [
    "En la vista materializada no es necesario insertar datos ya que se ocupa la propia base de datos."
   ]
  },
  {
   "cell_type": "code",
   "execution_count": 10,
   "metadata": {
    "collapsed": false
   },
   "outputs": [
    {
     "data": {
      "text/plain": [
       "'No results.'"
      ]
     },
     "execution_count": 10,
     "metadata": {},
     "output_type": "execute_result"
    }
   ],
   "source": [
    "%%cql\n",
    "\n",
    "CREATE MATERIALIZED VIEW vm_playas_by_provincia AS\n",
    "   SELECT * FROM playas\n",
    "   WHERE                       -- Primary key column is required to be filtered by 'IS NOT NULL'\n",
    "         nom_provincia   is not NULL\n",
    "     and longitud        is not NULL\n",
    "     and cod_playa       is not NULL\n",
    "     and nom_playa       is not NULL\n",
    "     and localidad       is not NULL\n",
    "     and clave_nom_playa is not NULL\n",
    "     and comunidad       is not NULL\n",
    "   PRIMARY KEY (nom_provincia, longitud, cod_playa, nom_playa, localidad, clave_nom_playa, comunidad)\n",
    "   WITH CLUSTERING ORDER BY (longitud desc)"
   ]
  },
  {
   "cell_type": "code",
   "execution_count": 11,
   "metadata": {
    "collapsed": false
   },
   "outputs": [
    {
     "data": {
      "text/plain": [
       "'No results.'"
      ]
     },
     "execution_count": 11,
     "metadata": {},
     "output_type": "execute_result"
    }
   ],
   "source": [
    "%%cql\n",
    "\n",
    "CREATE MATERIALIZED VIEW vm_playas_by_comunidad AS\n",
    "   SELECT * FROM playas\n",
    "   WHERE                       -- Primary key column is required to be filtered by 'IS NOT NULL'\n",
    "         nom_provincia   is not NULL\n",
    "     and longitud        is not NULL\n",
    "     and cod_playa       is not NULL\n",
    "     and nom_playa       is not NULL\n",
    "     and localidad       is not NULL\n",
    "     and clave_nom_playa is not NULL\n",
    "     and comunidad       is not NULL\n",
    "   PRIMARY KEY (comunidad, longitud, nom_provincia, cod_playa, nom_playa, localidad, clave_nom_playa)\n",
    "   WITH CLUSTERING ORDER BY (longitud desc)"
   ]
  },
  {
   "cell_type": "markdown",
   "metadata": {
    "collapsed": true
   },
   "source": [
    "# C) Carga de datos en Cassandra"
   ]
  },
  {
   "cell_type": "code",
   "execution_count": 12,
   "metadata": {
    "collapsed": false
   },
   "outputs": [],
   "source": [
    "from cassandra.cluster import Cluster, BatchStatement, ConsistencyLevel\n",
    "cluster_C = Cluster()\n",
    "session_C = cluster_C.connect('playas_2017')"
   ]
  },
  {
   "cell_type": "markdown",
   "metadata": {},
   "source": [
    "**NOTA :**\n",
    "- **Fechas :** El **tipo** de las fechas hay que dejarlo con el tipo **Date** de Python para no tener problemas (el tipo de la columna es también Date).\n",
    "- **NULL :** Los nulos en Pandas son del tipo **NumPy.nan**, por lo hay convertirlos a **None** para que la inserción en Cassandra sea correcta. Ej :\n",
    "\n",
    "                 df_cassandra.ix[df_cassandra.nudista.isnull(), 'nudista'] = None"
   ]
  },
  {
   "cell_type": "markdown",
   "metadata": {
    "collapsed": true
   },
   "source": [
    "Definimos una **función** para insertar las playas del DataFrame en la TABLA de playas."
   ]
  },
  {
   "cell_type": "code",
   "execution_count": 13,
   "metadata": {
    "collapsed": false
   },
   "outputs": [],
   "source": [
    "import dateutil\n",
    "\n",
    "def fun_insertar_playas (df):\n",
    "    \n",
    "    sql_insert = \"\"\"\n",
    "INSERT INTO playas (\n",
    "    id_provincia,\n",
    "    nom_provincia,\n",
    "    comunidad,\n",
    "    cod_playa,\n",
    "    nom_playa,\n",
    "    localidad,\n",
    "    clave_nom_playa,\n",
    "    longitud,\n",
    "    longitud_txt,\n",
    "    arena,\n",
    "    nudista,\n",
    "    bandera_azul\n",
    ") VALUES (%s, %s, %s, %s, %s, %s, %s, %s, %s, %s, %s, %s)\n",
    "\"\"\"\n",
    "    \n",
    "\n",
    "    for index in df.index:\n",
    "        \n",
    "        data = [\n",
    "            df.ix[index, \"id_provincia\"],\n",
    "            df.ix[index, \"nom_provincia\"],\n",
    "            df.ix[index, \"comunidad\"],\n",
    "            df.ix[index, \"cod_playa\"],\n",
    "            df.ix[index, \"nom_playa\"],\n",
    "            df.ix[index, \"localidad\"],\n",
    "            df.ix[index, \"clave_nom_playa\"],\n",
    "            df.ix[index, \"longitud\"],\n",
    "            df.ix[index, \"longitud_txt\"],\n",
    "            df.ix[index, \"arena\"],\n",
    "            df.ix[index, \"nudista\"],\n",
    "            df.ix[index, \"bandera_azul\"]\n",
    "        ]\n",
    "      \n",
    "        session_C.execute(sql_insert, data)\n",
    "        \n",
    "        session_C.execute (\"UPDATE acum_longitud_prov SET acu_longitud_prov = acu_longitud_prov + %s WHERE acu_nombre_prov = %s\", \n",
    "                           [df.ix[index, \"longitud\"], \n",
    "                            df.ix[index, \"nom_provincia\"]\n",
    "                           ]\n",
    "                          )"
   ]
  },
  {
   "cell_type": "markdown",
   "metadata": {},
   "source": [
    "Ya podemos insertar los datos ..."
   ]
  },
  {
   "cell_type": "code",
   "execution_count": 14,
   "metadata": {
    "collapsed": false
   },
   "outputs": [],
   "source": [
    "fun_insertar_playas (df_cassandra)"
   ]
  },
  {
   "cell_type": "markdown",
   "metadata": {},
   "source": [
    "## Consulta de datos"
   ]
  },
  {
   "cell_type": "markdown",
   "metadata": {},
   "source": [
    "**Función** de utilidad que realiza un query en Cassandra y devuelve un DataFrame de Pandas"
   ]
  },
  {
   "cell_type": "code",
   "execution_count": 15,
   "metadata": {
    "collapsed": true
   },
   "outputs": [],
   "source": [
    "def fun_ejecutar_query_cassandra(sql):\n",
    "    rows = session_C.execute(sql)\n",
    "    return pd.DataFrame(list(rows))"
   ]
  },
  {
   "cell_type": "markdown",
   "metadata": {},
   "source": [
    "# ------------------------------------------------------------------------------\n",
    "# QUERYS   (Cassandra)\n",
    "# ------------------------------------------------------------------------------"
   ]
  },
  {
   "cell_type": "markdown",
   "metadata": {},
   "source": [
    "### QUERY_1) Las 10 playas más largas (incluída la provincia)"
   ]
  },
  {
   "cell_type": "markdown",
   "metadata": {},
   "source": [
    "Esta consulta se pueder resolver así :\n",
    "   1. **Primer paso :** seleccionar en la vista materializa **\"vm_playas_by_provincia\"**.\n",
    "   2. **Segundo paso :** con ayuda de un DataFrame **ordenar** el resultado del paso anterior por \"longitud\"."
   ]
  },
  {
   "cell_type": "code",
   "execution_count": 16,
   "metadata": {
    "collapsed": false
   },
   "outputs": [],
   "source": [
    "sql = \"\"\"\n",
    "SELECT nom_provincia, localidad, nom_playa, clave_nom_playa, longitud, longitud_txt\n",
    "FROM vm_playas_by_provincia\n",
    "\"\"\"\n",
    "\n",
    "df_vista_prov = fun_ejecutar_query_cassandra (sql)"
   ]
  },
  {
   "cell_type": "code",
   "execution_count": 17,
   "metadata": {
    "collapsed": false
   },
   "outputs": [
    {
     "data": {
      "text/html": [
       "<div>\n",
       "<style>\n",
       "    .dataframe thead tr:only-child th {\n",
       "        text-align: right;\n",
       "    }\n",
       "\n",
       "    .dataframe thead th {\n",
       "        text-align: left;\n",
       "    }\n",
       "\n",
       "    .dataframe tbody tr th {\n",
       "        vertical-align: top;\n",
       "    }\n",
       "</style>\n",
       "<table border=\"1\" class=\"dataframe\">\n",
       "  <thead>\n",
       "    <tr style=\"text-align: right;\">\n",
       "      <th></th>\n",
       "      <th>nom_provincia</th>\n",
       "      <th>localidad</th>\n",
       "      <th>nom_playa</th>\n",
       "      <th>clave_nom_playa</th>\n",
       "      <th>longitud</th>\n",
       "      <th>longitud_txt</th>\n",
       "    </tr>\n",
       "  </thead>\n",
       "  <tbody>\n",
       "    <tr>\n",
       "      <th>3483</th>\n",
       "      <td>Huelva</td>\n",
       "      <td>Almonte</td>\n",
       "      <td>Doñana</td>\n",
       "      <td>Almonte (Doñana)</td>\n",
       "      <td>28000</td>\n",
       "      <td>28.000 metros</td>\n",
       "    </tr>\n",
       "    <tr>\n",
       "      <th>3484</th>\n",
       "      <td>Huelva</td>\n",
       "      <td>Almonte</td>\n",
       "      <td>Castilla</td>\n",
       "      <td>Almonte (Castilla)</td>\n",
       "      <td>17000</td>\n",
       "      <td>17.000 metros</td>\n",
       "    </tr>\n",
       "    <tr>\n",
       "      <th>1355</th>\n",
       "      <td>Las Palmas</td>\n",
       "      <td>Pájara</td>\n",
       "      <td>El Cofete</td>\n",
       "      <td>Pájara (El Cofete)</td>\n",
       "      <td>13700</td>\n",
       "      <td>13.700 metros</td>\n",
       "    </tr>\n",
       "    <tr>\n",
       "      <th>3485</th>\n",
       "      <td>Huelva</td>\n",
       "      <td>Lepe</td>\n",
       "      <td>Nueva Umbría</td>\n",
       "      <td>Lepe (Nueva Umbría)</td>\n",
       "      <td>12000</td>\n",
       "      <td>12.000 metros</td>\n",
       "    </tr>\n",
       "    <tr>\n",
       "      <th>3486</th>\n",
       "      <td>Huelva</td>\n",
       "      <td>Palos de la Frontera</td>\n",
       "      <td>Mazagón</td>\n",
       "      <td>Palos de la Frontera (Mazagón)</td>\n",
       "      <td>9000</td>\n",
       "      <td>9.000 metros</td>\n",
       "    </tr>\n",
       "    <tr>\n",
       "      <th>286</th>\n",
       "      <td>Tarragona</td>\n",
       "      <td>Deltebre</td>\n",
       "      <td>Punta del Fangar</td>\n",
       "      <td>Deltebre (Punta del Fangar)</td>\n",
       "      <td>6500</td>\n",
       "      <td>6.500 metros</td>\n",
       "    </tr>\n",
       "    <tr>\n",
       "      <th>2368</th>\n",
       "      <td>Almería</td>\n",
       "      <td>El Ejido</td>\n",
       "      <td>Punta Entinas Sabinar</td>\n",
       "      <td>El Ejido (Punta Entinas Sabinar)</td>\n",
       "      <td>6500</td>\n",
       "      <td>6.500 metros</td>\n",
       "    </tr>\n",
       "    <tr>\n",
       "      <th>2065</th>\n",
       "      <td>Girona</td>\n",
       "      <td>Sant Pere Pescador</td>\n",
       "      <td>Sant Pere Pescador</td>\n",
       "      <td>Sant Pere Pescador (Sant Pere Pescador)</td>\n",
       "      <td>6400</td>\n",
       "      <td>6400 metros</td>\n",
       "    </tr>\n",
       "    <tr>\n",
       "      <th>287</th>\n",
       "      <td>Tarragona</td>\n",
       "      <td>Sant Carles de la Ràpita</td>\n",
       "      <td>El Trabucador</td>\n",
       "      <td>Sant Carles de la Ràpita (El Trabucador)</td>\n",
       "      <td>6165</td>\n",
       "      <td>6.165 metros</td>\n",
       "    </tr>\n",
       "    <tr>\n",
       "      <th>2865</th>\n",
       "      <td>A Coruña</td>\n",
       "      <td>Carnota</td>\n",
       "      <td>Carnota</td>\n",
       "      <td>Carnota (Carnota)</td>\n",
       "      <td>5600</td>\n",
       "      <td>5.600 metros</td>\n",
       "    </tr>\n",
       "  </tbody>\n",
       "</table>\n",
       "</div>"
      ],
      "text/plain": [
       "     nom_provincia                 localidad              nom_playa  \\\n",
       "3483        Huelva                   Almonte                 Doñana   \n",
       "3484        Huelva                   Almonte               Castilla   \n",
       "1355    Las Palmas                    Pájara              El Cofete   \n",
       "3485        Huelva                      Lepe           Nueva Umbría   \n",
       "3486        Huelva      Palos de la Frontera                Mazagón   \n",
       "286      Tarragona                  Deltebre       Punta del Fangar   \n",
       "2368       Almería                  El Ejido  Punta Entinas Sabinar   \n",
       "2065        Girona        Sant Pere Pescador     Sant Pere Pescador   \n",
       "287      Tarragona  Sant Carles de la Ràpita          El Trabucador   \n",
       "2865      A Coruña                   Carnota                Carnota   \n",
       "\n",
       "                               clave_nom_playa  longitud   longitud_txt  \n",
       "3483                          Almonte (Doñana)     28000  28.000 metros  \n",
       "3484                        Almonte (Castilla)     17000  17.000 metros  \n",
       "1355                        Pájara (El Cofete)     13700  13.700 metros  \n",
       "3485                       Lepe (Nueva Umbría)     12000  12.000 metros  \n",
       "3486            Palos de la Frontera (Mazagón)      9000   9.000 metros  \n",
       "286                Deltebre (Punta del Fangar)      6500   6.500 metros  \n",
       "2368          El Ejido (Punta Entinas Sabinar)      6500   6.500 metros  \n",
       "2065   Sant Pere Pescador (Sant Pere Pescador)      6400    6400 metros  \n",
       "287   Sant Carles de la Ràpita (El Trabucador)      6165   6.165 metros  \n",
       "2865                         Carnota (Carnota)      5600   5.600 metros  "
      ]
     },
     "execution_count": 17,
     "metadata": {},
     "output_type": "execute_result"
    }
   ],
   "source": [
    "df_vista_prov.sort_values('longitud', ascending = False).head(10)"
   ]
  },
  {
   "cell_type": "markdown",
   "metadata": {},
   "source": [
    "### QUERY_2) Las 10 playas más largas de una cierta provincia (incluído el nombre de la provincia)"
   ]
  },
  {
   "cell_type": "markdown",
   "metadata": {},
   "source": [
    "Esta consulta se pueder resolver mediante la vista materializa **\"vm_playas_by_provincia\"**."
   ]
  },
  {
   "cell_type": "code",
   "execution_count": 18,
   "metadata": {
    "collapsed": false
   },
   "outputs": [
    {
     "data": {
      "text/html": [
       "<div>\n",
       "<style>\n",
       "    .dataframe thead tr:only-child th {\n",
       "        text-align: right;\n",
       "    }\n",
       "\n",
       "    .dataframe thead th {\n",
       "        text-align: left;\n",
       "    }\n",
       "\n",
       "    .dataframe tbody tr th {\n",
       "        vertical-align: top;\n",
       "    }\n",
       "</style>\n",
       "<table border=\"1\" class=\"dataframe\">\n",
       "  <thead>\n",
       "    <tr style=\"text-align: right;\">\n",
       "      <th></th>\n",
       "      <th>nom_provincia</th>\n",
       "      <th>localidad</th>\n",
       "      <th>nom_playa</th>\n",
       "      <th>clave_nom_playa</th>\n",
       "      <th>longitud</th>\n",
       "      <th>longitud_txt</th>\n",
       "    </tr>\n",
       "  </thead>\n",
       "  <tbody>\n",
       "    <tr>\n",
       "      <th>0</th>\n",
       "      <td>A Coruña</td>\n",
       "      <td>Carnota</td>\n",
       "      <td>Carnota</td>\n",
       "      <td>Carnota (Carnota)</td>\n",
       "      <td>5600</td>\n",
       "      <td>5.600 metros</td>\n",
       "    </tr>\n",
       "    <tr>\n",
       "      <th>1</th>\n",
       "      <td>A Coruña</td>\n",
       "      <td>Carballo</td>\n",
       "      <td>Baldaio</td>\n",
       "      <td>Carballo (Baldaio)</td>\n",
       "      <td>4000</td>\n",
       "      <td>4.000 metros</td>\n",
       "    </tr>\n",
       "    <tr>\n",
       "      <th>2</th>\n",
       "      <td>A Coruña</td>\n",
       "      <td>Valdoviño</td>\n",
       "      <td>A Frouxeira</td>\n",
       "      <td>Valdoviño (A Frouxeira)</td>\n",
       "      <td>3000</td>\n",
       "      <td>3.000 metros</td>\n",
       "    </tr>\n",
       "    <tr>\n",
       "      <th>3</th>\n",
       "      <td>A Coruña</td>\n",
       "      <td>Ribeira</td>\n",
       "      <td>Vilar</td>\n",
       "      <td>Ribeira (Vilar)</td>\n",
       "      <td>2900</td>\n",
       "      <td>2.900 metros</td>\n",
       "    </tr>\n",
       "    <tr>\n",
       "      <th>4</th>\n",
       "      <td>A Coruña</td>\n",
       "      <td>Ortigueira</td>\n",
       "      <td>Morouzos</td>\n",
       "      <td>Ortigueira (Morouzos)</td>\n",
       "      <td>2800</td>\n",
       "      <td>2.800 metros</td>\n",
       "    </tr>\n",
       "    <tr>\n",
       "      <th>5</th>\n",
       "      <td>A Coruña</td>\n",
       "      <td>Laxe</td>\n",
       "      <td>Traba</td>\n",
       "      <td>Laxe (Traba)</td>\n",
       "      <td>2650</td>\n",
       "      <td>2.650 metros</td>\n",
       "    </tr>\n",
       "    <tr>\n",
       "      <th>6</th>\n",
       "      <td>A Coruña</td>\n",
       "      <td>Boiro</td>\n",
       "      <td>Barraña</td>\n",
       "      <td>Boiro (Barraña)</td>\n",
       "      <td>2150</td>\n",
       "      <td>2.150 metros</td>\n",
       "    </tr>\n",
       "    <tr>\n",
       "      <th>7</th>\n",
       "      <td>A Coruña</td>\n",
       "      <td>Porto do Son</td>\n",
       "      <td>Areas Longas</td>\n",
       "      <td>Porto do Son (Areas Longas)</td>\n",
       "      <td>2100</td>\n",
       "      <td>2.100 metros</td>\n",
       "    </tr>\n",
       "    <tr>\n",
       "      <th>8</th>\n",
       "      <td>A Coruña</td>\n",
       "      <td>Boiro</td>\n",
       "      <td>Carragueiros</td>\n",
       "      <td>Boiro (Carragueiros)</td>\n",
       "      <td>2000</td>\n",
       "      <td>2.000 metros</td>\n",
       "    </tr>\n",
       "    <tr>\n",
       "      <th>9</th>\n",
       "      <td>A Coruña</td>\n",
       "      <td>Fisterra</td>\n",
       "      <td>Langosteira</td>\n",
       "      <td>Fisterra (Langosteira)</td>\n",
       "      <td>1970</td>\n",
       "      <td>1.970 metros</td>\n",
       "    </tr>\n",
       "  </tbody>\n",
       "</table>\n",
       "</div>"
      ],
      "text/plain": [
       "  nom_provincia     localidad     nom_playa              clave_nom_playa  \\\n",
       "0      A Coruña       Carnota       Carnota            Carnota (Carnota)   \n",
       "1      A Coruña      Carballo       Baldaio           Carballo (Baldaio)   \n",
       "2      A Coruña     Valdoviño   A Frouxeira      Valdoviño (A Frouxeira)   \n",
       "3      A Coruña       Ribeira         Vilar              Ribeira (Vilar)   \n",
       "4      A Coruña    Ortigueira      Morouzos        Ortigueira (Morouzos)   \n",
       "5      A Coruña          Laxe         Traba                 Laxe (Traba)   \n",
       "6      A Coruña         Boiro       Barraña              Boiro (Barraña)   \n",
       "7      A Coruña  Porto do Son  Areas Longas  Porto do Son (Areas Longas)   \n",
       "8      A Coruña         Boiro  Carragueiros         Boiro (Carragueiros)   \n",
       "9      A Coruña      Fisterra   Langosteira       Fisterra (Langosteira)   \n",
       "\n",
       "   longitud  longitud_txt  \n",
       "0      5600  5.600 metros  \n",
       "1      4000  4.000 metros  \n",
       "2      3000  3.000 metros  \n",
       "3      2900  2.900 metros  \n",
       "4      2800  2.800 metros  \n",
       "5      2650  2.650 metros  \n",
       "6      2150  2.150 metros  \n",
       "7      2100  2.100 metros  \n",
       "8      2000  2.000 metros  \n",
       "9      1970  1.970 metros  "
      ]
     },
     "execution_count": 18,
     "metadata": {},
     "output_type": "execute_result"
    }
   ],
   "source": [
    "sql = \"\"\"\n",
    "SELECT nom_provincia, localidad, nom_playa, clave_nom_playa, longitud, longitud_txt\n",
    "FROM vm_playas_by_provincia\n",
    "WHERE nom_provincia = 'A Coruña'\n",
    "limit 10\n",
    "\"\"\"\n",
    "\n",
    "\n",
    "fun_ejecutar_query_cassandra (sql)   #  No ordenamos, porque la VISTA MATERIALIZADA ya está ordenada por longitud"
   ]
  },
  {
   "cell_type": "markdown",
   "metadata": {},
   "source": [
    "### QUERY_3) Las playas de una comunidad autónoma concreta (ordenadas por longitud)"
   ]
  },
  {
   "cell_type": "markdown",
   "metadata": {},
   "source": [
    "Esta consulta se pueder resolver mediante la vista materializa **\"vm_playas_by_comunidad\"**."
   ]
  },
  {
   "cell_type": "code",
   "execution_count": 19,
   "metadata": {
    "collapsed": false
   },
   "outputs": [
    {
     "data": {
      "text/html": [
       "<div>\n",
       "<style>\n",
       "    .dataframe thead tr:only-child th {\n",
       "        text-align: right;\n",
       "    }\n",
       "\n",
       "    .dataframe thead th {\n",
       "        text-align: left;\n",
       "    }\n",
       "\n",
       "    .dataframe tbody tr th {\n",
       "        vertical-align: top;\n",
       "    }\n",
       "</style>\n",
       "<table border=\"1\" class=\"dataframe\">\n",
       "  <thead>\n",
       "    <tr style=\"text-align: right;\">\n",
       "      <th></th>\n",
       "      <th>comunidad</th>\n",
       "      <th>nom_provincia</th>\n",
       "      <th>localidad</th>\n",
       "      <th>nom_playa</th>\n",
       "      <th>clave_nom_playa</th>\n",
       "      <th>longitud</th>\n",
       "      <th>longitud_txt</th>\n",
       "    </tr>\n",
       "  </thead>\n",
       "  <tbody>\n",
       "    <tr>\n",
       "      <th>0</th>\n",
       "      <td>Galicia</td>\n",
       "      <td>A Coruña</td>\n",
       "      <td>Carnota</td>\n",
       "      <td>Carnota</td>\n",
       "      <td>Carnota (Carnota)</td>\n",
       "      <td>5600</td>\n",
       "      <td>5.600 metros</td>\n",
       "    </tr>\n",
       "    <tr>\n",
       "      <th>1</th>\n",
       "      <td>Galicia</td>\n",
       "      <td>A Coruña</td>\n",
       "      <td>Carballo</td>\n",
       "      <td>Baldaio</td>\n",
       "      <td>Carballo (Baldaio)</td>\n",
       "      <td>4000</td>\n",
       "      <td>4.000 metros</td>\n",
       "    </tr>\n",
       "    <tr>\n",
       "      <th>2</th>\n",
       "      <td>Galicia</td>\n",
       "      <td>A Coruña</td>\n",
       "      <td>Valdoviño</td>\n",
       "      <td>A Frouxeira</td>\n",
       "      <td>Valdoviño (A Frouxeira)</td>\n",
       "      <td>3000</td>\n",
       "      <td>3.000 metros</td>\n",
       "    </tr>\n",
       "    <tr>\n",
       "      <th>3</th>\n",
       "      <td>Galicia</td>\n",
       "      <td>A Coruña</td>\n",
       "      <td>Ribeira</td>\n",
       "      <td>Vilar</td>\n",
       "      <td>Ribeira (Vilar)</td>\n",
       "      <td>2900</td>\n",
       "      <td>2.900 metros</td>\n",
       "    </tr>\n",
       "    <tr>\n",
       "      <th>4</th>\n",
       "      <td>Galicia</td>\n",
       "      <td>A Coruña</td>\n",
       "      <td>Ortigueira</td>\n",
       "      <td>Morouzos</td>\n",
       "      <td>Ortigueira (Morouzos)</td>\n",
       "      <td>2800</td>\n",
       "      <td>2.800 metros</td>\n",
       "    </tr>\n",
       "    <tr>\n",
       "      <th>5</th>\n",
       "      <td>Galicia</td>\n",
       "      <td>A Coruña</td>\n",
       "      <td>Laxe</td>\n",
       "      <td>Traba</td>\n",
       "      <td>Laxe (Traba)</td>\n",
       "      <td>2650</td>\n",
       "      <td>2.650 metros</td>\n",
       "    </tr>\n",
       "    <tr>\n",
       "      <th>6</th>\n",
       "      <td>Galicia</td>\n",
       "      <td>Pontevedra</td>\n",
       "      <td>O Grove</td>\n",
       "      <td>A Lanzada</td>\n",
       "      <td>O Grove (A Lanzada)</td>\n",
       "      <td>2400</td>\n",
       "      <td>2.400 metros</td>\n",
       "    </tr>\n",
       "    <tr>\n",
       "      <th>7</th>\n",
       "      <td>Galicia</td>\n",
       "      <td>Pontevedra</td>\n",
       "      <td>Redondela</td>\n",
       "      <td>Da Punta</td>\n",
       "      <td>Redondela (Da Punta)</td>\n",
       "      <td>2400</td>\n",
       "      <td>2.400 metros</td>\n",
       "    </tr>\n",
       "    <tr>\n",
       "      <th>8</th>\n",
       "      <td>Galicia</td>\n",
       "      <td>A Coruña</td>\n",
       "      <td>Boiro</td>\n",
       "      <td>Barraña</td>\n",
       "      <td>Boiro (Barraña)</td>\n",
       "      <td>2150</td>\n",
       "      <td>2.150 metros</td>\n",
       "    </tr>\n",
       "    <tr>\n",
       "      <th>9</th>\n",
       "      <td>Galicia</td>\n",
       "      <td>A Coruña</td>\n",
       "      <td>Porto do Son</td>\n",
       "      <td>Areas Longas</td>\n",
       "      <td>Porto do Son (Areas Longas)</td>\n",
       "      <td>2100</td>\n",
       "      <td>2.100 metros</td>\n",
       "    </tr>\n",
       "  </tbody>\n",
       "</table>\n",
       "</div>"
      ],
      "text/plain": [
       "  comunidad nom_provincia     localidad     nom_playa  \\\n",
       "0   Galicia      A Coruña       Carnota       Carnota   \n",
       "1   Galicia      A Coruña      Carballo       Baldaio   \n",
       "2   Galicia      A Coruña     Valdoviño   A Frouxeira   \n",
       "3   Galicia      A Coruña       Ribeira         Vilar   \n",
       "4   Galicia      A Coruña    Ortigueira      Morouzos   \n",
       "5   Galicia      A Coruña          Laxe         Traba   \n",
       "6   Galicia    Pontevedra       O Grove     A Lanzada   \n",
       "7   Galicia    Pontevedra     Redondela      Da Punta   \n",
       "8   Galicia      A Coruña         Boiro       Barraña   \n",
       "9   Galicia      A Coruña  Porto do Son  Areas Longas   \n",
       "\n",
       "               clave_nom_playa  longitud  longitud_txt  \n",
       "0            Carnota (Carnota)      5600  5.600 metros  \n",
       "1           Carballo (Baldaio)      4000  4.000 metros  \n",
       "2      Valdoviño (A Frouxeira)      3000  3.000 metros  \n",
       "3              Ribeira (Vilar)      2900  2.900 metros  \n",
       "4        Ortigueira (Morouzos)      2800  2.800 metros  \n",
       "5                 Laxe (Traba)      2650  2.650 metros  \n",
       "6          O Grove (A Lanzada)      2400  2.400 metros  \n",
       "7         Redondela (Da Punta)      2400  2.400 metros  \n",
       "8              Boiro (Barraña)      2150  2.150 metros  \n",
       "9  Porto do Son (Areas Longas)      2100  2.100 metros  "
      ]
     },
     "execution_count": 19,
     "metadata": {},
     "output_type": "execute_result"
    }
   ],
   "source": [
    "sql = \"\"\"\n",
    "SELECT comunidad, nom_provincia, localidad, nom_playa, clave_nom_playa, longitud, longitud_txt\n",
    "FROM vm_playas_by_comunidad\n",
    "WHERE comunidad = 'Galicia'\n",
    "limit 10\n",
    "\"\"\"\n",
    "\n",
    "fun_ejecutar_query_cassandra (sql)  #  No ordenamos, porque la VISTA MATERIALIZADA ya está ordenada por longitud"
   ]
  },
  {
   "cell_type": "markdown",
   "metadata": {},
   "source": [
    "### QUERY_4) Las 10 provincias que mas metros de playa tienen"
   ]
  },
  {
   "cell_type": "markdown",
   "metadata": {},
   "source": [
    "Esta consulta se pueder resolver así :\n",
    "   1. **Primer paso :** seleccionar en el acumulado **\"acum_longitud_prov\"**.\n",
    "   2. **Segundo paso :** con ayuda de un DataFrame **ordenar** el resultado del paso anterior por \"longitud\"."
   ]
  },
  {
   "cell_type": "code",
   "execution_count": 20,
   "metadata": {
    "collapsed": false
   },
   "outputs": [
    {
     "data": {
      "text/html": [
       "<div>\n",
       "<style>\n",
       "    .dataframe thead tr:only-child th {\n",
       "        text-align: right;\n",
       "    }\n",
       "\n",
       "    .dataframe thead th {\n",
       "        text-align: left;\n",
       "    }\n",
       "\n",
       "    .dataframe tbody tr th {\n",
       "        vertical-align: top;\n",
       "    }\n",
       "</style>\n",
       "<table border=\"1\" class=\"dataframe\">\n",
       "  <thead>\n",
       "    <tr style=\"text-align: right;\">\n",
       "      <th></th>\n",
       "      <th>provincia</th>\n",
       "      <th>metros_de_playa</th>\n",
       "    </tr>\n",
       "  </thead>\n",
       "  <tbody>\n",
       "    <tr>\n",
       "      <th>20</th>\n",
       "      <td>A Coruña</td>\n",
       "      <td>157040</td>\n",
       "    </tr>\n",
       "    <tr>\n",
       "      <th>16</th>\n",
       "      <td>Cádiz</td>\n",
       "      <td>138473</td>\n",
       "    </tr>\n",
       "    <tr>\n",
       "      <th>11</th>\n",
       "      <td>Las Palmas</td>\n",
       "      <td>137337</td>\n",
       "    </tr>\n",
       "    <tr>\n",
       "      <th>12</th>\n",
       "      <td>Málaga</td>\n",
       "      <td>136720</td>\n",
       "    </tr>\n",
       "    <tr>\n",
       "      <th>17</th>\n",
       "      <td>Almería</td>\n",
       "      <td>120765</td>\n",
       "    </tr>\n",
       "    <tr>\n",
       "      <th>8</th>\n",
       "      <td>Alicante/Alacant</td>\n",
       "      <td>118148</td>\n",
       "    </tr>\n",
       "    <tr>\n",
       "      <th>4</th>\n",
       "      <td>Illes Balears</td>\n",
       "      <td>117767</td>\n",
       "    </tr>\n",
       "    <tr>\n",
       "      <th>23</th>\n",
       "      <td>Huelva</td>\n",
       "      <td>113720</td>\n",
       "    </tr>\n",
       "    <tr>\n",
       "      <th>10</th>\n",
       "      <td>Murcia</td>\n",
       "      <td>102431</td>\n",
       "    </tr>\n",
       "    <tr>\n",
       "      <th>2</th>\n",
       "      <td>Tarragona</td>\n",
       "      <td>99015</td>\n",
       "    </tr>\n",
       "  </tbody>\n",
       "</table>\n",
       "</div>"
      ],
      "text/plain": [
       "           provincia  metros_de_playa\n",
       "20          A Coruña           157040\n",
       "16             Cádiz           138473\n",
       "11        Las Palmas           137337\n",
       "12            Málaga           136720\n",
       "17           Almería           120765\n",
       "8   Alicante/Alacant           118148\n",
       "4      Illes Balears           117767\n",
       "23            Huelva           113720\n",
       "10            Murcia           102431\n",
       "2          Tarragona            99015"
      ]
     },
     "execution_count": 20,
     "metadata": {},
     "output_type": "execute_result"
    }
   ],
   "source": [
    "sql = \"\"\"\n",
    "select *\n",
    "from acum_longitud_prov\n",
    "\"\"\"\n",
    "\n",
    "df_acu_prov = fun_ejecutar_query_cassandra (sql)\n",
    "\n",
    "df_acu_prov = df_acu_prov.sort_values('acu_longitud_prov', ascending = False).head(10)\n",
    "\n",
    "df_acu_prov.rename(columns = {\"acu_nombre_prov\"   : \"provincia\",\n",
    "                              \"acu_longitud_prov\" : \"metros_de_playa\"})"
   ]
  },
  {
   "cell_type": "markdown",
   "metadata": {},
   "source": [
    "### QUERY_5) Metros de playa de una cierta Comunidad Autónoma agrupados por provincia"
   ]
  },
  {
   "cell_type": "markdown",
   "metadata": {},
   "source": [
    "Esta consulta se pueder resolver así :\n",
    "   1. **Primer paso :** seleccionar en la vista materializa **\"vm_playas_by_comunidad\"**.\n",
    "   2. **Segundo paso :** con ayuda de un DataFrame **agrupar por provincias** el resultado del paso anterior."
   ]
  },
  {
   "cell_type": "code",
   "execution_count": 21,
   "metadata": {
    "collapsed": false
   },
   "outputs": [],
   "source": [
    "sql = \"\"\"\n",
    "SELECT comunidad, nom_provincia, nom_playa, localidad, clave_nom_playa, longitud\n",
    "FROM vm_playas_by_comunidad\n",
    "WHERE comunidad = 'Galicia'\n",
    "\"\"\"\n",
    "\n",
    "df_vista_comu = fun_ejecutar_query_cassandra (sql)"
   ]
  },
  {
   "cell_type": "code",
   "execution_count": 22,
   "metadata": {
    "collapsed": false
   },
   "outputs": [
    {
     "data": {
      "text/html": [
       "<div>\n",
       "<style>\n",
       "    .dataframe thead tr:only-child th {\n",
       "        text-align: right;\n",
       "    }\n",
       "\n",
       "    .dataframe thead th {\n",
       "        text-align: left;\n",
       "    }\n",
       "\n",
       "    .dataframe tbody tr th {\n",
       "        vertical-align: top;\n",
       "    }\n",
       "</style>\n",
       "<table border=\"1\" class=\"dataframe\">\n",
       "  <thead>\n",
       "    <tr style=\"text-align: right;\">\n",
       "      <th></th>\n",
       "      <th></th>\n",
       "      <th>metros_de_playa</th>\n",
       "    </tr>\n",
       "    <tr>\n",
       "      <th>comunidad</th>\n",
       "      <th>nom_provincia</th>\n",
       "      <th></th>\n",
       "    </tr>\n",
       "  </thead>\n",
       "  <tbody>\n",
       "    <tr>\n",
       "      <th rowspan=\"3\" valign=\"top\">Galicia</th>\n",
       "      <th>A Coruña</th>\n",
       "      <td>157040</td>\n",
       "    </tr>\n",
       "    <tr>\n",
       "      <th>Pontevedra</th>\n",
       "      <td>93552</td>\n",
       "    </tr>\n",
       "    <tr>\n",
       "      <th>Lugo</th>\n",
       "      <td>27217</td>\n",
       "    </tr>\n",
       "  </tbody>\n",
       "</table>\n",
       "</div>"
      ],
      "text/plain": [
       "                         metros_de_playa\n",
       "comunidad nom_provincia                 \n",
       "Galicia   A Coruña                157040\n",
       "          Pontevedra               93552\n",
       "          Lugo                     27217"
      ]
     },
     "execution_count": 22,
     "metadata": {},
     "output_type": "execute_result"
    }
   ],
   "source": [
    "df = df_vista_comu.groupby([\"comunidad\", \"nom_provincia\"]) [[\"longitud\"]].sum()\n",
    "df = df.sort_values('longitud', ascending = False)\n",
    "df = df.rename(columns = {\"longitud\" : \"metros_de_playa\"})\n",
    "df"
   ]
  },
  {
   "cell_type": "markdown",
   "metadata": {},
   "source": [
    "### QUERY_6) ¿ Qué Comunidad tiene más metros de playa ?"
   ]
  },
  {
   "cell_type": "markdown",
   "metadata": {},
   "source": [
    "Esta consulta se pueder resolver así :\n",
    "   1. **Primer paso :** seleccionar en la vista materializa **\"vm_playas_by_comunidad\"**.\n",
    "   2. **Segundo paso :** con ayuda de un DataFrame **agrupar por comunidad** el resultado del paso anterior, hacer la suma de la **\"longitud\"** del cada grupo y **ordenar**."
   ]
  },
  {
   "cell_type": "code",
   "execution_count": 23,
   "metadata": {
    "collapsed": false
   },
   "outputs": [],
   "source": [
    "sql = \"\"\"\n",
    "SELECT comunidad, nom_provincia, nom_playa, localidad, clave_nom_playa, longitud\n",
    "FROM vm_playas_by_comunidad\n",
    "\"\"\"\n",
    "\n",
    "df_vista_comu = fun_ejecutar_query_cassandra (sql)\n"
   ]
  },
  {
   "cell_type": "code",
   "execution_count": 24,
   "metadata": {
    "collapsed": false
   },
   "outputs": [
    {
     "data": {
      "text/html": [
       "<div>\n",
       "<style>\n",
       "    .dataframe thead tr:only-child th {\n",
       "        text-align: right;\n",
       "    }\n",
       "\n",
       "    .dataframe thead th {\n",
       "        text-align: left;\n",
       "    }\n",
       "\n",
       "    .dataframe tbody tr th {\n",
       "        vertical-align: top;\n",
       "    }\n",
       "</style>\n",
       "<table border=\"1\" class=\"dataframe\">\n",
       "  <thead>\n",
       "    <tr style=\"text-align: right;\">\n",
       "      <th></th>\n",
       "      <th>metros_de_playa</th>\n",
       "    </tr>\n",
       "    <tr>\n",
       "      <th>comunidad</th>\n",
       "      <th></th>\n",
       "    </tr>\n",
       "  </thead>\n",
       "  <tbody>\n",
       "    <tr>\n",
       "      <th>Andalucía</th>\n",
       "      <td>545459</td>\n",
       "    </tr>\n",
       "    <tr>\n",
       "      <th>Galicia</th>\n",
       "      <td>277809</td>\n",
       "    </tr>\n",
       "    <tr>\n",
       "      <th>Comunitat Valenciana</th>\n",
       "      <td>276872</td>\n",
       "    </tr>\n",
       "    <tr>\n",
       "      <th>Cataluña/Catalunya</th>\n",
       "      <td>237274</td>\n",
       "    </tr>\n",
       "    <tr>\n",
       "      <th>Canarias</th>\n",
       "      <td>209374</td>\n",
       "    </tr>\n",
       "    <tr>\n",
       "      <th>Illes Balears</th>\n",
       "      <td>117767</td>\n",
       "    </tr>\n",
       "    <tr>\n",
       "      <th>Murcia, Región de</th>\n",
       "      <td>102431</td>\n",
       "    </tr>\n",
       "    <tr>\n",
       "      <th>Asturias, Principado de</th>\n",
       "      <td>70428</td>\n",
       "    </tr>\n",
       "    <tr>\n",
       "      <th>Cantabria</th>\n",
       "      <td>49880</td>\n",
       "    </tr>\n",
       "    <tr>\n",
       "      <th>País Vasco/Euskadi</th>\n",
       "      <td>30715</td>\n",
       "    </tr>\n",
       "    <tr>\n",
       "      <th>Ceuta</th>\n",
       "      <td>5240</td>\n",
       "    </tr>\n",
       "    <tr>\n",
       "      <th>Melilla</th>\n",
       "      <td>2730</td>\n",
       "    </tr>\n",
       "  </tbody>\n",
       "</table>\n",
       "</div>"
      ],
      "text/plain": [
       "                         metros_de_playa\n",
       "comunidad                               \n",
       "Andalucía                         545459\n",
       "Galicia                           277809\n",
       "Comunitat Valenciana              276872\n",
       "Cataluña/Catalunya                237274\n",
       "Canarias                          209374\n",
       "Illes Balears                     117767\n",
       "Murcia, Región de                 102431\n",
       "Asturias, Principado de            70428\n",
       "Cantabria                          49880\n",
       "País Vasco/Euskadi                 30715\n",
       "Ceuta                               5240\n",
       "Melilla                             2730"
      ]
     },
     "execution_count": 24,
     "metadata": {},
     "output_type": "execute_result"
    }
   ],
   "source": [
    "df = df_vista_comu.groupby([\"comunidad\"]) [[\"longitud\"]].sum()\n",
    "df = df.sort_values('longitud', ascending = False)\n",
    "df.rename(columns = {\"longitud\" : \"metros_de_playa\"})"
   ]
  },
  {
   "cell_type": "markdown",
   "metadata": {},
   "source": [
    "### QUERY_7) ¿ Qué provincia tiene más playas ... ?"
   ]
  },
  {
   "cell_type": "markdown",
   "metadata": {},
   "source": [
    "#### QUERY_7.1) ¿ Qué provincia tiene más playas ... en número ?"
   ]
  },
  {
   "cell_type": "code",
   "execution_count": 25,
   "metadata": {
    "collapsed": false
   },
   "outputs": [],
   "source": [
    "sql = \"\"\"\n",
    "SELECT nom_provincia, cod_playa\n",
    "FROM vm_playas_by_provincia\n",
    "\"\"\"\n",
    "\n",
    "df_vista_prov = fun_ejecutar_query_cassandra (sql)   #  No ordenamos, porque la VISTA MATERIALIZADA ya está ordenada por longitud"
   ]
  },
  {
   "cell_type": "code",
   "execution_count": 26,
   "metadata": {
    "collapsed": false
   },
   "outputs": [
    {
     "data": {
      "text/plain": [
       "pandas.core.series.Series"
      ]
     },
     "execution_count": 26,
     "metadata": {},
     "output_type": "execute_result"
    }
   ],
   "source": [
    "res = df_vista_prov.groupby([\"nom_provincia\"]).cod_playa.nunique()\n",
    "type(res)"
   ]
  },
  {
   "cell_type": "code",
   "execution_count": 27,
   "metadata": {
    "collapsed": false
   },
   "outputs": [
    {
     "data": {
      "text/plain": [
       "nom_provincia\n",
       "A Coruña                  410\n",
       "Pontevedra                370\n",
       "Illes Balears             346\n",
       "Las Palmas                322\n",
       "Santa Cruz de Tenerife    257\n",
       "Name: cod_playa, dtype: int64"
      ]
     },
     "execution_count": 27,
     "metadata": {},
     "output_type": "execute_result"
    }
   ],
   "source": [
    "res.sort_values(ascending=False).head(5)"
   ]
  },
  {
   "cell_type": "code",
   "execution_count": 28,
   "metadata": {
    "collapsed": false
   },
   "outputs": [
    {
     "data": {
      "text/html": [
       "<div>\n",
       "<style>\n",
       "    .dataframe thead tr:only-child th {\n",
       "        text-align: right;\n",
       "    }\n",
       "\n",
       "    .dataframe thead th {\n",
       "        text-align: left;\n",
       "    }\n",
       "\n",
       "    .dataframe tbody tr th {\n",
       "        vertical-align: top;\n",
       "    }\n",
       "</style>\n",
       "<table border=\"1\" class=\"dataframe\">\n",
       "  <thead>\n",
       "    <tr style=\"text-align: right;\">\n",
       "      <th></th>\n",
       "      <th>num_playas</th>\n",
       "    </tr>\n",
       "    <tr>\n",
       "      <th>nom_provincia</th>\n",
       "      <th></th>\n",
       "    </tr>\n",
       "  </thead>\n",
       "  <tbody>\n",
       "    <tr>\n",
       "      <th>A Coruña</th>\n",
       "      <td>410</td>\n",
       "    </tr>\n",
       "    <tr>\n",
       "      <th>Pontevedra</th>\n",
       "      <td>370</td>\n",
       "    </tr>\n",
       "    <tr>\n",
       "      <th>Illes Balears</th>\n",
       "      <td>346</td>\n",
       "    </tr>\n",
       "    <tr>\n",
       "      <th>Las Palmas</th>\n",
       "      <td>322</td>\n",
       "    </tr>\n",
       "    <tr>\n",
       "      <th>Santa Cruz de Tenerife</th>\n",
       "      <td>257</td>\n",
       "    </tr>\n",
       "    <tr>\n",
       "      <th>Asturias</th>\n",
       "      <td>205</td>\n",
       "    </tr>\n",
       "    <tr>\n",
       "      <th>Murcia</th>\n",
       "      <td>199</td>\n",
       "    </tr>\n",
       "    <tr>\n",
       "      <th>Girona</th>\n",
       "      <td>183</td>\n",
       "    </tr>\n",
       "    <tr>\n",
       "      <th>Alicante/Alacant</th>\n",
       "      <td>173</td>\n",
       "    </tr>\n",
       "    <tr>\n",
       "      <th>Málaga</th>\n",
       "      <td>131</td>\n",
       "    </tr>\n",
       "  </tbody>\n",
       "</table>\n",
       "</div>"
      ],
      "text/plain": [
       "                        num_playas\n",
       "nom_provincia                     \n",
       "A Coruña                       410\n",
       "Pontevedra                     370\n",
       "Illes Balears                  346\n",
       "Las Palmas                     322\n",
       "Santa Cruz de Tenerife         257\n",
       "Asturias                       205\n",
       "Murcia                         199\n",
       "Girona                         183\n",
       "Alicante/Alacant               173\n",
       "Málaga                         131"
      ]
     },
     "execution_count": 28,
     "metadata": {},
     "output_type": "execute_result"
    }
   ],
   "source": [
    "df=res.to_frame()\n",
    "((df.rename(columns={\"cod_playa\":\"num_playas\"})\n",
    "  ).sort_values('num_playas', ascending = False)\n",
    ").head(10)"
   ]
  },
  {
   "cell_type": "markdown",
   "metadata": {},
   "source": [
    "#### QUERY_7.2) ¿ Qué provincia tiene más playas ... con nombres diferentes ?"
   ]
  },
  {
   "cell_type": "code",
   "execution_count": 29,
   "metadata": {
    "collapsed": false
   },
   "outputs": [],
   "source": [
    "sql = \"\"\"\n",
    "SELECT nom_provincia, nom_playa\n",
    "FROM vm_playas_by_provincia\n",
    "\"\"\"\n",
    "\n",
    "df_vista_prov = fun_ejecutar_query_cassandra (sql)   #  No ordenamos, porque la VISTA MATERIALIZADA ya está ordenada por longitud"
   ]
  },
  {
   "cell_type": "code",
   "execution_count": 30,
   "metadata": {
    "collapsed": false
   },
   "outputs": [
    {
     "data": {
      "text/plain": [
       "pandas.core.series.Series"
      ]
     },
     "execution_count": 30,
     "metadata": {},
     "output_type": "execute_result"
    }
   ],
   "source": [
    "res = df_vista_prov.groupby([\"nom_provincia\"]).nom_playa.nunique()\n",
    "type(res)"
   ]
  },
  {
   "cell_type": "code",
   "execution_count": 31,
   "metadata": {
    "collapsed": false
   },
   "outputs": [
    {
     "data": {
      "text/plain": [
       "nom_provincia\n",
       "A Coruña                  388\n",
       "Pontevedra                350\n",
       "Illes Balears             330\n",
       "Las Palmas                303\n",
       "Santa Cruz de Tenerife    228\n",
       "Name: nom_playa, dtype: int64"
      ]
     },
     "execution_count": 31,
     "metadata": {},
     "output_type": "execute_result"
    }
   ],
   "source": [
    "res.sort_values(ascending=False).head(5)"
   ]
  },
  {
   "cell_type": "code",
   "execution_count": 32,
   "metadata": {
    "collapsed": false
   },
   "outputs": [
    {
     "data": {
      "text/html": [
       "<div>\n",
       "<style>\n",
       "    .dataframe thead tr:only-child th {\n",
       "        text-align: right;\n",
       "    }\n",
       "\n",
       "    .dataframe thead th {\n",
       "        text-align: left;\n",
       "    }\n",
       "\n",
       "    .dataframe tbody tr th {\n",
       "        vertical-align: top;\n",
       "    }\n",
       "</style>\n",
       "<table border=\"1\" class=\"dataframe\">\n",
       "  <thead>\n",
       "    <tr style=\"text-align: right;\">\n",
       "      <th></th>\n",
       "      <th>nombres_de_playas_distintos</th>\n",
       "    </tr>\n",
       "    <tr>\n",
       "      <th>nom_provincia</th>\n",
       "      <th></th>\n",
       "    </tr>\n",
       "  </thead>\n",
       "  <tbody>\n",
       "    <tr>\n",
       "      <th>A Coruña</th>\n",
       "      <td>388</td>\n",
       "    </tr>\n",
       "    <tr>\n",
       "      <th>Pontevedra</th>\n",
       "      <td>350</td>\n",
       "    </tr>\n",
       "    <tr>\n",
       "      <th>Illes Balears</th>\n",
       "      <td>330</td>\n",
       "    </tr>\n",
       "    <tr>\n",
       "      <th>Las Palmas</th>\n",
       "      <td>303</td>\n",
       "    </tr>\n",
       "    <tr>\n",
       "      <th>Santa Cruz de Tenerife</th>\n",
       "      <td>228</td>\n",
       "    </tr>\n",
       "    <tr>\n",
       "      <th>Asturias</th>\n",
       "      <td>199</td>\n",
       "    </tr>\n",
       "    <tr>\n",
       "      <th>Murcia</th>\n",
       "      <td>193</td>\n",
       "    </tr>\n",
       "    <tr>\n",
       "      <th>Girona</th>\n",
       "      <td>179</td>\n",
       "    </tr>\n",
       "    <tr>\n",
       "      <th>Alicante/Alacant</th>\n",
       "      <td>165</td>\n",
       "    </tr>\n",
       "    <tr>\n",
       "      <th>Málaga</th>\n",
       "      <td>126</td>\n",
       "    </tr>\n",
       "  </tbody>\n",
       "</table>\n",
       "</div>"
      ],
      "text/plain": [
       "                        nombres_de_playas_distintos\n",
       "nom_provincia                                      \n",
       "A Coruña                                        388\n",
       "Pontevedra                                      350\n",
       "Illes Balears                                   330\n",
       "Las Palmas                                      303\n",
       "Santa Cruz de Tenerife                          228\n",
       "Asturias                                        199\n",
       "Murcia                                          193\n",
       "Girona                                          179\n",
       "Alicante/Alacant                                165\n",
       "Málaga                                          126"
      ]
     },
     "execution_count": 32,
     "metadata": {},
     "output_type": "execute_result"
    }
   ],
   "source": [
    "df=res.to_frame()\n",
    "((df.rename(columns={\"nom_playa\":\"nombres_de_playas_distintos\"})\n",
    "  ).sort_values('nombres_de_playas_distintos', ascending = False)\n",
    ").head(10)"
   ]
  },
  {
   "cell_type": "markdown",
   "metadata": {},
   "source": [
    "#### QUERY_7.3)  ¿ Qué provincia tiene más playas ... nudistas ?"
   ]
  },
  {
   "cell_type": "code",
   "execution_count": 33,
   "metadata": {
    "collapsed": false
   },
   "outputs": [],
   "source": [
    "sql = \"\"\"\n",
    "SELECT nom_provincia, nudista\n",
    "FROM vm_playas_by_provincia\n",
    "\"\"\"\n",
    "\n",
    "df_vista_prov = fun_ejecutar_query_cassandra (sql)   #  No ordenamos, porque la VISTA MATERIALIZADA ya está ordenada por longitud"
   ]
  },
  {
   "cell_type": "code",
   "execution_count": 34,
   "metadata": {
    "collapsed": false
   },
   "outputs": [
    {
     "data": {
      "text/html": [
       "<div>\n",
       "<style>\n",
       "    .dataframe thead tr:only-child th {\n",
       "        text-align: right;\n",
       "    }\n",
       "\n",
       "    .dataframe thead th {\n",
       "        text-align: left;\n",
       "    }\n",
       "\n",
       "    .dataframe tbody tr th {\n",
       "        vertical-align: top;\n",
       "    }\n",
       "</style>\n",
       "<table border=\"1\" class=\"dataframe\">\n",
       "  <thead>\n",
       "    <tr style=\"text-align: right;\">\n",
       "      <th></th>\n",
       "      <th>nom_provincia</th>\n",
       "      <th>nudista</th>\n",
       "    </tr>\n",
       "  </thead>\n",
       "  <tbody>\n",
       "    <tr>\n",
       "      <th>22</th>\n",
       "      <td>Asturias</td>\n",
       "      <td>Sí</td>\n",
       "    </tr>\n",
       "    <tr>\n",
       "      <th>32</th>\n",
       "      <td>Asturias</td>\n",
       "      <td>Sí</td>\n",
       "    </tr>\n",
       "    <tr>\n",
       "      <th>101</th>\n",
       "      <td>Asturias</td>\n",
       "      <td>Sí</td>\n",
       "    </tr>\n",
       "  </tbody>\n",
       "</table>\n",
       "</div>"
      ],
      "text/plain": [
       "    nom_provincia nudista\n",
       "22       Asturias      Sí\n",
       "32       Asturias      Sí\n",
       "101      Asturias      Sí"
      ]
     },
     "execution_count": 34,
     "metadata": {},
     "output_type": "execute_result"
    }
   ],
   "source": [
    "df_playas_nudistas = df_vista_prov [ df_vista_prov[\"nudista\"] == u\"Sí\" ]   # Seleccionamos del DataFrame las \n",
    "                                                                           # playas nudistas\n",
    "    \n",
    "df_playas_nudistas.head(3)"
   ]
  },
  {
   "cell_type": "code",
   "execution_count": 35,
   "metadata": {
    "collapsed": false
   },
   "outputs": [
    {
     "data": {
      "text/plain": [
       "pandas.core.series.Series"
      ]
     },
     "execution_count": 35,
     "metadata": {},
     "output_type": "execute_result"
    }
   ],
   "source": [
    "res = df_playas_nudistas.groupby([\"nom_provincia\"]).size().rename(\"num_playas_nudistas_puras\")\n",
    "type(res)"
   ]
  },
  {
   "cell_type": "code",
   "execution_count": 36,
   "metadata": {
    "collapsed": false
   },
   "outputs": [
    {
     "data": {
      "text/html": [
       "<div>\n",
       "<style>\n",
       "    .dataframe thead tr:only-child th {\n",
       "        text-align: right;\n",
       "    }\n",
       "\n",
       "    .dataframe thead th {\n",
       "        text-align: left;\n",
       "    }\n",
       "\n",
       "    .dataframe tbody tr th {\n",
       "        vertical-align: top;\n",
       "    }\n",
       "</style>\n",
       "<table border=\"1\" class=\"dataframe\">\n",
       "  <thead>\n",
       "    <tr style=\"text-align: right;\">\n",
       "      <th></th>\n",
       "      <th>num_playas_nudistas_puras</th>\n",
       "    </tr>\n",
       "    <tr>\n",
       "      <th>nom_provincia</th>\n",
       "      <th></th>\n",
       "    </tr>\n",
       "  </thead>\n",
       "  <tbody>\n",
       "    <tr>\n",
       "      <th>Las Palmas</th>\n",
       "      <td>146</td>\n",
       "    </tr>\n",
       "    <tr>\n",
       "      <th>Illes Balears</th>\n",
       "      <td>79</td>\n",
       "    </tr>\n",
       "    <tr>\n",
       "      <th>Santa Cruz de Tenerife</th>\n",
       "      <td>27</td>\n",
       "    </tr>\n",
       "    <tr>\n",
       "      <th>Alicante/Alacant</th>\n",
       "      <td>18</td>\n",
       "    </tr>\n",
       "    <tr>\n",
       "      <th>A Coruña</th>\n",
       "      <td>17</td>\n",
       "    </tr>\n",
       "    <tr>\n",
       "      <th>Gipuzkoa</th>\n",
       "      <td>16</td>\n",
       "    </tr>\n",
       "    <tr>\n",
       "      <th>Girona</th>\n",
       "      <td>16</td>\n",
       "    </tr>\n",
       "    <tr>\n",
       "      <th>Pontevedra</th>\n",
       "      <td>15</td>\n",
       "    </tr>\n",
       "    <tr>\n",
       "      <th>Tarragona</th>\n",
       "      <td>9</td>\n",
       "    </tr>\n",
       "    <tr>\n",
       "      <th>Barcelona</th>\n",
       "      <td>8</td>\n",
       "    </tr>\n",
       "  </tbody>\n",
       "</table>\n",
       "</div>"
      ],
      "text/plain": [
       "                        num_playas_nudistas_puras\n",
       "nom_provincia                                    \n",
       "Las Palmas                                    146\n",
       "Illes Balears                                  79\n",
       "Santa Cruz de Tenerife                         27\n",
       "Alicante/Alacant                               18\n",
       "A Coruña                                       17\n",
       "Gipuzkoa                                       16\n",
       "Girona                                         16\n",
       "Pontevedra                                     15\n",
       "Tarragona                                       9\n",
       "Barcelona                                       8"
      ]
     },
     "execution_count": 36,
     "metadata": {},
     "output_type": "execute_result"
    }
   ],
   "source": [
    "pd.DataFrame(res).sort_values('num_playas_nudistas_puras', ascending = False).head(10)"
   ]
  },
  {
   "cell_type": "markdown",
   "metadata": {},
   "source": [
    "#### QUERY_7.4)  ¿ Qué provincia tiene más playas ... con bandera azul ?"
   ]
  },
  {
   "cell_type": "code",
   "execution_count": 37,
   "metadata": {
    "collapsed": false
   },
   "outputs": [],
   "source": [
    "sql = \"\"\"\n",
    "SELECT nom_provincia, bandera_azul\n",
    "FROM vm_playas_by_provincia\n",
    "\"\"\"\n",
    "\n",
    "df_vista_prov = fun_ejecutar_query_cassandra (sql)   #  No ordenamos, porque la VISTA MATERIALIZADA ya está ordenada por longitud"
   ]
  },
  {
   "cell_type": "code",
   "execution_count": 38,
   "metadata": {
    "collapsed": false
   },
   "outputs": [
    {
     "data": {
      "text/html": [
       "<div>\n",
       "<style>\n",
       "    .dataframe thead tr:only-child th {\n",
       "        text-align: right;\n",
       "    }\n",
       "\n",
       "    .dataframe thead th {\n",
       "        text-align: left;\n",
       "    }\n",
       "\n",
       "    .dataframe tbody tr th {\n",
       "        vertical-align: top;\n",
       "    }\n",
       "</style>\n",
       "<table border=\"1\" class=\"dataframe\">\n",
       "  <thead>\n",
       "    <tr style=\"text-align: right;\">\n",
       "      <th></th>\n",
       "      <th>nom_provincia</th>\n",
       "      <th>bandera_azul</th>\n",
       "    </tr>\n",
       "  </thead>\n",
       "  <tbody>\n",
       "    <tr>\n",
       "      <th>2</th>\n",
       "      <td>Asturias</td>\n",
       "      <td>Sí</td>\n",
       "    </tr>\n",
       "    <tr>\n",
       "      <th>3</th>\n",
       "      <td>Asturias</td>\n",
       "      <td>Sí</td>\n",
       "    </tr>\n",
       "    <tr>\n",
       "      <th>12</th>\n",
       "      <td>Asturias</td>\n",
       "      <td>Sí</td>\n",
       "    </tr>\n",
       "  </tbody>\n",
       "</table>\n",
       "</div>"
      ],
      "text/plain": [
       "   nom_provincia bandera_azul\n",
       "2       Asturias           Sí\n",
       "3       Asturias           Sí\n",
       "12      Asturias           Sí"
      ]
     },
     "execution_count": 38,
     "metadata": {},
     "output_type": "execute_result"
    }
   ],
   "source": [
    "df_playas_bandera_azul = df_vista_prov [ df_vista_prov[\"bandera_azul\"] == u\"Sí\" ]   # Seleccionamos del DataFrame las \n",
    "                                                                           # playas con bandera azul\n",
    "    \n",
    "df_playas_bandera_azul.head(3)"
   ]
  },
  {
   "cell_type": "code",
   "execution_count": 39,
   "metadata": {
    "collapsed": false
   },
   "outputs": [
    {
     "data": {
      "text/plain": [
       "pandas.core.series.Series"
      ]
     },
     "execution_count": 39,
     "metadata": {},
     "output_type": "execute_result"
    }
   ],
   "source": [
    "res = df_playas_bandera_azul.groupby([\"nom_provincia\"]).size().rename(\"num_playas_bandera_azul\")\n",
    "type(res)"
   ]
  },
  {
   "cell_type": "code",
   "execution_count": 40,
   "metadata": {
    "collapsed": false
   },
   "outputs": [
    {
     "data": {
      "text/html": [
       "<div>\n",
       "<style>\n",
       "    .dataframe thead tr:only-child th {\n",
       "        text-align: right;\n",
       "    }\n",
       "\n",
       "    .dataframe thead th {\n",
       "        text-align: left;\n",
       "    }\n",
       "\n",
       "    .dataframe tbody tr th {\n",
       "        vertical-align: top;\n",
       "    }\n",
       "</style>\n",
       "<table border=\"1\" class=\"dataframe\">\n",
       "  <thead>\n",
       "    <tr style=\"text-align: right;\">\n",
       "      <th></th>\n",
       "      <th>num_playas_bandera_azul</th>\n",
       "    </tr>\n",
       "    <tr>\n",
       "      <th>nom_provincia</th>\n",
       "      <th></th>\n",
       "    </tr>\n",
       "  </thead>\n",
       "  <tbody>\n",
       "    <tr>\n",
       "      <th>Alicante/Alacant</th>\n",
       "      <td>62</td>\n",
       "    </tr>\n",
       "    <tr>\n",
       "      <th>Pontevedra</th>\n",
       "      <td>57</td>\n",
       "    </tr>\n",
       "    <tr>\n",
       "      <th>A Coruña</th>\n",
       "      <td>45</td>\n",
       "    </tr>\n",
       "    <tr>\n",
       "      <th>Tarragona</th>\n",
       "      <td>43</td>\n",
       "    </tr>\n",
       "    <tr>\n",
       "      <th>Illes Balears</th>\n",
       "      <td>41</td>\n",
       "    </tr>\n",
       "    <tr>\n",
       "      <th>Murcia</th>\n",
       "      <td>40</td>\n",
       "    </tr>\n",
       "    <tr>\n",
       "      <th>Castellón/Castelló</th>\n",
       "      <td>33</td>\n",
       "    </tr>\n",
       "    <tr>\n",
       "      <th>Girona</th>\n",
       "      <td>31</td>\n",
       "    </tr>\n",
       "    <tr>\n",
       "      <th>Valencia/València</th>\n",
       "      <td>30</td>\n",
       "    </tr>\n",
       "    <tr>\n",
       "      <th>Barcelona</th>\n",
       "      <td>29</td>\n",
       "    </tr>\n",
       "  </tbody>\n",
       "</table>\n",
       "</div>"
      ],
      "text/plain": [
       "                    num_playas_bandera_azul\n",
       "nom_provincia                              \n",
       "Alicante/Alacant                         62\n",
       "Pontevedra                               57\n",
       "A Coruña                                 45\n",
       "Tarragona                                43\n",
       "Illes Balears                            41\n",
       "Murcia                                   40\n",
       "Castellón/Castelló                       33\n",
       "Girona                                   31\n",
       "Valencia/València                        30\n",
       "Barcelona                                29"
      ]
     },
     "execution_count": 40,
     "metadata": {},
     "output_type": "execute_result"
    }
   ],
   "source": [
    "pd.DataFrame(res).sort_values('num_playas_bandera_azul', ascending = False).head(10)"
   ]
  },
  {
   "cell_type": "markdown",
   "metadata": {},
   "source": [
    "# FIN"
   ]
  }
 ],
 "metadata": {
  "kernelspec": {
   "display_name": "Python 2",
   "language": "python",
   "name": "python2"
  },
  "language_info": {
   "codemirror_mode": {
    "name": "ipython",
    "version": 2
   },
   "file_extension": ".py",
   "mimetype": "text/x-python",
   "name": "python",
   "nbconvert_exporter": "python",
   "pygments_lexer": "ipython2",
   "version": "2.7.6"
  }
 },
 "nbformat": 4,
 "nbformat_minor": 0
}
