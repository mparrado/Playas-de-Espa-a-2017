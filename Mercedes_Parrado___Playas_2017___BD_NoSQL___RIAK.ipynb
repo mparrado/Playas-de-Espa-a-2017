{
 "cells": [
  {
   "cell_type": "markdown",
   "metadata": {},
   "source": [
    "# --------------------------------------------------------------------------------------------------------------\n",
    "# PLAYAS de ESPAÑA 2017 : Riak\n",
    "# --------------------------------------------------------------------------------------------------------------"
   ]
  },
  {
   "cell_type": "markdown",
   "metadata": {},
   "source": [
    "## Inicializaciones previas"
   ]
  },
  {
   "cell_type": "markdown",
   "metadata": {},
   "source": [
    "### a) Carga de librerías"
   ]
  },
  {
   "cell_type": "code",
   "execution_count": 1,
   "metadata": {
    "collapsed": false
   },
   "outputs": [],
   "source": [
    "import riak\n",
    "from pprintpp import pprint as pp\n",
    "import json\n",
    "import pandas as pd\n",
    "\n",
    "import uuid\n",
    "import hashlib"
   ]
  },
  {
   "cell_type": "markdown",
   "metadata": {},
   "source": [
    "# A) Carga de datos desde Excel a un DataFrame de PANDAS"
   ]
  },
  {
   "cell_type": "markdown",
   "metadata": {},
   "source": [
    "Partimos de los datos normalizados (en fichero Excel). Leemos las 2 hojas del fichero Excel en un **mismo** DataFrame de Pandas para guardarlo todo junto en RIAK (desnormalizado)."
   ]
  },
  {
   "cell_type": "code",
   "execution_count": 2,
   "metadata": {
    "collapsed": true
   },
   "outputs": [],
   "source": [
    "df_excel_provincias = pd.read_excel(\"./data/playas_2017.xlsx\", sheetname= \"HOJA_PROVINCIAS\")\n",
    "df_excel_playas     = pd.read_excel(\"./data/playas_2017.xlsx\", sheetname= \"HOJA_PLAYAS\")"
   ]
  },
  {
   "cell_type": "code",
   "execution_count": 3,
   "metadata": {
    "collapsed": false
   },
   "outputs": [
    {
     "name": "stdout",
     "output_type": "stream",
     "text": [
      "<class 'pandas.core.frame.DataFrame'>\n",
      "Int64Index: 3511 entries, 0 to 3510\n",
      "Data columns (total 12 columns):\n",
      "id_provincia       3511 non-null int64\n",
      "nom_provincia      3511 non-null object\n",
      "comunidad          3511 non-null object\n",
      "cod_playa          3511 non-null int64\n",
      "nom_playa          3511 non-null object\n",
      "localidad          3511 non-null object\n",
      "clave_nom_playa    3511 non-null object\n",
      "longitud           3511 non-null int64\n",
      "longitud_txt       3511 non-null object\n",
      "arena              3511 non-null object\n",
      "nudista            3511 non-null object\n",
      "bandera_azul       3511 non-null object\n",
      "dtypes: int64(3), object(9)\n",
      "memory usage: 356.6+ KB\n"
     ]
    }
   ],
   "source": [
    "df_riak = pd.merge(df_excel_provincias, df_excel_playas, on = ['id_provincia'], how = 'inner')\n",
    "df_riak.info()"
   ]
  },
  {
   "cell_type": "code",
   "execution_count": 4,
   "metadata": {
    "collapsed": false
   },
   "outputs": [
    {
     "data": {
      "text/html": [
       "<div>\n",
       "<style>\n",
       "    .dataframe thead tr:only-child th {\n",
       "        text-align: right;\n",
       "    }\n",
       "\n",
       "    .dataframe thead th {\n",
       "        text-align: left;\n",
       "    }\n",
       "\n",
       "    .dataframe tbody tr th {\n",
       "        vertical-align: top;\n",
       "    }\n",
       "</style>\n",
       "<table border=\"1\" class=\"dataframe\">\n",
       "  <thead>\n",
       "    <tr style=\"text-align: right;\">\n",
       "      <th></th>\n",
       "      <th>id_provincia</th>\n",
       "      <th>nom_provincia</th>\n",
       "      <th>comunidad</th>\n",
       "      <th>cod_playa</th>\n",
       "      <th>nom_playa</th>\n",
       "      <th>localidad</th>\n",
       "      <th>clave_nom_playa</th>\n",
       "      <th>longitud</th>\n",
       "      <th>longitud_txt</th>\n",
       "      <th>arena</th>\n",
       "      <th>nudista</th>\n",
       "      <th>bandera_azul</th>\n",
       "    </tr>\n",
       "  </thead>\n",
       "  <tbody>\n",
       "    <tr>\n",
       "      <th>0</th>\n",
       "      <td>16</td>\n",
       "      <td>Las Palmas</td>\n",
       "      <td>Canarias</td>\n",
       "      <td>3001</td>\n",
       "      <td>Janubio</td>\n",
       "      <td>Puerto del Rosario</td>\n",
       "      <td>Puerto del Rosario (Janubio)</td>\n",
       "      <td>230</td>\n",
       "      <td>230 metros</td>\n",
       "      <td>Dorada</td>\n",
       "      <td>Sí</td>\n",
       "      <td>No</td>\n",
       "    </tr>\n",
       "    <tr>\n",
       "      <th>1</th>\n",
       "      <td>16</td>\n",
       "      <td>Las Palmas</td>\n",
       "      <td>Canarias</td>\n",
       "      <td>3002</td>\n",
       "      <td>El Aljibe</td>\n",
       "      <td>La Oliva</td>\n",
       "      <td>La Oliva (El Aljibe)</td>\n",
       "      <td>1210</td>\n",
       "      <td>1.210 metros</td>\n",
       "      <td>Dorada</td>\n",
       "      <td>Sí</td>\n",
       "      <td>No</td>\n",
       "    </tr>\n",
       "    <tr>\n",
       "      <th>2</th>\n",
       "      <td>16</td>\n",
       "      <td>Las Palmas</td>\n",
       "      <td>Canarias</td>\n",
       "      <td>3003</td>\n",
       "      <td>El Castillo</td>\n",
       "      <td>La Oliva</td>\n",
       "      <td>La Oliva (El Castillo)</td>\n",
       "      <td>190</td>\n",
       "      <td>190 metros</td>\n",
       "      <td>Dorada</td>\n",
       "      <td>Sí</td>\n",
       "      <td>No</td>\n",
       "    </tr>\n",
       "    <tr>\n",
       "      <th>3</th>\n",
       "      <td>16</td>\n",
       "      <td>Las Palmas</td>\n",
       "      <td>Canarias</td>\n",
       "      <td>3004</td>\n",
       "      <td>Marfolín</td>\n",
       "      <td>La Oliva</td>\n",
       "      <td>La Oliva (Marfolín)</td>\n",
       "      <td>950</td>\n",
       "      <td>950 metros</td>\n",
       "      <td>Dorada</td>\n",
       "      <td>Sí</td>\n",
       "      <td>No</td>\n",
       "    </tr>\n",
       "    <tr>\n",
       "      <th>4</th>\n",
       "      <td>16</td>\n",
       "      <td>Las Palmas</td>\n",
       "      <td>Canarias</td>\n",
       "      <td>3005</td>\n",
       "      <td>Chica</td>\n",
       "      <td>La Oliva</td>\n",
       "      <td>La Oliva (Chica)</td>\n",
       "      <td>200</td>\n",
       "      <td>200 metros</td>\n",
       "      <td>Blanca</td>\n",
       "      <td>No</td>\n",
       "      <td>No</td>\n",
       "    </tr>\n",
       "  </tbody>\n",
       "</table>\n",
       "</div>"
      ],
      "text/plain": [
       "   id_provincia nom_provincia comunidad  cod_playa    nom_playa  \\\n",
       "0            16    Las Palmas  Canarias       3001      Janubio   \n",
       "1            16    Las Palmas  Canarias       3002    El Aljibe   \n",
       "2            16    Las Palmas  Canarias       3003  El Castillo   \n",
       "3            16    Las Palmas  Canarias       3004     Marfolín   \n",
       "4            16    Las Palmas  Canarias       3005        Chica   \n",
       "\n",
       "            localidad               clave_nom_playa  longitud  longitud_txt  \\\n",
       "0  Puerto del Rosario  Puerto del Rosario (Janubio)       230    230 metros   \n",
       "1            La Oliva          La Oliva (El Aljibe)      1210  1.210 metros   \n",
       "2            La Oliva        La Oliva (El Castillo)       190    190 metros   \n",
       "3            La Oliva           La Oliva (Marfolín)       950    950 metros   \n",
       "4            La Oliva              La Oliva (Chica)       200    200 metros   \n",
       "\n",
       "    arena nudista bandera_azul  \n",
       "0  Dorada      Sí           No  \n",
       "1  Dorada      Sí           No  \n",
       "2  Dorada      Sí           No  \n",
       "3  Dorada      Sí           No  \n",
       "4  Blanca      No           No  "
      ]
     },
     "execution_count": 4,
     "metadata": {},
     "output_type": "execute_result"
    }
   ],
   "source": [
    "df_riak.head(5)"
   ]
  },
  {
   "cell_type": "markdown",
   "metadata": {},
   "source": [
    "# B) BD de RIAK"
   ]
  },
  {
   "cell_type": "markdown",
   "metadata": {},
   "source": [
    "## B.1) Conexión a la BD de RIAK"
   ]
  },
  {
   "cell_type": "code",
   "execution_count": 5,
   "metadata": {
    "collapsed": false
   },
   "outputs": [
    {
     "data": {
      "text/plain": [
       "True"
      ]
     },
     "execution_count": 5,
     "metadata": {},
     "output_type": "execute_result"
    }
   ],
   "source": [
    "# connect to database\n",
    "cliente_R = riak.RiakClient()\n",
    "cliente_R.ping()"
   ]
  },
  {
   "cell_type": "markdown",
   "metadata": {},
   "source": [
    "## B.2) Creamos los BUCKETS de RIAK"
   ]
  },
  {
   "cell_type": "markdown",
   "metadata": {},
   "source": [
    "Utilizamos **2 buckets** :\n",
    "   1. Uno para guardar las PLAYAS en formato JSON.\n",
    "   2. Otro para guardar la LONGITUD de las PLAYAS acumulada por PROVINCIA.\n",
    "\n",
    "En el bucket de PLAYAS utilizamos una clave autogenerada (no vamos a poder localizar las playas por clave) y en el bucket con la LONGITUD acumulada la clave es el nombre de la provincia en formato HASH, para no tener problemas ni con los espacios del nombre ni con los acentos.\n",
    "\n",
    "Se van a crear los siguientes buckets:\n",
    "\n",
    "|bucket|Clave|Contenido|\n",
    "|-|-|-|\n",
    "|playas|Marca temporal|Todos los datos del dataset en formnato JSON y desnormalizados|\n",
    "|acum_longitud_provincia|Código HASH de la provincia a la que pertenece la playa|Mapa con el nombre de la provincia y la longitd de playas acumulada|\n",
    "\n",
    "El bucket de playas tendrá el siguiente índice :\n",
    "\n",
    "|Nombre del índice|Contenido|¿Que busquedas permite hacer?|\n",
    "|-|-|-|\n",
    "|idx_comunidad_bin|Nombre de la comunidad|Localizar playas de una comunidad concreta|"
   ]
  },
  {
   "cell_type": "code",
   "execution_count": 6,
   "metadata": {
    "collapsed": false
   },
   "outputs": [],
   "source": [
    "BUCKET_PLAYAS             = 'playas'\n",
    "BUCKET_ACUM_LONGITUD_PROV = 'acum_longitud_provincia'\n",
    "\n",
    "bucket_playas         = cliente_R.bucket(BUCKET_PLAYAS)\n",
    "bucket_acum_long_prov = cliente_R.bucket_type('maps').bucket(BUCKET_ACUM_LONGITUD_PROV)"
   ]
  },
  {
   "cell_type": "markdown",
   "metadata": {},
   "source": [
    "## B.3) Borramos el contenido de los BUCKETS"
   ]
  },
  {
   "cell_type": "markdown",
   "metadata": {},
   "source": [
    "Definimos una **función** para eliminar los datos de un BUCKET de Riak (**en Riak no se borran los buckets**, se borran las claves de un bucket, una a una, tal y como se muestra en la siguiente función)."
   ]
  },
  {
   "cell_type": "code",
   "execution_count": 7,
   "metadata": {
    "collapsed": false
   },
   "outputs": [],
   "source": [
    "def fun_borrar_tuplas(bucket):\n",
    "    for lista_de_claves in bucket.stream_keys():\n",
    "        for i in lista_de_claves:\n",
    "            bucket.delete(i)"
   ]
  },
  {
   "cell_type": "code",
   "execution_count": 8,
   "metadata": {
    "collapsed": false
   },
   "outputs": [],
   "source": [
    "# Borramos los datos ..\n",
    "fun_borrar_tuplas(bucket_playas)\n",
    "fun_borrar_tuplas(bucket_acum_long_prov)"
   ]
  },
  {
   "cell_type": "markdown",
   "metadata": {},
   "source": [
    "# C) Inserción de los datos en los BUCKETS de RIAK"
   ]
  },
  {
   "cell_type": "markdown",
   "metadata": {},
   "source": [
    "## C.1) Transformaciones previas"
   ]
  },
  {
   "cell_type": "markdown",
   "metadata": {},
   "source": [
    "Para generar los datos en formato JSON partimos del DataFrame de Pandas y lo exportamos a JSON (en formato String) para luego cargarlo en un diccionario de Python.\n",
    "\n",
    "** NOTA (fechas)** : cuando se genera el dato en formato JSON, los campos de tipo fecha se almacenan como un [TIMESTAMP de unix](http://www.unixtimestamp.com), por lo que habría que volver a convertirlo a fecha según el caso."
   ]
  },
  {
   "cell_type": "code",
   "execution_count": 9,
   "metadata": {
    "collapsed": false
   },
   "outputs": [],
   "source": [
    "json_string = df_riak.to_json(orient = 'records')\n",
    "json_list = json.loads(json_string)"
   ]
  },
  {
   "cell_type": "code",
   "execution_count": 10,
   "metadata": {
    "collapsed": false
   },
   "outputs": [
    {
     "name": "stdout",
     "output_type": "stream",
     "text": [
      "3511\n"
     ]
    }
   ],
   "source": [
    "print(len(json_list))"
   ]
  },
  {
   "cell_type": "code",
   "execution_count": 11,
   "metadata": {
    "collapsed": false
   },
   "outputs": [
    {
     "data": {
      "text/plain": [
       "list"
      ]
     },
     "execution_count": 11,
     "metadata": {},
     "output_type": "execute_result"
    }
   ],
   "source": [
    "type(json_list)"
   ]
  },
  {
   "cell_type": "code",
   "execution_count": 12,
   "metadata": {
    "collapsed": false
   },
   "outputs": [
    {
     "name": "stdout",
     "output_type": "stream",
     "text": [
      "{\n",
      "    u'arena': u'Dorada',\n",
      "    u'bandera_azul': u'No',\n",
      "    u'clave_nom_playa': u'Puerto del Rosario (Janubio)',\n",
      "    u'cod_playa': 3001,\n",
      "    u'comunidad': u'Canarias',\n",
      "    u'id_provincia': 16,\n",
      "    u'localidad': u'Puerto del Rosario',\n",
      "    u'longitud': 230,\n",
      "    u'longitud_txt': u'230 metros',\n",
      "    u'nom_playa': u'Janubio',\n",
      "    u'nom_provincia': u'Las Palmas',\n",
      "    u'nudista': u'Sí',\n",
      "}\n"
     ]
    }
   ],
   "source": [
    "pp(json_list[0])"
   ]
  },
  {
   "cell_type": "markdown",
   "metadata": {},
   "source": [
    "## C.2) Inserción de los datos"
   ]
  },
  {
   "cell_type": "markdown",
   "metadata": {},
   "source": [
    "Vamos a utilizar el nombre de la **provincia** como clave, por lo que necesitamos convertirla previamente a un código que no lleve ni espacios ni acentos.\n",
    "\n",
    "Este es precisamente el objetivo de la siguiente función ..."
   ]
  },
  {
   "cell_type": "code",
   "execution_count": 13,
   "metadata": {
    "collapsed": true
   },
   "outputs": [],
   "source": [
    "def hash_string(s):\n",
    "    s_utf8 = s.encode('utf-8')\n",
    "    return hashlib.md5(s_utf8).hexdigest()"
   ]
  },
  {
   "cell_type": "markdown",
   "metadata": {},
   "source": [
    "Recorremos el dataset de **playas**, almacenando la información tanto en el bucket de **playas** como en el bucket que acumula la **longitud de playa por provincia**.\n",
    "\n",
    "En este último utilizamos una funcionalidad que nos da Riak para guardar la información tipificada. Utilizamos un **mapa** que tiene dos elementos: \n",
    "   1. Un **registro** donde guardamos el **nombre de la provincia**\n",
    "   2. Un **contador** donde guardamos la **longitud acumulada de las playas de la provincia**"
   ]
  },
  {
   "cell_type": "code",
   "execution_count": 14,
   "metadata": {
    "collapsed": false
   },
   "outputs": [],
   "source": [
    "#\n",
    "# Bucle de carga de datos ...\n",
    "#\n",
    "\n",
    "for playa_json in json_list:\n",
    "    key_playa     = uuid.uuid1().hex\n",
    "    hash_nom_prov = hash_string(playa_json[\"nom_provincia\"])\n",
    "    hash_nom_comu = hash_string(playa_json[\"comunidad\"])\n",
    "    \n",
    "    var_playa = bucket_playas.new(key_playa, playa_json)\n",
    "    var_playa.add_index('idx_comunidad_bin', hash_nom_comu)   # El índice tiene que tener terminación \"_bin\" o \"_int\"\n",
    "    var_playa.store()\n",
    "    \n",
    "    map_var_prov = bucket_acum_long_prov.new(hash_nom_prov)\n",
    "    map_var_prov.registers['map_nombre_prov'].assign(playa_json[\"nom_provincia\"].encode('utf-8'))\n",
    "    map_var_prov.counters['map_metros_playa_prov'].increment(playa_json[\"longitud\"])\n",
    "    map_var_prov.store()\n",
    "\n",
    "    "
   ]
  },
  {
   "cell_type": "markdown",
   "metadata": {},
   "source": [
    "# ------------------------------------------------------------------------------\n",
    "# QUERYS   (Riak)\n",
    "# ------------------------------------------------------------------------------"
   ]
  },
  {
   "cell_type": "markdown",
   "metadata": {},
   "source": [
    "Vamos a necesitar lo siguiente :"
   ]
  },
  {
   "cell_type": "markdown",
   "metadata": {},
   "source": [
    "## 1) Una FUNCIÓN para convertir JSON --> Dataframe"
   ]
  },
  {
   "cell_type": "markdown",
   "metadata": {},
   "source": [
    "En la siguiente **función** partimos del objeto JSON que nos devuelve RIAK y generamos un DataFrame Pandas.\n",
    "\n",
    "\n",
    "** NOTA (fechas)** : en el caso de campos de tipo fecha, lo convertimos desde un UNIX Timestamp al formato correcto para Pandas."
   ]
  },
  {
   "cell_type": "code",
   "execution_count": 15,
   "metadata": {
    "collapsed": true
   },
   "outputs": [],
   "source": [
    "def json_to_pandas(rows):\n",
    "    # Convertimos el objeto JSON en un objeto pandas \n",
    "    df = pd.read_json(json.dumps(rows))\n",
    "    \n",
    "    if 'fecha' in df.columns:\n",
    "        # Las fechas están en formato UNIX TIMESTAMP. Las volvemos a convertir a formato Date...\n",
    "        df = df.assign(fecha = pd.to_datetime(df.fecha, unit = 'ms'))\n",
    "\n",
    "    return df"
   ]
  },
  {
   "cell_type": "markdown",
   "metadata": {},
   "source": [
    "## 2) Un DATAFRAME con toda la info del BUCKET de PLAYAS"
   ]
  },
  {
   "cell_type": "markdown",
   "metadata": {},
   "source": [
    "Cargamos todas las **playas** de la base de datos y lo guardamos en un DataFrame de Pandas, ya que hay ciertas preguntas que no pueden resolverse directamente por esta base de datos.\n",
    "\n",
    "Recuerda que RIAK permite obtener información de una clave, pero no le es posible devolver la información **ordenada** ..."
   ]
  },
  {
   "cell_type": "code",
   "execution_count": 16,
   "metadata": {
    "collapsed": false
   },
   "outputs": [],
   "source": [
    "rows = []\n",
    "for lista_de_claves in bucket_playas.stream_keys():\n",
    "    for i in lista_de_claves:\n",
    "        rows.append(bucket_playas.get(i).data)\n",
    "        \n",
    "# Convertimos el objeto json en un objeto pandas \n",
    "df_playas = json_to_pandas(rows)"
   ]
  },
  {
   "cell_type": "code",
   "execution_count": 17,
   "metadata": {
    "collapsed": false
   },
   "outputs": [
    {
     "data": {
      "text/html": [
       "<div>\n",
       "<style>\n",
       "    .dataframe thead tr:only-child th {\n",
       "        text-align: right;\n",
       "    }\n",
       "\n",
       "    .dataframe thead th {\n",
       "        text-align: left;\n",
       "    }\n",
       "\n",
       "    .dataframe tbody tr th {\n",
       "        vertical-align: top;\n",
       "    }\n",
       "</style>\n",
       "<table border=\"1\" class=\"dataframe\">\n",
       "  <thead>\n",
       "    <tr style=\"text-align: right;\">\n",
       "      <th></th>\n",
       "      <th>arena</th>\n",
       "      <th>bandera_azul</th>\n",
       "      <th>clave_nom_playa</th>\n",
       "      <th>cod_playa</th>\n",
       "      <th>comunidad</th>\n",
       "      <th>id_provincia</th>\n",
       "      <th>localidad</th>\n",
       "      <th>longitud</th>\n",
       "      <th>longitud_txt</th>\n",
       "      <th>nom_playa</th>\n",
       "      <th>nom_provincia</th>\n",
       "      <th>nudista</th>\n",
       "    </tr>\n",
       "  </thead>\n",
       "  <tbody>\n",
       "    <tr>\n",
       "      <th>0</th>\n",
       "      <td>Dorada</td>\n",
       "      <td>No</td>\n",
       "      <td>Tarragona (El Milagro)</td>\n",
       "      <td>1186</td>\n",
       "      <td>Cataluña/Catalunya</td>\n",
       "      <td>23</td>\n",
       "      <td>Tarragona</td>\n",
       "      <td>980</td>\n",
       "      <td>980 metros</td>\n",
       "      <td>El Milagro</td>\n",
       "      <td>Tarragona</td>\n",
       "      <td>No</td>\n",
       "    </tr>\n",
       "    <tr>\n",
       "      <th>1</th>\n",
       "      <td></td>\n",
       "      <td>No</td>\n",
       "      <td>L'Ametlla de Mar (Cala Moscas)</td>\n",
       "      <td>1134</td>\n",
       "      <td>Cataluña/Catalunya</td>\n",
       "      <td>23</td>\n",
       "      <td>L'Ametlla de Mar</td>\n",
       "      <td>30</td>\n",
       "      <td>30 metros</td>\n",
       "      <td>Cala Moscas</td>\n",
       "      <td>Tarragona</td>\n",
       "      <td>No</td>\n",
       "    </tr>\n",
       "    <tr>\n",
       "      <th>2</th>\n",
       "      <td>Dorada</td>\n",
       "      <td>No</td>\n",
       "      <td>Valdáliga (Oyambre)</td>\n",
       "      <td>326</td>\n",
       "      <td>Cantabria</td>\n",
       "      <td>7</td>\n",
       "      <td>Valdáliga</td>\n",
       "      <td>1800</td>\n",
       "      <td>1.800 metros</td>\n",
       "      <td>Oyambre</td>\n",
       "      <td>Cantabria</td>\n",
       "      <td>No</td>\n",
       "    </tr>\n",
       "    <tr>\n",
       "      <th>3</th>\n",
       "      <td>Dorada</td>\n",
       "      <td>No</td>\n",
       "      <td>San Vicente de la Barquera (La Maza)</td>\n",
       "      <td>286</td>\n",
       "      <td>Cantabria</td>\n",
       "      <td>7</td>\n",
       "      <td>San Vicente de la Barquera</td>\n",
       "      <td>150</td>\n",
       "      <td>150 metros</td>\n",
       "      <td>La Maza</td>\n",
       "      <td>Cantabria</td>\n",
       "      <td>No</td>\n",
       "    </tr>\n",
       "    <tr>\n",
       "      <th>4</th>\n",
       "      <td>Dorada</td>\n",
       "      <td>Sí</td>\n",
       "      <td>Noja (Trengandín)</td>\n",
       "      <td>267</td>\n",
       "      <td>Cantabria</td>\n",
       "      <td>7</td>\n",
       "      <td>Noja</td>\n",
       "      <td>3700</td>\n",
       "      <td>3.700 metros</td>\n",
       "      <td>Trengandín</td>\n",
       "      <td>Cantabria</td>\n",
       "      <td>No</td>\n",
       "    </tr>\n",
       "  </tbody>\n",
       "</table>\n",
       "</div>"
      ],
      "text/plain": [
       "    arena bandera_azul                       clave_nom_playa  cod_playa  \\\n",
       "0  Dorada           No                Tarragona (El Milagro)       1186   \n",
       "1                   No        L'Ametlla de Mar (Cala Moscas)       1134   \n",
       "2  Dorada           No                   Valdáliga (Oyambre)        326   \n",
       "3  Dorada           No  San Vicente de la Barquera (La Maza)        286   \n",
       "4  Dorada           Sí                     Noja (Trengandín)        267   \n",
       "\n",
       "            comunidad  id_provincia                   localidad  longitud  \\\n",
       "0  Cataluña/Catalunya            23                   Tarragona       980   \n",
       "1  Cataluña/Catalunya            23            L'Ametlla de Mar        30   \n",
       "2           Cantabria             7                   Valdáliga      1800   \n",
       "3           Cantabria             7  San Vicente de la Barquera       150   \n",
       "4           Cantabria             7                        Noja      3700   \n",
       "\n",
       "   longitud_txt    nom_playa nom_provincia nudista  \n",
       "0    980 metros   El Milagro     Tarragona      No  \n",
       "1     30 metros  Cala Moscas     Tarragona      No  \n",
       "2  1.800 metros      Oyambre     Cantabria      No  \n",
       "3    150 metros      La Maza     Cantabria      No  \n",
       "4  3.700 metros   Trengandín     Cantabria      No  "
      ]
     },
     "execution_count": 17,
     "metadata": {},
     "output_type": "execute_result"
    }
   ],
   "source": [
    "df_playas.head()"
   ]
  },
  {
   "cell_type": "markdown",
   "metadata": {},
   "source": [
    "# ------------------------------------------------------------------------------\n",
    "# QUERYS   (Riak)\n",
    "# ------------------------------------------------------------------------------"
   ]
  },
  {
   "cell_type": "markdown",
   "metadata": {},
   "source": [
    "### QUERY_1) Las 10 playas más largas"
   ]
  },
  {
   "cell_type": "code",
   "execution_count": 18,
   "metadata": {
    "collapsed": false
   },
   "outputs": [
    {
     "data": {
      "text/html": [
       "<div>\n",
       "<style>\n",
       "    .dataframe thead tr:only-child th {\n",
       "        text-align: right;\n",
       "    }\n",
       "\n",
       "    .dataframe thead th {\n",
       "        text-align: left;\n",
       "    }\n",
       "\n",
       "    .dataframe tbody tr th {\n",
       "        vertical-align: top;\n",
       "    }\n",
       "</style>\n",
       "<table border=\"1\" class=\"dataframe\">\n",
       "  <thead>\n",
       "    <tr style=\"text-align: right;\">\n",
       "      <th></th>\n",
       "      <th>nom_provincia</th>\n",
       "      <th>localidad</th>\n",
       "      <th>nom_playa</th>\n",
       "      <th>clave_nom_playa</th>\n",
       "      <th>longitud</th>\n",
       "      <th>longitud_txt</th>\n",
       "    </tr>\n",
       "  </thead>\n",
       "  <tbody>\n",
       "    <tr>\n",
       "      <th>3435</th>\n",
       "      <td>Huelva</td>\n",
       "      <td>Almonte</td>\n",
       "      <td>Doñana</td>\n",
       "      <td>Almonte (Doñana)</td>\n",
       "      <td>28000</td>\n",
       "      <td>28.000 metros</td>\n",
       "    </tr>\n",
       "    <tr>\n",
       "      <th>3224</th>\n",
       "      <td>Huelva</td>\n",
       "      <td>Almonte</td>\n",
       "      <td>Castilla</td>\n",
       "      <td>Almonte (Castilla)</td>\n",
       "      <td>17000</td>\n",
       "      <td>17.000 metros</td>\n",
       "    </tr>\n",
       "    <tr>\n",
       "      <th>1574</th>\n",
       "      <td>Las Palmas</td>\n",
       "      <td>Pájara</td>\n",
       "      <td>El Cofete</td>\n",
       "      <td>Pájara (El Cofete)</td>\n",
       "      <td>13700</td>\n",
       "      <td>13.700 metros</td>\n",
       "    </tr>\n",
       "    <tr>\n",
       "      <th>2125</th>\n",
       "      <td>Huelva</td>\n",
       "      <td>Lepe</td>\n",
       "      <td>Nueva Umbría</td>\n",
       "      <td>Lepe (Nueva Umbría)</td>\n",
       "      <td>12000</td>\n",
       "      <td>12.000 metros</td>\n",
       "    </tr>\n",
       "    <tr>\n",
       "      <th>2722</th>\n",
       "      <td>Huelva</td>\n",
       "      <td>Palos de la Frontera</td>\n",
       "      <td>Mazagón</td>\n",
       "      <td>Palos de la Frontera (Mazagón)</td>\n",
       "      <td>9000</td>\n",
       "      <td>9.000 metros</td>\n",
       "    </tr>\n",
       "    <tr>\n",
       "      <th>817</th>\n",
       "      <td>Tarragona</td>\n",
       "      <td>Deltebre</td>\n",
       "      <td>Punta del Fangar</td>\n",
       "      <td>Deltebre (Punta del Fangar)</td>\n",
       "      <td>6500</td>\n",
       "      <td>6.500 metros</td>\n",
       "    </tr>\n",
       "    <tr>\n",
       "      <th>486</th>\n",
       "      <td>Almería</td>\n",
       "      <td>El Ejido</td>\n",
       "      <td>Punta Entinas Sabinar</td>\n",
       "      <td>El Ejido (Punta Entinas Sabinar)</td>\n",
       "      <td>6500</td>\n",
       "      <td>6.500 metros</td>\n",
       "    </tr>\n",
       "    <tr>\n",
       "      <th>159</th>\n",
       "      <td>Girona</td>\n",
       "      <td>Sant Pere Pescador</td>\n",
       "      <td>Sant Pere Pescador</td>\n",
       "      <td>Sant Pere Pescador (Sant Pere Pescador)</td>\n",
       "      <td>6400</td>\n",
       "      <td>6400 metros</td>\n",
       "    </tr>\n",
       "    <tr>\n",
       "      <th>3415</th>\n",
       "      <td>Tarragona</td>\n",
       "      <td>Sant Carles de la Ràpita</td>\n",
       "      <td>El Trabucador</td>\n",
       "      <td>Sant Carles de la Ràpita (El Trabucador)</td>\n",
       "      <td>6165</td>\n",
       "      <td>6.165 metros</td>\n",
       "    </tr>\n",
       "    <tr>\n",
       "      <th>1637</th>\n",
       "      <td>A Coruña</td>\n",
       "      <td>Carnota</td>\n",
       "      <td>Carnota</td>\n",
       "      <td>Carnota (Carnota)</td>\n",
       "      <td>5600</td>\n",
       "      <td>5.600 metros</td>\n",
       "    </tr>\n",
       "  </tbody>\n",
       "</table>\n",
       "</div>"
      ],
      "text/plain": [
       "     nom_provincia                 localidad              nom_playa  \\\n",
       "3435        Huelva                   Almonte                 Doñana   \n",
       "3224        Huelva                   Almonte               Castilla   \n",
       "1574    Las Palmas                    Pájara              El Cofete   \n",
       "2125        Huelva                      Lepe           Nueva Umbría   \n",
       "2722        Huelva      Palos de la Frontera                Mazagón   \n",
       "817      Tarragona                  Deltebre       Punta del Fangar   \n",
       "486        Almería                  El Ejido  Punta Entinas Sabinar   \n",
       "159         Girona        Sant Pere Pescador     Sant Pere Pescador   \n",
       "3415     Tarragona  Sant Carles de la Ràpita          El Trabucador   \n",
       "1637      A Coruña                   Carnota                Carnota   \n",
       "\n",
       "                               clave_nom_playa  longitud   longitud_txt  \n",
       "3435                          Almonte (Doñana)     28000  28.000 metros  \n",
       "3224                        Almonte (Castilla)     17000  17.000 metros  \n",
       "1574                        Pájara (El Cofete)     13700  13.700 metros  \n",
       "2125                       Lepe (Nueva Umbría)     12000  12.000 metros  \n",
       "2722            Palos de la Frontera (Mazagón)      9000   9.000 metros  \n",
       "817                Deltebre (Punta del Fangar)      6500   6.500 metros  \n",
       "486           El Ejido (Punta Entinas Sabinar)      6500   6.500 metros  \n",
       "159    Sant Pere Pescador (Sant Pere Pescador)      6400    6400 metros  \n",
       "3415  Sant Carles de la Ràpita (El Trabucador)      6165   6.165 metros  \n",
       "1637                         Carnota (Carnota)      5600   5.600 metros  "
      ]
     },
     "execution_count": 18,
     "metadata": {},
     "output_type": "execute_result"
    }
   ],
   "source": [
    "df_playas.sort_values('longitud', ascending=False)[['nom_provincia', \n",
    "                                                    'localidad', \n",
    "                                                    'nom_playa', \n",
    "                                                    'clave_nom_playa',\n",
    "                                                    'longitud',\n",
    "                                                    'longitud_txt']].head(10)"
   ]
  },
  {
   "cell_type": "markdown",
   "metadata": {},
   "source": [
    "### QUERY_2) Las 10 playas más largas de una cierta provincia (incluído el nombre de la provincia)"
   ]
  },
  {
   "cell_type": "code",
   "execution_count": 19,
   "metadata": {
    "collapsed": false
   },
   "outputs": [
    {
     "data": {
      "text/html": [
       "<div>\n",
       "<style>\n",
       "    .dataframe thead tr:only-child th {\n",
       "        text-align: right;\n",
       "    }\n",
       "\n",
       "    .dataframe thead th {\n",
       "        text-align: left;\n",
       "    }\n",
       "\n",
       "    .dataframe tbody tr th {\n",
       "        vertical-align: top;\n",
       "    }\n",
       "</style>\n",
       "<table border=\"1\" class=\"dataframe\">\n",
       "  <thead>\n",
       "    <tr style=\"text-align: right;\">\n",
       "      <th></th>\n",
       "      <th>nom_provincia</th>\n",
       "      <th>localidad</th>\n",
       "      <th>nom_playa</th>\n",
       "      <th>clave_nom_playa</th>\n",
       "      <th>longitud</th>\n",
       "      <th>longitud_txt</th>\n",
       "    </tr>\n",
       "  </thead>\n",
       "  <tbody>\n",
       "    <tr>\n",
       "      <th>1637</th>\n",
       "      <td>A Coruña</td>\n",
       "      <td>Carnota</td>\n",
       "      <td>Carnota</td>\n",
       "      <td>Carnota (Carnota)</td>\n",
       "      <td>5600</td>\n",
       "      <td>5.600 metros</td>\n",
       "    </tr>\n",
       "    <tr>\n",
       "      <th>537</th>\n",
       "      <td>A Coruña</td>\n",
       "      <td>Carballo</td>\n",
       "      <td>Baldaio</td>\n",
       "      <td>Carballo (Baldaio)</td>\n",
       "      <td>4000</td>\n",
       "      <td>4.000 metros</td>\n",
       "    </tr>\n",
       "    <tr>\n",
       "      <th>712</th>\n",
       "      <td>A Coruña</td>\n",
       "      <td>Valdoviño</td>\n",
       "      <td>A Frouxeira</td>\n",
       "      <td>Valdoviño (A Frouxeira)</td>\n",
       "      <td>3000</td>\n",
       "      <td>3.000 metros</td>\n",
       "    </tr>\n",
       "    <tr>\n",
       "      <th>430</th>\n",
       "      <td>A Coruña</td>\n",
       "      <td>Ribeira</td>\n",
       "      <td>Vilar</td>\n",
       "      <td>Ribeira (Vilar)</td>\n",
       "      <td>2900</td>\n",
       "      <td>2.900 metros</td>\n",
       "    </tr>\n",
       "    <tr>\n",
       "      <th>923</th>\n",
       "      <td>A Coruña</td>\n",
       "      <td>Ortigueira</td>\n",
       "      <td>Morouzos</td>\n",
       "      <td>Ortigueira (Morouzos)</td>\n",
       "      <td>2800</td>\n",
       "      <td>2.800 metros</td>\n",
       "    </tr>\n",
       "    <tr>\n",
       "      <th>28</th>\n",
       "      <td>A Coruña</td>\n",
       "      <td>Laxe</td>\n",
       "      <td>Traba</td>\n",
       "      <td>Laxe (Traba)</td>\n",
       "      <td>2650</td>\n",
       "      <td>2.650 metros</td>\n",
       "    </tr>\n",
       "    <tr>\n",
       "      <th>2040</th>\n",
       "      <td>A Coruña</td>\n",
       "      <td>Boiro</td>\n",
       "      <td>Barraña</td>\n",
       "      <td>Boiro (Barraña)</td>\n",
       "      <td>2150</td>\n",
       "      <td>2.150 metros</td>\n",
       "    </tr>\n",
       "    <tr>\n",
       "      <th>922</th>\n",
       "      <td>A Coruña</td>\n",
       "      <td>Porto do Son</td>\n",
       "      <td>Areas Longas</td>\n",
       "      <td>Porto do Son (Areas Longas)</td>\n",
       "      <td>2100</td>\n",
       "      <td>2.100 metros</td>\n",
       "    </tr>\n",
       "    <tr>\n",
       "      <th>722</th>\n",
       "      <td>A Coruña</td>\n",
       "      <td>Boiro</td>\n",
       "      <td>Carragueiros</td>\n",
       "      <td>Boiro (Carragueiros)</td>\n",
       "      <td>2000</td>\n",
       "      <td>2.000 metros</td>\n",
       "    </tr>\n",
       "    <tr>\n",
       "      <th>1636</th>\n",
       "      <td>A Coruña</td>\n",
       "      <td>Fisterra</td>\n",
       "      <td>Langosteira</td>\n",
       "      <td>Fisterra (Langosteira)</td>\n",
       "      <td>1970</td>\n",
       "      <td>1.970 metros</td>\n",
       "    </tr>\n",
       "  </tbody>\n",
       "</table>\n",
       "</div>"
      ],
      "text/plain": [
       "     nom_provincia     localidad     nom_playa              clave_nom_playa  \\\n",
       "1637      A Coruña       Carnota       Carnota            Carnota (Carnota)   \n",
       "537       A Coruña      Carballo       Baldaio           Carballo (Baldaio)   \n",
       "712       A Coruña     Valdoviño   A Frouxeira      Valdoviño (A Frouxeira)   \n",
       "430       A Coruña       Ribeira         Vilar              Ribeira (Vilar)   \n",
       "923       A Coruña    Ortigueira      Morouzos        Ortigueira (Morouzos)   \n",
       "28        A Coruña          Laxe         Traba                 Laxe (Traba)   \n",
       "2040      A Coruña         Boiro       Barraña              Boiro (Barraña)   \n",
       "922       A Coruña  Porto do Son  Areas Longas  Porto do Son (Areas Longas)   \n",
       "722       A Coruña         Boiro  Carragueiros         Boiro (Carragueiros)   \n",
       "1636      A Coruña      Fisterra   Langosteira       Fisterra (Langosteira)   \n",
       "\n",
       "      longitud  longitud_txt  \n",
       "1637      5600  5.600 metros  \n",
       "537       4000  4.000 metros  \n",
       "712       3000  3.000 metros  \n",
       "430       2900  2.900 metros  \n",
       "923       2800  2.800 metros  \n",
       "28        2650  2.650 metros  \n",
       "2040      2150  2.150 metros  \n",
       "922       2100  2.100 metros  \n",
       "722       2000  2.000 metros  \n",
       "1636      1970  1.970 metros  "
      ]
     },
     "execution_count": 19,
     "metadata": {},
     "output_type": "execute_result"
    }
   ],
   "source": [
    "df_playas_prov = df_playas [ df_playas[\"nom_provincia\"] == u\"A Coruña\" ]   # Seleccionamos del DataFrame las \n",
    "                                                                           # playas de cierta provincia\n",
    "\n",
    "\n",
    "df_playas_prov.sort_values('longitud', ascending=False)[['nom_provincia', # Orden + head\n",
    "                                                         'localidad', \n",
    "                                                         'nom_playa', \n",
    "                                                         'clave_nom_playa',\n",
    "                                                         'longitud',\n",
    "                                                         'longitud_txt']].head(10)"
   ]
  },
  {
   "cell_type": "markdown",
   "metadata": {},
   "source": [
    "### QUERY_3) Las playas de una comunidad autónoma concreta (ordenadas por longitud)"
   ]
  },
  {
   "cell_type": "markdown",
   "metadata": {},
   "source": [
    "#### 3.1) MÉTODO_1 : Lectura directa del DataFrame"
   ]
  },
  {
   "cell_type": "code",
   "execution_count": 20,
   "metadata": {
    "collapsed": false
   },
   "outputs": [
    {
     "data": {
      "text/html": [
       "<div>\n",
       "<style>\n",
       "    .dataframe thead tr:only-child th {\n",
       "        text-align: right;\n",
       "    }\n",
       "\n",
       "    .dataframe thead th {\n",
       "        text-align: left;\n",
       "    }\n",
       "\n",
       "    .dataframe tbody tr th {\n",
       "        vertical-align: top;\n",
       "    }\n",
       "</style>\n",
       "<table border=\"1\" class=\"dataframe\">\n",
       "  <thead>\n",
       "    <tr style=\"text-align: right;\">\n",
       "      <th></th>\n",
       "      <th>comunidad</th>\n",
       "      <th>nom_provincia</th>\n",
       "      <th>localidad</th>\n",
       "      <th>nom_playa</th>\n",
       "      <th>clave_nom_playa</th>\n",
       "      <th>longitud</th>\n",
       "      <th>longitud_txt</th>\n",
       "    </tr>\n",
       "  </thead>\n",
       "  <tbody>\n",
       "    <tr>\n",
       "      <th>1637</th>\n",
       "      <td>Galicia</td>\n",
       "      <td>A Coruña</td>\n",
       "      <td>Carnota</td>\n",
       "      <td>Carnota</td>\n",
       "      <td>Carnota (Carnota)</td>\n",
       "      <td>5600</td>\n",
       "      <td>5.600 metros</td>\n",
       "    </tr>\n",
       "    <tr>\n",
       "      <th>537</th>\n",
       "      <td>Galicia</td>\n",
       "      <td>A Coruña</td>\n",
       "      <td>Carballo</td>\n",
       "      <td>Baldaio</td>\n",
       "      <td>Carballo (Baldaio)</td>\n",
       "      <td>4000</td>\n",
       "      <td>4.000 metros</td>\n",
       "    </tr>\n",
       "    <tr>\n",
       "      <th>712</th>\n",
       "      <td>Galicia</td>\n",
       "      <td>A Coruña</td>\n",
       "      <td>Valdoviño</td>\n",
       "      <td>A Frouxeira</td>\n",
       "      <td>Valdoviño (A Frouxeira)</td>\n",
       "      <td>3000</td>\n",
       "      <td>3.000 metros</td>\n",
       "    </tr>\n",
       "    <tr>\n",
       "      <th>430</th>\n",
       "      <td>Galicia</td>\n",
       "      <td>A Coruña</td>\n",
       "      <td>Ribeira</td>\n",
       "      <td>Vilar</td>\n",
       "      <td>Ribeira (Vilar)</td>\n",
       "      <td>2900</td>\n",
       "      <td>2.900 metros</td>\n",
       "    </tr>\n",
       "    <tr>\n",
       "      <th>923</th>\n",
       "      <td>Galicia</td>\n",
       "      <td>A Coruña</td>\n",
       "      <td>Ortigueira</td>\n",
       "      <td>Morouzos</td>\n",
       "      <td>Ortigueira (Morouzos)</td>\n",
       "      <td>2800</td>\n",
       "      <td>2.800 metros</td>\n",
       "    </tr>\n",
       "    <tr>\n",
       "      <th>28</th>\n",
       "      <td>Galicia</td>\n",
       "      <td>A Coruña</td>\n",
       "      <td>Laxe</td>\n",
       "      <td>Traba</td>\n",
       "      <td>Laxe (Traba)</td>\n",
       "      <td>2650</td>\n",
       "      <td>2.650 metros</td>\n",
       "    </tr>\n",
       "    <tr>\n",
       "      <th>1062</th>\n",
       "      <td>Galicia</td>\n",
       "      <td>Pontevedra</td>\n",
       "      <td>O Grove</td>\n",
       "      <td>A Lanzada</td>\n",
       "      <td>O Grove (A Lanzada)</td>\n",
       "      <td>2400</td>\n",
       "      <td>2.400 metros</td>\n",
       "    </tr>\n",
       "    <tr>\n",
       "      <th>1463</th>\n",
       "      <td>Galicia</td>\n",
       "      <td>Pontevedra</td>\n",
       "      <td>Redondela</td>\n",
       "      <td>Da Punta</td>\n",
       "      <td>Redondela (Da Punta)</td>\n",
       "      <td>2400</td>\n",
       "      <td>2.400 metros</td>\n",
       "    </tr>\n",
       "    <tr>\n",
       "      <th>2040</th>\n",
       "      <td>Galicia</td>\n",
       "      <td>A Coruña</td>\n",
       "      <td>Boiro</td>\n",
       "      <td>Barraña</td>\n",
       "      <td>Boiro (Barraña)</td>\n",
       "      <td>2150</td>\n",
       "      <td>2.150 metros</td>\n",
       "    </tr>\n",
       "    <tr>\n",
       "      <th>922</th>\n",
       "      <td>Galicia</td>\n",
       "      <td>A Coruña</td>\n",
       "      <td>Porto do Son</td>\n",
       "      <td>Areas Longas</td>\n",
       "      <td>Porto do Son (Areas Longas)</td>\n",
       "      <td>2100</td>\n",
       "      <td>2.100 metros</td>\n",
       "    </tr>\n",
       "  </tbody>\n",
       "</table>\n",
       "</div>"
      ],
      "text/plain": [
       "     comunidad nom_provincia     localidad     nom_playa  \\\n",
       "1637   Galicia      A Coruña       Carnota       Carnota   \n",
       "537    Galicia      A Coruña      Carballo       Baldaio   \n",
       "712    Galicia      A Coruña     Valdoviño   A Frouxeira   \n",
       "430    Galicia      A Coruña       Ribeira         Vilar   \n",
       "923    Galicia      A Coruña    Ortigueira      Morouzos   \n",
       "28     Galicia      A Coruña          Laxe         Traba   \n",
       "1062   Galicia    Pontevedra       O Grove     A Lanzada   \n",
       "1463   Galicia    Pontevedra     Redondela      Da Punta   \n",
       "2040   Galicia      A Coruña         Boiro       Barraña   \n",
       "922    Galicia      A Coruña  Porto do Son  Areas Longas   \n",
       "\n",
       "                  clave_nom_playa  longitud  longitud_txt  \n",
       "1637            Carnota (Carnota)      5600  5.600 metros  \n",
       "537            Carballo (Baldaio)      4000  4.000 metros  \n",
       "712       Valdoviño (A Frouxeira)      3000  3.000 metros  \n",
       "430               Ribeira (Vilar)      2900  2.900 metros  \n",
       "923         Ortigueira (Morouzos)      2800  2.800 metros  \n",
       "28                   Laxe (Traba)      2650  2.650 metros  \n",
       "1062          O Grove (A Lanzada)      2400  2.400 metros  \n",
       "1463         Redondela (Da Punta)      2400  2.400 metros  \n",
       "2040              Boiro (Barraña)      2150  2.150 metros  \n",
       "922   Porto do Son (Areas Longas)      2100  2.100 metros  "
      ]
     },
     "execution_count": 20,
     "metadata": {},
     "output_type": "execute_result"
    }
   ],
   "source": [
    "df_playas_comu = df_playas [ df_playas[\"comunidad\"] == \"Galicia\" ]   # Seleccionamos del DataFrame las \n",
    "                                                                     # playas de cierta Comunidad Autónoa\n",
    "\n",
    "\n",
    "df_playas_comu.sort_values('longitud', ascending=False)[['comunidad', # Orden + head\n",
    "                                                         'nom_provincia', \n",
    "                                                         'localidad', \n",
    "                                                         'nom_playa', \n",
    "                                                         'clave_nom_playa',\n",
    "                                                         'longitud',\n",
    "                                                         'longitud_txt']].head(10)"
   ]
  },
  {
   "cell_type": "markdown",
   "metadata": {},
   "source": [
    "#### 3.2) MÉTODO_2 : Lectura del DataFrame a través de un ÍNDICE"
   ]
  },
  {
   "cell_type": "markdown",
   "metadata": {},
   "source": [
    "Leemos en un DataFrame (con ayuda del **ÍNDICE**) sólo las tuplas (del bucket de PLAYAS) correspondientes a la **comunidad autónoma** especificada."
   ]
  },
  {
   "cell_type": "code",
   "execution_count": 21,
   "metadata": {
    "collapsed": false
   },
   "outputs": [],
   "source": [
    "rows = []\n",
    "indices_galicia = bucket_playas.stream_index(\"idx_comunidad_bin\", hash_string(\"Galicia\"))\n",
    "for lista_de_indices in indices_galicia.results:\n",
    "    for i in lista_de_indices:\n",
    "        rows.append(bucket_playas.get(i).data)\n",
    "    \n",
    "df_playas_Galicia = json_to_pandas(rows)"
   ]
  },
  {
   "cell_type": "markdown",
   "metadata": {},
   "source": [
    "Verificamos que sólo se han seleccionado en el DataFrame las tuplas de la **comunidad autónoma** especificada (sin orden)."
   ]
  },
  {
   "cell_type": "code",
   "execution_count": 22,
   "metadata": {
    "collapsed": false
   },
   "outputs": [
    {
     "data": {
      "text/html": [
       "<div>\n",
       "<style>\n",
       "    .dataframe thead tr:only-child th {\n",
       "        text-align: right;\n",
       "    }\n",
       "\n",
       "    .dataframe thead th {\n",
       "        text-align: left;\n",
       "    }\n",
       "\n",
       "    .dataframe tbody tr th {\n",
       "        vertical-align: top;\n",
       "    }\n",
       "</style>\n",
       "<table border=\"1\" class=\"dataframe\">\n",
       "  <thead>\n",
       "    <tr style=\"text-align: right;\">\n",
       "      <th></th>\n",
       "      <th>comunidad</th>\n",
       "      <th>nom_provincia</th>\n",
       "      <th>localidad</th>\n",
       "      <th>nom_playa</th>\n",
       "      <th>clave_nom_playa</th>\n",
       "      <th>longitud</th>\n",
       "      <th>longitud_txt</th>\n",
       "    </tr>\n",
       "  </thead>\n",
       "  <tbody>\n",
       "    <tr>\n",
       "      <th>0</th>\n",
       "      <td>Galicia</td>\n",
       "      <td>Lugo</td>\n",
       "      <td>Viveiro</td>\n",
       "      <td>Sacido</td>\n",
       "      <td>Viveiro (Sacido)</td>\n",
       "      <td>130</td>\n",
       "      <td>130 metros</td>\n",
       "    </tr>\n",
       "    <tr>\n",
       "      <th>1</th>\n",
       "      <td>Galicia</td>\n",
       "      <td>Lugo</td>\n",
       "      <td>Foz</td>\n",
       "      <td>Llás</td>\n",
       "      <td>Foz (Llás)</td>\n",
       "      <td>770</td>\n",
       "      <td>770 metros</td>\n",
       "    </tr>\n",
       "    <tr>\n",
       "      <th>2</th>\n",
       "      <td>Galicia</td>\n",
       "      <td>A Coruña</td>\n",
       "      <td>Ribeira</td>\n",
       "      <td>Gavoteira de Fontan</td>\n",
       "      <td>Ribeira (Gavoteira de Fontan)</td>\n",
       "      <td>300</td>\n",
       "      <td>300 metros</td>\n",
       "    </tr>\n",
       "    <tr>\n",
       "      <th>3</th>\n",
       "      <td>Galicia</td>\n",
       "      <td>A Coruña</td>\n",
       "      <td>Ribeira</td>\n",
       "      <td>Touro</td>\n",
       "      <td>Ribeira (Touro)</td>\n",
       "      <td>10</td>\n",
       "      <td>10 metros</td>\n",
       "    </tr>\n",
       "    <tr>\n",
       "      <th>4</th>\n",
       "      <td>Galicia</td>\n",
       "      <td>A Coruña</td>\n",
       "      <td>Ribeira</td>\n",
       "      <td>Tasca</td>\n",
       "      <td>Ribeira (Tasca)</td>\n",
       "      <td>400</td>\n",
       "      <td>400 metros</td>\n",
       "    </tr>\n",
       "    <tr>\n",
       "      <th>5</th>\n",
       "      <td>Galicia</td>\n",
       "      <td>A Coruña</td>\n",
       "      <td>Porto do Son</td>\n",
       "      <td>Herbas Pitas</td>\n",
       "      <td>Porto do Son (Herbas Pitas)</td>\n",
       "      <td>200</td>\n",
       "      <td>200 metros</td>\n",
       "    </tr>\n",
       "    <tr>\n",
       "      <th>6</th>\n",
       "      <td>Galicia</td>\n",
       "      <td>A Coruña</td>\n",
       "      <td>Ponteceso</td>\n",
       "      <td>Barra do Medio</td>\n",
       "      <td>Ponteceso (Barra do Medio)</td>\n",
       "      <td>1500</td>\n",
       "      <td>1500 metros</td>\n",
       "    </tr>\n",
       "    <tr>\n",
       "      <th>7</th>\n",
       "      <td>Galicia</td>\n",
       "      <td>A Coruña</td>\n",
       "      <td>Ponteceso</td>\n",
       "      <td>O Osmo</td>\n",
       "      <td>Ponteceso (O Osmo)</td>\n",
       "      <td>100</td>\n",
       "      <td>100 metros</td>\n",
       "    </tr>\n",
       "    <tr>\n",
       "      <th>8</th>\n",
       "      <td>Galicia</td>\n",
       "      <td>A Coruña</td>\n",
       "      <td>Ponteceso</td>\n",
       "      <td>A Barda</td>\n",
       "      <td>Ponteceso (A Barda)</td>\n",
       "      <td>50</td>\n",
       "      <td>50 metros</td>\n",
       "    </tr>\n",
       "    <tr>\n",
       "      <th>9</th>\n",
       "      <td>Galicia</td>\n",
       "      <td>A Coruña</td>\n",
       "      <td>Oleiros</td>\n",
       "      <td>As Margaritas</td>\n",
       "      <td>Oleiros (As Margaritas)</td>\n",
       "      <td>120</td>\n",
       "      <td>120 metros</td>\n",
       "    </tr>\n",
       "  </tbody>\n",
       "</table>\n",
       "</div>"
      ],
      "text/plain": [
       "  comunidad nom_provincia     localidad            nom_playa  \\\n",
       "0   Galicia          Lugo       Viveiro               Sacido   \n",
       "1   Galicia          Lugo           Foz                 Llás   \n",
       "2   Galicia      A Coruña       Ribeira  Gavoteira de Fontan   \n",
       "3   Galicia      A Coruña       Ribeira                Touro   \n",
       "4   Galicia      A Coruña       Ribeira                Tasca   \n",
       "5   Galicia      A Coruña  Porto do Son         Herbas Pitas   \n",
       "6   Galicia      A Coruña     Ponteceso       Barra do Medio   \n",
       "7   Galicia      A Coruña     Ponteceso               O Osmo   \n",
       "8   Galicia      A Coruña     Ponteceso              A Barda   \n",
       "9   Galicia      A Coruña       Oleiros        As Margaritas   \n",
       "\n",
       "                 clave_nom_playa  longitud longitud_txt  \n",
       "0               Viveiro (Sacido)       130   130 metros  \n",
       "1                     Foz (Llás)       770   770 metros  \n",
       "2  Ribeira (Gavoteira de Fontan)       300   300 metros  \n",
       "3                Ribeira (Touro)        10    10 metros  \n",
       "4                Ribeira (Tasca)       400   400 metros  \n",
       "5    Porto do Son (Herbas Pitas)       200   200 metros  \n",
       "6     Ponteceso (Barra do Medio)      1500  1500 metros  \n",
       "7             Ponteceso (O Osmo)       100   100 metros  \n",
       "8            Ponteceso (A Barda)        50    50 metros  \n",
       "9        Oleiros (As Margaritas)       120   120 metros  "
      ]
     },
     "execution_count": 22,
     "metadata": {},
     "output_type": "execute_result"
    }
   ],
   "source": [
    "df_playas_Galicia[['comunidad',\n",
    "                   'nom_provincia', \n",
    "                   'localidad', \n",
    "                   'nom_playa', \n",
    "                   'clave_nom_playa',\n",
    "                   'longitud',\n",
    "                   'longitud_txt']].head(10)"
   ]
  },
  {
   "cell_type": "markdown",
   "metadata": {},
   "source": [
    "Para obtener las playas de una **comunidad autónoma** en concreto si podemos utilizar el índice que habíamos creado Ad-hoc, pero para la **ordenación** necesiatmos hacerla en Pandas."
   ]
  },
  {
   "cell_type": "code",
   "execution_count": 23,
   "metadata": {
    "collapsed": false
   },
   "outputs": [
    {
     "data": {
      "text/html": [
       "<div>\n",
       "<style>\n",
       "    .dataframe thead tr:only-child th {\n",
       "        text-align: right;\n",
       "    }\n",
       "\n",
       "    .dataframe thead th {\n",
       "        text-align: left;\n",
       "    }\n",
       "\n",
       "    .dataframe tbody tr th {\n",
       "        vertical-align: top;\n",
       "    }\n",
       "</style>\n",
       "<table border=\"1\" class=\"dataframe\">\n",
       "  <thead>\n",
       "    <tr style=\"text-align: right;\">\n",
       "      <th></th>\n",
       "      <th>comunidad</th>\n",
       "      <th>nom_provincia</th>\n",
       "      <th>localidad</th>\n",
       "      <th>nom_playa</th>\n",
       "      <th>clave_nom_playa</th>\n",
       "      <th>longitud</th>\n",
       "      <th>longitud_txt</th>\n",
       "    </tr>\n",
       "  </thead>\n",
       "  <tbody>\n",
       "    <tr>\n",
       "      <th>476</th>\n",
       "      <td>Galicia</td>\n",
       "      <td>A Coruña</td>\n",
       "      <td>Carnota</td>\n",
       "      <td>Carnota</td>\n",
       "      <td>Carnota (Carnota)</td>\n",
       "      <td>5600</td>\n",
       "      <td>5.600 metros</td>\n",
       "    </tr>\n",
       "    <tr>\n",
       "      <th>31</th>\n",
       "      <td>Galicia</td>\n",
       "      <td>A Coruña</td>\n",
       "      <td>Carballo</td>\n",
       "      <td>Baldaio</td>\n",
       "      <td>Carballo (Baldaio)</td>\n",
       "      <td>4000</td>\n",
       "      <td>4.000 metros</td>\n",
       "    </tr>\n",
       "    <tr>\n",
       "      <th>298</th>\n",
       "      <td>Galicia</td>\n",
       "      <td>A Coruña</td>\n",
       "      <td>Valdoviño</td>\n",
       "      <td>A Frouxeira</td>\n",
       "      <td>Valdoviño (A Frouxeira)</td>\n",
       "      <td>3000</td>\n",
       "      <td>3.000 metros</td>\n",
       "    </tr>\n",
       "    <tr>\n",
       "      <th>61</th>\n",
       "      <td>Galicia</td>\n",
       "      <td>A Coruña</td>\n",
       "      <td>Ribeira</td>\n",
       "      <td>Vilar</td>\n",
       "      <td>Ribeira (Vilar)</td>\n",
       "      <td>2900</td>\n",
       "      <td>2.900 metros</td>\n",
       "    </tr>\n",
       "    <tr>\n",
       "      <th>387</th>\n",
       "      <td>Galicia</td>\n",
       "      <td>A Coruña</td>\n",
       "      <td>Ortigueira</td>\n",
       "      <td>Morouzos</td>\n",
       "      <td>Ortigueira (Morouzos)</td>\n",
       "      <td>2800</td>\n",
       "      <td>2.800 metros</td>\n",
       "    </tr>\n",
       "    <tr>\n",
       "      <th>141</th>\n",
       "      <td>Galicia</td>\n",
       "      <td>A Coruña</td>\n",
       "      <td>Laxe</td>\n",
       "      <td>Traba</td>\n",
       "      <td>Laxe (Traba)</td>\n",
       "      <td>2650</td>\n",
       "      <td>2.650 metros</td>\n",
       "    </tr>\n",
       "    <tr>\n",
       "      <th>654</th>\n",
       "      <td>Galicia</td>\n",
       "      <td>Pontevedra</td>\n",
       "      <td>Redondela</td>\n",
       "      <td>Da Punta</td>\n",
       "      <td>Redondela (Da Punta)</td>\n",
       "      <td>2400</td>\n",
       "      <td>2.400 metros</td>\n",
       "    </tr>\n",
       "    <tr>\n",
       "      <th>575</th>\n",
       "      <td>Galicia</td>\n",
       "      <td>Pontevedra</td>\n",
       "      <td>O Grove</td>\n",
       "      <td>A Lanzada</td>\n",
       "      <td>O Grove (A Lanzada)</td>\n",
       "      <td>2400</td>\n",
       "      <td>2.400 metros</td>\n",
       "    </tr>\n",
       "    <tr>\n",
       "      <th>835</th>\n",
       "      <td>Galicia</td>\n",
       "      <td>A Coruña</td>\n",
       "      <td>Boiro</td>\n",
       "      <td>Barraña</td>\n",
       "      <td>Boiro (Barraña)</td>\n",
       "      <td>2150</td>\n",
       "      <td>2.150 metros</td>\n",
       "    </tr>\n",
       "    <tr>\n",
       "      <th>386</th>\n",
       "      <td>Galicia</td>\n",
       "      <td>A Coruña</td>\n",
       "      <td>Porto do Son</td>\n",
       "      <td>Areas Longas</td>\n",
       "      <td>Porto do Son (Areas Longas)</td>\n",
       "      <td>2100</td>\n",
       "      <td>2.100 metros</td>\n",
       "    </tr>\n",
       "  </tbody>\n",
       "</table>\n",
       "</div>"
      ],
      "text/plain": [
       "    comunidad nom_provincia     localidad     nom_playa  \\\n",
       "476   Galicia      A Coruña       Carnota       Carnota   \n",
       "31    Galicia      A Coruña      Carballo       Baldaio   \n",
       "298   Galicia      A Coruña     Valdoviño   A Frouxeira   \n",
       "61    Galicia      A Coruña       Ribeira         Vilar   \n",
       "387   Galicia      A Coruña    Ortigueira      Morouzos   \n",
       "141   Galicia      A Coruña          Laxe         Traba   \n",
       "654   Galicia    Pontevedra     Redondela      Da Punta   \n",
       "575   Galicia    Pontevedra       O Grove     A Lanzada   \n",
       "835   Galicia      A Coruña         Boiro       Barraña   \n",
       "386   Galicia      A Coruña  Porto do Son  Areas Longas   \n",
       "\n",
       "                 clave_nom_playa  longitud  longitud_txt  \n",
       "476            Carnota (Carnota)      5600  5.600 metros  \n",
       "31            Carballo (Baldaio)      4000  4.000 metros  \n",
       "298      Valdoviño (A Frouxeira)      3000  3.000 metros  \n",
       "61               Ribeira (Vilar)      2900  2.900 metros  \n",
       "387        Ortigueira (Morouzos)      2800  2.800 metros  \n",
       "141                 Laxe (Traba)      2650  2.650 metros  \n",
       "654         Redondela (Da Punta)      2400  2.400 metros  \n",
       "575          O Grove (A Lanzada)      2400  2.400 metros  \n",
       "835              Boiro (Barraña)      2150  2.150 metros  \n",
       "386  Porto do Son (Areas Longas)      2100  2.100 metros  "
      ]
     },
     "execution_count": 23,
     "metadata": {},
     "output_type": "execute_result"
    }
   ],
   "source": [
    "df_playas_Galicia.sort_values('longitud', ascending=False)[['comunidad', # Orden + head\n",
    "                                                            'nom_provincia', \n",
    "                                                            'localidad', \n",
    "                                                            'nom_playa', \n",
    "                                                            'clave_nom_playa',\n",
    "                                                            'longitud',\n",
    "                                                            'longitud_txt']].head(10)"
   ]
  },
  {
   "cell_type": "markdown",
   "metadata": {},
   "source": [
    "### QUERY_4) Las 10 provincias que más metros de playa tienen"
   ]
  },
  {
   "cell_type": "markdown",
   "metadata": {},
   "source": [
    "La información agregada está en un **MAPA**, por lo que tenemos que procesarla y convertirla a formato JSON."
   ]
  },
  {
   "cell_type": "code",
   "execution_count": 24,
   "metadata": {
    "collapsed": false
   },
   "outputs": [],
   "source": [
    "rows = []\n",
    "for lista_de_claves in bucket_acum_long_prov.stream_keys():\n",
    "    for i in lista_de_claves:\n",
    "        map_var_provincias = bucket_acum_long_prov.get(i)\n",
    "        rows.append({'nombre_provincia'       : map_var_provincias.registers['map_nombre_prov'].value,\n",
    "                     'metros_playa_provincia' : map_var_provincias.counters['map_metros_playa_prov'].value\n",
    "                    }\n",
    "                   )\n",
    "        \n",
    "# Convertimos el objeto json en un objeto pandas \n",
    "df_map_provincias = json_to_pandas(rows)"
   ]
  },
  {
   "cell_type": "markdown",
   "metadata": {},
   "source": [
    "Fácil si disponemos de un agregado. Utilizamos Pandas para ordenar la información ..,"
   ]
  },
  {
   "cell_type": "code",
   "execution_count": 25,
   "metadata": {
    "collapsed": false
   },
   "outputs": [
    {
     "data": {
      "text/html": [
       "<div>\n",
       "<style>\n",
       "    .dataframe thead tr:only-child th {\n",
       "        text-align: right;\n",
       "    }\n",
       "\n",
       "    .dataframe thead th {\n",
       "        text-align: left;\n",
       "    }\n",
       "\n",
       "    .dataframe tbody tr th {\n",
       "        vertical-align: top;\n",
       "    }\n",
       "</style>\n",
       "<table border=\"1\" class=\"dataframe\">\n",
       "  <thead>\n",
       "    <tr style=\"text-align: right;\">\n",
       "      <th></th>\n",
       "      <th>metros_de_playa</th>\n",
       "      <th>provincia</th>\n",
       "    </tr>\n",
       "  </thead>\n",
       "  <tbody>\n",
       "    <tr>\n",
       "      <th>15</th>\n",
       "      <td>157040</td>\n",
       "      <td>A Coruña</td>\n",
       "    </tr>\n",
       "    <tr>\n",
       "      <th>13</th>\n",
       "      <td>138473</td>\n",
       "      <td>Cádiz</td>\n",
       "    </tr>\n",
       "    <tr>\n",
       "      <th>19</th>\n",
       "      <td>137337</td>\n",
       "      <td>Las Palmas</td>\n",
       "    </tr>\n",
       "    <tr>\n",
       "      <th>23</th>\n",
       "      <td>136720</td>\n",
       "      <td>Málaga</td>\n",
       "    </tr>\n",
       "    <tr>\n",
       "      <th>0</th>\n",
       "      <td>120765</td>\n",
       "      <td>Almería</td>\n",
       "    </tr>\n",
       "    <tr>\n",
       "      <th>17</th>\n",
       "      <td>118148</td>\n",
       "      <td>Alicante/Alacant</td>\n",
       "    </tr>\n",
       "    <tr>\n",
       "      <th>16</th>\n",
       "      <td>117767</td>\n",
       "      <td>Illes Balears</td>\n",
       "    </tr>\n",
       "    <tr>\n",
       "      <th>10</th>\n",
       "      <td>113720</td>\n",
       "      <td>Huelva</td>\n",
       "    </tr>\n",
       "    <tr>\n",
       "      <th>6</th>\n",
       "      <td>102431</td>\n",
       "      <td>Murcia</td>\n",
       "    </tr>\n",
       "    <tr>\n",
       "      <th>8</th>\n",
       "      <td>99015</td>\n",
       "      <td>Tarragona</td>\n",
       "    </tr>\n",
       "  </tbody>\n",
       "</table>\n",
       "</div>"
      ],
      "text/plain": [
       "    metros_de_playa         provincia\n",
       "15           157040          A Coruña\n",
       "13           138473             Cádiz\n",
       "19           137337        Las Palmas\n",
       "23           136720            Málaga\n",
       "0            120765           Almería\n",
       "17           118148  Alicante/Alacant\n",
       "16           117767     Illes Balears\n",
       "10           113720            Huelva\n",
       "6            102431            Murcia\n",
       "8             99015         Tarragona"
      ]
     },
     "execution_count": 25,
     "metadata": {},
     "output_type": "execute_result"
    }
   ],
   "source": [
    "df_map_provincias = df_map_provincias.sort_values('metros_playa_provincia', ascending=False).head(10)\n",
    "\n",
    "df_map_provincias.rename(columns = {\"nombre_provincia\"       : \"provincia\",\n",
    "                                    \"metros_playa_provincia\" : \"metros_de_playa\"})"
   ]
  },
  {
   "cell_type": "markdown",
   "metadata": {},
   "source": [
    "### QUERY_5) Metros de playa de una cierta Comunidad Autónoma agrupados por provincia"
   ]
  },
  {
   "cell_type": "code",
   "execution_count": 26,
   "metadata": {
    "collapsed": false
   },
   "outputs": [],
   "source": [
    "df_playas_comunidad = df_playas [ df_playas[\"comunidad\"] == \"Galicia\" ]   # Seleccionamos del DataFrame las \n",
    "                                                                          # playas de una cierta Comunidad Autónoma"
   ]
  },
  {
   "cell_type": "code",
   "execution_count": 27,
   "metadata": {
    "collapsed": false
   },
   "outputs": [
    {
     "data": {
      "text/html": [
       "<div>\n",
       "<style>\n",
       "    .dataframe thead tr:only-child th {\n",
       "        text-align: right;\n",
       "    }\n",
       "\n",
       "    .dataframe thead th {\n",
       "        text-align: left;\n",
       "    }\n",
       "\n",
       "    .dataframe tbody tr th {\n",
       "        vertical-align: top;\n",
       "    }\n",
       "</style>\n",
       "<table border=\"1\" class=\"dataframe\">\n",
       "  <thead>\n",
       "    <tr style=\"text-align: right;\">\n",
       "      <th></th>\n",
       "      <th></th>\n",
       "      <th>metros_de_playa</th>\n",
       "    </tr>\n",
       "    <tr>\n",
       "      <th>comunidad</th>\n",
       "      <th>nom_provincia</th>\n",
       "      <th></th>\n",
       "    </tr>\n",
       "  </thead>\n",
       "  <tbody>\n",
       "    <tr>\n",
       "      <th rowspan=\"3\" valign=\"top\">Galicia</th>\n",
       "      <th>A Coruña</th>\n",
       "      <td>157040</td>\n",
       "    </tr>\n",
       "    <tr>\n",
       "      <th>Pontevedra</th>\n",
       "      <td>93552</td>\n",
       "    </tr>\n",
       "    <tr>\n",
       "      <th>Lugo</th>\n",
       "      <td>27217</td>\n",
       "    </tr>\n",
       "  </tbody>\n",
       "</table>\n",
       "</div>"
      ],
      "text/plain": [
       "                         metros_de_playa\n",
       "comunidad nom_provincia                 \n",
       "Galicia   A Coruña                157040\n",
       "          Pontevedra               93552\n",
       "          Lugo                     27217"
      ]
     },
     "execution_count": 27,
     "metadata": {},
     "output_type": "execute_result"
    }
   ],
   "source": [
    "df = df_playas_comunidad.groupby([\"comunidad\", \"nom_provincia\"]) [[\"longitud\"]].sum()\n",
    "df = df.sort_values('longitud', ascending = False)\n",
    "df = df.rename(columns = {\"longitud\" : \"metros_de_playa\"})\n",
    "df"
   ]
  },
  {
   "cell_type": "markdown",
   "metadata": {},
   "source": [
    "### QUERY_6) ¿ Qué Comunidad tiene más metros de playa ?"
   ]
  },
  {
   "cell_type": "code",
   "execution_count": 28,
   "metadata": {
    "collapsed": false
   },
   "outputs": [
    {
     "data": {
      "text/html": [
       "<div>\n",
       "<style>\n",
       "    .dataframe thead tr:only-child th {\n",
       "        text-align: right;\n",
       "    }\n",
       "\n",
       "    .dataframe thead th {\n",
       "        text-align: left;\n",
       "    }\n",
       "\n",
       "    .dataframe tbody tr th {\n",
       "        vertical-align: top;\n",
       "    }\n",
       "</style>\n",
       "<table border=\"1\" class=\"dataframe\">\n",
       "  <thead>\n",
       "    <tr style=\"text-align: right;\">\n",
       "      <th></th>\n",
       "      <th>metros_de_playa</th>\n",
       "    </tr>\n",
       "    <tr>\n",
       "      <th>comunidad</th>\n",
       "      <th></th>\n",
       "    </tr>\n",
       "  </thead>\n",
       "  <tbody>\n",
       "    <tr>\n",
       "      <th>Andalucía</th>\n",
       "      <td>545459</td>\n",
       "    </tr>\n",
       "    <tr>\n",
       "      <th>Galicia</th>\n",
       "      <td>277809</td>\n",
       "    </tr>\n",
       "    <tr>\n",
       "      <th>Comunitat Valenciana</th>\n",
       "      <td>276872</td>\n",
       "    </tr>\n",
       "    <tr>\n",
       "      <th>Cataluña/Catalunya</th>\n",
       "      <td>237274</td>\n",
       "    </tr>\n",
       "    <tr>\n",
       "      <th>Canarias</th>\n",
       "      <td>209374</td>\n",
       "    </tr>\n",
       "    <tr>\n",
       "      <th>Illes Balears</th>\n",
       "      <td>117767</td>\n",
       "    </tr>\n",
       "    <tr>\n",
       "      <th>Murcia, Región de</th>\n",
       "      <td>102431</td>\n",
       "    </tr>\n",
       "    <tr>\n",
       "      <th>Asturias, Principado de</th>\n",
       "      <td>70428</td>\n",
       "    </tr>\n",
       "    <tr>\n",
       "      <th>Cantabria</th>\n",
       "      <td>49880</td>\n",
       "    </tr>\n",
       "    <tr>\n",
       "      <th>País Vasco/Euskadi</th>\n",
       "      <td>30715</td>\n",
       "    </tr>\n",
       "    <tr>\n",
       "      <th>Ceuta</th>\n",
       "      <td>5240</td>\n",
       "    </tr>\n",
       "    <tr>\n",
       "      <th>Melilla</th>\n",
       "      <td>2730</td>\n",
       "    </tr>\n",
       "  </tbody>\n",
       "</table>\n",
       "</div>"
      ],
      "text/plain": [
       "                         metros_de_playa\n",
       "comunidad                               \n",
       "Andalucía                         545459\n",
       "Galicia                           277809\n",
       "Comunitat Valenciana              276872\n",
       "Cataluña/Catalunya                237274\n",
       "Canarias                          209374\n",
       "Illes Balears                     117767\n",
       "Murcia, Región de                 102431\n",
       "Asturias, Principado de            70428\n",
       "Cantabria                          49880\n",
       "País Vasco/Euskadi                 30715\n",
       "Ceuta                               5240\n",
       "Melilla                             2730"
      ]
     },
     "execution_count": 28,
     "metadata": {},
     "output_type": "execute_result"
    }
   ],
   "source": [
    "df = df_playas.groupby([\"comunidad\"]) [[\"longitud\"]].sum()\n",
    "\n",
    "df = df.sort_values('longitud', ascending = False)\n",
    "\n",
    "df.rename(columns = {\"longitud\" : \"metros_de_playa\"})"
   ]
  },
  {
   "cell_type": "markdown",
   "metadata": {},
   "source": [
    "### QUERY_7) ¿ Qué provincia tiene más playas ... ?"
   ]
  },
  {
   "cell_type": "markdown",
   "metadata": {},
   "source": [
    "#### QUERY_7.1) ¿ Qué provincia tiene más playas ... en número ?"
   ]
  },
  {
   "cell_type": "code",
   "execution_count": 29,
   "metadata": {
    "collapsed": false
   },
   "outputs": [
    {
     "data": {
      "text/plain": [
       "pandas.core.series.Series"
      ]
     },
     "execution_count": 29,
     "metadata": {},
     "output_type": "execute_result"
    }
   ],
   "source": [
    "res = df_playas.groupby([\"nom_provincia\"]).cod_playa.nunique()\n",
    "type(res)"
   ]
  },
  {
   "cell_type": "code",
   "execution_count": 30,
   "metadata": {
    "collapsed": false
   },
   "outputs": [
    {
     "data": {
      "text/plain": [
       "nom_provincia\n",
       "A Coruña                  410\n",
       "Pontevedra                370\n",
       "Illes Balears             346\n",
       "Las Palmas                322\n",
       "Santa Cruz de Tenerife    257\n",
       "Name: cod_playa, dtype: int64"
      ]
     },
     "execution_count": 30,
     "metadata": {},
     "output_type": "execute_result"
    }
   ],
   "source": [
    "res.sort_values(ascending=False).head(5)"
   ]
  },
  {
   "cell_type": "code",
   "execution_count": 31,
   "metadata": {
    "collapsed": false
   },
   "outputs": [
    {
     "data": {
      "text/html": [
       "<div>\n",
       "<style>\n",
       "    .dataframe thead tr:only-child th {\n",
       "        text-align: right;\n",
       "    }\n",
       "\n",
       "    .dataframe thead th {\n",
       "        text-align: left;\n",
       "    }\n",
       "\n",
       "    .dataframe tbody tr th {\n",
       "        vertical-align: top;\n",
       "    }\n",
       "</style>\n",
       "<table border=\"1\" class=\"dataframe\">\n",
       "  <thead>\n",
       "    <tr style=\"text-align: right;\">\n",
       "      <th></th>\n",
       "      <th>num_playas</th>\n",
       "    </tr>\n",
       "    <tr>\n",
       "      <th>nom_provincia</th>\n",
       "      <th></th>\n",
       "    </tr>\n",
       "  </thead>\n",
       "  <tbody>\n",
       "    <tr>\n",
       "      <th>A Coruña</th>\n",
       "      <td>410</td>\n",
       "    </tr>\n",
       "    <tr>\n",
       "      <th>Pontevedra</th>\n",
       "      <td>370</td>\n",
       "    </tr>\n",
       "    <tr>\n",
       "      <th>Illes Balears</th>\n",
       "      <td>346</td>\n",
       "    </tr>\n",
       "    <tr>\n",
       "      <th>Las Palmas</th>\n",
       "      <td>322</td>\n",
       "    </tr>\n",
       "    <tr>\n",
       "      <th>Santa Cruz de Tenerife</th>\n",
       "      <td>257</td>\n",
       "    </tr>\n",
       "    <tr>\n",
       "      <th>Asturias</th>\n",
       "      <td>205</td>\n",
       "    </tr>\n",
       "    <tr>\n",
       "      <th>Murcia</th>\n",
       "      <td>199</td>\n",
       "    </tr>\n",
       "    <tr>\n",
       "      <th>Girona</th>\n",
       "      <td>183</td>\n",
       "    </tr>\n",
       "    <tr>\n",
       "      <th>Alicante/Alacant</th>\n",
       "      <td>173</td>\n",
       "    </tr>\n",
       "    <tr>\n",
       "      <th>Málaga</th>\n",
       "      <td>131</td>\n",
       "    </tr>\n",
       "  </tbody>\n",
       "</table>\n",
       "</div>"
      ],
      "text/plain": [
       "                        num_playas\n",
       "nom_provincia                     \n",
       "A Coruña                       410\n",
       "Pontevedra                     370\n",
       "Illes Balears                  346\n",
       "Las Palmas                     322\n",
       "Santa Cruz de Tenerife         257\n",
       "Asturias                       205\n",
       "Murcia                         199\n",
       "Girona                         183\n",
       "Alicante/Alacant               173\n",
       "Málaga                         131"
      ]
     },
     "execution_count": 31,
     "metadata": {},
     "output_type": "execute_result"
    }
   ],
   "source": [
    "df=res.to_frame()\n",
    "((df.rename(columns={\"cod_playa\":\"num_playas\"})\n",
    "  ).sort_values('num_playas', ascending = False)\n",
    ").head(10)"
   ]
  },
  {
   "cell_type": "markdown",
   "metadata": {},
   "source": [
    "#### QUERY_7.2) ¿ Qué provincia tiene más playas ... con nombres diferentes ?"
   ]
  },
  {
   "cell_type": "code",
   "execution_count": 32,
   "metadata": {
    "collapsed": false
   },
   "outputs": [
    {
     "data": {
      "text/plain": [
       "pandas.core.series.Series"
      ]
     },
     "execution_count": 32,
     "metadata": {},
     "output_type": "execute_result"
    }
   ],
   "source": [
    "res = df_playas.groupby([\"nom_provincia\"]).nom_playa.nunique()\n",
    "type(res)"
   ]
  },
  {
   "cell_type": "code",
   "execution_count": 33,
   "metadata": {
    "collapsed": false
   },
   "outputs": [
    {
     "data": {
      "text/plain": [
       "nom_provincia\n",
       "A Coruña                  388\n",
       "Pontevedra                350\n",
       "Illes Balears             330\n",
       "Las Palmas                303\n",
       "Santa Cruz de Tenerife    228\n",
       "Name: nom_playa, dtype: int64"
      ]
     },
     "execution_count": 33,
     "metadata": {},
     "output_type": "execute_result"
    }
   ],
   "source": [
    "res.sort_values(ascending=False).head(5)"
   ]
  },
  {
   "cell_type": "code",
   "execution_count": 34,
   "metadata": {
    "collapsed": false
   },
   "outputs": [
    {
     "data": {
      "text/html": [
       "<div>\n",
       "<style>\n",
       "    .dataframe thead tr:only-child th {\n",
       "        text-align: right;\n",
       "    }\n",
       "\n",
       "    .dataframe thead th {\n",
       "        text-align: left;\n",
       "    }\n",
       "\n",
       "    .dataframe tbody tr th {\n",
       "        vertical-align: top;\n",
       "    }\n",
       "</style>\n",
       "<table border=\"1\" class=\"dataframe\">\n",
       "  <thead>\n",
       "    <tr style=\"text-align: right;\">\n",
       "      <th></th>\n",
       "      <th>nombres_de_playas_distintos</th>\n",
       "    </tr>\n",
       "    <tr>\n",
       "      <th>nom_provincia</th>\n",
       "      <th></th>\n",
       "    </tr>\n",
       "  </thead>\n",
       "  <tbody>\n",
       "    <tr>\n",
       "      <th>A Coruña</th>\n",
       "      <td>388</td>\n",
       "    </tr>\n",
       "    <tr>\n",
       "      <th>Pontevedra</th>\n",
       "      <td>350</td>\n",
       "    </tr>\n",
       "    <tr>\n",
       "      <th>Illes Balears</th>\n",
       "      <td>330</td>\n",
       "    </tr>\n",
       "    <tr>\n",
       "      <th>Las Palmas</th>\n",
       "      <td>303</td>\n",
       "    </tr>\n",
       "    <tr>\n",
       "      <th>Santa Cruz de Tenerife</th>\n",
       "      <td>228</td>\n",
       "    </tr>\n",
       "    <tr>\n",
       "      <th>Asturias</th>\n",
       "      <td>199</td>\n",
       "    </tr>\n",
       "    <tr>\n",
       "      <th>Murcia</th>\n",
       "      <td>193</td>\n",
       "    </tr>\n",
       "    <tr>\n",
       "      <th>Girona</th>\n",
       "      <td>179</td>\n",
       "    </tr>\n",
       "    <tr>\n",
       "      <th>Alicante/Alacant</th>\n",
       "      <td>165</td>\n",
       "    </tr>\n",
       "    <tr>\n",
       "      <th>Málaga</th>\n",
       "      <td>126</td>\n",
       "    </tr>\n",
       "  </tbody>\n",
       "</table>\n",
       "</div>"
      ],
      "text/plain": [
       "                        nombres_de_playas_distintos\n",
       "nom_provincia                                      \n",
       "A Coruña                                        388\n",
       "Pontevedra                                      350\n",
       "Illes Balears                                   330\n",
       "Las Palmas                                      303\n",
       "Santa Cruz de Tenerife                          228\n",
       "Asturias                                        199\n",
       "Murcia                                          193\n",
       "Girona                                          179\n",
       "Alicante/Alacant                                165\n",
       "Málaga                                          126"
      ]
     },
     "execution_count": 34,
     "metadata": {},
     "output_type": "execute_result"
    }
   ],
   "source": [
    "df=res.to_frame()\n",
    "((df.rename(columns={\"nom_playa\":\"nombres_de_playas_distintos\"})\n",
    "  ).sort_values('nombres_de_playas_distintos', ascending = False)\n",
    ").head(10)"
   ]
  },
  {
   "cell_type": "markdown",
   "metadata": {},
   "source": [
    "#### QUERY_7.3)  ¿ Qué provincia tiene más playas ... nudistas ?"
   ]
  },
  {
   "cell_type": "code",
   "execution_count": 35,
   "metadata": {
    "collapsed": false
   },
   "outputs": [],
   "source": [
    "df_playas_nudistas = df_playas [ df_playas[\"nudista\"] == u\"Sí\" ]   # Seleccionamos del DataFrame las \n",
    "                                                                   # playas nudistas"
   ]
  },
  {
   "cell_type": "code",
   "execution_count": 36,
   "metadata": {
    "collapsed": false
   },
   "outputs": [
    {
     "data": {
      "text/plain": [
       "pandas.core.series.Series"
      ]
     },
     "execution_count": 36,
     "metadata": {},
     "output_type": "execute_result"
    }
   ],
   "source": [
    "res = df_playas_nudistas.groupby([\"nom_provincia\"]).size().rename(\"num_playas_nudistas_puras\")\n",
    "type(res)"
   ]
  },
  {
   "cell_type": "code",
   "execution_count": 37,
   "metadata": {
    "collapsed": false
   },
   "outputs": [
    {
     "data": {
      "text/html": [
       "<div>\n",
       "<style>\n",
       "    .dataframe thead tr:only-child th {\n",
       "        text-align: right;\n",
       "    }\n",
       "\n",
       "    .dataframe thead th {\n",
       "        text-align: left;\n",
       "    }\n",
       "\n",
       "    .dataframe tbody tr th {\n",
       "        vertical-align: top;\n",
       "    }\n",
       "</style>\n",
       "<table border=\"1\" class=\"dataframe\">\n",
       "  <thead>\n",
       "    <tr style=\"text-align: right;\">\n",
       "      <th></th>\n",
       "      <th>num_playas_nudistas_puras</th>\n",
       "    </tr>\n",
       "    <tr>\n",
       "      <th>nom_provincia</th>\n",
       "      <th></th>\n",
       "    </tr>\n",
       "  </thead>\n",
       "  <tbody>\n",
       "    <tr>\n",
       "      <th>Las Palmas</th>\n",
       "      <td>146</td>\n",
       "    </tr>\n",
       "    <tr>\n",
       "      <th>Illes Balears</th>\n",
       "      <td>79</td>\n",
       "    </tr>\n",
       "    <tr>\n",
       "      <th>Santa Cruz de Tenerife</th>\n",
       "      <td>27</td>\n",
       "    </tr>\n",
       "    <tr>\n",
       "      <th>Alicante/Alacant</th>\n",
       "      <td>18</td>\n",
       "    </tr>\n",
       "    <tr>\n",
       "      <th>A Coruña</th>\n",
       "      <td>17</td>\n",
       "    </tr>\n",
       "    <tr>\n",
       "      <th>Gipuzkoa</th>\n",
       "      <td>16</td>\n",
       "    </tr>\n",
       "    <tr>\n",
       "      <th>Girona</th>\n",
       "      <td>16</td>\n",
       "    </tr>\n",
       "    <tr>\n",
       "      <th>Pontevedra</th>\n",
       "      <td>15</td>\n",
       "    </tr>\n",
       "    <tr>\n",
       "      <th>Tarragona</th>\n",
       "      <td>9</td>\n",
       "    </tr>\n",
       "    <tr>\n",
       "      <th>Barcelona</th>\n",
       "      <td>8</td>\n",
       "    </tr>\n",
       "  </tbody>\n",
       "</table>\n",
       "</div>"
      ],
      "text/plain": [
       "                        num_playas_nudistas_puras\n",
       "nom_provincia                                    \n",
       "Las Palmas                                    146\n",
       "Illes Balears                                  79\n",
       "Santa Cruz de Tenerife                         27\n",
       "Alicante/Alacant                               18\n",
       "A Coruña                                       17\n",
       "Gipuzkoa                                       16\n",
       "Girona                                         16\n",
       "Pontevedra                                     15\n",
       "Tarragona                                       9\n",
       "Barcelona                                       8"
      ]
     },
     "execution_count": 37,
     "metadata": {},
     "output_type": "execute_result"
    }
   ],
   "source": [
    "pd.DataFrame(res).sort_values('num_playas_nudistas_puras', ascending = False).head(10)"
   ]
  },
  {
   "cell_type": "markdown",
   "metadata": {},
   "source": [
    "#### QUERY_7.4)  ¿ Qué provincia tiene más playas ... con bandera azul ?"
   ]
  },
  {
   "cell_type": "code",
   "execution_count": 38,
   "metadata": {
    "collapsed": false
   },
   "outputs": [],
   "source": [
    "df_playas_bandera_azul = df_playas [ df_playas[\"bandera_azul\"] == u\"Sí\" ]   # Seleccionamos del DataFrame las \n",
    "                                                                            # playas con bandera azul"
   ]
  },
  {
   "cell_type": "code",
   "execution_count": 39,
   "metadata": {
    "collapsed": false
   },
   "outputs": [
    {
     "data": {
      "text/plain": [
       "pandas.core.series.Series"
      ]
     },
     "execution_count": 39,
     "metadata": {},
     "output_type": "execute_result"
    }
   ],
   "source": [
    "res = df_playas_bandera_azul.groupby([\"nom_provincia\"]).size().rename(\"num_playas_bandera_azul\")\n",
    "type(res)"
   ]
  },
  {
   "cell_type": "code",
   "execution_count": 40,
   "metadata": {
    "collapsed": false
   },
   "outputs": [
    {
     "data": {
      "text/html": [
       "<div>\n",
       "<style>\n",
       "    .dataframe thead tr:only-child th {\n",
       "        text-align: right;\n",
       "    }\n",
       "\n",
       "    .dataframe thead th {\n",
       "        text-align: left;\n",
       "    }\n",
       "\n",
       "    .dataframe tbody tr th {\n",
       "        vertical-align: top;\n",
       "    }\n",
       "</style>\n",
       "<table border=\"1\" class=\"dataframe\">\n",
       "  <thead>\n",
       "    <tr style=\"text-align: right;\">\n",
       "      <th></th>\n",
       "      <th>num_playas_bandera_azul</th>\n",
       "    </tr>\n",
       "    <tr>\n",
       "      <th>nom_provincia</th>\n",
       "      <th></th>\n",
       "    </tr>\n",
       "  </thead>\n",
       "  <tbody>\n",
       "    <tr>\n",
       "      <th>Alicante/Alacant</th>\n",
       "      <td>62</td>\n",
       "    </tr>\n",
       "    <tr>\n",
       "      <th>Pontevedra</th>\n",
       "      <td>57</td>\n",
       "    </tr>\n",
       "    <tr>\n",
       "      <th>A Coruña</th>\n",
       "      <td>45</td>\n",
       "    </tr>\n",
       "    <tr>\n",
       "      <th>Tarragona</th>\n",
       "      <td>43</td>\n",
       "    </tr>\n",
       "    <tr>\n",
       "      <th>Illes Balears</th>\n",
       "      <td>41</td>\n",
       "    </tr>\n",
       "    <tr>\n",
       "      <th>Murcia</th>\n",
       "      <td>40</td>\n",
       "    </tr>\n",
       "    <tr>\n",
       "      <th>Castellón/Castelló</th>\n",
       "      <td>33</td>\n",
       "    </tr>\n",
       "    <tr>\n",
       "      <th>Girona</th>\n",
       "      <td>31</td>\n",
       "    </tr>\n",
       "    <tr>\n",
       "      <th>Valencia/València</th>\n",
       "      <td>30</td>\n",
       "    </tr>\n",
       "    <tr>\n",
       "      <th>Barcelona</th>\n",
       "      <td>29</td>\n",
       "    </tr>\n",
       "  </tbody>\n",
       "</table>\n",
       "</div>"
      ],
      "text/plain": [
       "                    num_playas_bandera_azul\n",
       "nom_provincia                              \n",
       "Alicante/Alacant                         62\n",
       "Pontevedra                               57\n",
       "A Coruña                                 45\n",
       "Tarragona                                43\n",
       "Illes Balears                            41\n",
       "Murcia                                   40\n",
       "Castellón/Castelló                       33\n",
       "Girona                                   31\n",
       "Valencia/València                        30\n",
       "Barcelona                                29"
      ]
     },
     "execution_count": 40,
     "metadata": {},
     "output_type": "execute_result"
    }
   ],
   "source": [
    "pd.DataFrame(res).sort_values('num_playas_bandera_azul', ascending = False).head(10)"
   ]
  },
  {
   "cell_type": "markdown",
   "metadata": {
    "collapsed": true
   },
   "source": [
    "# FIN"
   ]
  }
 ],
 "metadata": {
  "kernelspec": {
   "display_name": "Python 2",
   "language": "python",
   "name": "python2"
  },
  "language_info": {
   "codemirror_mode": {
    "name": "ipython",
    "version": 2
   },
   "file_extension": ".py",
   "mimetype": "text/x-python",
   "name": "python",
   "nbconvert_exporter": "python",
   "pygments_lexer": "ipython2",
   "version": "2.7.6"
  }
 },
 "nbformat": 4,
 "nbformat_minor": 0
}
