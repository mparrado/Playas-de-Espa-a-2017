{
 "cells": [
  {
   "cell_type": "markdown",
   "metadata": {},
   "source": [
    "# --------------------------------------------------------------------------------------------------------------\n",
    "# Playas de ESPAÑA 2017 : limpieza de datos para TABLEAU (CSV --> EXCEL)\n",
    "# --------------------------------------------------------------------------------------------------------------"
   ]
  },
  {
   "cell_type": "markdown",
   "metadata": {},
   "source": [
    "## INTRODUCCIÓN\n",
    "\n",
    "El objetvo de este Notebook es leer un **dataset de entrada** (en **formato CSV**) y generar un **dataset de salida** (en **formato Excel**) ejecutando las limpiezas de datos necesarias para que el dataset de salida pueda ser procesado por la herramienta de visualización **TABLEAU**.\n",
    "\n",
    "Para ello, llevaremos a cabo los siguientes **pasos** :\n",
    "\n",
    "1. **Selecionar un dataset** de ENTRADA público.\n",
    "2. **Limpiar/transformar** los datos del dataset de ENTRADA generando un dataset de SALIDA que sea apto para ser visualizado a través de TABLEAU.\n",
    "3. **Volcar** el dataset \"limpio\" del paso anterior en un **fichero con formato Excel**.\n"
   ]
  },
  {
   "cell_type": "markdown",
   "metadata": {},
   "source": [
    "## Dataset de partida\n",
    "\n",
    "Vamos a utilizar un dataset de las PLAYAS de ESPAÑA correspondiente a los datos obtenidos en el año 2017.\n",
    "\n",
    "\n",
    "La fuente de datos original es la siguiente :\n",
    "\n",
    "http://opendata.esri.es/datasets/84ddbc8cf4104a579d579f6441fcaa8a_0\n",
    "\n",
    "con :\n",
    "\n",
    "   + 3.511 playas\n",
    "   + 80 atributos\n",
    "\n",
    "\n",
    "\n",
    "## Formato del fichero de ENTRADA\n",
    "\n",
    "El datset de entrada es un fichero en formato **CSV** y utiliza el carácter **\",\"** cómo separador de columnas.\n"
   ]
  },
  {
   "cell_type": "markdown",
   "metadata": {},
   "source": [
    "## Formato del fichero de SALIDA\n",
    "\n",
    "A partir del fichero **CSV** de entrada se generará un fichero de SALIDA en formato **EXCEL** (con los datos del dataset limpiados y transformados según consideremos oportuno para su posterior visualizacíón a través de **TABLEAU**)."
   ]
  },
  {
   "cell_type": "markdown",
   "metadata": {
    "collapsed": true
   },
   "source": [
    "# A) Preprocesado de datos\n",
    "\n",
    "Con el objetivo de que el dataset pueda ser analizado fácilmente por Tableau, se realizará la siguiente limpieza (preprocesado) de los datos del dataset : \n",
    "\n",
    "   1. Cambiar **nombres de COMUNIDADES AUTÓNOMAS** :  cambiar los nombres de las comunidades autónomas de forma que Tableau los pueda reconocer como datos geográficos geolocalizables.   \n",
    "   2. Cambiar ** nombres de PROVINCIAS :** cambiar los nombres de las provincias de forma que Tableau los pueda reconocer como datos geográficos geolocalizables.\n",
    "   3. Crear un **nuevo campo numérico con la longitud de la playa** : el campo que indica la longitud de la playa es un campo de tipo texto. Creamos un nuevo campo equivalente que sea de tipo numérico para poder hacer cálculos matemáticos con esas longitudes."
   ]
  },
  {
   "cell_type": "markdown",
   "metadata": {
    "collapsed": true
   },
   "source": [
    "## A.1) Importar librerías"
   ]
  },
  {
   "cell_type": "code",
   "execution_count": 1,
   "metadata": {
    "collapsed": true
   },
   "outputs": [],
   "source": [
    "import pandas as pd"
   ]
  },
  {
   "cell_type": "markdown",
   "metadata": {
    "collapsed": true
   },
   "source": [
    "## A.2) Leer la fuente de datos CSV en un DataFrame (DataFrame de PLAYAS)"
   ]
  },
  {
   "cell_type": "code",
   "execution_count": 2,
   "metadata": {
    "collapsed": false
   },
   "outputs": [],
   "source": [
    "df_playas = pd.read_csv(\"./data/Playas_2017_Dataset.csv\", sep=',',  index_col=False )"
   ]
  },
  {
   "cell_type": "code",
   "execution_count": 3,
   "metadata": {
    "collapsed": false
   },
   "outputs": [
    {
     "data": {
      "text/plain": [
       "(3511, 80)"
      ]
     },
     "execution_count": 3,
     "metadata": {},
     "output_type": "execute_result"
    }
   ],
   "source": [
    "# Verificamos que el df tiene las mismas dimensiones que el fichero CSV leído :\n",
    "#    - Columnas : 80\n",
    "#    - Filas    : 3511\n",
    "df_playas.shape   "
   ]
  },
  {
   "cell_type": "code",
   "execution_count": 4,
   "metadata": {
    "collapsed": false
   },
   "outputs": [
    {
     "name": "stdout",
     "output_type": "stream",
     "text": [
      "3511\n"
     ]
    }
   ],
   "source": [
    "num_playas = df_playas.shape[0]     # Calculamos el número de playas\n",
    "print (num_playas)"
   ]
  },
  {
   "cell_type": "code",
   "execution_count": 5,
   "metadata": {
    "collapsed": false,
    "scrolled": true
   },
   "outputs": [
    {
     "data": {
      "text/html": [
       "<div>\n",
       "<style>\n",
       "    .dataframe thead tr:only-child th {\n",
       "        text-align: right;\n",
       "    }\n",
       "\n",
       "    .dataframe thead th {\n",
       "        text-align: left;\n",
       "    }\n",
       "\n",
       "    .dataframe tbody tr th {\n",
       "        vertical-align: top;\n",
       "    }\n",
       "</style>\n",
       "<table border=\"1\" class=\"dataframe\">\n",
       "  <thead>\n",
       "    <tr style=\"text-align: right;\">\n",
       "      <th></th>\n",
       "      <th>X</th>\n",
       "      <th>Y</th>\n",
       "      <th>OBJECTID</th>\n",
       "      <th>Comunidad</th>\n",
       "      <th>Provincia</th>\n",
       "      <th>Isla</th>\n",
       "      <th>Código_IN</th>\n",
       "      <th>Núcleo_de_Población</th>\n",
       "      <th>Web_munici</th>\n",
       "      <th>Identifica</th>\n",
       "      <th>...</th>\n",
       "      <th>Dirección</th>\n",
       "      <th>Teléfono_</th>\n",
       "      <th>Distancia1</th>\n",
       "      <th>Composici</th>\n",
       "      <th>Fachada_Li</th>\n",
       "      <th>Espacio_pr</th>\n",
       "      <th>Espacio__1</th>\n",
       "      <th>Coordena_4</th>\n",
       "      <th>Coordena_5</th>\n",
       "      <th>URL_MAGRAM</th>\n",
       "    </tr>\n",
       "  </thead>\n",
       "  <tbody>\n",
       "    <tr>\n",
       "      <th>0</th>\n",
       "      <td>-14.0487</td>\n",
       "      <td>28.5718</td>\n",
       "      <td>3001</td>\n",
       "      <td>Canarias</td>\n",
       "      <td>Las Palmas</td>\n",
       "      <td>Fuerteventura</td>\n",
       "      <td>35017</td>\n",
       "      <td>Puerto del Rosario</td>\n",
       "      <td>http://www.puertodelrosario.org</td>\n",
       "      <td>3007</td>\n",
       "      <td>...</td>\n",
       "      <td>Ctra. del Aeropuerto, Km 1 (Puerto del Rosario)</td>\n",
       "      <td>928862000</td>\n",
       "      <td>37 km.</td>\n",
       "      <td>Grava / Arena</td>\n",
       "      <td>Dunas</td>\n",
       "      <td>No</td>\n",
       "      <td></td>\n",
       "      <td>-14.0487</td>\n",
       "      <td>28.5718</td>\n",
       "      <td>http://sig.magrama.gob.es/93/ClienteWS/Guia-Pl...</td>\n",
       "    </tr>\n",
       "    <tr>\n",
       "      <th>1</th>\n",
       "      <td>-14.0089</td>\n",
       "      <td>28.6729</td>\n",
       "      <td>3002</td>\n",
       "      <td>Canarias</td>\n",
       "      <td>Las Palmas</td>\n",
       "      <td>Fuerteventura</td>\n",
       "      <td>35014</td>\n",
       "      <td>La Oliva</td>\n",
       "      <td>http://www.laoliva.es</td>\n",
       "      <td>3008</td>\n",
       "      <td>...</td>\n",
       "      <td>Ctra. del Aeropuerto, Km 1 (Puerto del Rosario)</td>\n",
       "      <td>928862000</td>\n",
       "      <td>40 km.</td>\n",
       "      <td>Grava / Arena</td>\n",
       "      <td>Dunas</td>\n",
       "      <td>No</td>\n",
       "      <td></td>\n",
       "      <td>-14.0089</td>\n",
       "      <td>28.6729</td>\n",
       "      <td>http://sig.magrama.gob.es/93/ClienteWS/Guia-Pl...</td>\n",
       "    </tr>\n",
       "    <tr>\n",
       "      <th>2</th>\n",
       "      <td>-14.0086</td>\n",
       "      <td>28.6771</td>\n",
       "      <td>3003</td>\n",
       "      <td>Canarias</td>\n",
       "      <td>Las Palmas</td>\n",
       "      <td>Fuerteventura</td>\n",
       "      <td>35014</td>\n",
       "      <td>La Oliva</td>\n",
       "      <td>http://www.laoliva.es</td>\n",
       "      <td>3009</td>\n",
       "      <td>...</td>\n",
       "      <td>Ctra. del Aeropuerto, Km 1 (Puerto del Rosario)</td>\n",
       "      <td>928862000</td>\n",
       "      <td>59,8 km.</td>\n",
       "      <td>Bolos / Grava / Arena</td>\n",
       "      <td>Montaña</td>\n",
       "      <td>No</td>\n",
       "      <td></td>\n",
       "      <td>-14.0086</td>\n",
       "      <td>28.6771</td>\n",
       "      <td>http://sig.magrama.gob.es/93/ClienteWS/Guia-Pl...</td>\n",
       "    </tr>\n",
       "  </tbody>\n",
       "</table>\n",
       "<p>3 rows × 80 columns</p>\n",
       "</div>"
      ],
      "text/plain": [
       "         X        Y  OBJECTID Comunidad   Provincia           Isla  Código_IN  \\\n",
       "0 -14.0487  28.5718      3001  Canarias  Las Palmas  Fuerteventura      35017   \n",
       "1 -14.0089  28.6729      3002  Canarias  Las Palmas  Fuerteventura      35014   \n",
       "2 -14.0086  28.6771      3003  Canarias  Las Palmas  Fuerteventura      35014   \n",
       "\n",
       "  Núcleo_de_Población                       Web_munici  Identifica  \\\n",
       "0  Puerto del Rosario  http://www.puertodelrosario.org        3007   \n",
       "1            La Oliva            http://www.laoliva.es        3008   \n",
       "2            La Oliva            http://www.laoliva.es        3009   \n",
       "\n",
       "                         ...                          \\\n",
       "0                        ...                           \n",
       "1                        ...                           \n",
       "2                        ...                           \n",
       "\n",
       "                                         Dirección  Teléfono_ Distancia1  \\\n",
       "0  Ctra. del Aeropuerto, Km 1 (Puerto del Rosario)  928862000     37 km.   \n",
       "1  Ctra. del Aeropuerto, Km 1 (Puerto del Rosario)  928862000     40 km.   \n",
       "2  Ctra. del Aeropuerto, Km 1 (Puerto del Rosario)  928862000   59,8 km.   \n",
       "\n",
       "               Composici Fachada_Li Espacio_pr Espacio__1 Coordena_4  \\\n",
       "0          Grava / Arena      Dunas         No              -14.0487   \n",
       "1          Grava / Arena      Dunas         No              -14.0089   \n",
       "2  Bolos / Grava / Arena    Montaña         No              -14.0086   \n",
       "\n",
       "  Coordena_5                                         URL_MAGRAM  \n",
       "0    28.5718  http://sig.magrama.gob.es/93/ClienteWS/Guia-Pl...  \n",
       "1    28.6729  http://sig.magrama.gob.es/93/ClienteWS/Guia-Pl...  \n",
       "2    28.6771  http://sig.magrama.gob.es/93/ClienteWS/Guia-Pl...  \n",
       "\n",
       "[3 rows x 80 columns]"
      ]
     },
     "execution_count": 5,
     "metadata": {},
     "output_type": "execute_result"
    }
   ],
   "source": [
    "df_playas.head(3)           # Consultamos el contenido de las primeras 3 filas"
   ]
  },
  {
   "cell_type": "code",
   "execution_count": 6,
   "metadata": {
    "collapsed": false
   },
   "outputs": [
    {
     "name": "stdout",
     "output_type": "stream",
     "text": [
      "<class 'pandas.core.frame.DataFrame'>\n",
      "RangeIndex: 3511 entries, 0 to 3510\n",
      "Data columns (total 80 columns):\n",
      "X                      3511 non-null float64\n",
      "Y                      3511 non-null float64\n",
      "OBJECTID               3511 non-null int64\n",
      "Comunidad              3511 non-null object\n",
      "Provincia              3511 non-null object\n",
      "Isla                   3511 non-null object\n",
      "Código_IN              3511 non-null int64\n",
      "Núcleo_de_Población    3511 non-null object\n",
      "Web_munici             3511 non-null object\n",
      "Identifica             3511 non-null int64\n",
      "Nombre                 3511 non-null object\n",
      "Nombre_alt             3511 non-null object\n",
      "Nombre_a_1             3511 non-null object\n",
      "Descripción            3511 non-null object\n",
      "Longitud               3511 non-null object\n",
      "Anchura                3511 non-null object\n",
      "Variación              3511 non-null object\n",
      "Grado_ocup             3511 non-null object\n",
      "Grado_urba             3511 non-null object\n",
      "Paseo_mar              3511 non-null object\n",
      "Tipo_paseo             3511 non-null object\n",
      "Tipo_de_ar             3511 non-null object\n",
      "Condicione             3511 non-null object\n",
      "Zona_fonde             3511 non-null object\n",
      "Nudismo                3511 non-null object\n",
      "Vegetació              3511 non-null object\n",
      "Vegetaci_1             3511 non-null object\n",
      "Actuacione             3511 non-null object\n",
      "Actuacio_1             3511 non-null object\n",
      "Bandera_az             3511 non-null object\n",
      "Auxilio_y_             3511 non-null object\n",
      "Auxilio_y1             3511 non-null object\n",
      "Señalizac              3511 non-null object\n",
      "Señaliza_              3511 non-null object\n",
      "Forma_de_a             3511 non-null object\n",
      "Señaliza1              3511 non-null object\n",
      "Acceso_dis             3511 non-null object\n",
      "Carretera_             3511 non-null object\n",
      "Autobús                3511 non-null object\n",
      "Autobús_t              3511 non-null object\n",
      "Aparcamien             3511 non-null object\n",
      "Aparcami_1             3511 non-null object\n",
      "Aparcami_2             3511 non-null object\n",
      "Aseos                  3511 non-null object\n",
      "Lavapies               3511 non-null object\n",
      "Duchas                 3511 non-null object\n",
      "Teléfonos              3511 non-null object\n",
      "Papelera               3511 non-null object\n",
      "Servicio_l             3511 non-null object\n",
      "Alquiler_s             3511 non-null object\n",
      "Alquiler_h             3511 non-null object\n",
      "Alquiler_n             3511 non-null object\n",
      "Oficina_tu             3511 non-null object\n",
      "Establecim             3511 non-null object\n",
      "Establec_1             3511 non-null object\n",
      "Zona_infan             3511 non-null object\n",
      "Zona_depor             3511 non-null object\n",
      "Club_naút              3511 non-null object\n",
      "Submarinis             3511 non-null object\n",
      "Zona_Surf              3511 non-null object\n",
      "Observacio             3511 non-null object\n",
      "Coordenada             3511 non-null int64\n",
      "Coordena_1             3511 non-null int64\n",
      "Huso                   3511 non-null int64\n",
      "Coordena_2             3511 non-null object\n",
      "Coordena_3             3511 non-null object\n",
      "Puerto_dep             3511 non-null object\n",
      "Web_puerto             3511 non-null object\n",
      "Distancia_             3511 non-null object\n",
      "Hospital               3511 non-null object\n",
      "Dirección              3511 non-null object\n",
      "Teléfono_              3511 non-null object\n",
      "Distancia1             3511 non-null object\n",
      "Composici              3511 non-null object\n",
      "Fachada_Li             3511 non-null object\n",
      "Espacio_pr             3511 non-null object\n",
      "Espacio__1             3511 non-null object\n",
      "Coordena_4             3511 non-null float64\n",
      "Coordena_5             3511 non-null float64\n",
      "URL_MAGRAM             3511 non-null object\n",
      "dtypes: float64(4), int64(6), object(70)\n",
      "memory usage: 2.1+ MB\n"
     ]
    }
   ],
   "source": [
    "df_playas.info()     # Consultamos las columnas"
   ]
  },
  {
   "cell_type": "markdown",
   "metadata": {
    "collapsed": true
   },
   "source": [
    "## A.3) Cambiar a nombres geolocalizables por TABLEAU\n",
    "TABLEAU reconoce los nombres de las provincias/comunidades españolas como datos geográficos, sin embargo, para que ese reconocimiento sea posible, los nombres deben ser los correctos. Analizando las provincias/comunidades del dataset, se observa que hay que efectuar los siguientes cambios :\n",
    "\n",
    "**a) COMUNIDADES AUTÓNOMAS :**\n",
    "\n",
    "   - Asturias, Principado de --> Asturias\n",
    "   - Cataluña/Catalunya      --> Cataluña\n",
    "   - Comunitat Valenciana    --> Comunidad Valenciana\n",
    "   - Murcia, Región de       --> Murcia\n",
    "   - País Vasco/Euskadi      --> País Vasco\n",
    "   \n",
    "**b) PROVINCIAS :**\n",
    "\n",
    "   - Alicante/Alacant  --> Alicante\n",
    "   - Valencia/València --> Valencia "
   ]
  },
  {
   "cell_type": "markdown",
   "metadata": {
    "collapsed": true
   },
   "source": [
    "### A.3.1) Cambiar nombres de COMUNIDADES AUTÓNOMAS"
   ]
  },
  {
   "cell_type": "markdown",
   "metadata": {},
   "source": [
    "Consultamos los nombres de las **Comunidades Autónomas** que tiene el dataset."
   ]
  },
  {
   "cell_type": "code",
   "execution_count": 7,
   "metadata": {
    "collapsed": false,
    "scrolled": true
   },
   "outputs": [
    {
     "data": {
      "text/plain": [
       "0                     Canarias\n",
       "50                   Andalucía\n",
       "52          Cataluña/Catalunya\n",
       "58        Comunitat Valenciana\n",
       "62                     Galicia\n",
       "131    Asturias, Principado de\n",
       "180                  Cantabria\n",
       "182         País Vasco/Euskadi\n",
       "212              Illes Balears\n",
       "355          Murcia, Región de\n",
       "448                      Ceuta\n",
       "452                    Melilla\n",
       "Name: Comunidad, dtype: object"
      ]
     },
     "execution_count": 7,
     "metadata": {},
     "output_type": "execute_result"
    }
   ],
   "source": [
    "df_playas[\"Comunidad\"].head(num_playas).drop_duplicates()"
   ]
  },
  {
   "cell_type": "markdown",
   "metadata": {},
   "source": [
    "Modificamos los nombres de las **Comunidades Autónomas** por los nombres que entiende **Tableau**. \n"
   ]
  },
  {
   "cell_type": "code",
   "execution_count": 8,
   "metadata": {
    "collapsed": true
   },
   "outputs": [],
   "source": [
    "df_playas [\"Comunidad\"] = df_playas [\"Comunidad\"].replace(\"Asturias, Principado de\", \"Asturias\")\n",
    "df_playas [\"Comunidad\"] = df_playas [\"Comunidad\"].replace(\"Cataluña/Catalunya\",      \"Cataluña\")\n",
    "df_playas [\"Comunidad\"] = df_playas [\"Comunidad\"].replace(\"Comunitat Valenciana\",    \"Comunidad Valenciana\")\n",
    "df_playas [\"Comunidad\"] = df_playas [\"Comunidad\"].replace(\"Murcia, Región de\",       \"Murcia\")\n",
    "df_playas [\"Comunidad\"] = df_playas [\"Comunidad\"].replace(\"País Vasco/Euskadi\",      \"País Vasco\")"
   ]
  },
  {
   "cell_type": "code",
   "execution_count": 9,
   "metadata": {
    "collapsed": false
   },
   "outputs": [],
   "source": [
    "#\n",
    "# Otra forma equivalente de hacerlo :\n",
    "#\n",
    "#   df_playas[\"Comunidad\"][df_playas[\"Comunidad\"] == \"Asturias, Principado de\"] = \"Asturias\"\n",
    "#   df_playas[\"Comunidad\"][df_playas[\"Comunidad\"] == \"Cataluña/Catalunya\"]      = \"Cataluña\"\n",
    "#   df_playas[\"Comunidad\"][df_playas[\"Comunidad\"] == \"Comunitat Valenciana\"]    = \"Comunidad Valenciana\"\n",
    "#   df_playas[\"Comunidad\"][df_playas[\"Comunidad\"] == \"Murcia, Región de\"]       = \"Murcia\"\n",
    "#   df_playas[\"Comunidad\"][df_playas[\"Comunidad\"] == \"País Vasco/Euskadi\"]      = \"País Vasco\""
   ]
  },
  {
   "cell_type": "markdown",
   "metadata": {
    "collapsed": true
   },
   "source": [
    "### A.3.2) Cambiar nombres de PROVINCIAS"
   ]
  },
  {
   "cell_type": "markdown",
   "metadata": {},
   "source": [
    "Consultamos los nombres de las **Provincias** que tiene el dataset."
   ]
  },
  {
   "cell_type": "code",
   "execution_count": 10,
   "metadata": {
    "collapsed": false
   },
   "outputs": [
    {
     "data": {
      "text/plain": [
       "0                  Las Palmas\n",
       "50                    Almería\n",
       "52                  Barcelona\n",
       "58         Castellón/Castelló\n",
       "62                 Pontevedra\n",
       "112                    Girona\n",
       "116                  A Coruña\n",
       "120                      Lugo\n",
       "131                  Asturias\n",
       "180                 Cantabria\n",
       "181                 Tarragona\n",
       "182                   Bizkaia\n",
       "183          Alicante/Alacant\n",
       "212             Illes Balears\n",
       "248                     Cádiz\n",
       "266    Santa Cruz de Tenerife\n",
       "315                   Granada\n",
       "317                  Gipuzkoa\n",
       "325                    Huelva\n",
       "348                    Málaga\n",
       "355                    Murcia\n",
       "434         Valencia/València\n",
       "448                     Ceuta\n",
       "452                   Melilla\n",
       "Name: Provincia, dtype: object"
      ]
     },
     "execution_count": 10,
     "metadata": {},
     "output_type": "execute_result"
    }
   ],
   "source": [
    "df_playas[\"Provincia\"].head(num_playas).drop_duplicates()"
   ]
  },
  {
   "cell_type": "markdown",
   "metadata": {},
   "source": [
    "Modificamos los nombres de las **Provincias** por los nombres que entiende **Tableau**. \n"
   ]
  },
  {
   "cell_type": "code",
   "execution_count": 11,
   "metadata": {
    "collapsed": true
   },
   "outputs": [],
   "source": [
    "df_playas [\"Provincia\"] = df_playas [\"Provincia\"].replace(\"Alicante/Alacant\",  \"Alicante\")\n",
    "df_playas [\"Provincia\"] = df_playas [\"Provincia\"].replace(\"Valencia/València\", \"Valencia\")"
   ]
  },
  {
   "cell_type": "code",
   "execution_count": 12,
   "metadata": {
    "collapsed": false
   },
   "outputs": [],
   "source": [
    "#\n",
    "# Otra forma equivalente de hacerlo :\n",
    "#\n",
    "#   df_playas[\"Provincia\"][df_playas[\"Provincia\"] == \"Alicante/Alacant\"]  = \"Alicante\"\n",
    "#   df_playas[\"Provincia\"][df_playas[\"Provincia\"] == \"Valencia/València\"] = \"Valencia\""
   ]
  },
  {
   "cell_type": "markdown",
   "metadata": {
    "collapsed": true
   },
   "source": [
    "## A.4) Crear un DataFrame de PROVINCIAS"
   ]
  },
  {
   "cell_type": "markdown",
   "metadata": {},
   "source": [
    "Creamos un DataFrame de **PROVINCIAS** (con su Comunidad Autónoma asociada) con las provincias/comunidades que aparecen en nuestro  dataset de playas.\n",
    "\n",
    "Este DataFrame nos servirá para :\n",
    "1. **Verificar** que el nombre de las Comunidades Autónomas/Provincias se ha modificado correctamente\n",
    "2. **Crear una hoja Excel con 2 pestañas** (para ver cómo trata TABLEAU una hoja Excel con más de una pestaña)"
   ]
  },
  {
   "cell_type": "code",
   "execution_count": 13,
   "metadata": {
    "collapsed": false,
    "scrolled": true
   },
   "outputs": [
    {
     "data": {
      "text/html": [
       "<div>\n",
       "<style>\n",
       "    .dataframe thead tr:only-child th {\n",
       "        text-align: right;\n",
       "    }\n",
       "\n",
       "    .dataframe thead th {\n",
       "        text-align: left;\n",
       "    }\n",
       "\n",
       "    .dataframe tbody tr th {\n",
       "        vertical-align: top;\n",
       "    }\n",
       "</style>\n",
       "<table border=\"1\" class=\"dataframe\">\n",
       "  <thead>\n",
       "    <tr style=\"text-align: right;\">\n",
       "      <th></th>\n",
       "      <th>Provincia</th>\n",
       "      <th>Comunidad</th>\n",
       "    </tr>\n",
       "  </thead>\n",
       "  <tbody>\n",
       "    <tr>\n",
       "      <th>0</th>\n",
       "      <td>Las Palmas</td>\n",
       "      <td>Canarias</td>\n",
       "    </tr>\n",
       "    <tr>\n",
       "      <th>50</th>\n",
       "      <td>Almería</td>\n",
       "      <td>Andalucía</td>\n",
       "    </tr>\n",
       "    <tr>\n",
       "      <th>52</th>\n",
       "      <td>Barcelona</td>\n",
       "      <td>Cataluña</td>\n",
       "    </tr>\n",
       "    <tr>\n",
       "      <th>58</th>\n",
       "      <td>Castellón/Castelló</td>\n",
       "      <td>Comunidad Valenciana</td>\n",
       "    </tr>\n",
       "    <tr>\n",
       "      <th>62</th>\n",
       "      <td>Pontevedra</td>\n",
       "      <td>Galicia</td>\n",
       "    </tr>\n",
       "  </tbody>\n",
       "</table>\n",
       "</div>"
      ],
      "text/plain": [
       "             Provincia             Comunidad\n",
       "0           Las Palmas              Canarias\n",
       "50             Almería             Andalucía\n",
       "52           Barcelona              Cataluña\n",
       "58  Castellón/Castelló  Comunidad Valenciana\n",
       "62          Pontevedra               Galicia"
      ]
     },
     "execution_count": 13,
     "metadata": {},
     "output_type": "execute_result"
    }
   ],
   "source": [
    "df_provincias = df_playas[[\"Provincia\",\n",
    "                           \"Comunidad\"]].drop_duplicates()\n",
    "df_provincias.head(5)"
   ]
  },
  {
   "cell_type": "code",
   "execution_count": 14,
   "metadata": {
    "collapsed": false
   },
   "outputs": [
    {
     "data": {
      "text/plain": [
       "(24, 2)"
      ]
     },
     "execution_count": 14,
     "metadata": {},
     "output_type": "execute_result"
    }
   ],
   "source": [
    "df_provincias.shape                         # Calculamos las dimensiones del DataFrame"
   ]
  },
  {
   "cell_type": "code",
   "execution_count": 15,
   "metadata": {
    "collapsed": false
   },
   "outputs": [
    {
     "name": "stdout",
     "output_type": "stream",
     "text": [
      "24\n"
     ]
    }
   ],
   "source": [
    "num_provincias = df_provincias.shape[0]     # Calculamos el número de provincias\n",
    "print (num_provincias)"
   ]
  },
  {
   "cell_type": "code",
   "execution_count": 16,
   "metadata": {
    "collapsed": false
   },
   "outputs": [
    {
     "data": {
      "text/html": [
       "<div>\n",
       "<style>\n",
       "    .dataframe thead tr:only-child th {\n",
       "        text-align: right;\n",
       "    }\n",
       "\n",
       "    .dataframe thead th {\n",
       "        text-align: left;\n",
       "    }\n",
       "\n",
       "    .dataframe tbody tr th {\n",
       "        vertical-align: top;\n",
       "    }\n",
       "</style>\n",
       "<table border=\"1\" class=\"dataframe\">\n",
       "  <thead>\n",
       "    <tr style=\"text-align: right;\">\n",
       "      <th></th>\n",
       "      <th>Provincia</th>\n",
       "      <th>Comunidad</th>\n",
       "    </tr>\n",
       "  </thead>\n",
       "  <tbody>\n",
       "    <tr>\n",
       "      <th>0</th>\n",
       "      <td>Las Palmas</td>\n",
       "      <td>Canarias</td>\n",
       "    </tr>\n",
       "    <tr>\n",
       "      <th>50</th>\n",
       "      <td>Almería</td>\n",
       "      <td>Andalucía</td>\n",
       "    </tr>\n",
       "    <tr>\n",
       "      <th>52</th>\n",
       "      <td>Barcelona</td>\n",
       "      <td>Cataluña</td>\n",
       "    </tr>\n",
       "    <tr>\n",
       "      <th>58</th>\n",
       "      <td>Castellón/Castelló</td>\n",
       "      <td>Comunidad Valenciana</td>\n",
       "    </tr>\n",
       "    <tr>\n",
       "      <th>62</th>\n",
       "      <td>Pontevedra</td>\n",
       "      <td>Galicia</td>\n",
       "    </tr>\n",
       "    <tr>\n",
       "      <th>112</th>\n",
       "      <td>Girona</td>\n",
       "      <td>Cataluña</td>\n",
       "    </tr>\n",
       "    <tr>\n",
       "      <th>116</th>\n",
       "      <td>A Coruña</td>\n",
       "      <td>Galicia</td>\n",
       "    </tr>\n",
       "    <tr>\n",
       "      <th>120</th>\n",
       "      <td>Lugo</td>\n",
       "      <td>Galicia</td>\n",
       "    </tr>\n",
       "    <tr>\n",
       "      <th>131</th>\n",
       "      <td>Asturias</td>\n",
       "      <td>Asturias</td>\n",
       "    </tr>\n",
       "    <tr>\n",
       "      <th>180</th>\n",
       "      <td>Cantabria</td>\n",
       "      <td>Cantabria</td>\n",
       "    </tr>\n",
       "    <tr>\n",
       "      <th>181</th>\n",
       "      <td>Tarragona</td>\n",
       "      <td>Cataluña</td>\n",
       "    </tr>\n",
       "    <tr>\n",
       "      <th>182</th>\n",
       "      <td>Bizkaia</td>\n",
       "      <td>País Vasco</td>\n",
       "    </tr>\n",
       "    <tr>\n",
       "      <th>183</th>\n",
       "      <td>Alicante</td>\n",
       "      <td>Comunidad Valenciana</td>\n",
       "    </tr>\n",
       "    <tr>\n",
       "      <th>212</th>\n",
       "      <td>Illes Balears</td>\n",
       "      <td>Illes Balears</td>\n",
       "    </tr>\n",
       "    <tr>\n",
       "      <th>248</th>\n",
       "      <td>Cádiz</td>\n",
       "      <td>Andalucía</td>\n",
       "    </tr>\n",
       "    <tr>\n",
       "      <th>266</th>\n",
       "      <td>Santa Cruz de Tenerife</td>\n",
       "      <td>Canarias</td>\n",
       "    </tr>\n",
       "    <tr>\n",
       "      <th>315</th>\n",
       "      <td>Granada</td>\n",
       "      <td>Andalucía</td>\n",
       "    </tr>\n",
       "    <tr>\n",
       "      <th>317</th>\n",
       "      <td>Gipuzkoa</td>\n",
       "      <td>País Vasco</td>\n",
       "    </tr>\n",
       "    <tr>\n",
       "      <th>325</th>\n",
       "      <td>Huelva</td>\n",
       "      <td>Andalucía</td>\n",
       "    </tr>\n",
       "    <tr>\n",
       "      <th>348</th>\n",
       "      <td>Málaga</td>\n",
       "      <td>Andalucía</td>\n",
       "    </tr>\n",
       "    <tr>\n",
       "      <th>355</th>\n",
       "      <td>Murcia</td>\n",
       "      <td>Murcia</td>\n",
       "    </tr>\n",
       "    <tr>\n",
       "      <th>434</th>\n",
       "      <td>Valencia</td>\n",
       "      <td>Comunidad Valenciana</td>\n",
       "    </tr>\n",
       "    <tr>\n",
       "      <th>448</th>\n",
       "      <td>Ceuta</td>\n",
       "      <td>Ceuta</td>\n",
       "    </tr>\n",
       "    <tr>\n",
       "      <th>452</th>\n",
       "      <td>Melilla</td>\n",
       "      <td>Melilla</td>\n",
       "    </tr>\n",
       "  </tbody>\n",
       "</table>\n",
       "</div>"
      ],
      "text/plain": [
       "                  Provincia             Comunidad\n",
       "0                Las Palmas              Canarias\n",
       "50                  Almería             Andalucía\n",
       "52                Barcelona              Cataluña\n",
       "58       Castellón/Castelló  Comunidad Valenciana\n",
       "62               Pontevedra               Galicia\n",
       "112                  Girona              Cataluña\n",
       "116                A Coruña               Galicia\n",
       "120                    Lugo               Galicia\n",
       "131                Asturias              Asturias\n",
       "180               Cantabria             Cantabria\n",
       "181               Tarragona              Cataluña\n",
       "182                 Bizkaia            País Vasco\n",
       "183                Alicante  Comunidad Valenciana\n",
       "212           Illes Balears         Illes Balears\n",
       "248                   Cádiz             Andalucía\n",
       "266  Santa Cruz de Tenerife              Canarias\n",
       "315                 Granada             Andalucía\n",
       "317                Gipuzkoa            País Vasco\n",
       "325                  Huelva             Andalucía\n",
       "348                  Málaga             Andalucía\n",
       "355                  Murcia                Murcia\n",
       "434                Valencia  Comunidad Valenciana\n",
       "448                   Ceuta                 Ceuta\n",
       "452                 Melilla               Melilla"
      ]
     },
     "execution_count": 16,
     "metadata": {},
     "output_type": "execute_result"
    }
   ],
   "source": [
    "df_provincias.head(num_provincias)          # Consultamos el contenido de TODO el DataFrame "
   ]
  },
  {
   "cell_type": "markdown",
   "metadata": {
    "collapsed": true
   },
   "source": [
    "## A.5) Retocar el DataFrame de PLAYAS"
   ]
  },
  {
   "cell_type": "markdown",
   "metadata": {
    "collapsed": true
   },
   "source": [
    "### A.5.1) Renombrar columnas"
   ]
  },
  {
   "cell_type": "markdown",
   "metadata": {},
   "source": [
    "Renombramos ciertas columnas del DataFrame de **PLAYAS** para aclarar nombres."
   ]
  },
  {
   "cell_type": "code",
   "execution_count": 17,
   "metadata": {
    "collapsed": false
   },
   "outputs": [
    {
     "data": {
      "text/html": [
       "<div>\n",
       "<style>\n",
       "    .dataframe thead tr:only-child th {\n",
       "        text-align: right;\n",
       "    }\n",
       "\n",
       "    .dataframe thead th {\n",
       "        text-align: left;\n",
       "    }\n",
       "\n",
       "    .dataframe tbody tr th {\n",
       "        vertical-align: top;\n",
       "    }\n",
       "</style>\n",
       "<table border=\"1\" class=\"dataframe\">\n",
       "  <thead>\n",
       "    <tr style=\"text-align: right;\">\n",
       "      <th></th>\n",
       "      <th>X</th>\n",
       "      <th>Y</th>\n",
       "      <th>cod_playa</th>\n",
       "      <th>Comunidad</th>\n",
       "      <th>Provincia</th>\n",
       "      <th>Isla</th>\n",
       "      <th>Código_IN</th>\n",
       "      <th>localidad</th>\n",
       "      <th>Web_munici</th>\n",
       "      <th>Identifica</th>\n",
       "      <th>...</th>\n",
       "      <th>Dirección</th>\n",
       "      <th>Teléfono_</th>\n",
       "      <th>Distancia1</th>\n",
       "      <th>Composici</th>\n",
       "      <th>Fachada_Li</th>\n",
       "      <th>Espacio_pr</th>\n",
       "      <th>Espacio__1</th>\n",
       "      <th>Coordena_4</th>\n",
       "      <th>Coordena_5</th>\n",
       "      <th>URL_MAGRAM</th>\n",
       "    </tr>\n",
       "  </thead>\n",
       "  <tbody>\n",
       "    <tr>\n",
       "      <th>0</th>\n",
       "      <td>-14.0487</td>\n",
       "      <td>28.5718</td>\n",
       "      <td>3001</td>\n",
       "      <td>Canarias</td>\n",
       "      <td>Las Palmas</td>\n",
       "      <td>Fuerteventura</td>\n",
       "      <td>35017</td>\n",
       "      <td>Puerto del Rosario</td>\n",
       "      <td>http://www.puertodelrosario.org</td>\n",
       "      <td>3007</td>\n",
       "      <td>...</td>\n",
       "      <td>Ctra. del Aeropuerto, Km 1 (Puerto del Rosario)</td>\n",
       "      <td>928862000</td>\n",
       "      <td>37 km.</td>\n",
       "      <td>Grava / Arena</td>\n",
       "      <td>Dunas</td>\n",
       "      <td>No</td>\n",
       "      <td></td>\n",
       "      <td>-14.0487</td>\n",
       "      <td>28.5718</td>\n",
       "      <td>http://sig.magrama.gob.es/93/ClienteWS/Guia-Pl...</td>\n",
       "    </tr>\n",
       "    <tr>\n",
       "      <th>1</th>\n",
       "      <td>-14.0089</td>\n",
       "      <td>28.6729</td>\n",
       "      <td>3002</td>\n",
       "      <td>Canarias</td>\n",
       "      <td>Las Palmas</td>\n",
       "      <td>Fuerteventura</td>\n",
       "      <td>35014</td>\n",
       "      <td>La Oliva</td>\n",
       "      <td>http://www.laoliva.es</td>\n",
       "      <td>3008</td>\n",
       "      <td>...</td>\n",
       "      <td>Ctra. del Aeropuerto, Km 1 (Puerto del Rosario)</td>\n",
       "      <td>928862000</td>\n",
       "      <td>40 km.</td>\n",
       "      <td>Grava / Arena</td>\n",
       "      <td>Dunas</td>\n",
       "      <td>No</td>\n",
       "      <td></td>\n",
       "      <td>-14.0089</td>\n",
       "      <td>28.6729</td>\n",
       "      <td>http://sig.magrama.gob.es/93/ClienteWS/Guia-Pl...</td>\n",
       "    </tr>\n",
       "    <tr>\n",
       "      <th>2</th>\n",
       "      <td>-14.0086</td>\n",
       "      <td>28.6771</td>\n",
       "      <td>3003</td>\n",
       "      <td>Canarias</td>\n",
       "      <td>Las Palmas</td>\n",
       "      <td>Fuerteventura</td>\n",
       "      <td>35014</td>\n",
       "      <td>La Oliva</td>\n",
       "      <td>http://www.laoliva.es</td>\n",
       "      <td>3009</td>\n",
       "      <td>...</td>\n",
       "      <td>Ctra. del Aeropuerto, Km 1 (Puerto del Rosario)</td>\n",
       "      <td>928862000</td>\n",
       "      <td>59,8 km.</td>\n",
       "      <td>Bolos / Grava / Arena</td>\n",
       "      <td>Montaña</td>\n",
       "      <td>No</td>\n",
       "      <td></td>\n",
       "      <td>-14.0086</td>\n",
       "      <td>28.6771</td>\n",
       "      <td>http://sig.magrama.gob.es/93/ClienteWS/Guia-Pl...</td>\n",
       "    </tr>\n",
       "  </tbody>\n",
       "</table>\n",
       "<p>3 rows × 80 columns</p>\n",
       "</div>"
      ],
      "text/plain": [
       "         X        Y  cod_playa Comunidad   Provincia           Isla  \\\n",
       "0 -14.0487  28.5718       3001  Canarias  Las Palmas  Fuerteventura   \n",
       "1 -14.0089  28.6729       3002  Canarias  Las Palmas  Fuerteventura   \n",
       "2 -14.0086  28.6771       3003  Canarias  Las Palmas  Fuerteventura   \n",
       "\n",
       "   Código_IN           localidad                       Web_munici  Identifica  \\\n",
       "0      35017  Puerto del Rosario  http://www.puertodelrosario.org        3007   \n",
       "1      35014            La Oliva            http://www.laoliva.es        3008   \n",
       "2      35014            La Oliva            http://www.laoliva.es        3009   \n",
       "\n",
       "                         ...                          \\\n",
       "0                        ...                           \n",
       "1                        ...                           \n",
       "2                        ...                           \n",
       "\n",
       "                                         Dirección  Teléfono_ Distancia1  \\\n",
       "0  Ctra. del Aeropuerto, Km 1 (Puerto del Rosario)  928862000     37 km.   \n",
       "1  Ctra. del Aeropuerto, Km 1 (Puerto del Rosario)  928862000     40 km.   \n",
       "2  Ctra. del Aeropuerto, Km 1 (Puerto del Rosario)  928862000   59,8 km.   \n",
       "\n",
       "               Composici Fachada_Li Espacio_pr Espacio__1 Coordena_4  \\\n",
       "0          Grava / Arena      Dunas         No              -14.0487   \n",
       "1          Grava / Arena      Dunas         No              -14.0089   \n",
       "2  Bolos / Grava / Arena    Montaña         No              -14.0086   \n",
       "\n",
       "  Coordena_5                                         URL_MAGRAM  \n",
       "0    28.5718  http://sig.magrama.gob.es/93/ClienteWS/Guia-Pl...  \n",
       "1    28.6729  http://sig.magrama.gob.es/93/ClienteWS/Guia-Pl...  \n",
       "2    28.6771  http://sig.magrama.gob.es/93/ClienteWS/Guia-Pl...  \n",
       "\n",
       "[3 rows x 80 columns]"
      ]
     },
     "execution_count": 17,
     "metadata": {},
     "output_type": "execute_result"
    }
   ],
   "source": [
    "df_playas = df_playas.rename(columns = {\"Nombre\"              : \"nom_playa\", \n",
    "                                        \"OBJECTID\"            : \"cod_playa\", \n",
    "                                        \"Núcleo_de_Población\" : \"localidad\", \n",
    "                                        \"Longitud\"            : \"longitud_playa_txt\", \n",
    "                                        \"Tipo_de_ar\"          : \"arena\", \n",
    "                                        \"Nudismo\"             : \"nudista\", \n",
    "                                        \"Bandera_az\"          : \"bandera_azul\"})\n",
    "df_playas.head(3)"
   ]
  },
  {
   "cell_type": "code",
   "execution_count": 18,
   "metadata": {
    "collapsed": false
   },
   "outputs": [
    {
     "data": {
      "text/plain": [
       "(3511, 80)"
      ]
     },
     "execution_count": 18,
     "metadata": {},
     "output_type": "execute_result"
    }
   ],
   "source": [
    "df_playas.shape  #  Verifcamos que seguimos con los 3511 registros"
   ]
  },
  {
   "cell_type": "markdown",
   "metadata": {
    "collapsed": true
   },
   "source": [
    "### A.5.2) Nueva columna \"longitud_playa\" con longitud numérica"
   ]
  },
  {
   "cell_type": "markdown",
   "metadata": {},
   "source": [
    "Para poder operar aritméticamente con la longitud de las playas, transformamos el campo textual de \"longitud_playa_txt\" de la longitud de la playa en un campo numérico, para ello :\n",
    "   1. Creamos la correspondiente columna numérica (longitud_playa).\n",
    "   2. Eliminamos el texto que sigue al número que indica la longitud de la playa.\n",
    "   3. Quitamos los puntos de los miles.\n",
    "   4. Convertimos el tipo \"carácter\" a \"entero\".\n"
   ]
  },
  {
   "cell_type": "code",
   "execution_count": 19,
   "metadata": {
    "collapsed": false
   },
   "outputs": [
    {
     "data": {
      "text/html": [
       "<div>\n",
       "<style>\n",
       "    .dataframe thead tr:only-child th {\n",
       "        text-align: right;\n",
       "    }\n",
       "\n",
       "    .dataframe thead th {\n",
       "        text-align: left;\n",
       "    }\n",
       "\n",
       "    .dataframe tbody tr th {\n",
       "        vertical-align: top;\n",
       "    }\n",
       "</style>\n",
       "<table border=\"1\" class=\"dataframe\">\n",
       "  <thead>\n",
       "    <tr style=\"text-align: right;\">\n",
       "      <th></th>\n",
       "      <th>X</th>\n",
       "      <th>Y</th>\n",
       "      <th>cod_playa</th>\n",
       "      <th>Comunidad</th>\n",
       "      <th>Provincia</th>\n",
       "      <th>longitud_playa</th>\n",
       "      <th>Isla</th>\n",
       "      <th>Código_IN</th>\n",
       "      <th>localidad</th>\n",
       "      <th>Web_munici</th>\n",
       "      <th>...</th>\n",
       "      <th>Dirección</th>\n",
       "      <th>Teléfono_</th>\n",
       "      <th>Distancia1</th>\n",
       "      <th>Composici</th>\n",
       "      <th>Fachada_Li</th>\n",
       "      <th>Espacio_pr</th>\n",
       "      <th>Espacio__1</th>\n",
       "      <th>Coordena_4</th>\n",
       "      <th>Coordena_5</th>\n",
       "      <th>URL_MAGRAM</th>\n",
       "    </tr>\n",
       "  </thead>\n",
       "  <tbody>\n",
       "    <tr>\n",
       "      <th>0</th>\n",
       "      <td>-14.0487</td>\n",
       "      <td>28.5718</td>\n",
       "      <td>3001</td>\n",
       "      <td>Canarias</td>\n",
       "      <td>Las Palmas</td>\n",
       "      <td>0</td>\n",
       "      <td>Fuerteventura</td>\n",
       "      <td>35017</td>\n",
       "      <td>Puerto del Rosario</td>\n",
       "      <td>http://www.puertodelrosario.org</td>\n",
       "      <td>...</td>\n",
       "      <td>Ctra. del Aeropuerto, Km 1 (Puerto del Rosario)</td>\n",
       "      <td>928862000</td>\n",
       "      <td>37 km.</td>\n",
       "      <td>Grava / Arena</td>\n",
       "      <td>Dunas</td>\n",
       "      <td>No</td>\n",
       "      <td></td>\n",
       "      <td>-14.0487</td>\n",
       "      <td>28.5718</td>\n",
       "      <td>http://sig.magrama.gob.es/93/ClienteWS/Guia-Pl...</td>\n",
       "    </tr>\n",
       "    <tr>\n",
       "      <th>1</th>\n",
       "      <td>-14.0089</td>\n",
       "      <td>28.6729</td>\n",
       "      <td>3002</td>\n",
       "      <td>Canarias</td>\n",
       "      <td>Las Palmas</td>\n",
       "      <td>0</td>\n",
       "      <td>Fuerteventura</td>\n",
       "      <td>35014</td>\n",
       "      <td>La Oliva</td>\n",
       "      <td>http://www.laoliva.es</td>\n",
       "      <td>...</td>\n",
       "      <td>Ctra. del Aeropuerto, Km 1 (Puerto del Rosario)</td>\n",
       "      <td>928862000</td>\n",
       "      <td>40 km.</td>\n",
       "      <td>Grava / Arena</td>\n",
       "      <td>Dunas</td>\n",
       "      <td>No</td>\n",
       "      <td></td>\n",
       "      <td>-14.0089</td>\n",
       "      <td>28.6729</td>\n",
       "      <td>http://sig.magrama.gob.es/93/ClienteWS/Guia-Pl...</td>\n",
       "    </tr>\n",
       "    <tr>\n",
       "      <th>2</th>\n",
       "      <td>-14.0086</td>\n",
       "      <td>28.6771</td>\n",
       "      <td>3003</td>\n",
       "      <td>Canarias</td>\n",
       "      <td>Las Palmas</td>\n",
       "      <td>0</td>\n",
       "      <td>Fuerteventura</td>\n",
       "      <td>35014</td>\n",
       "      <td>La Oliva</td>\n",
       "      <td>http://www.laoliva.es</td>\n",
       "      <td>...</td>\n",
       "      <td>Ctra. del Aeropuerto, Km 1 (Puerto del Rosario)</td>\n",
       "      <td>928862000</td>\n",
       "      <td>59,8 km.</td>\n",
       "      <td>Bolos / Grava / Arena</td>\n",
       "      <td>Montaña</td>\n",
       "      <td>No</td>\n",
       "      <td></td>\n",
       "      <td>-14.0086</td>\n",
       "      <td>28.6771</td>\n",
       "      <td>http://sig.magrama.gob.es/93/ClienteWS/Guia-Pl...</td>\n",
       "    </tr>\n",
       "  </tbody>\n",
       "</table>\n",
       "<p>3 rows × 81 columns</p>\n",
       "</div>"
      ],
      "text/plain": [
       "         X        Y  cod_playa Comunidad   Provincia  longitud_playa  \\\n",
       "0 -14.0487  28.5718       3001  Canarias  Las Palmas               0   \n",
       "1 -14.0089  28.6729       3002  Canarias  Las Palmas               0   \n",
       "2 -14.0086  28.6771       3003  Canarias  Las Palmas               0   \n",
       "\n",
       "            Isla  Código_IN           localidad  \\\n",
       "0  Fuerteventura      35017  Puerto del Rosario   \n",
       "1  Fuerteventura      35014            La Oliva   \n",
       "2  Fuerteventura      35014            La Oliva   \n",
       "\n",
       "                        Web_munici  \\\n",
       "0  http://www.puertodelrosario.org   \n",
       "1            http://www.laoliva.es   \n",
       "2            http://www.laoliva.es   \n",
       "\n",
       "                         ...                          \\\n",
       "0                        ...                           \n",
       "1                        ...                           \n",
       "2                        ...                           \n",
       "\n",
       "                                         Dirección  Teléfono_ Distancia1  \\\n",
       "0  Ctra. del Aeropuerto, Km 1 (Puerto del Rosario)  928862000     37 km.   \n",
       "1  Ctra. del Aeropuerto, Km 1 (Puerto del Rosario)  928862000     40 km.   \n",
       "2  Ctra. del Aeropuerto, Km 1 (Puerto del Rosario)  928862000   59,8 km.   \n",
       "\n",
       "               Composici Fachada_Li Espacio_pr Espacio__1 Coordena_4  \\\n",
       "0          Grava / Arena      Dunas         No              -14.0487   \n",
       "1          Grava / Arena      Dunas         No              -14.0089   \n",
       "2  Bolos / Grava / Arena    Montaña         No              -14.0086   \n",
       "\n",
       "  Coordena_5                                         URL_MAGRAM  \n",
       "0    28.5718  http://sig.magrama.gob.es/93/ClienteWS/Guia-Pl...  \n",
       "1    28.6729  http://sig.magrama.gob.es/93/ClienteWS/Guia-Pl...  \n",
       "2    28.6771  http://sig.magrama.gob.es/93/ClienteWS/Guia-Pl...  \n",
       "\n",
       "[3 rows x 81 columns]"
      ]
     },
     "execution_count": 19,
     "metadata": {},
     "output_type": "execute_result"
    }
   ],
   "source": [
    "df_playas.insert (5, \"longitud_playa\", int(\"0\"))\n",
    "df_playas.head(3)"
   ]
  },
  {
   "cell_type": "code",
   "execution_count": 20,
   "metadata": {
    "collapsed": false
   },
   "outputs": [],
   "source": [
    "i=0\n",
    "for texto in df_playas [\"longitud_playa_txt\"]:\n",
    "    texto_new = texto\n",
    "    texto_new = texto_new.split(\" \")[0]         # Eliminamos todo lo que sigue al número (el texto \"metros\")\n",
    "    texto_new = texto_new.replace (\".\", \"\")     # Eliminamos los puntos (=> elimino los puntos de los miles)\n",
    "    texto_new = texto_new.replace (\" \", \"\")     # Eliminamos los espacios\n",
    "    df_playas [\"longitud_playa\"][i] = int (texto_new) # Cambiamos el tipo del campo de char a int\n",
    "    i = i+1"
   ]
  },
  {
   "cell_type": "code",
   "execution_count": 21,
   "metadata": {
    "collapsed": false
   },
   "outputs": [
    {
     "data": {
      "text/plain": [
       "3511"
      ]
     },
     "execution_count": 21,
     "metadata": {},
     "output_type": "execute_result"
    }
   ],
   "source": [
    "i"
   ]
  },
  {
   "cell_type": "code",
   "execution_count": 22,
   "metadata": {
    "collapsed": false
   },
   "outputs": [
    {
     "data": {
      "text/html": [
       "<div>\n",
       "<style>\n",
       "    .dataframe thead tr:only-child th {\n",
       "        text-align: right;\n",
       "    }\n",
       "\n",
       "    .dataframe thead th {\n",
       "        text-align: left;\n",
       "    }\n",
       "\n",
       "    .dataframe tbody tr th {\n",
       "        vertical-align: top;\n",
       "    }\n",
       "</style>\n",
       "<table border=\"1\" class=\"dataframe\">\n",
       "  <thead>\n",
       "    <tr style=\"text-align: right;\">\n",
       "      <th></th>\n",
       "      <th>X</th>\n",
       "      <th>Y</th>\n",
       "      <th>cod_playa</th>\n",
       "      <th>Comunidad</th>\n",
       "      <th>Provincia</th>\n",
       "      <th>longitud_playa</th>\n",
       "      <th>Isla</th>\n",
       "      <th>Código_IN</th>\n",
       "      <th>localidad</th>\n",
       "      <th>Web_munici</th>\n",
       "      <th>...</th>\n",
       "      <th>Dirección</th>\n",
       "      <th>Teléfono_</th>\n",
       "      <th>Distancia1</th>\n",
       "      <th>Composici</th>\n",
       "      <th>Fachada_Li</th>\n",
       "      <th>Espacio_pr</th>\n",
       "      <th>Espacio__1</th>\n",
       "      <th>Coordena_4</th>\n",
       "      <th>Coordena_5</th>\n",
       "      <th>URL_MAGRAM</th>\n",
       "    </tr>\n",
       "  </thead>\n",
       "  <tbody>\n",
       "    <tr>\n",
       "      <th>0</th>\n",
       "      <td>-14.0487</td>\n",
       "      <td>28.5718</td>\n",
       "      <td>3001</td>\n",
       "      <td>Canarias</td>\n",
       "      <td>Las Palmas</td>\n",
       "      <td>230</td>\n",
       "      <td>Fuerteventura</td>\n",
       "      <td>35017</td>\n",
       "      <td>Puerto del Rosario</td>\n",
       "      <td>http://www.puertodelrosario.org</td>\n",
       "      <td>...</td>\n",
       "      <td>Ctra. del Aeropuerto, Km 1 (Puerto del Rosario)</td>\n",
       "      <td>928862000</td>\n",
       "      <td>37 km.</td>\n",
       "      <td>Grava / Arena</td>\n",
       "      <td>Dunas</td>\n",
       "      <td>No</td>\n",
       "      <td></td>\n",
       "      <td>-14.0487</td>\n",
       "      <td>28.5718</td>\n",
       "      <td>http://sig.magrama.gob.es/93/ClienteWS/Guia-Pl...</td>\n",
       "    </tr>\n",
       "    <tr>\n",
       "      <th>1</th>\n",
       "      <td>-14.0089</td>\n",
       "      <td>28.6729</td>\n",
       "      <td>3002</td>\n",
       "      <td>Canarias</td>\n",
       "      <td>Las Palmas</td>\n",
       "      <td>1210</td>\n",
       "      <td>Fuerteventura</td>\n",
       "      <td>35014</td>\n",
       "      <td>La Oliva</td>\n",
       "      <td>http://www.laoliva.es</td>\n",
       "      <td>...</td>\n",
       "      <td>Ctra. del Aeropuerto, Km 1 (Puerto del Rosario)</td>\n",
       "      <td>928862000</td>\n",
       "      <td>40 km.</td>\n",
       "      <td>Grava / Arena</td>\n",
       "      <td>Dunas</td>\n",
       "      <td>No</td>\n",
       "      <td></td>\n",
       "      <td>-14.0089</td>\n",
       "      <td>28.6729</td>\n",
       "      <td>http://sig.magrama.gob.es/93/ClienteWS/Guia-Pl...</td>\n",
       "    </tr>\n",
       "    <tr>\n",
       "      <th>2</th>\n",
       "      <td>-14.0086</td>\n",
       "      <td>28.6771</td>\n",
       "      <td>3003</td>\n",
       "      <td>Canarias</td>\n",
       "      <td>Las Palmas</td>\n",
       "      <td>190</td>\n",
       "      <td>Fuerteventura</td>\n",
       "      <td>35014</td>\n",
       "      <td>La Oliva</td>\n",
       "      <td>http://www.laoliva.es</td>\n",
       "      <td>...</td>\n",
       "      <td>Ctra. del Aeropuerto, Km 1 (Puerto del Rosario)</td>\n",
       "      <td>928862000</td>\n",
       "      <td>59,8 km.</td>\n",
       "      <td>Bolos / Grava / Arena</td>\n",
       "      <td>Montaña</td>\n",
       "      <td>No</td>\n",
       "      <td></td>\n",
       "      <td>-14.0086</td>\n",
       "      <td>28.6771</td>\n",
       "      <td>http://sig.magrama.gob.es/93/ClienteWS/Guia-Pl...</td>\n",
       "    </tr>\n",
       "  </tbody>\n",
       "</table>\n",
       "<p>3 rows × 81 columns</p>\n",
       "</div>"
      ],
      "text/plain": [
       "         X        Y  cod_playa Comunidad   Provincia  longitud_playa  \\\n",
       "0 -14.0487  28.5718       3001  Canarias  Las Palmas             230   \n",
       "1 -14.0089  28.6729       3002  Canarias  Las Palmas            1210   \n",
       "2 -14.0086  28.6771       3003  Canarias  Las Palmas             190   \n",
       "\n",
       "            Isla  Código_IN           localidad  \\\n",
       "0  Fuerteventura      35017  Puerto del Rosario   \n",
       "1  Fuerteventura      35014            La Oliva   \n",
       "2  Fuerteventura      35014            La Oliva   \n",
       "\n",
       "                        Web_munici  \\\n",
       "0  http://www.puertodelrosario.org   \n",
       "1            http://www.laoliva.es   \n",
       "2            http://www.laoliva.es   \n",
       "\n",
       "                         ...                          \\\n",
       "0                        ...                           \n",
       "1                        ...                           \n",
       "2                        ...                           \n",
       "\n",
       "                                         Dirección  Teléfono_ Distancia1  \\\n",
       "0  Ctra. del Aeropuerto, Km 1 (Puerto del Rosario)  928862000     37 km.   \n",
       "1  Ctra. del Aeropuerto, Km 1 (Puerto del Rosario)  928862000     40 km.   \n",
       "2  Ctra. del Aeropuerto, Km 1 (Puerto del Rosario)  928862000   59,8 km.   \n",
       "\n",
       "               Composici Fachada_Li Espacio_pr Espacio__1 Coordena_4  \\\n",
       "0          Grava / Arena      Dunas         No              -14.0487   \n",
       "1          Grava / Arena      Dunas         No              -14.0089   \n",
       "2  Bolos / Grava / Arena    Montaña         No              -14.0086   \n",
       "\n",
       "  Coordena_5                                         URL_MAGRAM  \n",
       "0    28.5718  http://sig.magrama.gob.es/93/ClienteWS/Guia-Pl...  \n",
       "1    28.6729  http://sig.magrama.gob.es/93/ClienteWS/Guia-Pl...  \n",
       "2    28.6771  http://sig.magrama.gob.es/93/ClienteWS/Guia-Pl...  \n",
       "\n",
       "[3 rows x 81 columns]"
      ]
     },
     "execution_count": 22,
     "metadata": {},
     "output_type": "execute_result"
    }
   ],
   "source": [
    "df_playas.head(3)"
   ]
  },
  {
   "cell_type": "code",
   "execution_count": 23,
   "metadata": {
    "collapsed": false
   },
   "outputs": [
    {
     "name": "stdout",
     "output_type": "stream",
     "text": [
      "<class 'pandas.core.frame.DataFrame'>\n",
      "RangeIndex: 3511 entries, 0 to 3510\n",
      "Data columns (total 81 columns):\n",
      "X                     3511 non-null float64\n",
      "Y                     3511 non-null float64\n",
      "cod_playa             3511 non-null int64\n",
      "Comunidad             3511 non-null object\n",
      "Provincia             3511 non-null object\n",
      "longitud_playa        3511 non-null int64\n",
      "Isla                  3511 non-null object\n",
      "Código_IN             3511 non-null int64\n",
      "localidad             3511 non-null object\n",
      "Web_munici            3511 non-null object\n",
      "Identifica            3511 non-null int64\n",
      "nom_playa             3511 non-null object\n",
      "Nombre_alt            3511 non-null object\n",
      "Nombre_a_1            3511 non-null object\n",
      "Descripción           3511 non-null object\n",
      "longitud_playa_txt    3511 non-null object\n",
      "Anchura               3511 non-null object\n",
      "Variación             3511 non-null object\n",
      "Grado_ocup            3511 non-null object\n",
      "Grado_urba            3511 non-null object\n",
      "Paseo_mar             3511 non-null object\n",
      "Tipo_paseo            3511 non-null object\n",
      "arena                 3511 non-null object\n",
      "Condicione            3511 non-null object\n",
      "Zona_fonde            3511 non-null object\n",
      "nudista               3511 non-null object\n",
      "Vegetació             3511 non-null object\n",
      "Vegetaci_1            3511 non-null object\n",
      "Actuacione            3511 non-null object\n",
      "Actuacio_1            3511 non-null object\n",
      "bandera_azul          3511 non-null object\n",
      "Auxilio_y_            3511 non-null object\n",
      "Auxilio_y1            3511 non-null object\n",
      "Señalizac             3511 non-null object\n",
      "Señaliza_             3511 non-null object\n",
      "Forma_de_a            3511 non-null object\n",
      "Señaliza1             3511 non-null object\n",
      "Acceso_dis            3511 non-null object\n",
      "Carretera_            3511 non-null object\n",
      "Autobús               3511 non-null object\n",
      "Autobús_t             3511 non-null object\n",
      "Aparcamien            3511 non-null object\n",
      "Aparcami_1            3511 non-null object\n",
      "Aparcami_2            3511 non-null object\n",
      "Aseos                 3511 non-null object\n",
      "Lavapies              3511 non-null object\n",
      "Duchas                3511 non-null object\n",
      "Teléfonos             3511 non-null object\n",
      "Papelera              3511 non-null object\n",
      "Servicio_l            3511 non-null object\n",
      "Alquiler_s            3511 non-null object\n",
      "Alquiler_h            3511 non-null object\n",
      "Alquiler_n            3511 non-null object\n",
      "Oficina_tu            3511 non-null object\n",
      "Establecim            3511 non-null object\n",
      "Establec_1            3511 non-null object\n",
      "Zona_infan            3511 non-null object\n",
      "Zona_depor            3511 non-null object\n",
      "Club_naút             3511 non-null object\n",
      "Submarinis            3511 non-null object\n",
      "Zona_Surf             3511 non-null object\n",
      "Observacio            3511 non-null object\n",
      "Coordenada            3511 non-null int64\n",
      "Coordena_1            3511 non-null int64\n",
      "Huso                  3511 non-null int64\n",
      "Coordena_2            3511 non-null object\n",
      "Coordena_3            3511 non-null object\n",
      "Puerto_dep            3511 non-null object\n",
      "Web_puerto            3511 non-null object\n",
      "Distancia_            3511 non-null object\n",
      "Hospital              3511 non-null object\n",
      "Dirección             3511 non-null object\n",
      "Teléfono_             3511 non-null object\n",
      "Distancia1            3511 non-null object\n",
      "Composici             3511 non-null object\n",
      "Fachada_Li            3511 non-null object\n",
      "Espacio_pr            3511 non-null object\n",
      "Espacio__1            3511 non-null object\n",
      "Coordena_4            3511 non-null float64\n",
      "Coordena_5            3511 non-null float64\n",
      "URL_MAGRAM            3511 non-null object\n",
      "dtypes: float64(4), int64(7), object(70)\n",
      "memory usage: 2.2+ MB\n"
     ]
    }
   ],
   "source": [
    "df_playas.info()     # Consultamos las columnas"
   ]
  },
  {
   "cell_type": "markdown",
   "metadata": {
    "collapsed": true
   },
   "source": [
    "# B) Creamos el fichero Excel con los datos finales"
   ]
  },
  {
   "cell_type": "markdown",
   "metadata": {
    "collapsed": true
   },
   "source": [
    "Grabamos el resultado en un fichero **Microsoft Excel** donde cada dataset (**PROVINCIAS** y **PLAYAS**) estará en un hoja diferente.\n",
    "\n",
    "Concretamente, el **fichero Excel de SALIDA** contendrá las siguientes hojas (datasets):\n",
    "\n",
    "   1. **HOJA_PLAYAS** : playas de ESPAÑA y sus características a fecha de 2017.\n",
    "   2. **HOJA_PROVINCIAS :** provincias costeras de España que tengan playas (con la Comunidad Autónoma a la que corresponde)."
   ]
  },
  {
   "cell_type": "code",
   "execution_count": 24,
   "metadata": {
    "collapsed": true
   },
   "outputs": [],
   "source": [
    "writer = pd.ExcelWriter(\"./data/Playas_2017_TABLEAU___Dataset.xlsx\")\n",
    "df_playas.to_excel    (writer, 'HOJA_PLAYAS')\n",
    "df_provincias.to_excel(writer, 'HOJA_PROVINCIAS')\n",
    "writer.save()"
   ]
  },
  {
   "cell_type": "markdown",
   "metadata": {},
   "source": [
    "# FIN"
   ]
  }
 ],
 "metadata": {
  "kernelspec": {
   "display_name": "Python 2",
   "language": "python",
   "name": "python2"
  },
  "language_info": {
   "codemirror_mode": {
    "name": "ipython",
    "version": 2
   },
   "file_extension": ".py",
   "mimetype": "text/x-python",
   "name": "python",
   "nbconvert_exporter": "python",
   "pygments_lexer": "ipython2",
   "version": "2.7.6"
  }
 },
 "nbformat": 4,
 "nbformat_minor": 1
}
